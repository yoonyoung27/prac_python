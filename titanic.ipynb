{
  "nbformat": 4,
  "nbformat_minor": 0,
  "metadata": {
    "colab": {
      "name": "titanic.ipynb",
      "provenance": [],
      "collapsed_sections": []
    },
    "kernelspec": {
      "name": "python3",
      "display_name": "Python 3"
    },
    "language_info": {
      "name": "python"
    }
  },
  "cells": [
    {
      "cell_type": "code",
      "metadata": {
        "colab": {
          "resources": {
            "http://localhost:8080/nbextensions/google.colab/files.js": {
              "data": "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",
              "ok": true,
              "headers": [
                [
                  "content-type",
                  "application/javascript"
                ]
              ],
              "status": 200,
              "status_text": ""
            }
          },
          "base_uri": "https://localhost:8080/",
          "height": 808
        },
        "id": "dJ6RdYiOkwa8",
        "outputId": "1784ee15-4660-4be6-ce1d-04a0b88123c0"
      },
      "source": [
        "%matplotlib inline\n",
        "\n",
        "import pandas as pd\n",
        "import numpy as np\n",
        "import seaborn as sns\n",
        "import matplotlib.pyplot as plt\n",
        "import io\n",
        "\n",
        "from google.colab import files\n",
        "myfile= files.upload()\n",
        "data = pd.read_csv(io.BytesIO(myfile['train.csv']))\n",
        "\n",
        "print(data.info())\n",
        "print(\"\\n Embarked options: \", data[\"Embarked\"].value_counts())\n",
        "\n",
        "data.describe()"
      ],
      "execution_count": null,
      "outputs": [
        {
          "output_type": "display_data",
          "data": {
            "text/html": [
              "\n",
              "     <input type=\"file\" id=\"files-4fae3f6c-11fe-46c2-a1b9-182aa1047a5f\" name=\"files[]\" multiple disabled\n",
              "        style=\"border:none\" />\n",
              "     <output id=\"result-4fae3f6c-11fe-46c2-a1b9-182aa1047a5f\">\n",
              "      Upload widget is only available when the cell has been executed in the\n",
              "      current browser session. Please rerun this cell to enable.\n",
              "      </output>\n",
              "      <script src=\"/nbextensions/google.colab/files.js\"></script> "
            ],
            "text/plain": [
              "<IPython.core.display.HTML object>"
            ]
          },
          "metadata": {
            "tags": []
          }
        },
        {
          "output_type": "stream",
          "text": [
            "Saving train.csv to train.csv\n",
            "<class 'pandas.core.frame.DataFrame'>\n",
            "RangeIndex: 891 entries, 0 to 890\n",
            "Data columns (total 12 columns):\n",
            " #   Column       Non-Null Count  Dtype  \n",
            "---  ------       --------------  -----  \n",
            " 0   PassengerId  891 non-null    int64  \n",
            " 1   Survived     891 non-null    int64  \n",
            " 2   Pclass       891 non-null    int64  \n",
            " 3   Name         891 non-null    object \n",
            " 4   Sex          891 non-null    object \n",
            " 5   Age          714 non-null    float64\n",
            " 6   SibSp        891 non-null    int64  \n",
            " 7   Parch        891 non-null    int64  \n",
            " 8   Ticket       891 non-null    object \n",
            " 9   Fare         891 non-null    float64\n",
            " 10  Cabin        204 non-null    object \n",
            " 11  Embarked     889 non-null    object \n",
            "dtypes: float64(2), int64(5), object(5)\n",
            "memory usage: 83.7+ KB\n",
            "None\n",
            "\n",
            " Embarked options:  S    644\n",
            "C    168\n",
            "Q     77\n",
            "Name: Embarked, dtype: int64\n"
          ],
          "name": "stdout"
        },
        {
          "output_type": "execute_result",
          "data": {
            "text/html": [
              "<div>\n",
              "<style scoped>\n",
              "    .dataframe tbody tr th:only-of-type {\n",
              "        vertical-align: middle;\n",
              "    }\n",
              "\n",
              "    .dataframe tbody tr th {\n",
              "        vertical-align: top;\n",
              "    }\n",
              "\n",
              "    .dataframe thead th {\n",
              "        text-align: right;\n",
              "    }\n",
              "</style>\n",
              "<table border=\"1\" class=\"dataframe\">\n",
              "  <thead>\n",
              "    <tr style=\"text-align: right;\">\n",
              "      <th></th>\n",
              "      <th>PassengerId</th>\n",
              "      <th>Survived</th>\n",
              "      <th>Pclass</th>\n",
              "      <th>Age</th>\n",
              "      <th>SibSp</th>\n",
              "      <th>Parch</th>\n",
              "      <th>Fare</th>\n",
              "    </tr>\n",
              "  </thead>\n",
              "  <tbody>\n",
              "    <tr>\n",
              "      <th>count</th>\n",
              "      <td>891.000000</td>\n",
              "      <td>891.000000</td>\n",
              "      <td>891.000000</td>\n",
              "      <td>714.000000</td>\n",
              "      <td>891.000000</td>\n",
              "      <td>891.000000</td>\n",
              "      <td>891.000000</td>\n",
              "    </tr>\n",
              "    <tr>\n",
              "      <th>mean</th>\n",
              "      <td>446.000000</td>\n",
              "      <td>0.383838</td>\n",
              "      <td>2.308642</td>\n",
              "      <td>29.699118</td>\n",
              "      <td>0.523008</td>\n",
              "      <td>0.381594</td>\n",
              "      <td>32.204208</td>\n",
              "    </tr>\n",
              "    <tr>\n",
              "      <th>std</th>\n",
              "      <td>257.353842</td>\n",
              "      <td>0.486592</td>\n",
              "      <td>0.836071</td>\n",
              "      <td>14.526497</td>\n",
              "      <td>1.102743</td>\n",
              "      <td>0.806057</td>\n",
              "      <td>49.693429</td>\n",
              "    </tr>\n",
              "    <tr>\n",
              "      <th>min</th>\n",
              "      <td>1.000000</td>\n",
              "      <td>0.000000</td>\n",
              "      <td>1.000000</td>\n",
              "      <td>0.420000</td>\n",
              "      <td>0.000000</td>\n",
              "      <td>0.000000</td>\n",
              "      <td>0.000000</td>\n",
              "    </tr>\n",
              "    <tr>\n",
              "      <th>25%</th>\n",
              "      <td>223.500000</td>\n",
              "      <td>0.000000</td>\n",
              "      <td>2.000000</td>\n",
              "      <td>20.125000</td>\n",
              "      <td>0.000000</td>\n",
              "      <td>0.000000</td>\n",
              "      <td>7.910400</td>\n",
              "    </tr>\n",
              "    <tr>\n",
              "      <th>50%</th>\n",
              "      <td>446.000000</td>\n",
              "      <td>0.000000</td>\n",
              "      <td>3.000000</td>\n",
              "      <td>28.000000</td>\n",
              "      <td>0.000000</td>\n",
              "      <td>0.000000</td>\n",
              "      <td>14.454200</td>\n",
              "    </tr>\n",
              "    <tr>\n",
              "      <th>75%</th>\n",
              "      <td>668.500000</td>\n",
              "      <td>1.000000</td>\n",
              "      <td>3.000000</td>\n",
              "      <td>38.000000</td>\n",
              "      <td>1.000000</td>\n",
              "      <td>0.000000</td>\n",
              "      <td>31.000000</td>\n",
              "    </tr>\n",
              "    <tr>\n",
              "      <th>max</th>\n",
              "      <td>891.000000</td>\n",
              "      <td>1.000000</td>\n",
              "      <td>3.000000</td>\n",
              "      <td>80.000000</td>\n",
              "      <td>8.000000</td>\n",
              "      <td>6.000000</td>\n",
              "      <td>512.329200</td>\n",
              "    </tr>\n",
              "  </tbody>\n",
              "</table>\n",
              "</div>"
            ],
            "text/plain": [
              "       PassengerId    Survived      Pclass  ...       SibSp       Parch        Fare\n",
              "count   891.000000  891.000000  891.000000  ...  891.000000  891.000000  891.000000\n",
              "mean    446.000000    0.383838    2.308642  ...    0.523008    0.381594   32.204208\n",
              "std     257.353842    0.486592    0.836071  ...    1.102743    0.806057   49.693429\n",
              "min       1.000000    0.000000    1.000000  ...    0.000000    0.000000    0.000000\n",
              "25%     223.500000    0.000000    2.000000  ...    0.000000    0.000000    7.910400\n",
              "50%     446.000000    0.000000    3.000000  ...    0.000000    0.000000   14.454200\n",
              "75%     668.500000    1.000000    3.000000  ...    1.000000    0.000000   31.000000\n",
              "max     891.000000    1.000000    3.000000  ...    8.000000    6.000000  512.329200\n",
              "\n",
              "[8 rows x 7 columns]"
            ]
          },
          "metadata": {
            "tags": []
          },
          "execution_count": 1
        }
      ]
    },
    {
      "cell_type": "code",
      "metadata": {
        "colab": {
          "base_uri": "https://localhost:8080/",
          "height": 391
        },
        "id": "7LusLZEzmDri",
        "outputId": "12adff86-b9e6-4c81-fb01-ea1d17f8d131"
      },
      "source": [
        "data.head()"
      ],
      "execution_count": null,
      "outputs": [
        {
          "output_type": "execute_result",
          "data": {
            "text/html": [
              "<div>\n",
              "<style scoped>\n",
              "    .dataframe tbody tr th:only-of-type {\n",
              "        vertical-align: middle;\n",
              "    }\n",
              "\n",
              "    .dataframe tbody tr th {\n",
              "        vertical-align: top;\n",
              "    }\n",
              "\n",
              "    .dataframe thead th {\n",
              "        text-align: right;\n",
              "    }\n",
              "</style>\n",
              "<table border=\"1\" class=\"dataframe\">\n",
              "  <thead>\n",
              "    <tr style=\"text-align: right;\">\n",
              "      <th></th>\n",
              "      <th>PassengerId</th>\n",
              "      <th>Survived</th>\n",
              "      <th>Pclass</th>\n",
              "      <th>Name</th>\n",
              "      <th>Sex</th>\n",
              "      <th>Age</th>\n",
              "      <th>SibSp</th>\n",
              "      <th>Parch</th>\n",
              "      <th>Ticket</th>\n",
              "      <th>Fare</th>\n",
              "      <th>Cabin</th>\n",
              "      <th>Embarked</th>\n",
              "    </tr>\n",
              "  </thead>\n",
              "  <tbody>\n",
              "    <tr>\n",
              "      <th>0</th>\n",
              "      <td>1</td>\n",
              "      <td>0</td>\n",
              "      <td>3</td>\n",
              "      <td>Braund, Mr. Owen Harris</td>\n",
              "      <td>male</td>\n",
              "      <td>22.0</td>\n",
              "      <td>1</td>\n",
              "      <td>0</td>\n",
              "      <td>A/5 21171</td>\n",
              "      <td>7.2500</td>\n",
              "      <td>NaN</td>\n",
              "      <td>S</td>\n",
              "    </tr>\n",
              "    <tr>\n",
              "      <th>1</th>\n",
              "      <td>2</td>\n",
              "      <td>1</td>\n",
              "      <td>1</td>\n",
              "      <td>Cumings, Mrs. John Bradley (Florence Briggs Th...</td>\n",
              "      <td>female</td>\n",
              "      <td>38.0</td>\n",
              "      <td>1</td>\n",
              "      <td>0</td>\n",
              "      <td>PC 17599</td>\n",
              "      <td>71.2833</td>\n",
              "      <td>C85</td>\n",
              "      <td>C</td>\n",
              "    </tr>\n",
              "    <tr>\n",
              "      <th>2</th>\n",
              "      <td>3</td>\n",
              "      <td>1</td>\n",
              "      <td>3</td>\n",
              "      <td>Heikkinen, Miss. Laina</td>\n",
              "      <td>female</td>\n",
              "      <td>26.0</td>\n",
              "      <td>0</td>\n",
              "      <td>0</td>\n",
              "      <td>STON/O2. 3101282</td>\n",
              "      <td>7.9250</td>\n",
              "      <td>NaN</td>\n",
              "      <td>S</td>\n",
              "    </tr>\n",
              "    <tr>\n",
              "      <th>3</th>\n",
              "      <td>4</td>\n",
              "      <td>1</td>\n",
              "      <td>1</td>\n",
              "      <td>Futrelle, Mrs. Jacques Heath (Lily May Peel)</td>\n",
              "      <td>female</td>\n",
              "      <td>35.0</td>\n",
              "      <td>1</td>\n",
              "      <td>0</td>\n",
              "      <td>113803</td>\n",
              "      <td>53.1000</td>\n",
              "      <td>C123</td>\n",
              "      <td>S</td>\n",
              "    </tr>\n",
              "    <tr>\n",
              "      <th>4</th>\n",
              "      <td>5</td>\n",
              "      <td>0</td>\n",
              "      <td>3</td>\n",
              "      <td>Allen, Mr. William Henry</td>\n",
              "      <td>male</td>\n",
              "      <td>35.0</td>\n",
              "      <td>0</td>\n",
              "      <td>0</td>\n",
              "      <td>373450</td>\n",
              "      <td>8.0500</td>\n",
              "      <td>NaN</td>\n",
              "      <td>S</td>\n",
              "    </tr>\n",
              "  </tbody>\n",
              "</table>\n",
              "</div>"
            ],
            "text/plain": [
              "   PassengerId  Survived  Pclass  ...     Fare Cabin  Embarked\n",
              "0            1         0       3  ...   7.2500   NaN         S\n",
              "1            2         1       1  ...  71.2833   C85         C\n",
              "2            3         1       3  ...   7.9250   NaN         S\n",
              "3            4         1       1  ...  53.1000  C123         S\n",
              "4            5         0       3  ...   8.0500   NaN         S\n",
              "\n",
              "[5 rows x 12 columns]"
            ]
          },
          "metadata": {
            "tags": []
          },
          "execution_count": 2
        }
      ]
    },
    {
      "cell_type": "code",
      "metadata": {
        "id": "Rge9D9_xnt3y"
      },
      "source": [
        "dtypes_col       = data.columns\n",
        "dtypes_type_old  = data.dtypes\n",
        "dtypes_type      = ['int16', 'bool','category','object','category','float32','int8','int8','object','float32','object','category']\n",
        "optimized_dtypes = dict(zip(dtypes_col, dtypes_type))\n",
        "\n",
        "data = pd.read_csv(io.BytesIO(myfile['train.csv']),dtype=optimized_dtypes)"
      ],
      "execution_count": null,
      "outputs": []
    },
    {
      "cell_type": "code",
      "metadata": {
        "colab": {
          "base_uri": "https://localhost:8080/"
        },
        "id": "G74ca0gpoWr7",
        "outputId": "92f8e8fd-6c2e-403f-a005-91472bb0b3d7"
      },
      "source": [
        "print(data.info())"
      ],
      "execution_count": null,
      "outputs": [
        {
          "output_type": "stream",
          "text": [
            "<class 'pandas.core.frame.DataFrame'>\n",
            "RangeIndex: 891 entries, 0 to 890\n",
            "Data columns (total 12 columns):\n",
            " #   Column       Non-Null Count  Dtype   \n",
            "---  ------       --------------  -----   \n",
            " 0   PassengerId  891 non-null    int16   \n",
            " 1   Survived     891 non-null    bool    \n",
            " 2   Pclass       891 non-null    category\n",
            " 3   Name         891 non-null    object  \n",
            " 4   Sex          891 non-null    category\n",
            " 5   Age          714 non-null    float32 \n",
            " 6   SibSp        891 non-null    int8    \n",
            " 7   Parch        891 non-null    int8    \n",
            " 8   Ticket       891 non-null    object  \n",
            " 9   Fare         891 non-null    float32 \n",
            " 10  Cabin        204 non-null    object  \n",
            " 11  Embarked     889 non-null    category\n",
            "dtypes: bool(1), category(3), float32(2), int16(1), int8(2), object(3)\n",
            "memory usage: 35.2+ KB\n",
            "None\n"
          ],
          "name": "stdout"
        }
      ]
    },
    {
      "cell_type": "code",
      "metadata": {
        "colab": {
          "resources": {
            "http://localhost:8080/nbextensions/google.colab/files.js": {
              "data": "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",
              "ok": true,
              "headers": [
                [
                  "content-type",
                  "application/javascript"
                ]
              ],
              "status": 200,
              "status_text": ""
            }
          },
          "base_uri": "https://localhost:8080/",
          "height": 311
        },
        "id": "Olzy_FIImwiY",
        "outputId": "ffad9c7c-c0ee-45e6-9085-9d492d67f7a2"
      },
      "source": [
        "from sklearn.model_selection import train_test_split\n",
        "\n",
        "myfile= files.upload()\n",
        "test = pd.read_csv(io.BytesIO(myfile['test.csv']), dtype=optimized_dtypes)\n",
        "\n",
        "#splitting data to train and validation\n",
        "train, valid = train_test_split(data, test_size=0.2)\n",
        "\n",
        "\n",
        "combined = {\"train\":train,\n",
        "            \"valid\":valid,\n",
        "            \"test\":test}\n",
        "\n",
        "data.isnull().sum()"
      ],
      "execution_count": null,
      "outputs": [
        {
          "output_type": "display_data",
          "data": {
            "text/html": [
              "\n",
              "     <input type=\"file\" id=\"files-c6b2dfcf-6288-41fe-8bab-c6d3af6924d6\" name=\"files[]\" multiple disabled\n",
              "        style=\"border:none\" />\n",
              "     <output id=\"result-c6b2dfcf-6288-41fe-8bab-c6d3af6924d6\">\n",
              "      Upload widget is only available when the cell has been executed in the\n",
              "      current browser session. Please rerun this cell to enable.\n",
              "      </output>\n",
              "      <script src=\"/nbextensions/google.colab/files.js\"></script> "
            ],
            "text/plain": [
              "<IPython.core.display.HTML object>"
            ]
          },
          "metadata": {
            "tags": []
          }
        },
        {
          "output_type": "stream",
          "text": [
            "Saving test.csv to test.csv\n"
          ],
          "name": "stdout"
        },
        {
          "output_type": "execute_result",
          "data": {
            "text/plain": [
              "PassengerId      0\n",
              "Survived         0\n",
              "Pclass           0\n",
              "Name             0\n",
              "Sex              0\n",
              "Age            177\n",
              "SibSp            0\n",
              "Parch            0\n",
              "Ticket           0\n",
              "Fare             0\n",
              "Cabin          687\n",
              "Embarked         2\n",
              "dtype: int64"
            ]
          },
          "metadata": {
            "tags": []
          },
          "execution_count": 6
        }
      ]
    },
    {
      "cell_type": "code",
      "metadata": {
        "id": "AXwaVjhGpAF0"
      },
      "source": [
        "combined_cleaned = {}\n",
        "for i,data in combined.items():\n",
        "    combined_cleaned[i] = data.drop('Cabin', 1).copy()"
      ],
      "execution_count": null,
      "outputs": []
    },
    {
      "cell_type": "code",
      "metadata": {
        "colab": {
          "base_uri": "https://localhost:8080/",
          "height": 751
        },
        "id": "DLXslpzAtF1x",
        "outputId": "06597782-d993-41f0-e87d-9d9a67673f8c"
      },
      "source": [
        "#numerical features\n",
        "\n",
        "train_numeric = combined_cleaned[\"train\"].select_dtypes(include=['float32','int16','int8','bool'])\n",
        "\n",
        "colormap = plt.cm.cubehelix_r\n",
        "plt.figure(figsize=(16,12))\n",
        "\n",
        "plt.title('Pearson correlation of numeric features', y=1.05, size=15)\n",
        "sns.heatmap(train_numeric.corr(),linewidths=0.1,vmax=1.0, square=True, cmap=colormap, linecolor='white', annot=True)\n",
        "\n",
        "plt.show()"
      ],
      "execution_count": null,
      "outputs": [
        {
          "output_type": "display_data",
          "data": {
            "image/png": "[encoded data removed]",
            "text/plain": [
              "<Figure size 1152x864 with 2 Axes>"
            ]
          },
          "metadata": {
            "tags": [],
            "needs_background": "light"
          }
        }
      ]
    },
    {
      "cell_type": "code",
      "metadata": {
        "colab": {
          "base_uri": "https://localhost:8080/",
          "height": 225
        },
        "id": "EWnwNKkptSf4",
        "outputId": "6c7e9236-3770-45fb-a0d4-2b504d9e39e4"
      },
      "source": [
        "# category features# category features\n",
        "\n",
        "#we do not count NaN categories\n",
        "def survived_percent(categories,column):\n",
        "    survived_list = []\n",
        "    for c in categories.dropna():\n",
        "        count = combined_cleaned[\"train\"][combined_cleaned[\"train\"][column] == c][column].count()\n",
        "        survived = combined_cleaned[\"train\"][combined_cleaned[\"train\"][column] == c][\"Survived\"].sum()/count\n",
        "        survived_list.append(survived)\n",
        "    return survived_list    \n",
        "   \n",
        "category_features_list = [\"Sex\", \"Embarked\",\"Pclass\"]\n",
        "category_features = {}\n",
        "\n",
        "for x in category_features_list:\n",
        "    unique_values = combined_cleaned[\"train\"][x].unique().dropna()\n",
        "    survived = survived_percent(unique_values,x)\n",
        "    category_features[x] = [unique_values, survived]\n",
        "\n",
        "\n",
        "\n",
        "fig, axs = plt.subplots(1, 3, figsize=(18, 4), sharey=True)\n",
        "cb_dark_blue = (0/255,107/255,164/255)\n",
        "cb_orange = (255/255, 128/255, 14/255)\n",
        "cb_grey = (89/255, 89/255, 89/255)\n",
        "color=[cb_dark_blue,cb_orange,cb_grey]\n",
        "\n",
        "font_dict = {'fontsize':20, \n",
        "             'fontweight':'bold',\n",
        "             'color':\"white\"}\n",
        "\n",
        "for i,cat in enumerate(category_features.keys()):\n",
        "    number_categories = len(category_features[cat][0])\n",
        "    axs[i].bar(range(number_categories), category_features[cat][1], color=color[:number_categories])\n",
        "    axs[i].set_title(\"Survival rate \" + cat ,fontsize=20, fontweight='bold' )\n",
        "    for j,indx in enumerate(category_features[cat][1]):\n",
        "        label_text = category_features[cat][0][j]\n",
        "        x = j\n",
        "        y = indx\n",
        "        axs[i].annotate(label_text, xy = (x-0.15 ,y/2), **font_dict )\n",
        "\n",
        "for i in range(3):\n",
        "    axs[i].tick_params(\n",
        "        axis='x',          # changes apply to the x-axis\n",
        "        which='both',      # both major and minor ticks are affected\n",
        "        bottom='off',      # ticks along the bottom edge are off\n",
        "        top='off',         # ticks along the top edge are off\n",
        "        labelbottom='off') # labels along the bottom edge are off\n",
        "    axs[i].patch.set_visible(False)\n",
        "\n",
        "plt.show()"
      ],
      "execution_count": null,
      "outputs": [
        {
          "output_type": "display_data",
          "data": {
            "image/png": "[encoded data removed]",
            "text/plain": [
              "<Figure size 1296x288 with 3 Axes>"
            ]
          },
          "metadata": {
            "tags": [],
            "needs_background": "light"
          }
        }
      ]
    },
    {
      "cell_type": "code",
      "metadata": {
        "id": "8PGHerM3tv6f"
      },
      "source": [
        "# filling NaN in \"Embarked\" and \"Fare\"\n",
        "\n",
        "for i,data in combined_cleaned.items():\n",
        "    data[\"Embarked\"].fillna(value=\"S\",inplace=True) # S is most popular value \n",
        "    mean_Fare = data[\"Fare\"].mean()\n",
        "    data[\"Fare\"].fillna(value=mean_Fare,inplace=True)"
      ],
      "execution_count": null,
      "outputs": []
    },
    {
      "cell_type": "code",
      "metadata": {
        "colab": {
          "base_uri": "https://localhost:8080/",
          "height": 281
        },
        "id": "tiH-9YZrt1NJ",
        "outputId": "5e4a2f05-d964-4807-d497-68ff9eebf124"
      },
      "source": [
        "# filling NaN in \"Age\" \n",
        "fig, ax = plt.subplots( figsize=(6,4))\n",
        "x = combined_cleaned[\"train\"][\"Age\"].dropna()\n",
        "hist, bins = np.histogram( x,bins=15)\n",
        "\n",
        "#plot of histogram\n",
        "ax.hist(x,  color='grey')\n",
        "ax.set_title('Age histogram')\n",
        "plt.show()"
      ],
      "execution_count": null,
      "outputs": [
        {
          "output_type": "display_data",
          "data": {
            "image/png": "[encoded data removed]",
            "text/plain": [
              "<Figure size 432x288 with 1 Axes>"
            ]
          },
          "metadata": {
            "tags": [],
            "needs_background": "light"
          }
        }
      ]
    },
    {
      "cell_type": "code",
      "metadata": {
        "id": "OJh9CN5XuD62"
      },
      "source": [
        "from random import choices\n",
        "\n",
        "bin_centers = 0.5*(bins[:len(bins)-1]+bins[1:])\n",
        "probabilities = hist/hist.sum()\n",
        "\n",
        "#dictionary with random numbers from existing age distribution\n",
        "for i,data in combined_cleaned.items():\n",
        "    data[\"Age_rand\"] = data[\"Age\"].apply(lambda v: np.random.choice(bin_centers, p=probabilities))\n",
        "    Age_null_list   = data[data[\"Age\"].isnull()].index\n",
        "    \n",
        "    data.loc[Age_null_list,\"Age\"] = data.loc[Age_null_list,\"Age_rand\"]"
      ],
      "execution_count": null,
      "outputs": []
    },
    {
      "cell_type": "code",
      "metadata": {
        "id": "e1TKk2rEvjdT"
      },
      "source": [
        "from sklearn import preprocessing,tree\n",
        "from sklearn.model_selection import GridSearchCV\n",
        "\n",
        "tree_data = {}\n",
        "tree_data_category = {}\n",
        "\n",
        "for i,data in combined_cleaned.items():\n",
        "    tree_data[i] = data.select_dtypes(include=['float32','int16','int8']).copy()\n",
        "    tree_data_category[i] = data.select_dtypes(include=['category'])\n",
        "\n",
        "    #categorical variables handling\n",
        "    for column in tree_data_category[i].columns:\n",
        "        le = preprocessing.LabelEncoder()\n",
        "        le.fit(data[column])\n",
        "        tree_data[i][column+\"_encoded\"] = le.transform(data[column])"
      ],
      "execution_count": null,
      "outputs": []
    },
    {
      "cell_type": "code",
      "metadata": {
        "colab": {
          "base_uri": "https://localhost:8080/"
        },
        "id": "01QU8lD4vpri",
        "outputId": "f8ff2b3d-b97c-4fe1-d6db-d931dd89c111"
      },
      "source": [
        "#finding best fit with gridsearch\n",
        "param_grid = {'min_samples_leaf':np.arange(20,50,5),\n",
        "              'min_samples_split':np.arange(20,50,5),\n",
        "              'max_depth':np.arange(3,6),\n",
        "              'min_weight_fraction_leaf':np.arange(0,0.4,0.1),\n",
        "              'criterion':['gini','entropy']}\n",
        "clf = tree.DecisionTreeClassifier()\n",
        "tree_search = GridSearchCV(clf, param_grid, scoring='average_precision')\n",
        "\n",
        "X =  tree_data[\"train\"].drop(\"PassengerId\",axis=1)\n",
        "Y = combined_cleaned[\"train\"][\"Survived\"]\n",
        "tree_search.fit(X,Y)\n",
        "\n",
        "print(\"Tree best parameters :\",tree_search.best_params_)\n",
        "print(\"Tree best estimator :\",tree_search.best_estimator_ )\n",
        "print(\"Tree best score :\",tree_search.best_score_ )"
      ],
      "execution_count": null,
      "outputs": [
        {
          "output_type": "stream",
          "text": [
            "Tree best parameters : {'criterion': 'gini', 'max_depth': 5, 'min_samples_leaf': 25, 'min_samples_split': 30, 'min_weight_fraction_leaf': 0.0}\n",
            "Tree best estimator : DecisionTreeClassifier(ccp_alpha=0.0, class_weight=None, criterion='gini',\n",
            "                       max_depth=5, max_features=None, max_leaf_nodes=None,\n",
            "                       min_impurity_decrease=0.0, min_impurity_split=None,\n",
            "                       min_samples_leaf=25, min_samples_split=30,\n",
            "                       min_weight_fraction_leaf=0.0, presort='deprecated',\n",
            "                       random_state=None, splitter='best')\n",
            "Tree best score : 0.810749704142854\n"
          ],
          "name": "stdout"
        }
      ]
    },
    {
      "cell_type": "code",
      "metadata": {
        "colab": {
          "base_uri": "https://localhost:8080/",
          "height": 369
        },
        "id": "o7pPfPYNvzwM",
        "outputId": "d002fcb6-4494-493c-a6d9-435da02ae6da"
      },
      "source": [
        "tree_best_parameters = tree_search.best_params_\n",
        "tree_optimized = tree.DecisionTreeClassifier(**tree_best_parameters)\n",
        "tree_optimized.fit(X,Y)\n",
        "\n",
        "train_columns = list(tree_data[\"train\"].columns)\n",
        "train_columns.remove(\"PassengerId\")\n",
        "fig, ax = plt.subplots( figsize=(6,4))\n",
        "ax.bar(range(len(X.columns)),tree_optimized.feature_importances_ )\n",
        "plt.xticks(range(len(X.columns)),X.columns,rotation=90)\n",
        "ax.set_title(\"Feature importance\")\n",
        "plt.show()"
      ],
      "execution_count": null,
      "outputs": [
        {
          "output_type": "display_data",
          "data": {
            "image/png": "[encoded data removed]",
            "text/plain": [
              "<Figure size 432x288 with 1 Axes>"
            ]
          },
          "metadata": {
            "tags": [],
            "needs_background": "light"
          }
        }
      ]
    },
    {
      "cell_type": "code",
      "metadata": {
        "colab": {
          "base_uri": "https://localhost:8080/",
          "height": 814
        },
        "id": "N7VPzsOMv592",
        "outputId": "769a003b-28b8-4fa3-afb1-a635b35bd48b"
      },
      "source": [
        "import graphviz \n",
        "\n",
        "dot_data = tree.export_graphviz(tree_optimized, \n",
        "                                out_file=None,\n",
        "                                filled=True, \n",
        "                                rounded=True,  \n",
        "                                special_characters=True,\n",
        "                               feature_names = train_columns) \n",
        "graph = graphviz.Source(dot_data)\n",
        "graph"
      ],
      "execution_count": null,
      "outputs": [
        {
          "output_type": "execute_result",
          "data": {
            "text/plain": [
              "<graphviz.files.Source at 0x7fe1dc609d10>"
            ],
            "image/svg+xml": "<?xml version=\"1.0\" encoding=\"UTF-8\" standalone=\"no\"?>\n<!DOCTYPE svg PUBLIC \"-//W3C//DTD SVG 1.1//EN\"\n \"http://www.w3.org/Graphics/SVG/1.1/DTD/svg11.dtd\">\n<!-- Generated by graphviz version 2.40.1 (20161225.0304)\n -->\n<!-- Title: Tree Pages: 1 -->\n<svg width=\"1348pt\" height=\"581pt\"\n viewBox=\"0.00 0.00 1348.00 581.00\" xmlns=\"http://www.w3.org/2000/svg\" xmlns:xlink=\"http://www.w3.org/1999/xlink\">\n<g id=\"graph0\" class=\"graph\" transform=\"scale(1 1) rotate(0) translate(4 577)\">\n<title>Tree</title>\n<polygon fill=\"#ffffff\" stroke=\"transparent\" points=\"-4,4 -4,-577 1344,-577 1344,4 -4,4\"/>\n<!-- 0 -->\n<g id=\"node1\" class=\"node\">\n<title>0</title>\n<path fill=\"#f5d0b5\" stroke=\"#000000\" d=\"M768,-573C768,-573 649,-573 649,-573 643,-573 637,-567 637,-561 637,-561 637,-517 637,-517 637,-511 643,-505 649,-505 649,-505 768,-505 768,-505 774,-505 780,-511 780,-517 780,-517 780,-561 780,-561 780,-567 774,-573 768,-573\"/>\n<text text-anchor=\"start\" x=\"645\" y=\"-557.8\" font-family=\"Helvetica,sans-Serif\" font-size=\"14.00\" fill=\"#000000\">Sex_encoded ≤ 0.5</text>\n<text text-anchor=\"start\" x=\"670.5\" y=\"-542.8\" font-family=\"Helvetica,sans-Serif\" font-size=\"14.00\" fill=\"#000000\">gini = 0.473</text>\n<text text-anchor=\"start\" x=\"660.5\" y=\"-527.8\" font-family=\"Helvetica,sans-Serif\" font-size=\"14.00\" fill=\"#000000\">samples = 712</text>\n<text text-anchor=\"start\" x=\"650.5\" y=\"-512.8\" font-family=\"Helvetica,sans-Serif\" font-size=\"14.00\" fill=\"#000000\">value = [438, 274]</text>\n</g>\n<!-- 1 -->\n<g id=\"node2\" class=\"node\">\n<title>1</title>\n<path fill=\"#80c0ee\" stroke=\"#000000\" d=\"M645,-469C645,-469 508,-469 508,-469 502,-469 496,-463 496,-457 496,-457 496,-413 496,-413 496,-407 502,-401 508,-401 508,-401 645,-401 645,-401 651,-401 657,-407 657,-413 657,-413 657,-457 657,-457 657,-463 651,-469 645,-469\"/>\n<text text-anchor=\"start\" x=\"504\" y=\"-453.8\" font-family=\"Helvetica,sans-Serif\" font-size=\"14.00\" fill=\"#000000\">Pclass_encoded ≤ 1.5</text>\n<text text-anchor=\"start\" x=\"538.5\" y=\"-438.8\" font-family=\"Helvetica,sans-Serif\" font-size=\"14.00\" fill=\"#000000\">gini = 0.389</text>\n<text text-anchor=\"start\" x=\"528.5\" y=\"-423.8\" font-family=\"Helvetica,sans-Serif\" font-size=\"14.00\" fill=\"#000000\">samples = 257</text>\n<text text-anchor=\"start\" x=\"522.5\" y=\"-408.8\" font-family=\"Helvetica,sans-Serif\" font-size=\"14.00\" fill=\"#000000\">value = [68, 189]</text>\n</g>\n<!-- 0&#45;&gt;1 -->\n<g id=\"edge1\" class=\"edge\">\n<title>0&#45;&gt;1</title>\n<path fill=\"none\" stroke=\"#000000\" d=\"M665.2783,-504.9465C653.3126,-495.519 640.2085,-485.1946 627.8296,-475.4415\"/>\n<polygon fill=\"#000000\" stroke=\"#000000\" points=\"629.8398,-472.5695 619.8188,-469.13 625.5077,-478.068 629.8398,-472.5695\"/>\n<text text-anchor=\"middle\" x=\"622.7643\" y=\"-490.2559\" font-family=\"Helvetica,sans-Serif\" font-size=\"14.00\" fill=\"#000000\">True</text>\n</g>\n<!-- 16 -->\n<g id=\"node17\" class=\"node\">\n<title>16</title>\n<path fill=\"#eb9e66\" stroke=\"#000000\" d=\"M947,-469C947,-469 810,-469 810,-469 804,-469 798,-463 798,-457 798,-457 798,-413 798,-413 798,-407 804,-401 810,-401 810,-401 947,-401 947,-401 953,-401 959,-407 959,-413 959,-413 959,-457 959,-457 959,-463 953,-469 947,-469\"/>\n<text text-anchor=\"start\" x=\"806\" y=\"-453.8\" font-family=\"Helvetica,sans-Serif\" font-size=\"14.00\" fill=\"#000000\">Pclass_encoded ≤ 0.5</text>\n<text text-anchor=\"start\" x=\"840.5\" y=\"-438.8\" font-family=\"Helvetica,sans-Serif\" font-size=\"14.00\" fill=\"#000000\">gini = 0.304</text>\n<text text-anchor=\"start\" x=\"830.5\" y=\"-423.8\" font-family=\"Helvetica,sans-Serif\" font-size=\"14.00\" fill=\"#000000\">samples = 455</text>\n<text text-anchor=\"start\" x=\"824.5\" y=\"-408.8\" font-family=\"Helvetica,sans-Serif\" font-size=\"14.00\" fill=\"#000000\">value = [370, 85]</text>\n</g>\n<!-- 0&#45;&gt;16 -->\n<g id=\"edge16\" class=\"edge\">\n<title>0&#45;&gt;16</title>\n<path fill=\"none\" stroke=\"#000000\" d=\"M764.1644,-504.9465C780.0149,-495.2497 797.4168,-484.6039 813.7579,-474.6069\"/>\n<polygon fill=\"#000000\" stroke=\"#000000\" points=\"816.0067,-477.3342 822.7106,-469.13 812.3537,-471.363 816.0067,-477.3342\"/>\n<text text-anchor=\"middle\" x=\"816.8561\" y=\"-489.7348\" font-family=\"Helvetica,sans-Serif\" font-size=\"14.00\" fill=\"#000000\">False</text>\n</g>\n<!-- 2 -->\n<g id=\"node3\" class=\"node\">\n<title>2</title>\n<path fill=\"#45a3e7\" stroke=\"#000000\" d=\"M446.5,-365C446.5,-365 354.5,-365 354.5,-365 348.5,-365 342.5,-359 342.5,-353 342.5,-353 342.5,-309 342.5,-309 342.5,-303 348.5,-297 354.5,-297 354.5,-297 446.5,-297 446.5,-297 452.5,-297 458.5,-303 458.5,-309 458.5,-309 458.5,-353 458.5,-353 458.5,-359 452.5,-365 446.5,-365\"/>\n<text text-anchor=\"start\" x=\"355\" y=\"-349.8\" font-family=\"Helvetica,sans-Serif\" font-size=\"14.00\" fill=\"#000000\">Fare ≤ 28.856</text>\n<text text-anchor=\"start\" x=\"362.5\" y=\"-334.8\" font-family=\"Helvetica,sans-Serif\" font-size=\"14.00\" fill=\"#000000\">gini = 0.111</text>\n<text text-anchor=\"start\" x=\"352.5\" y=\"-319.8\" font-family=\"Helvetica,sans-Serif\" font-size=\"14.00\" fill=\"#000000\">samples = 136</text>\n<text text-anchor=\"start\" x=\"350.5\" y=\"-304.8\" font-family=\"Helvetica,sans-Serif\" font-size=\"14.00\" fill=\"#000000\">value = [8, 128]</text>\n</g>\n<!-- 1&#45;&gt;2 -->\n<g id=\"edge2\" class=\"edge\">\n<title>1&#45;&gt;2</title>\n<path fill=\"none\" stroke=\"#000000\" d=\"M518.871,-400.9465C502.3091,-391.1599 484.1112,-380.4066 467.0575,-370.3294\"/>\n<polygon fill=\"#000000\" stroke=\"#000000\" points=\"468.6483,-367.2041 458.2585,-365.13 465.0872,-373.2306 468.6483,-367.2041\"/>\n</g>\n<!-- 9 -->\n<g id=\"node10\" class=\"node\">\n<title>9</title>\n<path fill=\"#fcfdff\" stroke=\"#000000\" d=\"M622.5,-365C622.5,-365 530.5,-365 530.5,-365 524.5,-365 518.5,-359 518.5,-353 518.5,-353 518.5,-309 518.5,-309 518.5,-303 524.5,-297 530.5,-297 530.5,-297 622.5,-297 622.5,-297 628.5,-297 634.5,-303 634.5,-309 634.5,-309 634.5,-353 634.5,-353 634.5,-359 628.5,-365 622.5,-365\"/>\n<text text-anchor=\"start\" x=\"539.5\" y=\"-349.8\" font-family=\"Helvetica,sans-Serif\" font-size=\"14.00\" fill=\"#000000\">Fare ≤ 20.8</text>\n<text text-anchor=\"start\" x=\"547\" y=\"-334.8\" font-family=\"Helvetica,sans-Serif\" font-size=\"14.00\" fill=\"#000000\">gini = 0.5</text>\n<text text-anchor=\"start\" x=\"528.5\" y=\"-319.8\" font-family=\"Helvetica,sans-Serif\" font-size=\"14.00\" fill=\"#000000\">samples = 121</text>\n<text text-anchor=\"start\" x=\"526.5\" y=\"-304.8\" font-family=\"Helvetica,sans-Serif\" font-size=\"14.00\" fill=\"#000000\">value = [60, 61]</text>\n</g>\n<!-- 1&#45;&gt;9 -->\n<g id=\"edge9\" class=\"edge\">\n<title>1&#45;&gt;9</title>\n<path fill=\"none\" stroke=\"#000000\" d=\"M576.5,-400.9465C576.5,-392.776 576.5,-383.9318 576.5,-375.3697\"/>\n<polygon fill=\"#000000\" stroke=\"#000000\" points=\"580.0001,-375.13 576.5,-365.13 573.0001,-375.13 580.0001,-375.13\"/>\n</g>\n<!-- 3 -->\n<g id=\"node4\" class=\"node\">\n<title>3</title>\n<path fill=\"#50a8e8\" stroke=\"#000000\" d=\"M220,-261C220,-261 137,-261 137,-261 131,-261 125,-255 125,-249 125,-249 125,-205 125,-205 125,-199 131,-193 137,-193 137,-193 220,-193 220,-193 226,-193 232,-199 232,-205 232,-205 232,-249 232,-249 232,-255 226,-261 220,-261\"/>\n<text text-anchor=\"start\" x=\"137.5\" y=\"-245.8\" font-family=\"Helvetica,sans-Serif\" font-size=\"14.00\" fill=\"#000000\">Fare ≤ 20.25</text>\n<text text-anchor=\"start\" x=\"140.5\" y=\"-230.8\" font-family=\"Helvetica,sans-Serif\" font-size=\"14.00\" fill=\"#000000\">gini = 0.185</text>\n<text text-anchor=\"start\" x=\"134.5\" y=\"-215.8\" font-family=\"Helvetica,sans-Serif\" font-size=\"14.00\" fill=\"#000000\">samples = 58</text>\n<text text-anchor=\"start\" x=\"133\" y=\"-200.8\" font-family=\"Helvetica,sans-Serif\" font-size=\"14.00\" fill=\"#000000\">value = [6, 52]</text>\n</g>\n<!-- 2&#45;&gt;3 -->\n<g id=\"edge3\" class=\"edge\">\n<title>2&#45;&gt;3</title>\n<path fill=\"none\" stroke=\"#000000\" d=\"M342.4621,-303.8111C311.3593,-289.2404 273.0102,-271.275 241.222,-256.3833\"/>\n<polygon fill=\"#000000\" stroke=\"#000000\" points=\"242.5538,-253.1422 232.0134,-252.0693 239.5841,-259.4811 242.5538,-253.1422\"/>\n</g>\n<!-- 6 -->\n<g id=\"node7\" class=\"node\">\n<title>6</title>\n<path fill=\"#3ea0e6\" stroke=\"#000000\" d=\"M446,-261C446,-261 355,-261 355,-261 349,-261 343,-255 343,-249 343,-249 343,-205 343,-205 343,-199 349,-193 355,-193 355,-193 446,-193 446,-193 452,-193 458,-199 458,-205 458,-205 458,-249 458,-249 458,-255 452,-261 446,-261\"/>\n<text text-anchor=\"start\" x=\"351\" y=\"-245.8\" font-family=\"Helvetica,sans-Serif\" font-size=\"14.00\" fill=\"#000000\">Fare ≤ 112.079</text>\n<text text-anchor=\"start\" x=\"367\" y=\"-230.8\" font-family=\"Helvetica,sans-Serif\" font-size=\"14.00\" fill=\"#000000\">gini = 0.05</text>\n<text text-anchor=\"start\" x=\"356.5\" y=\"-215.8\" font-family=\"Helvetica,sans-Serif\" font-size=\"14.00\" fill=\"#000000\">samples = 78</text>\n<text text-anchor=\"start\" x=\"355\" y=\"-200.8\" font-family=\"Helvetica,sans-Serif\" font-size=\"14.00\" fill=\"#000000\">value = [2, 76]</text>\n</g>\n<!-- 2&#45;&gt;6 -->\n<g id=\"edge6\" class=\"edge\">\n<title>2&#45;&gt;6</title>\n<path fill=\"none\" stroke=\"#000000\" d=\"M400.5,-296.9465C400.5,-288.776 400.5,-279.9318 400.5,-271.3697\"/>\n<polygon fill=\"#000000\" stroke=\"#000000\" points=\"404.0001,-271.13 400.5,-261.13 397.0001,-271.13 404.0001,-271.13\"/>\n</g>\n<!-- 4 -->\n<g id=\"node5\" class=\"node\">\n<title>4</title>\n<path fill=\"#48a5e7\" stroke=\"#000000\" d=\"M95,-149.5C95,-149.5 12,-149.5 12,-149.5 6,-149.5 0,-143.5 0,-137.5 0,-137.5 0,-108.5 0,-108.5 0,-102.5 6,-96.5 12,-96.5 12,-96.5 95,-96.5 95,-96.5 101,-96.5 107,-102.5 107,-108.5 107,-108.5 107,-137.5 107,-137.5 107,-143.5 101,-149.5 95,-149.5\"/>\n<text text-anchor=\"start\" x=\"15.5\" y=\"-134.3\" font-family=\"Helvetica,sans-Serif\" font-size=\"14.00\" fill=\"#000000\">gini = 0.133</text>\n<text text-anchor=\"start\" x=\"9.5\" y=\"-119.3\" font-family=\"Helvetica,sans-Serif\" font-size=\"14.00\" fill=\"#000000\">samples = 28</text>\n<text text-anchor=\"start\" x=\"8\" y=\"-104.3\" font-family=\"Helvetica,sans-Serif\" font-size=\"14.00\" fill=\"#000000\">value = [2, 26]</text>\n</g>\n<!-- 3&#45;&gt;4 -->\n<g id=\"edge4\" class=\"edge\">\n<title>3&#45;&gt;4</title>\n<path fill=\"none\" stroke=\"#000000\" d=\"M137.5703,-192.9465C123.4045,-181.1606 107.5537,-167.9726 93.4662,-156.2519\"/>\n<polygon fill=\"#000000\" stroke=\"#000000\" points=\"95.3275,-153.2474 85.4016,-149.5422 90.8504,-158.6285 95.3275,-153.2474\"/>\n</g>\n<!-- 5 -->\n<g id=\"node6\" class=\"node\">\n<title>5</title>\n<path fill=\"#57ace9\" stroke=\"#000000\" d=\"M220,-149.5C220,-149.5 137,-149.5 137,-149.5 131,-149.5 125,-143.5 125,-137.5 125,-137.5 125,-108.5 125,-108.5 125,-102.5 131,-96.5 137,-96.5 137,-96.5 220,-96.5 220,-96.5 226,-96.5 232,-102.5 232,-108.5 232,-108.5 232,-137.5 232,-137.5 232,-143.5 226,-149.5 220,-149.5\"/>\n<text text-anchor=\"start\" x=\"140.5\" y=\"-134.3\" font-family=\"Helvetica,sans-Serif\" font-size=\"14.00\" fill=\"#000000\">gini = 0.231</text>\n<text text-anchor=\"start\" x=\"134.5\" y=\"-119.3\" font-family=\"Helvetica,sans-Serif\" font-size=\"14.00\" fill=\"#000000\">samples = 30</text>\n<text text-anchor=\"start\" x=\"133\" y=\"-104.3\" font-family=\"Helvetica,sans-Serif\" font-size=\"14.00\" fill=\"#000000\">value = [4, 26]</text>\n</g>\n<!-- 3&#45;&gt;5 -->\n<g id=\"edge5\" class=\"edge\">\n<title>3&#45;&gt;5</title>\n<path fill=\"none\" stroke=\"#000000\" d=\"M178.5,-192.9465C178.5,-182.2621 178.5,-170.4254 178.5,-159.5742\"/>\n<polygon fill=\"#000000\" stroke=\"#000000\" points=\"182.0001,-159.5421 178.5,-149.5422 175.0001,-159.5422 182.0001,-159.5421\"/>\n</g>\n<!-- 7 -->\n<g id=\"node8\" class=\"node\">\n<title>7</title>\n<path fill=\"#399de5\" stroke=\"#000000\" d=\"M345,-149.5C345,-149.5 262,-149.5 262,-149.5 256,-149.5 250,-143.5 250,-137.5 250,-137.5 250,-108.5 250,-108.5 250,-102.5 256,-96.5 262,-96.5 262,-96.5 345,-96.5 345,-96.5 351,-96.5 357,-102.5 357,-108.5 357,-108.5 357,-137.5 357,-137.5 357,-143.5 351,-149.5 345,-149.5\"/>\n<text text-anchor=\"start\" x=\"274\" y=\"-134.3\" font-family=\"Helvetica,sans-Serif\" font-size=\"14.00\" fill=\"#000000\">gini = 0.0</text>\n<text text-anchor=\"start\" x=\"259.5\" y=\"-119.3\" font-family=\"Helvetica,sans-Serif\" font-size=\"14.00\" fill=\"#000000\">samples = 53</text>\n<text text-anchor=\"start\" x=\"258\" y=\"-104.3\" font-family=\"Helvetica,sans-Serif\" font-size=\"14.00\" fill=\"#000000\">value = [0, 53]</text>\n</g>\n<!-- 6&#45;&gt;7 -->\n<g id=\"edge7\" class=\"edge\">\n<title>6&#45;&gt;7</title>\n<path fill=\"none\" stroke=\"#000000\" d=\"M368.7386,-192.9465C357.9514,-181.3809 345.905,-168.4652 335.1282,-156.9107\"/>\n<polygon fill=\"#000000\" stroke=\"#000000\" points=\"337.6359,-154.4678 328.2557,-149.5422 332.5169,-159.2423 337.6359,-154.4678\"/>\n</g>\n<!-- 8 -->\n<g id=\"node9\" class=\"node\">\n<title>8</title>\n<path fill=\"#4aa6e7\" stroke=\"#000000\" d=\"M470,-149.5C470,-149.5 387,-149.5 387,-149.5 381,-149.5 375,-143.5 375,-137.5 375,-137.5 375,-108.5 375,-108.5 375,-102.5 381,-96.5 387,-96.5 387,-96.5 470,-96.5 470,-96.5 476,-96.5 482,-102.5 482,-108.5 482,-108.5 482,-137.5 482,-137.5 482,-143.5 476,-149.5 470,-149.5\"/>\n<text text-anchor=\"start\" x=\"390.5\" y=\"-134.3\" font-family=\"Helvetica,sans-Serif\" font-size=\"14.00\" fill=\"#000000\">gini = 0.147</text>\n<text text-anchor=\"start\" x=\"384.5\" y=\"-119.3\" font-family=\"Helvetica,sans-Serif\" font-size=\"14.00\" fill=\"#000000\">samples = 25</text>\n<text text-anchor=\"start\" x=\"383\" y=\"-104.3\" font-family=\"Helvetica,sans-Serif\" font-size=\"14.00\" fill=\"#000000\">value = [2, 23]</text>\n</g>\n<!-- 6&#45;&gt;8 -->\n<g id=\"edge8\" class=\"edge\">\n<title>6&#45;&gt;8</title>\n<path fill=\"none\" stroke=\"#000000\" d=\"M409.6682,-192.9465C412.5745,-182.1519 415.7974,-170.1813 418.7434,-159.2389\"/>\n<polygon fill=\"#000000\" stroke=\"#000000\" points=\"422.1339,-160.1083 421.354,-149.5422 415.3746,-158.2884 422.1339,-160.1083\"/>\n</g>\n<!-- 10 -->\n<g id=\"node11\" class=\"node\">\n<title>10</title>\n<path fill=\"#c1e0f7\" stroke=\"#000000\" d=\"M601.5,-261C601.5,-261 509.5,-261 509.5,-261 503.5,-261 497.5,-255 497.5,-249 497.5,-249 497.5,-205 497.5,-205 497.5,-199 503.5,-193 509.5,-193 509.5,-193 601.5,-193 601.5,-193 607.5,-193 613.5,-199 613.5,-205 613.5,-205 613.5,-249 613.5,-249 613.5,-255 607.5,-261 601.5,-261\"/>\n<text text-anchor=\"start\" x=\"514.5\" y=\"-245.8\" font-family=\"Helvetica,sans-Serif\" font-size=\"14.00\" fill=\"#000000\">Fare ≤ 7.842</text>\n<text text-anchor=\"start\" x=\"517.5\" y=\"-230.8\" font-family=\"Helvetica,sans-Serif\" font-size=\"14.00\" fill=\"#000000\">gini = 0.483</text>\n<text text-anchor=\"start\" x=\"511.5\" y=\"-215.8\" font-family=\"Helvetica,sans-Serif\" font-size=\"14.00\" fill=\"#000000\">samples = 91</text>\n<text text-anchor=\"start\" x=\"505.5\" y=\"-200.8\" font-family=\"Helvetica,sans-Serif\" font-size=\"14.00\" fill=\"#000000\">value = [37, 54]</text>\n</g>\n<!-- 9&#45;&gt;10 -->\n<g id=\"edge10\" class=\"edge\">\n<title>9&#45;&gt;10</title>\n<path fill=\"none\" stroke=\"#000000\" d=\"M569.6238,-296.9465C567.9559,-288.6863 566.1489,-279.7374 564.4023,-271.0875\"/>\n<polygon fill=\"#000000\" stroke=\"#000000\" points=\"567.8018,-270.2394 562.3916,-261.13 560.9402,-271.6249 567.8018,-270.2394\"/>\n</g>\n<!-- 15 -->\n<g id=\"node16\" class=\"node\">\n<title>15</title>\n<path fill=\"#eda775\" stroke=\"#000000\" d=\"M727,-253.5C727,-253.5 644,-253.5 644,-253.5 638,-253.5 632,-247.5 632,-241.5 632,-241.5 632,-212.5 632,-212.5 632,-206.5 638,-200.5 644,-200.5 644,-200.5 727,-200.5 727,-200.5 733,-200.5 739,-206.5 739,-212.5 739,-212.5 739,-241.5 739,-241.5 739,-247.5 733,-253.5 727,-253.5\"/>\n<text text-anchor=\"start\" x=\"647.5\" y=\"-238.3\" font-family=\"Helvetica,sans-Serif\" font-size=\"14.00\" fill=\"#000000\">gini = 0.358</text>\n<text text-anchor=\"start\" x=\"641.5\" y=\"-223.3\" font-family=\"Helvetica,sans-Serif\" font-size=\"14.00\" fill=\"#000000\">samples = 30</text>\n<text text-anchor=\"start\" x=\"640\" y=\"-208.3\" font-family=\"Helvetica,sans-Serif\" font-size=\"14.00\" fill=\"#000000\">value = [23, 7]</text>\n</g>\n<!-- 9&#45;&gt;15 -->\n<g id=\"edge15\" class=\"edge\">\n<title>9&#45;&gt;15</title>\n<path fill=\"none\" stroke=\"#000000\" d=\"M612.1907,-296.9465C624.4278,-285.2707 638.107,-272.219 650.3046,-260.5809\"/>\n<polygon fill=\"#000000\" stroke=\"#000000\" points=\"652.8628,-262.9777 657.6818,-253.5422 648.0306,-257.9131 652.8628,-262.9777\"/>\n</g>\n<!-- 11 -->\n<g id=\"node12\" class=\"node\">\n<title>11</title>\n<path fill=\"#81c1ee\" stroke=\"#000000\" d=\"M595,-149.5C595,-149.5 512,-149.5 512,-149.5 506,-149.5 500,-143.5 500,-137.5 500,-137.5 500,-108.5 500,-108.5 500,-102.5 506,-96.5 512,-96.5 512,-96.5 595,-96.5 595,-96.5 601,-96.5 607,-102.5 607,-108.5 607,-108.5 607,-137.5 607,-137.5 607,-143.5 601,-149.5 595,-149.5\"/>\n<text text-anchor=\"start\" x=\"515.5\" y=\"-134.3\" font-family=\"Helvetica,sans-Serif\" font-size=\"14.00\" fill=\"#000000\">gini = 0.391</text>\n<text text-anchor=\"start\" x=\"509.5\" y=\"-119.3\" font-family=\"Helvetica,sans-Serif\" font-size=\"14.00\" fill=\"#000000\">samples = 30</text>\n<text text-anchor=\"start\" x=\"508\" y=\"-104.3\" font-family=\"Helvetica,sans-Serif\" font-size=\"14.00\" fill=\"#000000\">value = [8, 22]</text>\n</g>\n<!-- 10&#45;&gt;11 -->\n<g id=\"edge11\" class=\"edge\">\n<title>10&#45;&gt;11</title>\n<path fill=\"none\" stroke=\"#000000\" d=\"M554.8451,-192.9465C554.6397,-182.2621 554.412,-170.4254 554.2034,-159.5742\"/>\n<polygon fill=\"#000000\" stroke=\"#000000\" points=\"557.7021,-159.473 554.0104,-149.5422 550.7034,-159.6076 557.7021,-159.473\"/>\n</g>\n<!-- 12 -->\n<g id=\"node13\" class=\"node\">\n<title>12</title>\n<path fill=\"#ecf6fd\" stroke=\"#000000\" d=\"M729.5,-157C729.5,-157 637.5,-157 637.5,-157 631.5,-157 625.5,-151 625.5,-145 625.5,-145 625.5,-101 625.5,-101 625.5,-95 631.5,-89 637.5,-89 637.5,-89 729.5,-89 729.5,-89 735.5,-89 741.5,-95 741.5,-101 741.5,-101 741.5,-145 741.5,-145 741.5,-151 735.5,-157 729.5,-157\"/>\n<text text-anchor=\"start\" x=\"638\" y=\"-141.8\" font-family=\"Helvetica,sans-Serif\" font-size=\"14.00\" fill=\"#000000\">Fare ≤ 10.825</text>\n<text text-anchor=\"start\" x=\"645.5\" y=\"-126.8\" font-family=\"Helvetica,sans-Serif\" font-size=\"14.00\" fill=\"#000000\">gini = 0.499</text>\n<text text-anchor=\"start\" x=\"639.5\" y=\"-111.8\" font-family=\"Helvetica,sans-Serif\" font-size=\"14.00\" fill=\"#000000\">samples = 61</text>\n<text text-anchor=\"start\" x=\"633.5\" y=\"-96.8\" font-family=\"Helvetica,sans-Serif\" font-size=\"14.00\" fill=\"#000000\">value = [29, 32]</text>\n</g>\n<!-- 10&#45;&gt;12 -->\n<g id=\"edge12\" class=\"edge\">\n<title>10&#45;&gt;12</title>\n<path fill=\"none\" stroke=\"#000000\" d=\"M597.412,-192.9465C609.015,-183.519 621.7221,-173.1946 633.7259,-163.4415\"/>\n<polygon fill=\"#000000\" stroke=\"#000000\" points=\"635.9398,-166.1524 641.4939,-157.13 631.5256,-160.7196 635.9398,-166.1524\"/>\n</g>\n<!-- 13 -->\n<g id=\"node14\" class=\"node\">\n<title>13</title>\n<path fill=\"#f1bc96\" stroke=\"#000000\" d=\"M660,-53C660,-53 577,-53 577,-53 571,-53 565,-47 565,-41 565,-41 565,-12 565,-12 565,-6 571,0 577,0 577,0 660,0 660,0 666,0 672,-6 672,-12 672,-12 672,-41 672,-41 672,-47 666,-53 660,-53\"/>\n<text text-anchor=\"start\" x=\"580.5\" y=\"-37.8\" font-family=\"Helvetica,sans-Serif\" font-size=\"14.00\" fill=\"#000000\">gini = 0.435</text>\n<text text-anchor=\"start\" x=\"574.5\" y=\"-22.8\" font-family=\"Helvetica,sans-Serif\" font-size=\"14.00\" fill=\"#000000\">samples = 25</text>\n<text text-anchor=\"start\" x=\"573\" y=\"-7.8\" font-family=\"Helvetica,sans-Serif\" font-size=\"14.00\" fill=\"#000000\">value = [17, 8]</text>\n</g>\n<!-- 12&#45;&gt;13 -->\n<g id=\"edge13\" class=\"edge\">\n<title>12&#45;&gt;13</title>\n<path fill=\"none\" stroke=\"#000000\" d=\"M660.5834,-88.9777C654.6006,-80.0954 648.1418,-70.5067 642.123,-61.5711\"/>\n<polygon fill=\"#000000\" stroke=\"#000000\" points=\"645.0067,-59.5871 636.5171,-53.2485 639.2009,-63.4978 645.0067,-59.5871\"/>\n</g>\n<!-- 14 -->\n<g id=\"node15\" class=\"node\">\n<title>14</title>\n<path fill=\"#9ccef2\" stroke=\"#000000\" d=\"M794.5,-53C794.5,-53 702.5,-53 702.5,-53 696.5,-53 690.5,-47 690.5,-41 690.5,-41 690.5,-12 690.5,-12 690.5,-6 696.5,0 702.5,0 702.5,0 794.5,0 794.5,0 800.5,0 806.5,-6 806.5,-12 806.5,-12 806.5,-41 806.5,-41 806.5,-47 800.5,-53 794.5,-53\"/>\n<text text-anchor=\"start\" x=\"710.5\" y=\"-37.8\" font-family=\"Helvetica,sans-Serif\" font-size=\"14.00\" fill=\"#000000\">gini = 0.444</text>\n<text text-anchor=\"start\" x=\"704.5\" y=\"-22.8\" font-family=\"Helvetica,sans-Serif\" font-size=\"14.00\" fill=\"#000000\">samples = 36</text>\n<text text-anchor=\"start\" x=\"698.5\" y=\"-7.8\" font-family=\"Helvetica,sans-Serif\" font-size=\"14.00\" fill=\"#000000\">value = [12, 24]</text>\n</g>\n<!-- 12&#45;&gt;14 -->\n<g id=\"edge14\" class=\"edge\">\n<title>12&#45;&gt;14</title>\n<path fill=\"none\" stroke=\"#000000\" d=\"M706.4166,-88.9777C712.3994,-80.0954 718.8582,-70.5067 724.877,-61.5711\"/>\n<polygon fill=\"#000000\" stroke=\"#000000\" points=\"727.7991,-63.4978 730.4829,-53.2485 721.9933,-59.5871 727.7991,-63.4978\"/>\n</g>\n<!-- 17 -->\n<g id=\"node18\" class=\"node\">\n<title>17</title>\n<path fill=\"#f5cfb4\" stroke=\"#000000\" d=\"M924.5,-365C924.5,-365 832.5,-365 832.5,-365 826.5,-365 820.5,-359 820.5,-353 820.5,-353 820.5,-309 820.5,-309 820.5,-303 826.5,-297 832.5,-297 832.5,-297 924.5,-297 924.5,-297 930.5,-297 936.5,-303 936.5,-309 936.5,-309 936.5,-353 936.5,-353 936.5,-359 930.5,-365 924.5,-365\"/>\n<text text-anchor=\"start\" x=\"835\" y=\"-349.8\" font-family=\"Helvetica,sans-Serif\" font-size=\"14.00\" fill=\"#000000\">Age ≤ 42.058</text>\n<text text-anchor=\"start\" x=\"840.5\" y=\"-334.8\" font-family=\"Helvetica,sans-Serif\" font-size=\"14.00\" fill=\"#000000\">gini = 0.473</text>\n<text text-anchor=\"start\" x=\"834.5\" y=\"-319.8\" font-family=\"Helvetica,sans-Serif\" font-size=\"14.00\" fill=\"#000000\">samples = 94</text>\n<text text-anchor=\"start\" x=\"828.5\" y=\"-304.8\" font-family=\"Helvetica,sans-Serif\" font-size=\"14.00\" fill=\"#000000\">value = [58, 36]</text>\n</g>\n<!-- 16&#45;&gt;17 -->\n<g id=\"edge17\" class=\"edge\">\n<title>16&#45;&gt;17</title>\n<path fill=\"none\" stroke=\"#000000\" d=\"M878.5,-400.9465C878.5,-392.776 878.5,-383.9318 878.5,-375.3697\"/>\n<polygon fill=\"#000000\" stroke=\"#000000\" points=\"882.0001,-375.13 878.5,-365.13 875.0001,-375.13 882.0001,-375.13\"/>\n</g>\n<!-- 22 -->\n<g id=\"node23\" class=\"node\">\n<title>22</title>\n<path fill=\"#e99558\" stroke=\"#000000\" d=\"M1127.5,-365C1127.5,-365 1027.5,-365 1027.5,-365 1021.5,-365 1015.5,-359 1015.5,-353 1015.5,-353 1015.5,-309 1015.5,-309 1015.5,-303 1021.5,-297 1027.5,-297 1027.5,-297 1127.5,-297 1127.5,-297 1133.5,-297 1139.5,-303 1139.5,-309 1139.5,-309 1139.5,-353 1139.5,-353 1139.5,-359 1133.5,-365 1127.5,-365\"/>\n<text text-anchor=\"start\" x=\"1034\" y=\"-349.8\" font-family=\"Helvetica,sans-Serif\" font-size=\"14.00\" fill=\"#000000\">Age ≤ 12.342</text>\n<text text-anchor=\"start\" x=\"1039.5\" y=\"-334.8\" font-family=\"Helvetica,sans-Serif\" font-size=\"14.00\" fill=\"#000000\">gini = 0.235</text>\n<text text-anchor=\"start\" x=\"1029.5\" y=\"-319.8\" font-family=\"Helvetica,sans-Serif\" font-size=\"14.00\" fill=\"#000000\">samples = 361</text>\n<text text-anchor=\"start\" x=\"1023.5\" y=\"-304.8\" font-family=\"Helvetica,sans-Serif\" font-size=\"14.00\" fill=\"#000000\">value = [312, 49]</text>\n</g>\n<!-- 16&#45;&gt;22 -->\n<g id=\"edge22\" class=\"edge\">\n<title>16&#45;&gt;22</title>\n<path fill=\"none\" stroke=\"#000000\" d=\"M943.66,-400.9465C963.7045,-390.471 985.8682,-378.888 1006.2963,-368.212\"/>\n<polygon fill=\"#000000\" stroke=\"#000000\" points=\"1007.9972,-371.2723 1015.2388,-363.5385 1004.755,-365.0684 1007.9972,-371.2723\"/>\n</g>\n<!-- 18 -->\n<g id=\"node19\" class=\"node\">\n<title>18</title>\n<path fill=\"#fcf2eb\" stroke=\"#000000\" d=\"M863.5,-261C863.5,-261 771.5,-261 771.5,-261 765.5,-261 759.5,-255 759.5,-249 759.5,-249 759.5,-205 759.5,-205 759.5,-199 765.5,-193 771.5,-193 771.5,-193 863.5,-193 863.5,-193 869.5,-193 875.5,-199 875.5,-205 875.5,-205 875.5,-249 875.5,-249 875.5,-255 869.5,-261 863.5,-261\"/>\n<text text-anchor=\"start\" x=\"776.5\" y=\"-245.8\" font-family=\"Helvetica,sans-Serif\" font-size=\"14.00\" fill=\"#000000\">Fare ≤ 37.55</text>\n<text text-anchor=\"start\" x=\"779.5\" y=\"-230.8\" font-family=\"Helvetica,sans-Serif\" font-size=\"14.00\" fill=\"#000000\">gini = 0.499</text>\n<text text-anchor=\"start\" x=\"773.5\" y=\"-215.8\" font-family=\"Helvetica,sans-Serif\" font-size=\"14.00\" fill=\"#000000\">samples = 57</text>\n<text text-anchor=\"start\" x=\"767.5\" y=\"-200.8\" font-family=\"Helvetica,sans-Serif\" font-size=\"14.00\" fill=\"#000000\">value = [30, 27]</text>\n</g>\n<!-- 17&#45;&gt;18 -->\n<g id=\"edge18\" class=\"edge\">\n<title>17&#45;&gt;18</title>\n<path fill=\"none\" stroke=\"#000000\" d=\"M858.5263,-296.9465C853.4707,-288.3271 847.9753,-278.9579 842.6983,-269.9611\"/>\n<polygon fill=\"#000000\" stroke=\"#000000\" points=\"845.5969,-267.985 837.5186,-261.13 839.5589,-271.5265 845.5969,-267.985\"/>\n</g>\n<!-- 21 -->\n<g id=\"node22\" class=\"node\">\n<title>21</title>\n<path fill=\"#edaa79\" stroke=\"#000000\" d=\"M989,-253.5C989,-253.5 906,-253.5 906,-253.5 900,-253.5 894,-247.5 894,-241.5 894,-241.5 894,-212.5 894,-212.5 894,-206.5 900,-200.5 906,-200.5 906,-200.5 989,-200.5 989,-200.5 995,-200.5 1001,-206.5 1001,-212.5 1001,-212.5 1001,-241.5 1001,-241.5 1001,-247.5 995,-253.5 989,-253.5\"/>\n<text text-anchor=\"start\" x=\"909.5\" y=\"-238.3\" font-family=\"Helvetica,sans-Serif\" font-size=\"14.00\" fill=\"#000000\">gini = 0.368</text>\n<text text-anchor=\"start\" x=\"903.5\" y=\"-223.3\" font-family=\"Helvetica,sans-Serif\" font-size=\"14.00\" fill=\"#000000\">samples = 37</text>\n<text text-anchor=\"start\" x=\"902\" y=\"-208.3\" font-family=\"Helvetica,sans-Serif\" font-size=\"14.00\" fill=\"#000000\">value = [28, 9]</text>\n</g>\n<!-- 17&#45;&gt;21 -->\n<g id=\"edge21\" class=\"edge\">\n<title>17&#45;&gt;21</title>\n<path fill=\"none\" stroke=\"#000000\" d=\"M901.0932,-296.9465C908.5473,-285.7113 916.8467,-273.2021 924.3423,-261.9043\"/>\n<polygon fill=\"#000000\" stroke=\"#000000\" points=\"927.2782,-263.81 929.8903,-253.5422 921.4453,-259.94 927.2782,-263.81\"/>\n</g>\n<!-- 19 -->\n<g id=\"node20\" class=\"node\">\n<title>19</title>\n<path fill=\"#e3f1fb\" stroke=\"#000000\" d=\"M863.5,-149.5C863.5,-149.5 771.5,-149.5 771.5,-149.5 765.5,-149.5 759.5,-143.5 759.5,-137.5 759.5,-137.5 759.5,-108.5 759.5,-108.5 759.5,-102.5 765.5,-96.5 771.5,-96.5 771.5,-96.5 863.5,-96.5 863.5,-96.5 869.5,-96.5 875.5,-102.5 875.5,-108.5 875.5,-108.5 875.5,-137.5 875.5,-137.5 875.5,-143.5 869.5,-149.5 863.5,-149.5\"/>\n<text text-anchor=\"start\" x=\"779.5\" y=\"-134.3\" font-family=\"Helvetica,sans-Serif\" font-size=\"14.00\" fill=\"#000000\">gini = 0.497</text>\n<text text-anchor=\"start\" x=\"773.5\" y=\"-119.3\" font-family=\"Helvetica,sans-Serif\" font-size=\"14.00\" fill=\"#000000\">samples = 26</text>\n<text text-anchor=\"start\" x=\"767.5\" y=\"-104.3\" font-family=\"Helvetica,sans-Serif\" font-size=\"14.00\" fill=\"#000000\">value = [12, 14]</text>\n</g>\n<!-- 18&#45;&gt;19 -->\n<g id=\"edge19\" class=\"edge\">\n<title>18&#45;&gt;19</title>\n<path fill=\"none\" stroke=\"#000000\" d=\"M817.5,-192.9465C817.5,-182.2621 817.5,-170.4254 817.5,-159.5742\"/>\n<polygon fill=\"#000000\" stroke=\"#000000\" points=\"821.0001,-159.5421 817.5,-149.5422 814.0001,-159.5422 821.0001,-159.5421\"/>\n</g>\n<!-- 20 -->\n<g id=\"node21\" class=\"node\">\n<title>20</title>\n<path fill=\"#f8dcc8\" stroke=\"#000000\" d=\"M997.5,-149.5C997.5,-149.5 905.5,-149.5 905.5,-149.5 899.5,-149.5 893.5,-143.5 893.5,-137.5 893.5,-137.5 893.5,-108.5 893.5,-108.5 893.5,-102.5 899.5,-96.5 905.5,-96.5 905.5,-96.5 997.5,-96.5 997.5,-96.5 1003.5,-96.5 1009.5,-102.5 1009.5,-108.5 1009.5,-108.5 1009.5,-137.5 1009.5,-137.5 1009.5,-143.5 1003.5,-149.5 997.5,-149.5\"/>\n<text text-anchor=\"start\" x=\"913.5\" y=\"-134.3\" font-family=\"Helvetica,sans-Serif\" font-size=\"14.00\" fill=\"#000000\">gini = 0.487</text>\n<text text-anchor=\"start\" x=\"907.5\" y=\"-119.3\" font-family=\"Helvetica,sans-Serif\" font-size=\"14.00\" fill=\"#000000\">samples = 31</text>\n<text text-anchor=\"start\" x=\"901.5\" y=\"-104.3\" font-family=\"Helvetica,sans-Serif\" font-size=\"14.00\" fill=\"#000000\">value = [18, 13]</text>\n</g>\n<!-- 18&#45;&gt;20 -->\n<g id=\"edge20\" class=\"edge\">\n<title>18&#45;&gt;20</title>\n<path fill=\"none\" stroke=\"#000000\" d=\"M861.3766,-192.9465C876.7043,-181.0504 893.8723,-167.726 909.0791,-155.9237\"/>\n<polygon fill=\"#000000\" stroke=\"#000000\" points=\"911.5475,-158.4384 917.3014,-149.5422 907.2556,-152.9085 911.5475,-158.4384\"/>\n</g>\n<!-- 23 -->\n<g id=\"node24\" class=\"node\">\n<title>23</title>\n<path fill=\"#fae7d9\" stroke=\"#000000\" d=\"M1123.5,-253.5C1123.5,-253.5 1031.5,-253.5 1031.5,-253.5 1025.5,-253.5 1019.5,-247.5 1019.5,-241.5 1019.5,-241.5 1019.5,-212.5 1019.5,-212.5 1019.5,-206.5 1025.5,-200.5 1031.5,-200.5 1031.5,-200.5 1123.5,-200.5 1123.5,-200.5 1129.5,-200.5 1135.5,-206.5 1135.5,-212.5 1135.5,-212.5 1135.5,-241.5 1135.5,-241.5 1135.5,-247.5 1129.5,-253.5 1123.5,-253.5\"/>\n<text text-anchor=\"start\" x=\"1039.5\" y=\"-238.3\" font-family=\"Helvetica,sans-Serif\" font-size=\"14.00\" fill=\"#000000\">gini = 0.494</text>\n<text text-anchor=\"start\" x=\"1033.5\" y=\"-223.3\" font-family=\"Helvetica,sans-Serif\" font-size=\"14.00\" fill=\"#000000\">samples = 38</text>\n<text text-anchor=\"start\" x=\"1027.5\" y=\"-208.3\" font-family=\"Helvetica,sans-Serif\" font-size=\"14.00\" fill=\"#000000\">value = [21, 17]</text>\n</g>\n<!-- 22&#45;&gt;23 -->\n<g id=\"edge23\" class=\"edge\">\n<title>22&#45;&gt;23</title>\n<path fill=\"none\" stroke=\"#000000\" d=\"M1077.5,-296.9465C1077.5,-286.2621 1077.5,-274.4254 1077.5,-263.5742\"/>\n<polygon fill=\"#000000\" stroke=\"#000000\" points=\"1081.0001,-263.5421 1077.5,-253.5422 1074.0001,-263.5422 1081.0001,-263.5421\"/>\n</g>\n<!-- 24 -->\n<g id=\"node25\" class=\"node\">\n<title>24</title>\n<path fill=\"#e88f4f\" stroke=\"#000000\" d=\"M1265.5,-261C1265.5,-261 1165.5,-261 1165.5,-261 1159.5,-261 1153.5,-255 1153.5,-249 1153.5,-249 1153.5,-205 1153.5,-205 1153.5,-199 1159.5,-193 1165.5,-193 1165.5,-193 1265.5,-193 1265.5,-193 1271.5,-193 1277.5,-199 1277.5,-205 1277.5,-205 1277.5,-249 1277.5,-249 1277.5,-255 1271.5,-261 1265.5,-261\"/>\n<text text-anchor=\"start\" x=\"1176\" y=\"-245.8\" font-family=\"Helvetica,sans-Serif\" font-size=\"14.00\" fill=\"#000000\">Age ≤ 45.25</text>\n<text text-anchor=\"start\" x=\"1177.5\" y=\"-230.8\" font-family=\"Helvetica,sans-Serif\" font-size=\"14.00\" fill=\"#000000\">gini = 0.179</text>\n<text text-anchor=\"start\" x=\"1167.5\" y=\"-215.8\" font-family=\"Helvetica,sans-Serif\" font-size=\"14.00\" fill=\"#000000\">samples = 323</text>\n<text text-anchor=\"start\" x=\"1161.5\" y=\"-200.8\" font-family=\"Helvetica,sans-Serif\" font-size=\"14.00\" fill=\"#000000\">value = [291, 32]</text>\n</g>\n<!-- 22&#45;&gt;24 -->\n<g id=\"edge24\" class=\"edge\">\n<title>22&#45;&gt;24</title>\n<path fill=\"none\" stroke=\"#000000\" d=\"M1122.6864,-296.9465C1135.315,-287.4293 1149.1567,-276.9978 1162.2068,-267.163\"/>\n<polygon fill=\"#000000\" stroke=\"#000000\" points=\"1164.3325,-269.9437 1170.2121,-261.13 1160.1195,-264.3534 1164.3325,-269.9437\"/>\n</g>\n<!-- 25 -->\n<g id=\"node26\" class=\"node\">\n<title>25</title>\n<path fill=\"#e89152\" stroke=\"#000000\" d=\"M1202.5,-157C1202.5,-157 1102.5,-157 1102.5,-157 1096.5,-157 1090.5,-151 1090.5,-145 1090.5,-145 1090.5,-101 1090.5,-101 1090.5,-95 1096.5,-89 1102.5,-89 1102.5,-89 1202.5,-89 1202.5,-89 1208.5,-89 1214.5,-95 1214.5,-101 1214.5,-101 1214.5,-145 1214.5,-145 1214.5,-151 1208.5,-157 1202.5,-157\"/>\n<text text-anchor=\"start\" x=\"1115.5\" y=\"-141.8\" font-family=\"Helvetica,sans-Serif\" font-size=\"14.00\" fill=\"#000000\">Fare ≤ 7.91</text>\n<text text-anchor=\"start\" x=\"1114.5\" y=\"-126.8\" font-family=\"Helvetica,sans-Serif\" font-size=\"14.00\" fill=\"#000000\">gini = 0.196</text>\n<text text-anchor=\"start\" x=\"1104.5\" y=\"-111.8\" font-family=\"Helvetica,sans-Serif\" font-size=\"14.00\" fill=\"#000000\">samples = 290</text>\n<text text-anchor=\"start\" x=\"1098.5\" y=\"-96.8\" font-family=\"Helvetica,sans-Serif\" font-size=\"14.00\" fill=\"#000000\">value = [258, 32]</text>\n</g>\n<!-- 24&#45;&gt;25 -->\n<g id=\"edge25\" class=\"edge\">\n<title>24&#45;&gt;25</title>\n<path fill=\"none\" stroke=\"#000000\" d=\"M1194.8714,-192.9465C1189.6501,-184.3271 1183.9745,-174.9579 1178.5245,-165.9611\"/>\n<polygon fill=\"#000000\" stroke=\"#000000\" points=\"1181.3497,-163.8697 1173.1749,-157.13 1175.3626,-167.4965 1181.3497,-163.8697\"/>\n</g>\n<!-- 28 -->\n<g id=\"node29\" class=\"node\">\n<title>28</title>\n<path fill=\"#e58139\" stroke=\"#000000\" d=\"M1328,-149.5C1328,-149.5 1245,-149.5 1245,-149.5 1239,-149.5 1233,-143.5 1233,-137.5 1233,-137.5 1233,-108.5 1233,-108.5 1233,-102.5 1239,-96.5 1245,-96.5 1245,-96.5 1328,-96.5 1328,-96.5 1334,-96.5 1340,-102.5 1340,-108.5 1340,-108.5 1340,-137.5 1340,-137.5 1340,-143.5 1334,-149.5 1328,-149.5\"/>\n<text text-anchor=\"start\" x=\"1257\" y=\"-134.3\" font-family=\"Helvetica,sans-Serif\" font-size=\"14.00\" fill=\"#000000\">gini = 0.0</text>\n<text text-anchor=\"start\" x=\"1242.5\" y=\"-119.3\" font-family=\"Helvetica,sans-Serif\" font-size=\"14.00\" fill=\"#000000\">samples = 33</text>\n<text text-anchor=\"start\" x=\"1241\" y=\"-104.3\" font-family=\"Helvetica,sans-Serif\" font-size=\"14.00\" fill=\"#000000\">value = [33, 0]</text>\n</g>\n<!-- 24&#45;&gt;28 -->\n<g id=\"edge28\" class=\"edge\">\n<title>24&#45;&gt;28</title>\n<path fill=\"none\" stroke=\"#000000\" d=\"M1238.7481,-192.9465C1246.4182,-181.7113 1254.9582,-169.2021 1262.6711,-157.9043\"/>\n<polygon fill=\"#000000\" stroke=\"#000000\" points=\"1265.6322,-159.7745 1268.3799,-149.5422 1259.8509,-155.8277 1265.6322,-159.7745\"/>\n</g>\n<!-- 26 -->\n<g id=\"node27\" class=\"node\">\n<title>26</title>\n<path fill=\"#e78b48\" stroke=\"#000000\" d=\"M1129.5,-53C1129.5,-53 1037.5,-53 1037.5,-53 1031.5,-53 1025.5,-47 1025.5,-41 1025.5,-41 1025.5,-12 1025.5,-12 1025.5,-6 1031.5,0 1037.5,0 1037.5,0 1129.5,0 1129.5,0 1135.5,0 1141.5,-6 1141.5,-12 1141.5,-12 1141.5,-41 1141.5,-41 1141.5,-47 1135.5,-53 1129.5,-53\"/>\n<text text-anchor=\"start\" x=\"1045.5\" y=\"-37.8\" font-family=\"Helvetica,sans-Serif\" font-size=\"14.00\" fill=\"#000000\">gini = 0.135</text>\n<text text-anchor=\"start\" x=\"1035.5\" y=\"-22.8\" font-family=\"Helvetica,sans-Serif\" font-size=\"14.00\" fill=\"#000000\">samples = 124</text>\n<text text-anchor=\"start\" x=\"1033.5\" y=\"-7.8\" font-family=\"Helvetica,sans-Serif\" font-size=\"14.00\" fill=\"#000000\">value = [115, 9]</text>\n</g>\n<!-- 25&#45;&gt;26 -->\n<g id=\"edge26\" class=\"edge\">\n<title>25&#45;&gt;26</title>\n<path fill=\"none\" stroke=\"#000000\" d=\"M1128.1732,-88.9777C1121.8221,-80.0954 1114.966,-70.5067 1108.5768,-61.5711\"/>\n<polygon fill=\"#000000\" stroke=\"#000000\" points=\"1111.2893,-59.3472 1102.6259,-53.2485 1105.5952,-63.4187 1111.2893,-59.3472\"/>\n</g>\n<!-- 27 -->\n<g id=\"node28\" class=\"node\">\n<title>27</title>\n<path fill=\"#e99559\" stroke=\"#000000\" d=\"M1271.5,-53C1271.5,-53 1171.5,-53 1171.5,-53 1165.5,-53 1159.5,-47 1159.5,-41 1159.5,-41 1159.5,-12 1159.5,-12 1159.5,-6 1165.5,0 1171.5,0 1171.5,0 1271.5,0 1271.5,0 1277.5,0 1283.5,-6 1283.5,-12 1283.5,-12 1283.5,-41 1283.5,-41 1283.5,-47 1277.5,-53 1271.5,-53\"/>\n<text text-anchor=\"start\" x=\"1183.5\" y=\"-37.8\" font-family=\"Helvetica,sans-Serif\" font-size=\"14.00\" fill=\"#000000\">gini = 0.239</text>\n<text text-anchor=\"start\" x=\"1173.5\" y=\"-22.8\" font-family=\"Helvetica,sans-Serif\" font-size=\"14.00\" fill=\"#000000\">samples = 166</text>\n<text text-anchor=\"start\" x=\"1167.5\" y=\"-7.8\" font-family=\"Helvetica,sans-Serif\" font-size=\"14.00\" fill=\"#000000\">value = [143, 23]</text>\n</g>\n<!-- 25&#45;&gt;27 -->\n<g id=\"edge27\" class=\"edge\">\n<title>25&#45;&gt;27</title>\n<path fill=\"none\" stroke=\"#000000\" d=\"M1176.8268,-88.9777C1183.1779,-80.0954 1190.034,-70.5067 1196.4232,-61.5711\"/>\n<polygon fill=\"#000000\" stroke=\"#000000\" points=\"1199.4048,-63.4187 1202.3741,-53.2485 1193.7107,-59.3472 1199.4048,-63.4187\"/>\n</g>\n</g>\n</svg>\n"
          },
          "metadata": {
            "tags": []
          },
          "execution_count": 17
        }
      ]
    },
    {
      "cell_type": "code",
      "metadata": {
        "id": "nL7EtZogwAJA"
      },
      "source": [
        "test_without_PId = tree_data[\"test\"].drop(\"PassengerId\",axis=1)\n",
        "prediction_values = tree_optimized.predict(test_without_PId).astype(int)\n",
        "prediction = pd.DataFrame({\"PassengerId\":tree_data[\"test\"][\"PassengerId\"],\n",
        "                           \"Survived\":prediction_values})\n",
        "\n",
        "prediction.head()\n",
        "prediction.to_csv(\"Titanic_tree_prediction.csv\",index=False)"
      ],
      "execution_count": null,
      "outputs": []
    },
    {
      "cell_type": "code",
      "metadata": {
        "colab": {
          "base_uri": "https://localhost:8080/"
        },
        "id": "HNZ2UUkmwIMl",
        "outputId": "36505e40-f3a3-4442-bec9-be4351f0d6b1"
      },
      "source": [
        "from sklearn.metrics import confusion_matrix\n",
        "\n",
        "evaluation = {}\n",
        "cm = {}\n",
        "\n",
        "\n",
        "valid_without_PId = tree_data[\"valid\"].drop(\"PassengerId\",axis=1)\n",
        "evaluation[\"tree\"] = tree_optimized.predict(valid_without_PId).astype(int)\n",
        "survival_from_data = combined_cleaned[\"valid\"][\"Survived\"].astype(int)\n",
        "\n",
        "print(survival_from_data.value_counts())\n",
        "\n",
        "cm[\"tree\"] = confusion_matrix(survival_from_data, evaluation[\"tree\"])\n",
        "cm[\"tree\"] = cm[\"tree\"].astype('float') / cm[\"tree\"].sum(axis=1)[:, np.newaxis]\n",
        "\n",
        "cm[\"tree\"]"
      ],
      "execution_count": null,
      "outputs": [
        {
          "output_type": "stream",
          "text": [
            "0    111\n",
            "1     68\n",
            "Name: Survived, dtype: int64\n"
          ],
          "name": "stdout"
        },
        {
          "output_type": "execute_result",
          "data": {
            "text/plain": [
              "array([[0.9009009 , 0.0990991 ],\n",
              "       [0.39705882, 0.60294118]])"
            ]
          },
          "metadata": {
            "tags": []
          },
          "execution_count": 19
        }
      ]
    },
    {
      "cell_type": "code",
      "metadata": {
        "id": "fftrftq5wJ3S"
      },
      "source": [
        "import itertools\n",
        "\n",
        "def plot_confusion_matrix(cm, classes,\n",
        "                          title='Confusion matrix',\n",
        "                          cmap=plt.cm.Blues):\n",
        "    \"\"\"\n",
        "    This function prints and plots the confusion matrix.\n",
        "    Normalization can be applied by setting `normalize=True`.\n",
        "    \"\"\"\n",
        "    print(cm)\n",
        "\n",
        "    plt.imshow(cm, interpolation='nearest', cmap=cmap)\n",
        "    plt.title(title)\n",
        "    plt.colorbar()\n",
        "    tick_marks = np.arange(len(classes))\n",
        "    plt.xticks(tick_marks, classes, rotation=45)\n",
        "    plt.yticks(tick_marks, classes)\n",
        "\n",
        "    fmt = '.2f'\n",
        "    thresh = cm.max() / 2.\n",
        "    for i, j in itertools.product(range(cm.shape[0]), range(cm.shape[1])):\n",
        "        plt.text(j, i, format(cm[i, j], fmt),\n",
        "                 horizontalalignment=\"center\",\n",
        "                 color=\"white\" if cm[i, j] > thresh else \"black\")\n",
        "\n",
        "    plt.tight_layout()\n",
        "    plt.ylabel('True label')\n",
        "    plt.xlabel('Predicted label')"
      ],
      "execution_count": null,
      "outputs": []
    },
    {
      "cell_type": "code",
      "metadata": {
        "colab": {
          "base_uri": "https://localhost:8080/"
        },
        "id": "NQOrgkI_webp",
        "outputId": "193806c8-ab9c-4751-cdef-24c35718fa3e"
      },
      "source": [
        "from sklearn.ensemble import RandomForestClassifier\n",
        "\n",
        "clf_forest = RandomForestClassifier(n_estimators=10,min_samples_leaf=20, max_depth=4,min_weight_fraction_leaf=0.1)\n",
        "clf_forest.fit(X,Y)"
      ],
      "execution_count": null,
      "outputs": [
        {
          "output_type": "execute_result",
          "data": {
            "text/plain": [
              "RandomForestClassifier(bootstrap=True, ccp_alpha=0.0, class_weight=None,\n",
              "                       criterion='gini', max_depth=4, max_features='auto',\n",
              "                       max_leaf_nodes=None, max_samples=None,\n",
              "                       min_impurity_decrease=0.0, min_impurity_split=None,\n",
              "                       min_samples_leaf=20, min_samples_split=2,\n",
              "                       min_weight_fraction_leaf=0.1, n_estimators=10,\n",
              "                       n_jobs=None, oob_score=False, random_state=None,\n",
              "                       verbose=0, warm_start=False)"
            ]
          },
          "metadata": {
            "tags": []
          },
          "execution_count": 21
        }
      ]
    },
    {
      "cell_type": "code",
      "metadata": {
        "id": "NTBmqIKYwkem"
      },
      "source": [
        "prediction_values_forest = clf_forest.predict(test_without_PId).astype(int)\n",
        "prediction_forest = pd.DataFrame({\"PassengerId\":tree_data[\"test\"][\"PassengerId\"],\n",
        "                           \"Survived\":prediction_values_forest})\n",
        "\n",
        "#prediction_forest.to_csv(\"Titanic_tree_prediction_forest.csv\",index=False)"
      ],
      "execution_count": null,
      "outputs": []
    },
    {
      "cell_type": "code",
      "metadata": {
        "colab": {
          "base_uri": "https://localhost:8080/"
        },
        "id": "1lcFDXN6woWr",
        "outputId": "17defbf0-3d7b-441c-a437-a42a75272a49"
      },
      "source": [
        "param_grid = {'n_estimators':np.arange(3,11,2),\n",
        "              'max_depth':np.arange(3,6),\n",
        "              'min_weight_fraction_leaf':np.arange(0,0.4,0.1),\n",
        "              'criterion':['gini','entropy']}\n",
        "clf = RandomForestClassifier()\n",
        "forest_search = GridSearchCV(clf, param_grid, scoring='precision')\n",
        "\n",
        "forest_search.fit(X,Y)\n",
        "\n",
        "print(\"Forest best parameters :\",forest_search.best_params_)\n",
        "print(\"Forest best estimator :\",forest_search.best_estimator_ )\n",
        "print(\"Forest best score :\",forest_search.best_score_ )"
      ],
      "execution_count": null,
      "outputs": [
        {
          "output_type": "stream",
          "text": [
            "/usr/local/lib/python3.7/dist-packages/sklearn/metrics/_classification.py:1272: UndefinedMetricWarning: Precision is ill-defined and being set to 0.0 due to no predicted samples. Use `zero_division` parameter to control this behavior.\n",
            "  _warn_prf(average, modifier, msg_start, len(result))\n",
            "/usr/local/lib/python3.7/dist-packages/sklearn/metrics/_classification.py:1272: UndefinedMetricWarning: Precision is ill-defined and being set to 0.0 due to no predicted samples. Use `zero_division` parameter to control this behavior.\n",
            "  _warn_prf(average, modifier, msg_start, len(result))\n",
            "/usr/local/lib/python3.7/dist-packages/sklearn/metrics/_classification.py:1272: UndefinedMetricWarning: Precision is ill-defined and being set to 0.0 due to no predicted samples. Use `zero_division` parameter to control this behavior.\n",
            "  _warn_prf(average, modifier, msg_start, len(result))\n",
            "/usr/local/lib/python3.7/dist-packages/sklearn/metrics/_classification.py:1272: UndefinedMetricWarning: Precision is ill-defined and being set to 0.0 due to no predicted samples. Use `zero_division` parameter to control this behavior.\n",
            "  _warn_prf(average, modifier, msg_start, len(result))\n",
            "/usr/local/lib/python3.7/dist-packages/sklearn/metrics/_classification.py:1272: UndefinedMetricWarning: Precision is ill-defined and being set to 0.0 due to no predicted samples. Use `zero_division` parameter to control this behavior.\n",
            "  _warn_prf(average, modifier, msg_start, len(result))\n",
            "/usr/local/lib/python3.7/dist-packages/sklearn/metrics/_classification.py:1272: UndefinedMetricWarning: Precision is ill-defined and being set to 0.0 due to no predicted samples. Use `zero_division` parameter to control this behavior.\n",
            "  _warn_prf(average, modifier, msg_start, len(result))\n",
            "/usr/local/lib/python3.7/dist-packages/sklearn/metrics/_classification.py:1272: UndefinedMetricWarning: Precision is ill-defined and being set to 0.0 due to no predicted samples. Use `zero_division` parameter to control this behavior.\n",
            "  _warn_prf(average, modifier, msg_start, len(result))\n",
            "/usr/local/lib/python3.7/dist-packages/sklearn/metrics/_classification.py:1272: UndefinedMetricWarning: Precision is ill-defined and being set to 0.0 due to no predicted samples. Use `zero_division` parameter to control this behavior.\n",
            "  _warn_prf(average, modifier, msg_start, len(result))\n",
            "/usr/local/lib/python3.7/dist-packages/sklearn/metrics/_classification.py:1272: UndefinedMetricWarning: Precision is ill-defined and being set to 0.0 due to no predicted samples. Use `zero_division` parameter to control this behavior.\n",
            "  _warn_prf(average, modifier, msg_start, len(result))\n",
            "/usr/local/lib/python3.7/dist-packages/sklearn/metrics/_classification.py:1272: UndefinedMetricWarning: Precision is ill-defined and being set to 0.0 due to no predicted samples. Use `zero_division` parameter to control this behavior.\n",
            "  _warn_prf(average, modifier, msg_start, len(result))\n",
            "/usr/local/lib/python3.7/dist-packages/sklearn/metrics/_classification.py:1272: UndefinedMetricWarning: Precision is ill-defined and being set to 0.0 due to no predicted samples. Use `zero_division` parameter to control this behavior.\n",
            "  _warn_prf(average, modifier, msg_start, len(result))\n"
          ],
          "name": "stderr"
        },
        {
          "output_type": "stream",
          "text": [
            "Forest best parameters : {'criterion': 'gini', 'max_depth': 4, 'min_weight_fraction_leaf': 0.30000000000000004, 'n_estimators': 9}\n",
            "Forest best estimator : RandomForestClassifier(bootstrap=True, ccp_alpha=0.0, class_weight=None,\n",
            "                       criterion='gini', max_depth=4, max_features='auto',\n",
            "                       max_leaf_nodes=None, max_samples=None,\n",
            "                       min_impurity_decrease=0.0, min_impurity_split=None,\n",
            "                       min_samples_leaf=1, min_samples_split=2,\n",
            "                       min_weight_fraction_leaf=0.30000000000000004,\n",
            "                       n_estimators=9, n_jobs=None, oob_score=False,\n",
            "                       random_state=None, verbose=0, warm_start=False)\n",
            "Forest best score : 0.8758894362342637\n"
          ],
          "name": "stdout"
        }
      ]
    },
    {
      "cell_type": "code",
      "metadata": {
        "colab": {
          "base_uri": "https://localhost:8080/"
        },
        "id": "9dBuwHDTwu2N",
        "outputId": "c6da6e6d-f6f8-404c-cc9a-25cbaf99a24a"
      },
      "source": [
        "clf_forest = RandomForestClassifier(**forest_search.best_params_)\n",
        "clf_forest.fit(X,Y)"
      ],
      "execution_count": null,
      "outputs": [
        {
          "output_type": "execute_result",
          "data": {
            "text/plain": [
              "RandomForestClassifier(bootstrap=True, ccp_alpha=0.0, class_weight=None,\n",
              "                       criterion='gini', max_depth=4, max_features='auto',\n",
              "                       max_leaf_nodes=None, max_samples=None,\n",
              "                       min_impurity_decrease=0.0, min_impurity_split=None,\n",
              "                       min_samples_leaf=1, min_samples_split=2,\n",
              "                       min_weight_fraction_leaf=0.30000000000000004,\n",
              "                       n_estimators=9, n_jobs=None, oob_score=False,\n",
              "                       random_state=None, verbose=0, warm_start=False)"
            ]
          },
          "metadata": {
            "tags": []
          },
          "execution_count": 24
        }
      ]
    },
    {
      "cell_type": "code",
      "metadata": {
        "id": "96RblBiMw7Bk"
      },
      "source": [
        "prediction_values_forest = clf_forest.predict(test_without_PId).astype(int)\n",
        "prediction_forest = pd.DataFrame({\"PassengerId\":tree_data[\"test\"][\"PassengerId\"],\n",
        "                           \"Survived\":prediction_values_forest})\n",
        "\n",
        "prediction_forest.to_csv(\"Titanic_tree_prediction_forest.csv\",index=False)"
      ],
      "execution_count": null,
      "outputs": []
    },
    {
      "cell_type": "code",
      "metadata": {
        "colab": {
          "base_uri": "https://localhost:8080/",
          "height": 347
        },
        "id": "pSYPUFOOw_7U",
        "outputId": "ab4b1f77-45a4-4b91-a335-a9a9c0f1da04"
      },
      "source": [
        "evaluation[\"forest\"] = clf_forest.predict(valid_without_PId).astype(int)\n",
        "\n",
        "cm[\"forest\"] = confusion_matrix(survival_from_data, evaluation[\"forest\"])\n",
        "cm[\"forest\"] = cm[\"forest\"].astype('float') / cm[\"forest\"].sum(axis=1)[:, np.newaxis]\n",
        "\n",
        "cm[\"forest\"]\n",
        "\n",
        "plot_confusion_matrix(cm[\"forest\"], classes=[\"No\",\"Yes\"], \n",
        "                      title='Normalized confusion matrix')"
      ],
      "execution_count": null,
      "outputs": [
        {
          "output_type": "stream",
          "text": [
            "[[0.99099099 0.00900901]\n",
            " [0.51470588 0.48529412]]\n"
          ],
          "name": "stdout"
        },
        {
          "output_type": "display_data",
          "data": {
            "image/png": "[encoded data removed]",
            "text/plain": [
              "<Figure size 432x288 with 2 Axes>"
            ]
          },
          "metadata": {
            "tags": [],
            "needs_background": "light"
          }
        }
      ]
    },
    {
      "cell_type": "code",
      "metadata": {
        "colab": {
          "base_uri": "https://localhost:8080/"
        },
        "id": "s8k56mTyxFUy",
        "outputId": "7e1889cf-a206-44a4-b88f-be4b755debaf"
      },
      "source": [
        "from sklearn.naive_bayes import GaussianNB\n",
        "gnb = GaussianNB()\n",
        "gnb.fit(X, Y)"
      ],
      "execution_count": null,
      "outputs": [
        {
          "output_type": "execute_result",
          "data": {
            "text/plain": [
              "GaussianNB(priors=None, var_smoothing=1e-09)"
            ]
          },
          "metadata": {
            "tags": []
          },
          "execution_count": 27
        }
      ]
    },
    {
      "cell_type": "code",
      "metadata": {
        "id": "4_uWtlWgyLrx"
      },
      "source": [
        "prediction_values_NaiveBayes = gnb.predict(test_without_PId).astype(int)\n",
        "prediction_NaiveBayes = pd.DataFrame({\"PassengerId\":tree_data[\"test\"][\"PassengerId\"],\n",
        "                           \"Survived\":prediction_values_NaiveBayes})"
      ],
      "execution_count": null,
      "outputs": []
    },
    {
      "cell_type": "code",
      "metadata": {
        "colab": {
          "base_uri": "https://localhost:8080/",
          "height": 347
        },
        "id": "hREjNpj5yQK_",
        "outputId": "41c3a6f8-bb1a-4581-860d-0f0bb085a695"
      },
      "source": [
        "evaluation[\"NB\"] = gnb.predict(valid_without_PId).astype(int)\n",
        "\n",
        "cm[\"NB\"] = confusion_matrix(survival_from_data, evaluation[\"NB\"])\n",
        "cm[\"NB\"] = cm[\"NB\"].astype('float') / cm[\"NB\"].sum(axis=1)[:, np.newaxis]\n",
        "\n",
        "cm[\"NB\"]\n",
        "\n",
        "plot_confusion_matrix(cm[\"NB\"], classes=[\"No\",\"Yes\"], \n",
        "                      title='Normalized confusion matrix')"
      ],
      "execution_count": null,
      "outputs": [
        {
          "output_type": "stream",
          "text": [
            "[[0.83783784 0.16216216]\n",
            " [0.27941176 0.72058824]]\n"
          ],
          "name": "stdout"
        },
        {
          "output_type": "display_data",
          "data": {
            "image/png": "[encoded data removed]",
            "text/plain": [
              "<Figure size 432x288 with 2 Axes>"
            ]
          },
          "metadata": {
            "tags": [],
            "needs_background": "light"
          }
        }
      ]
    },
    {
      "cell_type": "code",
      "metadata": {
        "colab": {
          "base_uri": "https://localhost:8080/"
        },
        "id": "gv-JKiKYytlY",
        "outputId": "4026303c-e352-44dd-b558-2a325ac2589f"
      },
      "source": [
        "from sklearn import svm\n",
        "clf_svm = svm.SVC()\n",
        "clf_svm.fit(X,Y)"
      ],
      "execution_count": null,
      "outputs": [
        {
          "output_type": "execute_result",
          "data": {
            "text/plain": [
              "SVC(C=1.0, break_ties=False, cache_size=200, class_weight=None, coef0=0.0,\n",
              "    decision_function_shape='ovr', degree=3, gamma='scale', kernel='rbf',\n",
              "    max_iter=-1, probability=False, random_state=None, shrinking=True,\n",
              "    tol=0.001, verbose=False)"
            ]
          },
          "metadata": {
            "tags": []
          },
          "execution_count": 30
        }
      ]
    },
    {
      "cell_type": "code",
      "metadata": {
        "id": "NR7M_e4py-6W"
      },
      "source": [
        "prediction_values_svm = clf_svm.predict(test_without_PId).astype(int)\n",
        "prediction_svm = pd.DataFrame({\"PassengerId\":tree_data[\"test\"][\"PassengerId\"],\n",
        "                           \"Survived\":prediction_values_svm})\n",
        "\n",
        "#prediction_svm.to_csv(\"Titanic_tree_prediction_svm.csv\",index=False)"
      ],
      "execution_count": null,
      "outputs": []
    }
  ]
}