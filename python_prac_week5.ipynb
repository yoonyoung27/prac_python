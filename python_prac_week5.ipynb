{
  "nbformat": 4,
  "nbformat_minor": 0,
  "metadata": {
    "colab": {
      "name": "python_prac_week5.ipynb",
      "provenance": [],
      "authorship_tag": "ABX9TyPInx78wKv0+c6YBdheWUdb",
      "include_colab_link": true
    },
    "kernelspec": {
      "name": "python3",
      "display_name": "Python 3"
    },
    "language_info": {
      "name": "python"
    }
  },
  "cells": [
    {
      "cell_type": "markdown",
      "metadata": {
        "id": "view-in-github",
        "colab_type": "text"
      },
      "source": [
        "<a href=\"https://colab.research.google.com/github/yoonyoung27/prac_python/blob/main/python_prac_week5.ipynb\" target=\"_parent\"><img src=\"https://colab.research.google.com/assets/colab-badge.svg\" alt=\"Open In Colab\"/></a>"
      ]
    },
    {
      "cell_type": "markdown",
      "metadata": {
        "id": "MGEW8iLWkaUe"
      },
      "source": [
        "#5주차 실습과제1\n",
        "좌표를 나타내는 클래스 Coordinate를 정의해 보아라. 이 클래스의 속성으로 x와 y를 정의하라. 두 속성의 값은 0으로 정의해 두면 된다."
      ]
    },
    {
      "cell_type": "code",
      "metadata": {
        "colab": {
          "base_uri": "https://localhost:8080/"
        },
        "id": "OzbVh2EfkDfT",
        "outputId": "f9b96682-b72c-4e2e-e0e6-3c354743a257"
      },
      "source": [
        "class Coordinate:\n",
        "    x=0\n",
        "    y=0\n",
        "\n",
        "print(\"({},{})\".format(Coordinate.x, Coordinate.y))"
      ],
      "execution_count": 7,
      "outputs": [
        {
          "output_type": "stream",
          "text": [
            "(0,0)\n"
          ],
          "name": "stdout"
        }
      ]
    },
    {
      "cell_type": "markdown",
      "metadata": {
        "id": "OWuVRZyvmToi"
      },
      "source": [
        "#5주차 실습과제2\n",
        "앞에서 정의한 Coordinate()클래스의 인스턴스를 두개 생성하고, 인스턴스의 속성을 다음과 같이 각각 부여해라.\n",
        "\n",
        "첫번째 인스턴스(point_1):x축의 좌표는 -1, y축의 좌표는 2  \n",
        "두번째 인스턴스(point_2):x축의 좌표는 2, y축의 좌표는 3"
      ]
    },
    {
      "cell_type": "code",
      "metadata": {
        "colab": {
          "base_uri": "https://localhost:8080/"
        },
        "id": "Ob9KxATRmp_J",
        "outputId": "d77c4517-0a2b-4720-ef6f-121086675e2d"
      },
      "source": [
        "point_1 = Coordinate()\n",
        "point_2 = Coordinate()\n",
        "\n",
        "point_1.x, point_1.y = -1, 2\n",
        "point_2.x, point_2.y = 2, 3\n",
        "\n",
        "print(\"({},{})\".format(point_1.x, point_1.y))\n",
        "print(\"({},{})\".format(point_2.x, point_2.y))"
      ],
      "execution_count": 4,
      "outputs": [
        {
          "output_type": "stream",
          "text": [
            "(-1,2)\n",
            "(2,3)\n"
          ],
          "name": "stdout"
        }
      ]
    },
    {
      "cell_type": "markdown",
      "metadata": {
        "id": "hV53lx-PnGEX"
      },
      "source": [
        "#5주차 실습과제3\n",
        "5주차 실습과제2에서 생성한 두 인스턴스의 거리를 계산하려 한다. Coordinate 인스턴스 두 개를 전달받아 거리를 계산하는 함수 distance()를 정의하라."
      ]
    },
    {
      "cell_type": "code",
      "metadata": {
        "colab": {
          "base_uri": "https://localhost:8080/"
        },
        "id": "UTb1VY6BnpiP",
        "outputId": "380ad588-748b-4650-f618-af9655e7c05f"
      },
      "source": [
        "import math\n",
        "\n",
        "def square(x):\n",
        "    return x*x\n",
        "\n",
        "def distance(a, b):\n",
        "    return math.sqrt(square(a.x-b.x)+square(a.y-b.y))\n",
        "\n",
        "distance(point_1, point_2)"
      ],
      "execution_count": 8,
      "outputs": [
        {
          "output_type": "execute_result",
          "data": {
            "text/plain": [
              "3.1622776601683795"
            ]
          },
          "metadata": {
            "tags": []
          },
          "execution_count": 8
        }
      ]
    },
    {
      "cell_type": "markdown",
      "metadata": {
        "id": "Dl1mr3uJrQgJ"
      },
      "source": [
        "#5주차 실습과제4\n",
        "앞서 정의한 Coordinate클래스를 새로 정의하여 두 좌표 사이의 거리를 계산해 반환하는 메서드 distance()를 정의해라. 이 메서드는 메서드 호출의 기준이 된 인스턴스와 거리를 계산할 다른 인스턴스를 각각 매개변수로 전달받아 거리를 계산한다. 인스턴스를 새로 생성하여 메서드를 테스트 해 보아라."
      ]
    },
    {
      "cell_type": "code",
      "metadata": {
        "colab": {
          "base_uri": "https://localhost:8080/"
        },
        "id": "AuIm4Yt9ruNH",
        "outputId": "bd9c142e-898b-411e-f6fa-17719b0098be"
      },
      "source": [
        "import math\n",
        "def square(x):\n",
        "    return x*x\n",
        "\n",
        "class Coordinate:\n",
        "\n",
        "    def distance(self, other):\n",
        "        return math.sqrt(square(self.x-other.x)+square(self.y-other.y))\n",
        "\n",
        "point_1 = Coordinate()\n",
        "point_2 = Coordinate()\n",
        "point_1.x, point_1.y = 1, 2\n",
        "point_2.x, point_2.y = 4, 6\n",
        "\n",
        "print(Coordinate.distance(point_1, point_2))"
      ],
      "execution_count": 17,
      "outputs": [
        {
          "output_type": "stream",
          "text": [
            "5.0\n"
          ],
          "name": "stdout"
        }
      ]
    },
    {
      "cell_type": "markdown",
      "metadata": {
        "id": "NHG_eb1juUNc"
      },
      "source": [
        "#5주차 실습과제5\n",
        "Coordinate클래스를 새로 정의하여 인스턴스화 과정에서 속성x와 속성y를 초기화 할 수 있도록 해 보아라. 인스턴스화 할 때 초기값이 전달되지 않을 경우에는 기본값을 0으로 초기화 하도록 해라."
      ]
    },
    {
      "cell_type": "code",
      "metadata": {
        "id": "2zgJk3jbulXN"
      },
      "source": [
        "class Coordinate:\n",
        "\n",
        "    def __init__(self, x=0, y=0):\n",
        "        self.x=x\n",
        "        self.y=y"
      ],
      "execution_count": 18,
      "outputs": []
    },
    {
      "cell_type": "markdown",
      "metadata": {
        "id": "GiZFssK_u0YI"
      },
      "source": [
        "#5주차 실습과제6\n",
        "다음과 같이 구동되는 4칙연산이 가능한 클래스를 만들어보자.\n",
        "\n",
        "실행 예)  \n",
        "\\>>>a = Fourcal() #객체 만들기\n",
        "\\>>>a.setdata(4,2) #4와 2라는 숫자를 대입\n",
        "\\>>>a.add() #4칙연산이 모두 가능하도록"
      ]
    },
    {
      "cell_type": "code",
      "metadata": {
        "colab": {
          "base_uri": "https://localhost:8080/"
        },
        "id": "7n9O2sogvPrA",
        "outputId": "e47d4e6e-5996-4f67-9942-4777eaea02db"
      },
      "source": [
        "class FourCal:\n",
        "    x=0\n",
        "    y=0\n",
        "\n",
        "    def setdata(self, x, y):\n",
        "        self.x=x\n",
        "        self.y=y\n",
        "\n",
        "    def add(self):\n",
        "        return self.x+self.y\n",
        "    \n",
        "    def sub(self):\n",
        "        return self.x-self.y\n",
        "\n",
        "    def mul(self):\n",
        "        return self.x*self.y\n",
        "\n",
        "    def div(self):\n",
        "        return self.x/self.y\n",
        "\n",
        "a = FourCal()\n",
        "a.setdata(4,2)\n",
        "print(a.add(), a.sub(), a.mul(), a.div())"
      ],
      "execution_count": 22,
      "outputs": [
        {
          "output_type": "stream",
          "text": [
            "6 2 8 2.0\n"
          ],
          "name": "stdout"
        }
      ]
    },
    {
      "cell_type": "markdown",
      "metadata": {
        "id": "pnjlJPySwfP2"
      },
      "source": [
        "#5주차 실습과제7\n",
        "직사각형을 밑면으로 갖는 사각 기둥의 부피를 계산하기 위한 클래스를 만든다. 이 클래스는 다음과 같은 속성을 가진다.  \n",
        "밑면의 가로 길이 a, 밑면의 세로 길이 b, 높이 h  \n",
        "부피를 계산하는 메서드 volume  \n",
        "겉넓이를 계산하는 메서드 surface  \n",
        "가로, 세로, 높이를 몇 가지 예로 부피와 겉넓이를 계산해 보아라."
      ]
    },
    {
      "cell_type": "code",
      "metadata": {
        "colab": {
          "base_uri": "https://localhost:8080/"
        },
        "id": "HxDRn6DUw4n0",
        "outputId": "dd4de8e3-b526-4b7e-c010-3743399cba69"
      },
      "source": [
        "class Rectangle:\n",
        "\n",
        "    def __init__(self, a, b, h):\n",
        "        self.a=a\n",
        "        self.b=b\n",
        "        self.h=h\n",
        "\n",
        "    def volume(self):\n",
        "        return self.a * self.b * self.h\n",
        "\n",
        "    def surface(self):\n",
        "        return (self.a * self.b * 2) + (self.b * self.h * 2) + (self.h * self.a * 2)\n",
        "\n",
        "ex_1 = Rectangle(1,2,3)\n",
        "print(ex_1.volume(), ex_1.surface())\n",
        "ex_2 = Rectangle(4,5,6)\n",
        "print(ex_2.volume(), ex_2.surface())"
      ],
      "execution_count": 24,
      "outputs": [
        {
          "output_type": "stream",
          "text": [
            "6 22\n",
            "120 148\n"
          ],
          "name": "stdout"
        }
      ]
    },
    {
      "cell_type": "markdown",
      "metadata": {
        "id": "vrbPM2zNyPQb"
      },
      "source": [
        "#5주차 실습과제8\n",
        "다음 요구사항을 참고해 도형(Shape), 삼각형(Triangle), 사각형(Rectangle)을 나타내는 클래스를 정의하여라.  \n",
        "- Shape : 도형을 나타내는 클래스  \n",
        "  - 클래스 메서드 discribe() : \"이 도형은 3개의 변을 갖고 있습니다.\" 와 같이 이 도형의 특징을 화면에 출력한다. 변의 개수는 self.sides 속성을 읽어 구한다.\n",
        "- Triangle : 삼각형을 나타내는 클래스. Shape 클래스를 상속\n",
        "  - 클래스 속성 sides : 변의 개수를 나타내는 속성. 3으로 고정\n",
        "- Rectangle : 사각형을 나타내는 클래스. Shape 클래스를 상속\n",
        "  - 클래스 속성 sides : 변의 개수를 나타내는 속성. 4로 고정\n",
        "\n",
        "클래스를 정의한 후에는 프로그램 하단에 도형의 인스턴스를 만들어 특징을 출력하는 다음 코드를 삽입하여라.\n",
        "\n",
        "shapes = [Triangle(), Rectangle()]\n",
        "\n",
        "for shape in shapes:  \n",
        "    shape.describe()\n",
        "\n",
        "프로그램을 실행한 결과는 다음과 같아야 한다.\n",
        "\n",
        "이 도형은 3개의 변을 갖고 있습니다.  \n",
        "이 도형은 4개의 변을 갖고 있습니다."
      ]
    },
    {
      "cell_type": "code",
      "metadata": {
        "colab": {
          "base_uri": "https://localhost:8080/"
        },
        "id": "BKqTLDOCzw9T",
        "outputId": "765a32b9-9fb8-4652-dccb-f0f2a9a9342b"
      },
      "source": [
        "class Shape:\n",
        "    sides=0\n",
        "\n",
        "    def describe(self):\n",
        "        print(\"이 도형은 {}개의 변을 갖고 있습니다.\" .format(self.sides))\n",
        "\n",
        "class Triangle(Shape):\n",
        "    sides=3\n",
        "\n",
        "class Rectangle(Shape):\n",
        "    sides=4\n",
        "\n",
        "shapes = [Triangle(), Rectangle()]\n",
        "for shape in shapes:\n",
        "    shape.describe()"
      ],
      "execution_count": 25,
      "outputs": [
        {
          "output_type": "stream",
          "text": [
            "이 도형은 3개의 변을 갖고 있습니다.\n",
            "이 도형은 4개의 변을 갖고 있습니다.\n"
          ],
          "name": "stdout"
        }
      ]
    },
    {
      "cell_type": "markdown",
      "metadata": {
        "id": "qlwOoGSW03F-"
      },
      "source": [
        "#5주차 실습과제9\n",
        "아래 사항을 참고해 5주차 실습과제8에서 정의한 도형클래스에 도형의 각 좌표 속성과 둘레 계산 메서드를 추가하여라. 이 때, Coordinate 클래스는 5주차 실습과제5에서 정의한 것을 활용하도록 한다.\n",
        "\n",
        "- Triangle 클래스에 추가할 속성  \n",
        "클래스 메서드 circumference() : 이 삼각형의 둘레를 계산하여 반환한다.  \n",
        "  - 인스턴스 속성 point_a : 꼭짓점 A의 좌표(Coordinate 유형)  \n",
        "  - 인스턴스 속성 point_b: 꼭짓점 B의 좌표(Coordinate 유형)  \n",
        "  - 인스턴스 속성 point_c : 꼭짓점 C의 좌표(Coordinate 유형)\n",
        "\n",
        "- Rectangle 클래스에 추가할 속성  \n",
        "클래스 메서드 circumference() : 이 사각형의 둘레를 계산하여 반환한다.  \n",
        "  - 인스턴스 속성 point_a : 꼭짓점 A의 좌표(Coordinate 유형)  \n",
        "  - 인스턴스 속성 point_b: 꼭짓점 B의 좌표(Coordinate 유형)  \n",
        "  - 인스턴스 속성 point_c : 꼭짓점 C의 좌표(Coordinate 유형)  \n",
        "  - 인스턴스 속성 point_d : 꼭짓점 D의 좌표(Coordinate 유형)\n",
        "\n",
        "클래스를 정의한 후에는 프로그램 하단에 도형의 인스턴스를 만들어 특징과 둘레를 출력하는 다음 코드를 삽입하여라.\n",
        "\n",
        "shapes = [  \n",
        "    Triangle(Coordinate(0,0), Coordinate(3,0), Coordinate(3,4),  \n",
        "    Rectangle(Coordinate(2,2), Coordinate(6,2), Coordinate(6,6), Coordinate(2,6)  \n",
        "]\n",
        "\n",
        "for shape in shapes:  \n",
        "    shape.describe()  \n",
        "    print('둘레:', shape.circumference())  \n",
        "프로그램을 실행한 결과는 다음과 같아야 한다.\n",
        "\n",
        "이 도형은 3개의 변을 갖고 있습니다.  \n",
        "둘레 : 12.0  \n",
        "이 도형은 4개의 변을 갖고 있습니다.  \n",
        "둘레 : 16.0\n",
        "\n",
        "\n",
        "힌트 : Coordinate클래스의 거리 계산 메서드 distance()를 활용하라.  \n",
        "힌트 : 인스턴스의 속성은 초기화 메서드 \\_\\_init\\_\\_()를 이용해 정의하라."
      ]
    },
    {
      "cell_type": "code",
      "metadata": {
        "id": "9zsEOlYx8st7"
      },
      "source": [
        "class Triangle(Shape):\n",
        "    sides=3\n",
        "\n",
        "    def __init__(self, point_a, point_b, point_c)\n",
        "    x_1=self.point_a.x\n",
        "    x_2=self.point_b.x\n",
        "    x_3=self.point_c.x\n",
        "    y_1=self.point_a.y\n",
        "    y_2=self.point_b.y\n",
        "    y_3=self.point_c.y\n",
        "\n",
        "    def circumference(self):\n",
        "\n",
        "class Rectangle(Shape):\n",
        "    sides=4\n",
        "\n",
        "    def __init__(self, point_a, point_b, point_c, point_d)\n",
        "    x_1=self.point_a.x\n",
        "    x_2=self.point_b.x\n",
        "    x_3=self.point_c.x\n",
        "    x_4=self.point_d.x\n",
        "    y_1=self.point_a.y\n",
        "    y_2=self.point_b.y\n",
        "    y_3=self.point_c.y\n",
        "    y_4=self.point_d.y"
      ],
      "execution_count": null,
      "outputs": []
    }
  ]
}