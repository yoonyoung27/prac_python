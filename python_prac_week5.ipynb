{
  "nbformat": 4,
  "nbformat_minor": 0,
  "metadata": {
    "colab": {
      "name": "python_prac_week5.ipynb",
      "provenance": [],
      "authorship_tag": "ABX9TyOd1yYjfOlVQ6Odk7mjWw0Z",
      "include_colab_link": true
    },
    "kernelspec": {
      "name": "python3",
      "display_name": "Python 3"
    },
    "language_info": {
      "name": "python"
    }
  },
  "cells": [
    {
      "cell_type": "markdown",
      "metadata": {
        "id": "view-in-github",
        "colab_type": "text"
      },
      "source": [
        "<a href=\"https://colab.research.google.com/github/yoonyoung27/prac_python/blob/main/python_prac_week5.ipynb\" target=\"_parent\"><img src=\"https://colab.research.google.com/assets/colab-badge.svg\" alt=\"Open In Colab\"/></a>"
      ]
    },
    {
      "cell_type": "markdown",
      "metadata": {
        "id": "MGEW8iLWkaUe"
      },
      "source": [
        "#5주차 실습과제1\n",
        "좌표를 나타내는 클래스 Coordinate를 정의해 보아라. 이 클래스의 속성으로 x와 y를 정의하라. 두 속성의 값은 0으로 정의해 두면 된다."
      ]
    },
    {
      "cell_type": "code",
      "metadata": {
        "colab": {
          "base_uri": "https://localhost:8080/"
        },
        "id": "OzbVh2EfkDfT",
        "outputId": "f9b96682-b72c-4e2e-e0e6-3c354743a257"
      },
      "source": [
        "class Coordinate:\n",
        "    x=0\n",
        "    y=0\n",
        "\n",
        "print(\"({},{})\".format(Coordinate.x, Coordinate.y))"
      ],
      "execution_count": 7,
      "outputs": [
        {
          "output_type": "stream",
          "text": [
            "(0,0)\n"
          ],
          "name": "stdout"
        }
      ]
    },
    {
      "cell_type": "markdown",
      "metadata": {
        "id": "OWuVRZyvmToi"
      },
      "source": [
        "#5주차 실습과제2\n",
        "앞에서 정의한 Coordinate()클래스의 인스턴스를 두개 생성하고, 인스턴스의 속성을 다음과 같이 각각 부여해라.\n",
        "\n",
        "첫번째 인스턴스(point_1):x축의 좌표는 -1, y축의 좌표는 2  \n",
        "두번째 인스턴스(point_2):x축의 좌표는 2, y축의 좌표는 3"
      ]
    },
    {
      "cell_type": "code",
      "metadata": {
        "colab": {
          "base_uri": "https://localhost:8080/"
        },
        "id": "Ob9KxATRmp_J",
        "outputId": "d77c4517-0a2b-4720-ef6f-121086675e2d"
      },
      "source": [
        "point_1 = Coordinate()\n",
        "point_2 = Coordinate()\n",
        "\n",
        "point_1.x, point_1.y = -1, 2\n",
        "point_2.x, point_2.y = 2, 3\n",
        "\n",
        "print(\"({},{})\".format(point_1.x, point_1.y))\n",
        "print(\"({},{})\".format(point_2.x, point_2.y))"
      ],
      "execution_count": 4,
      "outputs": [
        {
          "output_type": "stream",
          "text": [
            "(-1,2)\n",
            "(2,3)\n"
          ],
          "name": "stdout"
        }
      ]
    },
    {
      "cell_type": "markdown",
      "metadata": {
        "id": "hV53lx-PnGEX"
      },
      "source": [
        "#5주차 실습과제3\n",
        "5주차 실습과제2에서 생성한 두 인스턴스의 거리를 계산하려 한다. Coordinate 인스턴스 두 개를 전달받아 거리를 계산하는 함수 distance()를 정의하라."
      ]
    },
    {
      "cell_type": "code",
      "metadata": {
        "colab": {
          "base_uri": "https://localhost:8080/"
        },
        "id": "UTb1VY6BnpiP",
        "outputId": "380ad588-748b-4650-f618-af9655e7c05f"
      },
      "source": [
        "import math\n",
        "\n",
        "def square(x):\n",
        "    return x*x\n",
        "\n",
        "def distance(a, b):\n",
        "    return math.sqrt(square(a.x-b.x)+square(a.y-b.y))\n",
        "\n",
        "distance(point_1, point_2)"
      ],
      "execution_count": 8,
      "outputs": [
        {
          "output_type": "execute_result",
          "data": {
            "text/plain": [
              "3.1622776601683795"
            ]
          },
          "metadata": {
            "tags": []
          },
          "execution_count": 8
        }
      ]
    },
    {
      "cell_type": "markdown",
      "metadata": {
        "id": "Dl1mr3uJrQgJ"
      },
      "source": [
        "#5주차 실습과제4\n",
        "앞서 정의한 Coordinate클래스를 새로 정의하여 두 좌표 사이의 거리를 계산해 반환하는 메서드 distance()를 정의해라. 이 메서드는 메서드 호출의 기준이 된 인스턴스와 거리를 계산할 다른 인스턴스를 각각 매개변수로 전달받아 거리를 계산한다. 인스턴스를 새로 생성하여 메서드를 테스트 해 보아라."
      ]
    },
    {
      "cell_type": "code",
      "metadata": {
        "colab": {
          "base_uri": "https://localhost:8080/"
        },
        "id": "AuIm4Yt9ruNH",
        "outputId": "5297972b-e081-4725-b1fb-efcd584cfe42"
      },
      "source": [
        "import math\n",
        "def square(x):\n",
        "    return x*x\n",
        "\n",
        "class Coordinate:\n",
        "\n",
        "    def distance(self, other):\n",
        "        return math.sqrt(square(self.x-other.x)+square(self.y-other.y))\n",
        "\n",
        "point_1 = Coordinate()\n",
        "point_2 = Coordinate()\n",
        "point_1.x, point_1.y = 1, 2\n",
        "point_2.x, point_2.y = 4, 6\n",
        "\n",
        "print(Coordinate.distance(point_1, point_2))"
      ],
      "execution_count": 26,
      "outputs": [
        {
          "output_type": "stream",
          "text": [
            "5.0\n"
          ],
          "name": "stdout"
        }
      ]
    },
    {
      "cell_type": "markdown",
      "metadata": {
        "id": "NHG_eb1juUNc"
      },
      "source": [
        "#5주차 실습과제5\n",
        "Coordinate클래스를 새로 정의하여 인스턴스화 과정에서 속성x와 속성y를 초기화 할 수 있도록 해 보아라. 인스턴스화 할 때 초기값이 전달되지 않을 경우에는 기본값을 0으로 초기화 하도록 해라."
      ]
    },
    {
      "cell_type": "code",
      "metadata": {
        "id": "2zgJk3jbulXN"
      },
      "source": [
        "class Coordinate:\n",
        "\n",
        "    def __init__(self, x=0, y=0):\n",
        "        self.x=x\n",
        "        self.y=y\n",
        "\n",
        "    def distance(self, other):\n",
        "        return math.sqrt(square(self.x-other.x)+square(self.y-other.y))"
      ],
      "execution_count": 29,
      "outputs": []
    },
    {
      "cell_type": "markdown",
      "metadata": {
        "id": "GiZFssK_u0YI"
      },
      "source": [
        "#5주차 실습과제6\n",
        "다음과 같이 구동되는 4칙연산이 가능한 클래스를 만들어보자.\n",
        "\n",
        "실행 예)  \n",
        "\\>>>a = Fourcal() #객체 만들기\n",
        "\\>>>a.setdata(4,2) #4와 2라는 숫자를 대입\n",
        "\\>>>a.add() #4칙연산이 모두 가능하도록"
      ]
    },
    {
      "cell_type": "code",
      "metadata": {
        "colab": {
          "base_uri": "https://localhost:8080/"
        },
        "id": "7n9O2sogvPrA",
        "outputId": "e47d4e6e-5996-4f67-9942-4777eaea02db"
      },
      "source": [
        "class FourCal:\n",
        "    x=0\n",
        "    y=0\n",
        "\n",
        "    def setdata(self, x, y):\n",
        "        self.x=x\n",
        "        self.y=y\n",
        "\n",
        "    def add(self):\n",
        "        return self.x+self.y\n",
        "    \n",
        "    def sub(self):\n",
        "        return self.x-self.y\n",
        "\n",
        "    def mul(self):\n",
        "        return self.x*self.y\n",
        "\n",
        "    def div(self):\n",
        "        return self.x/self.y\n",
        "\n",
        "a = FourCal()\n",
        "a.setdata(4,2)\n",
        "print(a.add(), a.sub(), a.mul(), a.div())"
      ],
      "execution_count": 22,
      "outputs": [
        {
          "output_type": "stream",
          "text": [
            "6 2 8 2.0\n"
          ],
          "name": "stdout"
        }
      ]
    },
    {
      "cell_type": "markdown",
      "metadata": {
        "id": "pnjlJPySwfP2"
      },
      "source": [
        "#5주차 실습과제7\n",
        "직사각형을 밑면으로 갖는 사각 기둥의 부피를 계산하기 위한 클래스를 만든다. 이 클래스는 다음과 같은 속성을 가진다.  \n",
        "밑면의 가로 길이 a, 밑면의 세로 길이 b, 높이 h  \n",
        "부피를 계산하는 메서드 volume  \n",
        "겉넓이를 계산하는 메서드 surface  \n",
        "가로, 세로, 높이를 몇 가지 예로 부피와 겉넓이를 계산해 보아라."
      ]
    },
    {
      "cell_type": "code",
      "metadata": {
        "colab": {
          "base_uri": "https://localhost:8080/"
        },
        "id": "HxDRn6DUw4n0",
        "outputId": "dd4de8e3-b526-4b7e-c010-3743399cba69"
      },
      "source": [
        "class Rectangle:\n",
        "\n",
        "    def __init__(self, a, b, h):\n",
        "        self.a=a\n",
        "        self.b=b\n",
        "        self.h=h\n",
        "\n",
        "    def volume(self):\n",
        "        return self.a * self.b * self.h\n",
        "\n",
        "    def surface(self):\n",
        "        return (self.a * self.b * 2) + (self.b * self.h * 2) + (self.h * self.a * 2)\n",
        "\n",
        "ex_1 = Rectangle(1,2,3)\n",
        "print(ex_1.volume(), ex_1.surface())\n",
        "ex_2 = Rectangle(4,5,6)\n",
        "print(ex_2.volume(), ex_2.surface())"
      ],
      "execution_count": 24,
      "outputs": [
        {
          "output_type": "stream",
          "text": [
            "6 22\n",
            "120 148\n"
          ],
          "name": "stdout"
        }
      ]
    },
    {
      "cell_type": "markdown",
      "metadata": {
        "id": "vrbPM2zNyPQb"
      },
      "source": [
        "#5주차 실습과제8\n",
        "다음 요구사항을 참고해 도형(Shape), 삼각형(Triangle), 사각형(Rectangle)을 나타내는 클래스를 정의하여라.  \n",
        "- Shape : 도형을 나타내는 클래스  \n",
        "  - 클래스 메서드 discribe() : \"이 도형은 3개의 변을 갖고 있습니다.\" 와 같이 이 도형의 특징을 화면에 출력한다. 변의 개수는 self.sides 속성을 읽어 구한다.\n",
        "- Triangle : 삼각형을 나타내는 클래스. Shape 클래스를 상속\n",
        "  - 클래스 속성 sides : 변의 개수를 나타내는 속성. 3으로 고정\n",
        "- Rectangle : 사각형을 나타내는 클래스. Shape 클래스를 상속\n",
        "  - 클래스 속성 sides : 변의 개수를 나타내는 속성. 4로 고정\n",
        "\n",
        "클래스를 정의한 후에는 프로그램 하단에 도형의 인스턴스를 만들어 특징을 출력하는 다음 코드를 삽입하여라.\n",
        "\n",
        "shapes = [Triangle(), Rectangle()]\n",
        "\n",
        "for shape in shapes:  \n",
        "    shape.describe()\n",
        "\n",
        "프로그램을 실행한 결과는 다음과 같아야 한다.\n",
        "\n",
        "이 도형은 3개의 변을 갖고 있습니다.  \n",
        "이 도형은 4개의 변을 갖고 있습니다."
      ]
    },
    {
      "cell_type": "code",
      "metadata": {
        "colab": {
          "base_uri": "https://localhost:8080/"
        },
        "id": "BKqTLDOCzw9T",
        "outputId": "765a32b9-9fb8-4652-dccb-f0f2a9a9342b"
      },
      "source": [
        "class Shape:\n",
        "    sides=0\n",
        "\n",
        "    def describe(self):\n",
        "        print(\"이 도형은 {}개의 변을 갖고 있습니다.\" .format(self.sides))\n",
        "\n",
        "class Triangle(Shape):\n",
        "    sides=3\n",
        "\n",
        "class Rectangle(Shape):\n",
        "    sides=4\n",
        "\n",
        "shapes = [Triangle(), Rectangle()]\n",
        "for shape in shapes:\n",
        "    shape.describe()"
      ],
      "execution_count": 25,
      "outputs": [
        {
          "output_type": "stream",
          "text": [
            "이 도형은 3개의 변을 갖고 있습니다.\n",
            "이 도형은 4개의 변을 갖고 있습니다.\n"
          ],
          "name": "stdout"
        }
      ]
    },
    {
      "cell_type": "markdown",
      "metadata": {
        "id": "qlwOoGSW03F-"
      },
      "source": [
        "#5주차 실습과제9\n",
        "아래 사항을 참고해 5주차 실습과제8에서 정의한 도형클래스에 도형의 각 좌표 속성과 둘레 계산 메서드를 추가하여라. 이 때, Coordinate 클래스는 5주차 실습과제5에서 정의한 것을 활용하도록 한다.\n",
        "\n",
        "- Triangle 클래스에 추가할 속성  \n",
        "클래스 메서드 circumference() : 이 삼각형의 둘레를 계산하여 반환한다.  \n",
        "  - 인스턴스 속성 point_a : 꼭짓점 A의 좌표(Coordinate 유형)  \n",
        "  - 인스턴스 속성 point_b: 꼭짓점 B의 좌표(Coordinate 유형)  \n",
        "  - 인스턴스 속성 point_c : 꼭짓점 C의 좌표(Coordinate 유형)\n",
        "\n",
        "- Rectangle 클래스에 추가할 속성  \n",
        "클래스 메서드 circumference() : 이 사각형의 둘레를 계산하여 반환한다.  \n",
        "  - 인스턴스 속성 point_a : 꼭짓점 A의 좌표(Coordinate 유형)  \n",
        "  - 인스턴스 속성 point_b: 꼭짓점 B의 좌표(Coordinate 유형)  \n",
        "  - 인스턴스 속성 point_c : 꼭짓점 C의 좌표(Coordinate 유형)  \n",
        "  - 인스턴스 속성 point_d : 꼭짓점 D의 좌표(Coordinate 유형)\n",
        "\n",
        "클래스를 정의한 후에는 프로그램 하단에 도형의 인스턴스를 만들어 특징과 둘레를 출력하는 다음 코드를 삽입하여라.\n",
        "\n",
        "shapes = [  \n",
        "    Triangle(Coordinate(0,0), Coordinate(3,0), Coordinate(3,4)),  \n",
        "    Rectangle(Coordinate(2,2), Coordinate(6,2), Coordinate(6,6), Coordinate(2,6))  \n",
        "]\n",
        "\n",
        "for shape in shapes:  \n",
        "    shape.describe()  \n",
        "    print('둘레:', shape.circumference())  \n",
        "프로그램을 실행한 결과는 다음과 같아야 한다.\n",
        "\n",
        "이 도형은 3개의 변을 갖고 있습니다.  \n",
        "둘레 : 12.0  \n",
        "이 도형은 4개의 변을 갖고 있습니다.  \n",
        "둘레 : 16.0\n",
        "\n",
        "\n",
        "힌트 : Coordinate클래스의 거리 계산 메서드 distance()를 활용하라.  \n",
        "힌트 : 인스턴스의 속성은 초기화 메서드 \\_\\_init\\_\\_()를 이용해 정의하라."
      ]
    },
    {
      "cell_type": "code",
      "metadata": {
        "colab": {
          "base_uri": "https://localhost:8080/"
        },
        "id": "9zsEOlYx8st7",
        "outputId": "d963ab81-9652-46cd-d8c2-ca3e621492af"
      },
      "source": [
        "class Triangle(Shape):\n",
        "    sides=3\n",
        "\n",
        "    def __init__(self, point_a, point_b, point_c):\n",
        "        self.point_a=point_a\n",
        "        self.point_b=point_b\n",
        "        self.point_c=point_c\n",
        "\n",
        "    def circumference(self):\n",
        "        return Coordinate.distance(self.point_a, self.point_b) + Coordinate.distance(self.point_b, self.point_c) + Coordinate.distance(self.point_c, self.point_a)\n",
        "\n",
        "class Rectangle(Shape):\n",
        "    sides=4\n",
        "\n",
        "    def __init__(self, point_a, point_b, point_c, point_d):\n",
        "        self.point_a=point_a\n",
        "        self.point_b=point_b\n",
        "        self.point_c=point_c\n",
        "        self.point_d=point_d\n",
        "\n",
        "    def circumference(self):\n",
        "        return Coordinate.distance(self.point_a, self.point_b) + Coordinate.distance(self.point_b, self.point_c) + Coordinate.distance(self.point_c, self.point_d) + Coordinate.distance(self.point_d, self.point_a)\n",
        "\n",
        "shapes = [\n",
        "          Triangle(Coordinate(0,0), Coordinate(3,0), Coordinate(3,4)),\n",
        "          Rectangle(Coordinate(2,2), Coordinate(6,2), Coordinate(6,6), Coordinate(2,6)),\n",
        "          ]\n",
        "\n",
        "for shape in shapes:\n",
        "    shape.describe()\n",
        "    print('둘레:', shape.circumference())"
      ],
      "execution_count": 31,
      "outputs": [
        {
          "output_type": "stream",
          "text": [
            "이 도형은 3개의 변을 갖고 있습니다.\n",
            "둘레: 12.0\n",
            "이 도형은 4개의 변을 갖고 있습니다.\n",
            "둘레: 16.0\n"
          ],
          "name": "stdout"
        }
      ]
    },
    {
      "cell_type": "markdown",
      "metadata": {
        "id": "8zvNqS_yIhaM"
      },
      "source": [
        "#5주차 실습과제10\n",
        "다음음 Calculator클래스이다.  \n",
        "class Calculator:  \n",
        "def \\_\\_init\\_\\_(self):  \n",
        "    self.value = 0  \n",
        "\n",
        "def add(self, val):  \n",
        "    self.value += val  \n",
        "위 클래스를 상속하는 UpgradeCalculator를 만들고 값을 뺄 수 있는 minus 메서드를 추가하시오. 즉, 다음과 같이 동작하는 클래스를 만드시오.  \n",
        "cal = UpgradeCalculator()  \n",
        "cal.add(10)  \n",
        "cal.minus(7)\n",
        "\n",
        "print(cal.value) # 10에서 7을 뺀 3을 출력"
      ]
    },
    {
      "cell_type": "code",
      "metadata": {
        "colab": {
          "base_uri": "https://localhost:8080/"
        },
        "id": "Kxr0rirTJcd6",
        "outputId": "bd180f84-43c4-4380-d4ba-2b375e682103"
      },
      "source": [
        "class Calculator:\n",
        "    \n",
        "    def __init__(self):\n",
        "        self.value = 0\n",
        "\n",
        "    def add(self, val):\n",
        "        self.value += val\n",
        "\n",
        "class UpgrageCalculator(Calculator):\n",
        "\n",
        "    def minus(self, val):\n",
        "        self.value -= val\n",
        "\n",
        "cal = UpgrageCalculator()\n",
        "cal.add(10)\n",
        "cal.minus(7)\n",
        "\n",
        "print(cal.value)"
      ],
      "execution_count": 34,
      "outputs": [
        {
          "output_type": "stream",
          "text": [
            "3\n"
          ],
          "name": "stdout"
        }
      ]
    },
    {
      "cell_type": "markdown",
      "metadata": {
        "id": "Crs3pesmKVOf"
      },
      "source": [
        "#5주차 실습과제11\n",
        "5주차 실습과제10의 Calculator 클래스를 상속하는  MaxLimitCalculator 클래스를 작성하여라. MaxLimitCalculator 클래스는 객체변수 value가 100이상의 값은 가질 수 없도록 제한하는 클래스이다. 즉, 다음과 같이 동작해야 한다.\n",
        "\n",
        "cal = MaxLimitCalculator()  \n",
        "cal.add(50)  \n",
        "cal.add(60)\n",
        "\n",
        "print(cal.value) # 100출력"
      ]
    },
    {
      "cell_type": "code",
      "metadata": {
        "colab": {
          "base_uri": "https://localhost:8080/"
        },
        "id": "V3ZcY31aLVRy",
        "outputId": "232636fc-44fa-4420-b5d5-4477361a2d70"
      },
      "source": [
        "class MaxLimitCalculator(Calculator):\n",
        "    \n",
        "    def add(self, val):\n",
        "        self.value += val\n",
        "        if self.value >= 100:\n",
        "            self.value = 100\n",
        "\n",
        "cal = MaxLimitCalculator()\n",
        "cal.add(50)\n",
        "cal.add(60)\n",
        "\n",
        "print(cal.value)"
      ],
      "execution_count": 38,
      "outputs": [
        {
          "output_type": "stream",
          "text": [
            "100\n"
          ],
          "name": "stdout"
        }
      ]
    },
    {
      "cell_type": "markdown",
      "metadata": {
        "id": "-IbkDUnEMlQD"
      },
      "source": [
        "#5주차 실습과제12\n",
        "다음과 같이 자동차를 나타내는 Car 클래스를 구현한다.  \n",
        "- 이 클래스는 최고 속도를 의미하는 max_speed라는 속성과 현재 속도를 나타내는 speed라는 속성을 가진다. 처음 max_speed 속성은 160이 되고 speed 속성은 0이 된다.\n",
        "- speed_up, speed_down이라는 메서드를 가진다. speed_up을 호출하면 speed 속성이 20씩 증가하고 speed_down을 호출하면 speed 속성이 20씩 감소한다.\n",
        "- 스피트 속성 speed의 값은 max_speed속성 값, 즉 160을 넘을 수 없다. 또 0 미만으로 감소할 수도 없다.\n",
        "- 메서드는 호출 시 속도 정보를 출력하고 명시적인 반환값을 가지지 않는다."
      ]
    },
    {
      "cell_type": "code",
      "metadata": {
        "colab": {
          "base_uri": "https://localhost:8080/"
        },
        "id": "AdU42IFGMk9v",
        "outputId": "e8279886-8289-4d24-acd3-5363341122aa"
      },
      "source": [
        "class Car:\n",
        "    max_speed=160\n",
        "    speed=0\n",
        "    gap=20\n",
        "\n",
        "    def speed_up(self):\n",
        "        self.speed+=self.gap\n",
        "        if self.speed<=self.max_speed:\n",
        "            print('speed : ', self.speed)\n",
        "        else:\n",
        "            self.speed=self.max_speed\n",
        "            print('speed : {} (speed는 {} 위로 올라갈 수 없습니다.)' .format(self.max_speed, self.max_speed))\n",
        "\n",
        "    def speed_down(self):\n",
        "        self.speed-=self.gap\n",
        "        if self.speed>=0:\n",
        "            print('speed : ', self.speed)\n",
        "        else:\n",
        "            self.speed=0\n",
        "            print('speed : 0 (speed는 0 아래로 내려갈 수 없습니다.)')\n",
        "\n",
        "car_ex = Car()\n",
        "print('speed : ', car_ex.speed)\n",
        "car_ex.speed_up()\n",
        "car_ex.speed_up()\n",
        "car_ex.speed_up()\n",
        "car_ex.speed_up()\n",
        "car_ex.speed_up()\n",
        "car_ex.speed_up()\n",
        "car_ex.speed_up()\n",
        "car_ex.speed_up()\n",
        "car_ex.speed_up()\n",
        "print('speed : ', car_ex.speed)\n",
        "car_ex.speed_down()\n",
        "car_ex.speed_down()\n",
        "car_ex.speed_down()\n",
        "car_ex.speed_down()\n",
        "car_ex.speed_down()\n",
        "car_ex.speed_down()\n",
        "car_ex.speed_down()\n",
        "car_ex.speed_down()\n",
        "car_ex.speed_down()\n",
        "print('speed : ', car_ex.speed)"
      ],
      "execution_count": 64,
      "outputs": [
        {
          "output_type": "stream",
          "text": [
            "speed :  0\n",
            "speed :  20\n",
            "speed :  40\n",
            "speed :  60\n",
            "speed :  80\n",
            "speed :  100\n",
            "speed :  120\n",
            "speed :  140\n",
            "speed :  160\n",
            "speed : 160 (speed는 160 위로 올라갈 수 없습니다.)\n",
            "speed :  160\n",
            "speed :  140\n",
            "speed :  120\n",
            "speed :  100\n",
            "speed :  80\n",
            "speed :  60\n",
            "speed :  40\n",
            "speed :  20\n",
            "speed :  0\n",
            "speed : 0 (speed는 0 아래로 내려갈 수 없습니다.)\n",
            "speed :  0\n"
          ],
          "name": "stdout"
        }
      ]
    },
    {
      "cell_type": "markdown",
      "metadata": {
        "id": "zXKZ9XWzPb3C"
      },
      "source": [
        "#5주차 실습과제13\n",
        "Car 클래스를 기반으로 SportCar라는 자식 클래스를 구현한다.  \n",
        "- SportCar 클래스는 max_speed 속성이 200이고 speed_up, speed_down 호출씩 속도가 45씩 증가 혹은 감소한다.\n",
        "- 스피드 속성 speed의 값은 max_speed 속성 값을 넘을 수 없다. 또 0 미만으로 감소할 수도 없다.\n",
        "- 메서드 호출 시 속도 정보를 명시하고 명시적인 반환값을 가지지 않는다."
      ]
    },
    {
      "cell_type": "code",
      "metadata": {
        "colab": {
          "base_uri": "https://localhost:8080/"
        },
        "id": "q-JSPV7sP4fC",
        "outputId": "6f924fd4-5be2-491d-d344-770a017c3fa7"
      },
      "source": [
        "class SportCar(Car):\n",
        "    max_speed=200\n",
        "    gap=45\n",
        "\n",
        "car_ex = SportCar()\n",
        "print('speed : ', car_ex.speed)\n",
        "car_ex.speed_up()\n",
        "car_ex.speed_up()\n",
        "car_ex.speed_up()\n",
        "car_ex.speed_up()\n",
        "car_ex.speed_up()\n",
        "print('speed : ', car_ex.speed)\n",
        "car_ex.speed_down()\n",
        "car_ex.speed_down()\n",
        "car_ex.speed_down()\n",
        "car_ex.speed_down()\n",
        "car_ex.speed_down()\n",
        "print('speed : ', car_ex.speed)"
      ],
      "execution_count": 61,
      "outputs": [
        {
          "output_type": "stream",
          "text": [
            "speed :  0\n",
            "speed :  45\n",
            "speed :  90\n",
            "speed :  135\n",
            "speed :  180\n",
            "speed : 200 (speed는 200 위로 올라갈 수 없습니다.)\n",
            "speed :  200\n",
            "speed :  155\n",
            "speed :  110\n",
            "speed :  65\n",
            "speed :  20\n",
            "speed : 0 (speed는 0 아래로 내려갈 수 없습니다.)\n",
            "speed :  0\n"
          ],
          "name": "stdout"
        }
      ]
    },
    {
      "cell_type": "markdown",
      "metadata": {
        "id": "ibUM51w8RMHi"
      },
      "source": [
        "#5주차 실습과제14\n",
        "다음 조건에 맞춰 주사위를 나타내는 클래스 Dice를 정의하여라.  \n",
        "- 각 주사위 객체마다 면의 수가 다르다. 예를 들어 육면체 주사위는 6개의 면을 갖는다. 이 '면의 수'를 비공개 인스턴스 속성으로 정의하여라.\n",
        "- 각 주사위 객체는 항상 어느 한 면이 위를 향하고 있으며, 그 면을 1과 '면의 수' 사이의 자연수 이다. 이 '나온 면'을 비공개 인스턴스 속성으로 정의하여라.\n",
        "- 주사위 인스턴스는 Dice(sides)와 같이 하나의 인자를 전달하여 생성한다. 인스턴스화 과정에서 '면의 수'는 sides가 전달받는 값으로, '나온 면'은 자신이 가질 수 있는 임의의 값으로 초기화 된다.\n",
        "- 인스턴스 현재 '나온 면'을 반환하는 top() 메서드를 정의하라.\n",
        "- 인스턴스의 '나온 면'을 새 임의의 값으로 설정하고 반환하는 roll() 메서드를 정의하라.\n",
        "\n",
        "힌트 : n이상 m이하의 임의의 수는 random.randint(n,m)함수를 사용하여 구한다. 예를 들어 1이상 8이하의 임의의 수는 random.randint(1,8)이다. 이 함수를 사용하려면 먼저 random 모듈을 임포트 해야 한다.\n",
        "\n",
        "클래스를 정의한 후, 프로그램 하단에 다음 코드를 삽입해 테스트 해 보아라.\n",
        "\n",
        "dice_4=Dice(4)  \n",
        "print('사면체 주사위 테스트 ----')  \n",
        "print('처음 나온 면 : ', dice_4.top())  \n",
        "print('다시 굴리기 : ', dice_4.roll())  \n",
        "print('다시 굴리기 : ', dice_4.roll())\n",
        "\n",
        "dice_100=Dice(100)\n",
        "print('백면체 주사위 테스트 ----')  \n",
        "print('처음 나온 면 : ', dice_100.top())  \n",
        "print('다시 굴리기 : ', dice_100.roll())  \n",
        "print('다시 굴리기 : ', dice_100.roll())"
      ]
    },
    {
      "cell_type": "code",
      "metadata": {
        "colab": {
          "base_uri": "https://localhost:8080/"
        },
        "id": "7YfxTSwURL1e",
        "outputId": "a4f89fbd-d730-4cfb-aab2-dc048dcefb04"
      },
      "source": [
        "import random\n",
        "class Dice:\n",
        "\n",
        "    def __init__(self, sides):\n",
        "        self._num_sides = sides\n",
        "        self._top_sides = random.randint(1, self._num_sides)\n",
        "\n",
        "    def top(self):\n",
        "        return self._top_sides\n",
        "\n",
        "    def roll(self):\n",
        "        self._top_sides = random.randint(1, self._num_sides)\n",
        "        return self._top_sides\n",
        "\n",
        "dice_4=Dice(4)\n",
        "print('사면체 주사위 테스트 ----')\n",
        "print('처음 나온 면 : ', dice_4.top())\n",
        "print('다시 굴리기 : ', dice_4.roll())\n",
        "print('다시 굴리기 : ', dice_4.roll())\n",
        "dice_100=Dice(100)\n",
        "print('사면체 주사위 테스트 ----')\n",
        "print('처음 나온 면 : ', dice_100.top())\n",
        "print('다시 굴리기 : ', dice_100.roll())\n",
        "print('다시 굴리기 : ', dice_100.roll())"
      ],
      "execution_count": 83,
      "outputs": [
        {
          "output_type": "stream",
          "text": [
            "사면체 주사위 테스트 ----\n",
            "처음 나온 면 :  1\n",
            "다시 굴리기 :  3\n",
            "다시 굴리기 :  1\n",
            "사면체 주사위 테스트 ----\n",
            "처음 나온 면 :  49\n",
            "다시 굴리기 :  63\n",
            "다시 굴리기 :  44\n"
          ],
          "name": "stdout"
        }
      ]
    },
    {
      "cell_type": "markdown",
      "metadata": {
        "id": "gMxKI7OkaovZ"
      },
      "source": [
        "#5주차 실습과제15\n",
        "수업 내용에 나온 Food 클래스에 크기 비교 연산을 추가해 보아라.\n",
        "- 맛이 좋으면 더 큰 것이고, 같은 맛이면 칼로리가 더 적은 것이 더 큰 것이다.\n",
        "- 맛과 같로리가 모두 같으면 두 음식의 크기가 같다."
      ]
    },
    {
      "cell_type": "code",
      "metadata": {
        "colab": {
          "base_uri": "https://localhost:8080/"
        },
        "id": "w64raeFkXRay",
        "outputId": "59d7f03f-0265-4a71-b5ef-d35ce6d6cdeb"
      },
      "source": [
        "class Food:\n",
        "    \"\"\"음식을 나타내는 클래스\"\"\"\n",
        "    def __init__(self, taste, calorie):\n",
        "        \"\"\"인스턴스를 초기화한다.\"\"\"\n",
        "        self._taste = taste\n",
        "        self._calorie = calorie\n",
        "    \n",
        "    def __str__(self):\n",
        "        \"\"\"이 음식을 표현하는 문자열을 반환한다.\"\"\"\n",
        "        return str(self._taste) + '만큼 맛있고, ' + str(self._calorie) + '만큼 든든한 음식'\n",
        "    \n",
        "    def __add__(self, other):\n",
        "        \"\"\"이 음식(self)과 다른 음식(other)을 더한\n",
        "        새 음식을 반환한다.\"\"\"\n",
        "        taste = self._taste + other._taste\n",
        "        calorie = self._calorie + other._calorie\n",
        "        return Food(taste, calorie)\n",
        "\n",
        "    def __lt__(self, other):\n",
        "        if self._taste < other._taste:\n",
        "            return True\n",
        "        elif self._taste == other._taste and self._calorie < other._calorie:\n",
        "            return True\n",
        "        else:\n",
        "            return False\n",
        "\n",
        "    def __ge__(self, other):\n",
        "        if self._taste >= other._taste:\n",
        "            return True\n",
        "        elif self._taste == other._taste and self._calorie >= other._calorie:\n",
        "            return True\n",
        "        else:\n",
        "            return False\n",
        "\n",
        "    def __eq__(self, other):\n",
        "        if self._taste == other._taste and self._calorie == other._calorie:\n",
        "            return True\n",
        "        else:\n",
        "            return False\n",
        "\n",
        "strawberry = Food(9,32)\n",
        "potato = Food(6,66)\n",
        "sweet_potato = Food(12,131)\n",
        "pizza = Food(13, 266)\n",
        "print('딸기 < 감자 : ', strawberry < potato)\n",
        "print('감자+감자 < 고구마 : ', potato+potato < sweet_potato)\n",
        "print('피자 >= 딸기 : ', pizza >= strawberry)\n",
        "print('피자 >= 피자 : ', pizza >= pizza)\n",
        "print('감자+딸기 < 피자 : ', potato+strawberry < pizza)\n",
        "print('딸기 = 딸기 : ', potato == potato)"
      ],
      "execution_count": 88,
      "outputs": [
        {
          "output_type": "stream",
          "text": [
            "딸기 < 감자 :  False\n",
            "감자+감자 < 고구마 :  False\n",
            "피자 >= 딸기 :  True\n",
            "피자 >= 피자 :  True\n",
            "감자+딸기 < 피자 :  False\n",
            "딸기 = 딸기 :  True\n"
          ],
          "name": "stdout"
        }
      ]
    }
  ]
}