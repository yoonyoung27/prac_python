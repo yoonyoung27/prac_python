{
  "nbformat": 4,
  "nbformat_minor": 0,
  "metadata": {
    "colab": {
      "name": "Numpy.ipynb",
      "provenance": [],
      "toc_visible": true,
      "authorship_tag": "ABX9TyP0EVM0z963W5FJwtp7n4dB",
      "include_colab_link": true
    },
    "kernelspec": {
      "name": "python3",
      "display_name": "Python 3"
    },
    "language_info": {
      "name": "python"
    }
  },
  "cells": [
    {
      "cell_type": "markdown",
      "metadata": {
        "id": "view-in-github",
        "colab_type": "text"
      },
      "source": [
        "<a href=\"https://colab.research.google.com/github/yoonyoung27/prac_python/blob/main/Numpy.ipynb\" target=\"_parent\"><img src=\"https://colab.research.google.com/assets/colab-badge.svg\" alt=\"Open In Colab\"/></a>"
      ]
    },
    {
      "cell_type": "markdown",
      "metadata": {
        "id": "8IODrw33v2Ht"
      },
      "source": [
        "#Numpy Library\n",
        "https://numpy.org/doc/stable/user/index.html"
      ]
    },
    {
      "cell_type": "code",
      "metadata": {
        "id": "6Ejtk1Nav3J0"
      },
      "source": [
        "import numpy as np"
      ],
      "execution_count": 1,
      "outputs": []
    },
    {
      "cell_type": "markdown",
      "metadata": {
        "id": "cSzPblDAv7Gu"
      },
      "source": [
        "###①벡터"
      ]
    },
    {
      "cell_type": "code",
      "metadata": {
        "colab": {
          "base_uri": "https://localhost:8080/"
        },
        "id": "lHNOPcoFv62f",
        "outputId": "6359a2a8-a477-42d4-cf0a-c144639d8735"
      },
      "source": [
        "print(np.array([1,2,3]),\n",
        "      np.arange(10),\n",
        "      np.arange(5,10))"
      ],
      "execution_count": 2,
      "outputs": [
        {
          "output_type": "stream",
          "text": [
            "[1 2 3] [0 1 2 3 4 5 6 7 8 9] [5 6 7 8 9]\n"
          ],
          "name": "stdout"
        }
      ]
    },
    {
      "cell_type": "markdown",
      "metadata": {
        "id": "Df-k-Bwmv_Xp"
      },
      "source": [
        "####\\* 벡터 연산"
      ]
    },
    {
      "cell_type": "code",
      "metadata": {
        "colab": {
          "base_uri": "https://localhost:8080/"
        },
        "id": "vs2g8ZciwAOt",
        "outputId": "31ff8035-5c49-405f-9ee9-85800df23eb4"
      },
      "source": [
        "x = np.array([1,2,3,4,5,6,7,8])\n",
        "y = np.array([3,4,5,6,7,8,9,10])\n",
        "print(x+y,\n",
        "      x*2,\n",
        "      x[3])"
      ],
      "execution_count": 3,
      "outputs": [
        {
          "output_type": "stream",
          "text": [
            "[ 4  6  8 10 12 14 16 18] [ 2  4  6  8 10 12 14 16] 4\n"
          ],
          "name": "stdout"
        }
      ]
    },
    {
      "cell_type": "markdown",
      "metadata": {
        "id": "J7LZ0by9wDTR"
      },
      "source": [
        "###②행렬"
      ]
    },
    {
      "cell_type": "code",
      "metadata": {
        "colab": {
          "base_uri": "https://localhost:8080/"
        },
        "id": "lXEM9GkMwD7A",
        "outputId": "2cc230e1-cc63-4d3e-8b5c-ed979e9d7091"
      },
      "source": [
        "print(np.array([[1,2,3],[4,5,6]]))\n",
        "print(np.zeros((2,10)))\n",
        "print(np.ones((2,10)))\n",
        "print(np.identity(3))\n",
        "print(np.random.rand(2,3))\n",
        "print(np.random.randn(2,3))"
      ],
      "execution_count": 4,
      "outputs": [
        {
          "output_type": "stream",
          "text": [
            "[[1 2 3]\n",
            " [4 5 6]]\n",
            "[[0. 0. 0. 0. 0. 0. 0. 0. 0. 0.]\n",
            " [0. 0. 0. 0. 0. 0. 0. 0. 0. 0.]]\n",
            "[[1. 1. 1. 1. 1. 1. 1. 1. 1. 1.]\n",
            " [1. 1. 1. 1. 1. 1. 1. 1. 1. 1.]]\n",
            "[[1. 0. 0.]\n",
            " [0. 1. 0.]\n",
            " [0. 0. 1.]]\n",
            "[[0.80522681 0.52782849 0.18036544]\n",
            " [0.60853104 0.27743796 0.40070135]]\n",
            "[[ 0.90441337 -1.10412372 -0.61483941]\n",
            " [-0.08058892  0.07904608 -0.26686297]]\n"
          ],
          "name": "stdout"
        }
      ]
    },
    {
      "cell_type": "markdown",
      "metadata": {
        "id": "5H1pkfc3wHQ4"
      },
      "source": [
        "* rand는 0이상 1이하의 균등분포를 나타낸다\n",
        "* randn은 정규분포를 나타낸다"
      ]
    },
    {
      "cell_type": "markdown",
      "metadata": {
        "id": "GwoqGuzmwJzX"
      },
      "source": [
        "####\\* 행렬 연산"
      ]
    },
    {
      "cell_type": "code",
      "metadata": {
        "colab": {
          "base_uri": "https://localhost:8080/"
        },
        "id": "hUi8tWMywF0O",
        "outputId": "066505a1-a284-4816-f967-4dccec684c21"
      },
      "source": [
        "x = np.array([[1,2,3],[4,5,6],[7,8,9]])\n",
        "y = np.array([[3,2,1],[6,5,4],[9,8,7]])\n",
        "print(x+y)\n",
        "print(x*2)\n",
        "print(x[1,2],\n",
        "      x[1,0:2])"
      ],
      "execution_count": 5,
      "outputs": [
        {
          "output_type": "stream",
          "text": [
            "[[ 4  4  4]\n",
            " [10 10 10]\n",
            " [16 16 16]]\n",
            "[[ 2  4  6]\n",
            " [ 8 10 12]\n",
            " [14 16 18]]\n",
            "6 [4 5]\n"
          ],
          "name": "stdout"
        }
      ]
    },
    {
      "cell_type": "markdown",
      "metadata": {
        "id": "56A6Vn1SwNIT"
      },
      "source": [
        "####\\* 행렬 함수, 메서드(전용 함수)\n",
        "\n",
        "* __<shape()>__ (행 개수, 열 개수)를 알려준다\n",
        "* __<np.linalg.norm()>__ norm ?\n",
        "* __<np.linalg.svd()>__ singular value decomposition ?\n",
        "* __<np.linalg.cholesky()>__ cholesky decomposition ?\n",
        "\n",
        "\\* 행렬 연산 함수\n",
        "\n",
        "* __<exp()>__ exponential 함수\n",
        "* __<dot()>__ 행렬의 곱\n",
        "\n",
        "\\* 벡터와 행렬 변환\n",
        "\n",
        "* __<reshape(x,y)>__ x행 y열의 행렬로 변환"
      ]
    },
    {
      "cell_type": "code",
      "metadata": {
        "colab": {
          "base_uri": "https://localhost:8080/"
        },
        "id": "eEVONxB9wL96",
        "outputId": "0e8efcbb-2a43-492c-c4c8-1137c8a1af86"
      },
      "source": [
        "print('1.', x.shape)\n",
        "print('2.', np.exp(x))\n",
        "print('3.', x.dot(y))\n",
        "z = np.array([1,2,3,4,5,6])\n",
        "print('4.', z.reshape(2,3))"
      ],
      "execution_count": 6,
      "outputs": [
        {
          "output_type": "stream",
          "text": [
            "1. (3, 3)\n",
            "2. [[2.71828183e+00 7.38905610e+00 2.00855369e+01]\n",
            " [5.45981500e+01 1.48413159e+02 4.03428793e+02]\n",
            " [1.09663316e+03 2.98095799e+03 8.10308393e+03]]\n",
            "3. [[ 42  36  30]\n",
            " [ 96  81  66]\n",
            " [150 126 102]]\n",
            "4. [[1 2 3]\n",
            " [4 5 6]]\n"
          ],
          "name": "stdout"
        }
      ]
    }
  ]
}