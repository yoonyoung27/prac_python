{
  "nbformat": 4,
  "nbformat_minor": 0,
  "metadata": {
    "colab": {
      "name": "python_prac_week4.ipynb",
      "provenance": [],
      "authorship_tag": "ABX9TyMKnp/YZapF5ww6wT+VxS5M",
      "include_colab_link": true
    },
    "kernelspec": {
      "name": "python3",
      "display_name": "Python 3"
    },
    "language_info": {
      "name": "python"
    }
  },
  "cells": [
    {
      "cell_type": "markdown",
      "metadata": {
        "id": "view-in-github",
        "colab_type": "text"
      },
      "source": [
        "<a href=\"https://colab.research.google.com/github/yoonyoung27/prac_python/blob/main/python_prac_week4.ipynb\" target=\"_parent\"><img src=\"https://colab.research.google.com/assets/colab-badge.svg\" alt=\"Open In Colab\"/></a>"
      ]
    },
    {
      "cell_type": "markdown",
      "metadata": {
        "id": "XZ1yeDNl0I5D"
      },
      "source": [
        "#4주차 실습과제1\n",
        "사용자로부터 입력 받은 단어가 아래 fruit 리스트에 포함되어 있는지를 확인하라. 포함되었다면 \"정답입니다\"를, 아닐 경우 \"오답입니다\"를 출력하라.\n",
        "\n",
        "fruit = [\"사과\",\"포도\",\"홍시\"]\n",
        "\n",
        "실행 예:\n",
        "\n",
        "\\>>좋아하는 과일은? 사과\n",
        "\n",
        "정답입니다."
      ]
    },
    {
      "cell_type": "code",
      "metadata": {
        "colab": {
          "base_uri": "https://localhost:8080/"
        },
        "id": "Yo8_aKcM0EHu",
        "outputId": "bd94d41c-d10b-43e2-f1e6-17355870c80f"
      },
      "source": [
        "fruit = [\"사과\",\"포도\",\"홍시\"]\n",
        "answer = input(\"좋아하는 과일은? \")\n",
        "\n",
        "if answer in fruit:\n",
        "    print(\"정답입니다\")\n",
        "else:\n",
        "    print(\"오답입니다\")"
      ],
      "execution_count": 3,
      "outputs": [
        {
          "output_type": "stream",
          "text": [
            "좋아하는 과일은? 사과\n",
            "정답입니다\n"
          ],
          "name": "stdout"
        }
      ]
    },
    {
      "cell_type": "markdown",
      "metadata": {
        "id": "EKkKvfVZ1j-o"
      },
      "source": [
        "#4주차 실습과제2\n",
        "점수 구간에 해당하는 학점이 아래와 같이 정의되어 있다.\n",
        "\n",
        "점수   학점\n",
        "\n",
        "81~100  A\n",
        "\n",
        "61~80   B\n",
        "\n",
        "41~60   C\n",
        "\n",
        "21~40   D\n",
        "\n",
        "0~20    E\n",
        "\n",
        "다음과 같이 실행되도록 프로그램을 코딩하라.\n",
        "\n",
        "\\>> score:83\n",
        "\n",
        "grade is A"
      ]
    },
    {
      "cell_type": "code",
      "metadata": {
        "colab": {
          "base_uri": "https://localhost:8080/"
        },
        "id": "OfpH74qD2GZU",
        "outputId": "290f0779-aef1-4840-f2e7-560cbb6be3cb"
      },
      "source": [
        "score = int(input(\"score:\"))\n",
        "\n",
        "print(\"grade is\",end=\" \")\n",
        "if score>80:\n",
        "    print(\"A\")\n",
        "elif score>60:\n",
        "    print(\"B\")\n",
        "elif score>40:\n",
        "    print(\"C\")\n",
        "elif score>20:\n",
        "    print(\"D\")\n",
        "else:\n",
        "    print(\"E\")"
      ],
      "execution_count": 10,
      "outputs": [
        {
          "output_type": "stream",
          "text": [
            "score:83\n",
            "grade is A\n"
          ],
          "name": "stdout"
        }
      ]
    },
    {
      "cell_type": "markdown",
      "metadata": {
        "id": "bcU45tawVCcQ"
      },
      "source": [
        "#4주차 실습과제3\n",
        "주민등록번호는 13자리로 구성되는데 마지막 자리수는 주민등록번호의 유효성을 체크하는데 사용된다.\n",
        "\n",
        "먼저 앞에서부터 12자리의 숫자에 2,3,4,5,6,7,8,9,2,3,4,5를 차례대로 곱한 뒤, 그 값을 전부 더한다.\n",
        "\n",
        "연산 결과 값을 11로 나누면 나머지가 나오는데 11에서 나머지를 뺀 값을 다시 10으로 나누어서 나머지를 구한 것이 주민등록번호의 마지막 번호가 된다.\n",
        "\n",
        "다음과 같이 사용자로부터 주민등록번호를 입력받은 후 주민등록번호가 유효한지를 출력하는 프로그램을 작성하라\n",
        "\n",
        "\\>>주민등록번호:821010-1635210\n",
        "\n",
        "유효하지 않은 주민등록번호입니다."
      ]
    },
    {
      "cell_type": "code",
      "metadata": {
        "colab": {
          "base_uri": "https://localhost:8080/"
        },
        "id": "I1eKwDdeWFAW",
        "outputId": "04aca9ab-90c4-4624-d5ef-278f6cf64a35"
      },
      "source": [
        "pin = input(\"주민등록번호:\")\n",
        "pin1 = pin.split('-')\n",
        "pin2 = \"\".join(pin1)\n",
        "\n",
        "num_list = [2,3,4,5,6,7,8,9,2,3,4,5]\n",
        "sum=0\n",
        "for i in range(len(pin2)-1):\n",
        "    sum+=int(pin2[i])*num_list[i]\n",
        "\n",
        "sum1 = (11-sum%11)%10\n",
        "\n",
        "if sum1==int(pin2[-1]):\n",
        "    print(\"유효한 주민등록번호입니다.\")\n",
        "else:\n",
        "    print(\"유효하지 않은 주민등록번호입니다.\")"
      ],
      "execution_count": 59,
      "outputs": [
        {
          "output_type": "stream",
          "text": [
            "주민등록번호:821010-1635214\n",
            "유효한 주민등록번호입니다.\n"
          ],
          "name": "stdout"
        }
      ]
    },
    {
      "cell_type": "markdown",
      "metadata": {
        "id": "wJlC5vrxdfUg"
      },
      "source": [
        "#4주차 실습과제4\n",
        "어떤 상점에서는 상품을 한꺼번에 많이 구매하면 다음과 같이 상품 가격을 할인해 준다.\n",
        "\n",
        "10개 미만 : 상품 하나에 100원\n",
        "\n",
        "10개 이상 30개 미만 : 상품 하나에 95원\n",
        "\n",
        "30개 이상 100개 미만 : 상품 하나에 90원\n",
        "\n",
        "100개 이상 : 상품 하나에 85원\n",
        "\n",
        "이 쇼핑몰에서 구매할 상품 개수를 입력받아, 총 지불해야 할 가격을 계산하는 함수 price()를 정의하라.\n",
        "\n",
        "함수를 정의한 후에는 이 함수에 여러 상품 개수를 입력하여 결과가 올바른지 확인해 보아라."
      ]
    },
    {
      "cell_type": "code",
      "metadata": {
        "colab": {
          "base_uri": "https://localhost:8080/"
        },
        "id": "D7lM-T4DeC0E",
        "outputId": "46c95074-3d7e-4e61-fecb-6651c6f44886"
      },
      "source": [
        "def price():\n",
        "    num = input(\"구매할 상품 개수 : \")\n",
        "    num = num.split(',')\n",
        "    print(\"총 지불해야 할 가격 : \", end=\"\")\n",
        "    for i in range(len(num)):\n",
        "        if int(num[i])>=100:\n",
        "            tot=int(num[i])*85\n",
        "        elif int(num[i])>=30:\n",
        "            tot=int(num[i])*90\n",
        "        elif int(num[i])>=10:\n",
        "            tot=int(num[i])*95\n",
        "        else:\n",
        "            tot=int(num[i])*100\n",
        "        print(\"{}\" .format(tot), end=\",\")\n",
        "\n",
        "price()"
      ],
      "execution_count": 73,
      "outputs": [
        {
          "output_type": "stream",
          "text": [
            "구매할 상품 개수 : 8,17,59,144\n",
            "총 지불해야 할 가격 : 800,1615,5310,12240,"
          ],
          "name": "stdout"
        }
      ]
    }
  ]
}