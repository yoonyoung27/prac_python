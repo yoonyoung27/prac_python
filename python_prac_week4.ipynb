{
  "nbformat": 4,
  "nbformat_minor": 0,
  "metadata": {
    "colab": {
      "name": "python_prac_week4.ipynb",
      "provenance": [],
      "authorship_tag": "ABX9TyO4zLcSxSXlQjwSFLw6Jkow",
      "include_colab_link": true
    },
    "kernelspec": {
      "name": "python3",
      "display_name": "Python 3"
    },
    "language_info": {
      "name": "python"
    }
  },
  "cells": [
    {
      "cell_type": "markdown",
      "metadata": {
        "id": "view-in-github",
        "colab_type": "text"
      },
      "source": [
        "<a href=\"https://colab.research.google.com/github/yoonyoung27/prac_python/blob/main/python_prac_week4.ipynb\" target=\"_parent\"><img src=\"https://colab.research.google.com/assets/colab-badge.svg\" alt=\"Open In Colab\"/></a>"
      ]
    },
    {
      "cell_type": "markdown",
      "metadata": {
        "id": "XZ1yeDNl0I5D"
      },
      "source": [
        "#4주차 실습과제1\n",
        "사용자로부터 입력 받은 단어가 아래 fruit 리스트에 포함되어 있는지를 확인하라. 포함되었다면 \"정답입니다\"를, 아닐 경우 \"오답입니다\"를 출력하라.\n",
        "\n",
        "fruit = [\"사과\",\"포도\",\"홍시\"]\n",
        "\n",
        "실행 예:\n",
        "\n",
        "\\>>좋아하는 과일은? 사과\n",
        "\n",
        "정답입니다."
      ]
    },
    {
      "cell_type": "code",
      "metadata": {
        "colab": {
          "base_uri": "https://localhost:8080/"
        },
        "id": "Yo8_aKcM0EHu",
        "outputId": "bd94d41c-d10b-43e2-f1e6-17355870c80f"
      },
      "source": [
        "fruit = [\"사과\",\"포도\",\"홍시\"]\n",
        "answer = input(\"좋아하는 과일은? \")\n",
        "\n",
        "if answer in fruit:\n",
        "    print(\"정답입니다\")\n",
        "else:\n",
        "    print(\"오답입니다\")"
      ],
      "execution_count": null,
      "outputs": [
        {
          "output_type": "stream",
          "text": [
            "좋아하는 과일은? 사과\n",
            "정답입니다\n"
          ],
          "name": "stdout"
        }
      ]
    },
    {
      "cell_type": "markdown",
      "metadata": {
        "id": "EKkKvfVZ1j-o"
      },
      "source": [
        "#4주차 실습과제2\n",
        "점수 구간에 해당하는 학점이 아래와 같이 정의되어 있다.\n",
        "\n",
        "점수   학점\n",
        "\n",
        "81~100  A\n",
        "\n",
        "61~80   B\n",
        "\n",
        "41~60   C\n",
        "\n",
        "21~40   D\n",
        "\n",
        "0~20    E\n",
        "\n",
        "다음과 같이 실행되도록 프로그램을 코딩하라.\n",
        "\n",
        "\\>> score:83\n",
        "\n",
        "grade is A"
      ]
    },
    {
      "cell_type": "code",
      "metadata": {
        "colab": {
          "base_uri": "https://localhost:8080/"
        },
        "id": "OfpH74qD2GZU",
        "outputId": "290f0779-aef1-4840-f2e7-560cbb6be3cb"
      },
      "source": [
        "score = int(input(\"score:\"))\n",
        "\n",
        "print(\"grade is\",end=\" \")\n",
        "if score>80:\n",
        "    print(\"A\")\n",
        "elif score>60:\n",
        "    print(\"B\")\n",
        "elif score>40:\n",
        "    print(\"C\")\n",
        "elif score>20:\n",
        "    print(\"D\")\n",
        "else:\n",
        "    print(\"E\")"
      ],
      "execution_count": null,
      "outputs": [
        {
          "output_type": "stream",
          "text": [
            "score:83\n",
            "grade is A\n"
          ],
          "name": "stdout"
        }
      ]
    },
    {
      "cell_type": "markdown",
      "metadata": {
        "id": "bcU45tawVCcQ"
      },
      "source": [
        "#4주차 실습과제3\n",
        "주민등록번호는 13자리로 구성되는데 마지막 자리수는 주민등록번호의 유효성을 체크하는데 사용된다.\n",
        "\n",
        "먼저 앞에서부터 12자리의 숫자에 2,3,4,5,6,7,8,9,2,3,4,5를 차례대로 곱한 뒤, 그 값을 전부 더한다.\n",
        "\n",
        "연산 결과 값을 11로 나누면 나머지가 나오는데 11에서 나머지를 뺀 값을 다시 10으로 나누어서 나머지를 구한 것이 주민등록번호의 마지막 번호가 된다.\n",
        "\n",
        "다음과 같이 사용자로부터 주민등록번호를 입력받은 후 주민등록번호가 유효한지를 출력하는 프로그램을 작성하라\n",
        "\n",
        "\\>>주민등록번호:821010-1635210\n",
        "\n",
        "유효하지 않은 주민등록번호입니다."
      ]
    },
    {
      "cell_type": "code",
      "metadata": {
        "colab": {
          "base_uri": "https://localhost:8080/"
        },
        "id": "I1eKwDdeWFAW",
        "outputId": "04aca9ab-90c4-4624-d5ef-278f6cf64a35"
      },
      "source": [
        "pin = input(\"주민등록번호:\")\n",
        "pin1 = pin.split('-')\n",
        "pin2 = \"\".join(pin1)\n",
        "\n",
        "num_list = [2,3,4,5,6,7,8,9,2,3,4,5]\n",
        "sum=0\n",
        "for i in range(len(pin2)-1):\n",
        "    sum+=int(pin2[i])*num_list[i]\n",
        "\n",
        "sum1 = (11-sum%11)%10\n",
        "\n",
        "if sum1==int(pin2[-1]):\n",
        "    print(\"유효한 주민등록번호입니다.\")\n",
        "else:\n",
        "    print(\"유효하지 않은 주민등록번호입니다.\")"
      ],
      "execution_count": null,
      "outputs": [
        {
          "output_type": "stream",
          "text": [
            "주민등록번호:821010-1635214\n",
            "유효한 주민등록번호입니다.\n"
          ],
          "name": "stdout"
        }
      ]
    },
    {
      "cell_type": "markdown",
      "metadata": {
        "id": "wJlC5vrxdfUg"
      },
      "source": [
        "#4주차 실습과제4\n",
        "어떤 상점에서는 상품을 한꺼번에 많이 구매하면 다음과 같이 상품 가격을 할인해 준다.\n",
        "\n",
        "10개 미만 : 상품 하나에 100원\n",
        "\n",
        "10개 이상 30개 미만 : 상품 하나에 95원\n",
        "\n",
        "30개 이상 100개 미만 : 상품 하나에 90원\n",
        "\n",
        "100개 이상 : 상품 하나에 85원\n",
        "\n",
        "이 쇼핑몰에서 구매할 상품 개수를 입력받아, 총 지불해야 할 가격을 계산하는 함수 price()를 정의하라.\n",
        "\n",
        "함수를 정의한 후에는 이 함수에 여러 상품 개수를 입력하여 결과가 올바른지 확인해 보아라."
      ]
    },
    {
      "cell_type": "code",
      "metadata": {
        "colab": {
          "base_uri": "https://localhost:8080/"
        },
        "id": "D7lM-T4DeC0E",
        "outputId": "615c4dce-86bc-4c47-be00-bbf066c9f385"
      },
      "source": [
        "def price():\n",
        "    num = input(\"구매할 상품 개수 : \")\n",
        "    num = num.split(',')\n",
        "    print(\"총 지불해야 할 가격 : \", end=\"\")\n",
        "    tot = []\n",
        "    for i in range(len(num)):\n",
        "        if int(num[i])<10:\n",
        "            tot.append(int(num[i])*100)\n",
        "        elif int(num[i])<30:\n",
        "            tot.append(int(num[i])*95)\n",
        "        elif int(num[i])<100:\n",
        "            tot.append(int(num[i])*90)\n",
        "        else:\n",
        "            tot.append(int(num[i])*85)\n",
        "    print(*tot, sep = \",\")\n",
        "\n",
        "price()"
      ],
      "execution_count": 10,
      "outputs": [
        {
          "output_type": "stream",
          "text": [
            "구매할 상품 개수 : 8,17,59,144\n",
            "총 지불해야 할 가격 : 800,1615,5310,12240\n"
          ],
          "name": "stdout"
        }
      ]
    },
    {
      "cell_type": "markdown",
      "metadata": {
        "id": "MSUXogGEjhkW"
      },
      "source": [
        "#4주차 실습과제5\n",
        "연을 매개변수로 입력받아 그 해가 윤년인지 아닌지를 True 또는 False로 반환하는 함수 is_leap_year()을 정의하라.\n",
        "\n",
        "어떤 해가 윤년인지 아닌지를 판단하는 규칙은 다음과 같다.\n",
        "\n",
        "* 그 해의 수가 4로 나누어 떨어지면 윤년이다(예:1996년은 윤년이다)\n",
        "* 단, 그 해의 수가 100으로 나누어 떨어지면 윤년이 아니다(예:1900년은 윤년이 아니다)\n",
        "* 단, 그 해의 수가 400으로 나누어 떨어지면 윤년이다(예:2000년은 윤년이다)"
      ]
    },
    {
      "cell_type": "code",
      "metadata": {
        "colab": {
          "base_uri": "https://localhost:8080/"
        },
        "id": "TxhGNQVgkHJj",
        "outputId": "280a2aab-3138-4d2a-b250-a8e1f04109c8"
      },
      "source": [
        "def is_leap_year():\n",
        "    this_year = int(input(\"올해는 몇년인가요? \"))\n",
        "    is_leap = \"leap\"\n",
        "    if (this_year%4==0 and this_year%100!=0) or this_year%400==0:\n",
        "        pass\n",
        "    else:\n",
        "        is_leap = \"not leap\"\n",
        "    return is_leap==\"leap\"\n",
        "\n",
        "is_leap_year()"
      ],
      "execution_count": null,
      "outputs": [
        {
          "output_type": "stream",
          "text": [
            "올해는 몇년인가요? 1996\n"
          ],
          "name": "stdout"
        },
        {
          "output_type": "execute_result",
          "data": {
            "text/plain": [
              "True"
            ]
          },
          "metadata": {
            "tags": []
          },
          "execution_count": 2
        }
      ]
    },
    {
      "cell_type": "markdown",
      "metadata": {
        "id": "wQlS90nXtmU0"
      },
      "source": [
        "#4주차 실습과제6\n",
        "연과 월을 매개변수로 입력받아, 그 달이 며칠까지 있는지 반환하는 함수 days_in_month()를 작성하라. 이 때, 2월의 길이는 윤년인지 아닌지에 따라 다르다. 윤년 계산을 위해 연습문제 4-5에서 만든 함수를 활용하라."
      ]
    },
    {
      "cell_type": "code",
      "metadata": {
        "colab": {
          "base_uri": "https://localhost:8080/"
        },
        "id": "ZJuUSPWmt34y",
        "outputId": "85032ff2-04a9-4359-8c8d-7fe125b16bd7"
      },
      "source": [
        "def leap_ftn(m):\n",
        "    if m%2==0 and m!=2:\n",
        "        ans=30\n",
        "    elif m==2:\n",
        "        ans=29\n",
        "    else:\n",
        "        ans=31\n",
        "    return ans\n",
        "\n",
        "def not_leap_ftn(m):\n",
        "    if m%2==0 and m!=2:\n",
        "        ans=30\n",
        "    elif m==2:\n",
        "        ans=28\n",
        "    else:\n",
        "        ans=31\n",
        "    return ans\n",
        "\n",
        "def days_in_month(yea, mon):\n",
        "    if (yea%4==0 and yea%100!=0) or yea%400==0:\n",
        "        answer = leap_ftn(mon)\n",
        "    else:\n",
        "        answer = not_leap_ftn(mon)\n",
        "    return answer\n",
        "\n",
        "days_in_month(1996, 2)"
      ],
      "execution_count": null,
      "outputs": [
        {
          "output_type": "execute_result",
          "data": {
            "text/plain": [
              "29"
            ]
          },
          "metadata": {
            "tags": []
          },
          "execution_count": 4
        }
      ]
    },
    {
      "cell_type": "markdown",
      "metadata": {
        "id": "usVtBqm7xj1E"
      },
      "source": [
        "#4주차 실습과제7\n",
        "1부터 1000까지의 자연수 중 3의 배수의 합을 구하시오."
      ]
    },
    {
      "cell_type": "code",
      "metadata": {
        "colab": {
          "base_uri": "https://localhost:8080/"
        },
        "id": "F54Ys2XKxt_X",
        "outputId": "b22ecf48-9cfc-4439-dd16-47f1d6b4f309"
      },
      "source": [
        "sum=0\n",
        "for i in range(1,1001):\n",
        "    if i%3==0:\n",
        "        sum+=i\n",
        "sum"
      ],
      "execution_count": null,
      "outputs": [
        {
          "output_type": "execute_result",
          "data": {
            "text/plain": [
              "166833"
            ]
          },
          "metadata": {
            "tags": []
          },
          "execution_count": 90
        }
      ]
    },
    {
      "cell_type": "markdown",
      "metadata": {
        "id": "Ops-7zKwyk7Z"
      },
      "source": [
        "#4주차 실습과제8\n",
        "다음은 A학급 학생의 점수를 나타내는 리스트이다. 다음 리스트에서 50점 이상의 점수들의 총합을 구하시오.\n",
        "\n",
        "A=[20,55,67,82,45,33,90,87,100,25]"
      ]
    },
    {
      "cell_type": "code",
      "metadata": {
        "colab": {
          "base_uri": "https://localhost:8080/"
        },
        "id": "owImHjMLzkb2",
        "outputId": "c1fd8d96-25d7-4b14-8e7d-a43e7f40eef5"
      },
      "source": [
        "A=[20,55,67,82,45,33,90,87,100,25]\n",
        "\n",
        "sum=0\n",
        "for i in A:\n",
        "    if i>=50:\n",
        "        sum+=i\n",
        "sum"
      ],
      "execution_count": null,
      "outputs": [
        {
          "output_type": "execute_result",
          "data": {
            "text/plain": [
              "481"
            ]
          },
          "metadata": {
            "tags": []
          },
          "execution_count": 91
        }
      ]
    },
    {
      "cell_type": "markdown",
      "metadata": {
        "id": "jC3spr7Az9Hj"
      },
      "source": [
        "#4주차 실습과제9\n",
        "while문을 이용하여 아래와 같이 별(*)을 표시하는 프로그램을 작성해보자.\n",
        "\n",
        "\\*\n",
        "\n",
        "\\**\n",
        "\n",
        "\\***\n",
        "\n",
        "\\****"
      ]
    },
    {
      "cell_type": "code",
      "metadata": {
        "colab": {
          "base_uri": "https://localhost:8080/"
        },
        "id": "chnI_Pou0JBJ",
        "outputId": "7171eaad-5125-4b15-865f-ce93ff7cf78f"
      },
      "source": [
        "N=1\n",
        "while N<5:\n",
        "    print('*'*N)\n",
        "    N+=1"
      ],
      "execution_count": null,
      "outputs": [
        {
          "output_type": "stream",
          "text": [
            "*\n",
            "**\n",
            "***\n",
            "****\n"
          ],
          "name": "stdout"
        }
      ]
    },
    {
      "cell_type": "markdown",
      "metadata": {
        "id": "i0yiPLuO0eQI"
      },
      "source": [
        "#4주차 실습과제10\n",
        "1백 이상, 1만 미만인 자연수 가운데 5의 배수를 모두 합하면 얼마인지 while문을 이용해 계산해 보아라"
      ]
    },
    {
      "cell_type": "code",
      "metadata": {
        "colab": {
          "base_uri": "https://localhost:8080/"
        },
        "id": "aG6DkGUJ0o1L",
        "outputId": "1f0f60d5-99d5-4540-ad3e-92d2268eea0d"
      },
      "source": [
        "N=100\n",
        "sum=0\n",
        "while N<10000:\n",
        "    sum+=N\n",
        "    N+=5\n",
        "sum"
      ],
      "execution_count": null,
      "outputs": [
        {
          "output_type": "execute_result",
          "data": {
            "text/plain": [
              "9994050"
            ]
          },
          "metadata": {
            "tags": []
          },
          "execution_count": 98
        }
      ]
    },
    {
      "cell_type": "markdown",
      "metadata": {
        "id": "v6wGMRYj1biU"
      },
      "source": [
        "#4주차 실습과제11\n",
        "1부터 100까지의 숫자를 for문을 이용하여 출력하시오."
      ]
    },
    {
      "cell_type": "code",
      "metadata": {
        "colab": {
          "base_uri": "https://localhost:8080/"
        },
        "id": "_q_8XB0e1jUl",
        "outputId": "90d5dca5-fc1f-4ffa-8152-03b74850a324"
      },
      "source": [
        "for i in range(1,101):\n",
        "    print(i)"
      ],
      "execution_count": null,
      "outputs": [
        {
          "output_type": "stream",
          "text": [
            "1\n",
            "2\n",
            "3\n",
            "4\n",
            "5\n",
            "6\n",
            "7\n",
            "8\n",
            "9\n",
            "10\n",
            "11\n",
            "12\n",
            "13\n",
            "14\n",
            "15\n",
            "16\n",
            "17\n",
            "18\n",
            "19\n",
            "20\n",
            "21\n",
            "22\n",
            "23\n",
            "24\n",
            "25\n",
            "26\n",
            "27\n",
            "28\n",
            "29\n",
            "30\n",
            "31\n",
            "32\n",
            "33\n",
            "34\n",
            "35\n",
            "36\n",
            "37\n",
            "38\n",
            "39\n",
            "40\n",
            "41\n",
            "42\n",
            "43\n",
            "44\n",
            "45\n",
            "46\n",
            "47\n",
            "48\n",
            "49\n",
            "50\n",
            "51\n",
            "52\n",
            "53\n",
            "54\n",
            "55\n",
            "56\n",
            "57\n",
            "58\n",
            "59\n",
            "60\n",
            "61\n",
            "62\n",
            "63\n",
            "64\n",
            "65\n",
            "66\n",
            "67\n",
            "68\n",
            "69\n",
            "70\n",
            "71\n",
            "72\n",
            "73\n",
            "74\n",
            "75\n",
            "76\n",
            "77\n",
            "78\n",
            "79\n",
            "80\n",
            "81\n",
            "82\n",
            "83\n",
            "84\n",
            "85\n",
            "86\n",
            "87\n",
            "88\n",
            "89\n",
            "90\n",
            "91\n",
            "92\n",
            "93\n",
            "94\n",
            "95\n",
            "96\n",
            "97\n",
            "98\n",
            "99\n",
            "100\n"
          ],
          "name": "stdout"
        }
      ]
    },
    {
      "cell_type": "markdown",
      "metadata": {
        "id": "olZW576m1rSI"
      },
      "source": [
        "#4주차 실습과제12\n",
        "for문을 이용하여 A학급의 평균 점수를 구해 보자.\n",
        "\n",
        "A=[70,60,55,75,95,90,80,80,85,100]"
      ]
    },
    {
      "cell_type": "code",
      "metadata": {
        "colab": {
          "base_uri": "https://localhost:8080/"
        },
        "id": "2DDxENqS1rEF",
        "outputId": "110b80ab-a1a3-4803-cafd-d2b7f15bc2fa"
      },
      "source": [
        "A=[70,60,55,75,95,90,80,80,85,100]\n",
        "\n",
        "sum=0\n",
        "for i in A:\n",
        "    sum+=i\n",
        "ave=sum/len(A)\n",
        "ave"
      ],
      "execution_count": null,
      "outputs": [
        {
          "output_type": "execute_result",
          "data": {
            "text/plain": [
              "79.0"
            ]
          },
          "metadata": {
            "tags": []
          },
          "execution_count": 5
        }
      ]
    },
    {
      "cell_type": "markdown",
      "metadata": {
        "id": "GZwCQGYu2ZgS"
      },
      "source": [
        "#4주차 실습과제13\n",
        "369게임\n",
        "\n",
        "* 1에서 100까지의 숫자를 리스트에 append 할 것\n",
        "* 단 3,6,9가 포함된 수는 *을 append 할 것"
      ]
    },
    {
      "cell_type": "code",
      "metadata": {
        "colab": {
          "base_uri": "https://localhost:8080/"
        },
        "id": "UCb03Lqt2ZQQ",
        "outputId": "e6c344f7-9b03-4444-fd67-4edbc45fbf2e"
      },
      "source": [
        "num=[]\n",
        "for i in range(1,101):\n",
        "    if i%10==3 or i%10==6 or i%10==9:\n",
        "        num.append(\"*\")\n",
        "    elif i//10==3 or i//10==6 or i//10==9:\n",
        "        num.append(\"*\")\n",
        "    else:\n",
        "        num.append(i)\n",
        "num"
      ],
      "execution_count": null,
      "outputs": [
        {
          "output_type": "execute_result",
          "data": {
            "text/plain": [
              "[1,\n",
              " 2,\n",
              " '*',\n",
              " 4,\n",
              " 5,\n",
              " '*',\n",
              " 7,\n",
              " 8,\n",
              " '*',\n",
              " 10,\n",
              " 11,\n",
              " 12,\n",
              " '*',\n",
              " 14,\n",
              " 15,\n",
              " '*',\n",
              " 17,\n",
              " 18,\n",
              " '*',\n",
              " 20,\n",
              " 21,\n",
              " 22,\n",
              " '*',\n",
              " 24,\n",
              " 25,\n",
              " '*',\n",
              " 27,\n",
              " 28,\n",
              " '*',\n",
              " '*',\n",
              " '*',\n",
              " '*',\n",
              " '*',\n",
              " '*',\n",
              " '*',\n",
              " '*',\n",
              " '*',\n",
              " '*',\n",
              " '*',\n",
              " 40,\n",
              " 41,\n",
              " 42,\n",
              " '*',\n",
              " 44,\n",
              " 45,\n",
              " '*',\n",
              " 47,\n",
              " 48,\n",
              " '*',\n",
              " 50,\n",
              " 51,\n",
              " 52,\n",
              " '*',\n",
              " 54,\n",
              " 55,\n",
              " '*',\n",
              " 57,\n",
              " 58,\n",
              " '*',\n",
              " '*',\n",
              " '*',\n",
              " '*',\n",
              " '*',\n",
              " '*',\n",
              " '*',\n",
              " '*',\n",
              " '*',\n",
              " '*',\n",
              " '*',\n",
              " 70,\n",
              " 71,\n",
              " 72,\n",
              " '*',\n",
              " 74,\n",
              " 75,\n",
              " '*',\n",
              " 77,\n",
              " 78,\n",
              " '*',\n",
              " 80,\n",
              " 81,\n",
              " 82,\n",
              " '*',\n",
              " 84,\n",
              " 85,\n",
              " '*',\n",
              " 87,\n",
              " 88,\n",
              " '*',\n",
              " '*',\n",
              " '*',\n",
              " '*',\n",
              " '*',\n",
              " '*',\n",
              " '*',\n",
              " '*',\n",
              " '*',\n",
              " '*',\n",
              " '*',\n",
              " 100]"
            ]
          },
          "metadata": {
            "tags": []
          },
          "execution_count": 104
        }
      ]
    },
    {
      "cell_type": "code",
      "metadata": {
        "id": "jMmnEXOeQNkv",
        "outputId": "b8efdf82-d692-491a-ffd2-0f5ad1557041",
        "colab": {
          "base_uri": "https://localhost:8080/"
        }
      },
      "source": [
        "num=[]\n",
        "for i in range(1,101):\n",
        "    if '3' in str(i) or '6' in str(i) or '9' in str(i):\n",
        "        num.append(\"*\")\n",
        "    else:\n",
        "        num.append(i)\n",
        "num"
      ],
      "execution_count": 14,
      "outputs": [
        {
          "output_type": "execute_result",
          "data": {
            "text/plain": [
              "[1,\n",
              " 2,\n",
              " '*',\n",
              " 4,\n",
              " 5,\n",
              " '*',\n",
              " 7,\n",
              " 8,\n",
              " '*',\n",
              " 10,\n",
              " 11,\n",
              " 12,\n",
              " '*',\n",
              " 14,\n",
              " 15,\n",
              " '*',\n",
              " 17,\n",
              " 18,\n",
              " '*',\n",
              " 20,\n",
              " 21,\n",
              " 22,\n",
              " '*',\n",
              " 24,\n",
              " 25,\n",
              " '*',\n",
              " 27,\n",
              " 28,\n",
              " '*',\n",
              " '*',\n",
              " '*',\n",
              " '*',\n",
              " '*',\n",
              " '*',\n",
              " '*',\n",
              " '*',\n",
              " '*',\n",
              " '*',\n",
              " '*',\n",
              " 40,\n",
              " 41,\n",
              " 42,\n",
              " '*',\n",
              " 44,\n",
              " 45,\n",
              " '*',\n",
              " 47,\n",
              " 48,\n",
              " '*',\n",
              " 50,\n",
              " 51,\n",
              " 52,\n",
              " '*',\n",
              " 54,\n",
              " 55,\n",
              " '*',\n",
              " 57,\n",
              " 58,\n",
              " '*',\n",
              " '*',\n",
              " '*',\n",
              " '*',\n",
              " '*',\n",
              " '*',\n",
              " '*',\n",
              " '*',\n",
              " '*',\n",
              " '*',\n",
              " '*',\n",
              " 70,\n",
              " 71,\n",
              " 72,\n",
              " '*',\n",
              " 74,\n",
              " 75,\n",
              " '*',\n",
              " 77,\n",
              " 78,\n",
              " '*',\n",
              " 80,\n",
              " 81,\n",
              " 82,\n",
              " '*',\n",
              " 84,\n",
              " 85,\n",
              " '*',\n",
              " 87,\n",
              " 88,\n",
              " '*',\n",
              " '*',\n",
              " '*',\n",
              " '*',\n",
              " '*',\n",
              " '*',\n",
              " '*',\n",
              " '*',\n",
              " '*',\n",
              " '*',\n",
              " '*',\n",
              " 100]"
            ]
          },
          "metadata": {
            "tags": []
          },
          "execution_count": 14
        }
      ]
    },
    {
      "cell_type": "markdown",
      "metadata": {
        "id": "Lz-RKCyr4c6N"
      },
      "source": [
        "#4주차 실습과제14\n",
        "1부터 100까지의 자연수 중 3의 배수이거나 4의 배수인 자연수를 출력하는 프로그램을 작성하여라."
      ]
    },
    {
      "cell_type": "code",
      "metadata": {
        "colab": {
          "base_uri": "https://localhost:8080/"
        },
        "id": "IT6phJc14n8m",
        "outputId": "d128cdbc-a40e-46b5-825d-a2da76cae676"
      },
      "source": [
        "for i in range(1,101):\n",
        "    if i%3==0 or i%4==0:\n",
        "        print(i)"
      ],
      "execution_count": null,
      "outputs": [
        {
          "output_type": "stream",
          "text": [
            "3\n",
            "4\n",
            "6\n",
            "8\n",
            "9\n",
            "12\n",
            "15\n",
            "16\n",
            "18\n",
            "20\n",
            "21\n",
            "24\n",
            "27\n",
            "28\n",
            "30\n",
            "32\n",
            "33\n",
            "36\n",
            "39\n",
            "40\n",
            "42\n",
            "44\n",
            "45\n",
            "48\n",
            "51\n",
            "52\n",
            "54\n",
            "56\n",
            "57\n",
            "60\n",
            "63\n",
            "64\n",
            "66\n",
            "68\n",
            "69\n",
            "72\n",
            "75\n",
            "76\n",
            "78\n",
            "80\n",
            "81\n",
            "84\n",
            "87\n",
            "88\n",
            "90\n",
            "92\n",
            "93\n",
            "96\n",
            "99\n",
            "100\n"
          ],
          "name": "stdout"
        }
      ]
    },
    {
      "cell_type": "markdown",
      "metadata": {
        "id": "9hZSdluC4z0j"
      },
      "source": [
        "#4주차 실습과제15\n",
        "리스트 하나를 매개변수로 전달받아, 리스트에서 가장 큰 요소를 반환하는 함수를 정의해 보아라. 단, max()함수를 사용해서는 안된다."
      ]
    },
    {
      "cell_type": "code",
      "metadata": {
        "colab": {
          "base_uri": "https://localhost:8080/"
        },
        "id": "sxf6mmd34_zl",
        "outputId": "0588f108-3dcb-4d12-938f-a89ddc37136e"
      },
      "source": [
        "list = [8,65,12,95,7,3,52,50,75,69,22,45,84,42,11,80,63,42,84,1]\n",
        "\n",
        "def max_list(lst):\n",
        "    x=0\n",
        "    for i in lst:\n",
        "        if i>=x:\n",
        "            x=i\n",
        "    return x\n",
        "\n",
        "max_list(list)"
      ],
      "execution_count": null,
      "outputs": [
        {
          "output_type": "execute_result",
          "data": {
            "text/plain": [
              "95"
            ]
          },
          "metadata": {
            "tags": []
          },
          "execution_count": 107
        }
      ]
    },
    {
      "cell_type": "markdown",
      "metadata": {
        "id": "pdnpsXCx5-nD"
      },
      "source": [
        "#4주차 실습과제16\n",
        "약수가 1과 자기 자신 뿐인 자연수를 소수라고 한다. 어떤 수를 입력받아 그 수가 소수인지 검사하여 True 또는 False를 반환하는 함수 is_prime()을 정의하라. 그 후, 정의한 함수를 이용해 1이상 100미만의 모든 소수의 합을 계산하라."
      ]
    },
    {
      "cell_type": "code",
      "metadata": {
        "colab": {
          "base_uri": "https://localhost:8080/"
        },
        "id": "CBHHtmLy6S8Z",
        "outputId": "791c2a8f-27f0-4335-cb47-517064d429e8"
      },
      "source": [
        "old_list=[2,5,80,45,68,7,35,51,91,88,41,43,57,75,19,85,35,47,49,67]\n",
        "new_list=[]\n",
        "\n",
        "def is_prime(lst):\n",
        "    for i in lst:\n",
        "        n=2\n",
        "        k=0\n",
        "        while n<i:\n",
        "            if i%n==0:\n",
        "                n+=1\n",
        "                k+=1\n",
        "            else:\n",
        "                n+=1\n",
        "        if k==0:\n",
        "            new_list.append(i)\n",
        "\n",
        "is_prime(old_list)\n",
        "new_list"
      ],
      "execution_count": null,
      "outputs": [
        {
          "output_type": "execute_result",
          "data": {
            "text/plain": [
              "[2, 5, 7, 41, 43, 19, 47, 67]"
            ]
          },
          "metadata": {
            "tags": []
          },
          "execution_count": 114
        }
      ]
    }
  ]
}