{
  "nbformat": 4,
  "nbformat_minor": 0,
  "metadata": {
    "colab": {
      "name": "연오_ch11.ipynb",
      "provenance": [],
      "authorship_tag": "ABX9TyPfG7mBnn98Z8O1ElZBzCsS",
      "include_colab_link": true
    },
    "kernelspec": {
      "name": "python3",
      "display_name": "Python 3"
    },
    "language_info": {
      "name": "python"
    }
  },
  "cells": [
    {
      "cell_type": "markdown",
      "metadata": {
        "id": "view-in-github",
        "colab_type": "text"
      },
      "source": [
        "<a href=\"https://colab.research.google.com/github/yoonyoung27/prac_python/blob/main/%EC%97%B0%EC%98%A4_ch11.ipynb\" target=\"_parent\"><img src=\"https://colab.research.google.com/assets/colab-badge.svg\" alt=\"Open In Colab\"/></a>"
      ]
    },
    {
      "cell_type": "markdown",
      "metadata": {
        "id": "LasYywn1Swy4"
      },
      "source": [
        "#표준 라이브러리\n",
        "\n",
        "프로그래밍 언어가 공식적으로 제공하는 미리 만들어 둔 프로그램 조각 (모듈, 패키지 모음)"
      ]
    },
    {
      "cell_type": "markdown",
      "metadata": {
        "id": "bAOPTD9OUkys"
      },
      "source": [
        "#① 수학과 통계학"
      ]
    },
    {
      "cell_type": "markdown",
      "metadata": {
        "id": "6l-Yay1eTtVp"
      },
      "source": [
        "###①.1 Math 모듈"
      ]
    },
    {
      "cell_type": "code",
      "metadata": {
        "id": "E6SpCIfaSwDW"
      },
      "source": [
        ""
      ],
      "execution_count": null,
      "outputs": []
    }
  ]
}