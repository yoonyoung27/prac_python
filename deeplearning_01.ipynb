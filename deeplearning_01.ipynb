{
  "nbformat": 4,
  "nbformat_minor": 0,
  "metadata": {
    "colab": {
      "name": "deeplearning_01.ipynb",
      "provenance": [],
      "authorship_tag": "ABX9TyOJ9sshN8mwnJGzD+iZ0omV",
      "include_colab_link": true
    },
    "kernelspec": {
      "name": "python3",
      "display_name": "Python 3"
    },
    "language_info": {
      "name": "python"
    }
  },
  "cells": [
    {
      "cell_type": "markdown",
      "metadata": {
        "id": "view-in-github",
        "colab_type": "text"
      },
      "source": [
        "<a href=\"https://colab.research.google.com/github/yoonyoung27/prac_python/blob/main/deeplearning_01.ipynb\" target=\"_parent\"><img src=\"https://colab.research.google.com/assets/colab-badge.svg\" alt=\"Open In Colab\"/></a>"
      ]
    },
    {
      "cell_type": "markdown",
      "metadata": {
        "id": "GxIL0v8URrB0"
      },
      "source": [
        "#Introduction\n",
        "https://tensorflow.blog/%ED%95%B8%EC%A6%88%EC%98%A8-%EB%A8%B8%EC%8B%A0%EB%9F%AC%EB%8B%9D-1%EC%9E%A5-2%EC%9E%A5/\n",
        "\n",
        "Code  \n",
        "https://github.com/rickiepark/handson-ml/"
      ]
    },
    {
      "cell_type": "markdown",
      "metadata": {
        "id": "S0Td3JwxRbwf"
      },
      "source": [
        "# Syllabus\n",
        "http://cs229.stanford.edu/syllabus.html"
      ]
    },
    {
      "cell_type": "code",
      "metadata": {
        "id": "DsuR7x3ARYhC"
      },
      "source": [
        ""
      ],
      "execution_count": null,
      "outputs": []
    }
  ]
}