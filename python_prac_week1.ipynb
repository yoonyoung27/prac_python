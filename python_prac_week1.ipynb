{
  "nbformat": 4,
  "nbformat_minor": 0,
  "metadata": {
    "colab": {
      "name": "github_prac_week1.ipynb",
      "provenance": [],
      "authorship_tag": "ABX9TyNDleDpqQxFSLSIMo9fstzB",
      "include_colab_link": true
    },
    "kernelspec": {
      "name": "python3",
      "display_name": "Python 3"
    }
  },
  "cells": [
    {
      "cell_type": "markdown",
      "metadata": {
        "id": "view-in-github",
        "colab_type": "text"
      },
      "source": [
        "<a href=\"https://colab.research.google.com/github/yoonyoung27/prac_python/blob/main/python_prac_week1.ipynb\" target=\"_parent\"><img src=\"https://colab.research.google.com/assets/colab-badge.svg\" alt=\"Open In Colab\"/></a>"
      ]
    },
    {
      "cell_type": "markdown",
      "metadata": {
        "id": "4XbPCZK3rTyk"
      },
      "source": [
        "#1주차 실습과제2\n",
        "자연수를 입력받아 홀수인지 짝수인지 판별할 수 있는 코드를 작성해보자."
      ]
    },
    {
      "cell_type": "code",
      "metadata": {
        "colab": {
          "base_uri": "https://localhost:8080/"
        },
        "id": "3g1-6mMsq8h0",
        "outputId": "0895dd82-8b2f-4239-e9e3-d96106dfdf40"
      },
      "source": [
        "exit=True\n",
        "while exit :\n",
        "    try :\n",
        "        number=input(\"자연수를 입력하세요.\")\n",
        "        if int(number)<=0 :\n",
        "            print(\"자연수가 아닙니다.\")\n",
        "        else :\n",
        "            if int(number)%2 == 1:\n",
        "                print(\"홀수입니다.\")\n",
        "                exit=False\n",
        "            else :\n",
        "                print(\"짝수입니다.\")\n",
        "                exit=False\n",
        "    except ValueError :\n",
        "        print(\"자연수가 아닙니다.\")"
      ],
      "execution_count": null,
      "outputs": [
        {
          "output_type": "stream",
          "text": [
            "자연수를 입력하세요.삼\n",
            "자연수가 아닙니다.\n",
            "자연수를 입력하세요.8\n",
            "짝수입니다.\n"
          ],
          "name": "stdout"
        }
      ]
    },
    {
      "cell_type": "markdown",
      "metadata": {
        "id": "QUPECksZsjFu"
      },
      "source": [
        "#1주차 실습과제3\n",
        "홍길동씨의 주민등록번호는 881120-1068234이다. 홍길동씨의 주민등록번호를 연월일(YYMMDD) 부분과 그 뒤의 숫자 부분으로 나누어 출력해 보자."
      ]
    },
    {
      "cell_type": "code",
      "metadata": {
        "colab": {
          "base_uri": "https://localhost:8080/"
        },
        "id": "CPKN76zOs9DT",
        "outputId": "f94d716c-eff9-4f92-9540-7e6a939f5cc1"
      },
      "source": [
        "pin = \"881120-1068234\"\n",
        "print(pin[:6])\n",
        "print(pin[7:])"
      ],
      "execution_count": null,
      "outputs": [
        {
          "output_type": "stream",
          "text": [
            "881120\n",
            "1068234\n"
          ],
          "name": "stdout"
        }
      ]
    },
    {
      "cell_type": "markdown",
      "metadata": {
        "id": "l2iAr9izuDO_"
      },
      "source": [
        "#1주차 실습과제4\n",
        "주민등록번호 뒷자리의 맨 첫 번째 숫자는 성별을 나타낸다. 주민등록번호에서 성별을 나타내는 숫자를 출력해보자."
      ]
    },
    {
      "cell_type": "code",
      "metadata": {
        "colab": {
          "base_uri": "https://localhost:8080/"
        },
        "id": "JqydpeUkuVnt",
        "outputId": "2036df4a-5ba6-4538-ac38-9ac963c71f6b"
      },
      "source": [
        "print(pin[7])"
      ],
      "execution_count": null,
      "outputs": [
        {
          "output_type": "stream",
          "text": [
            "1\n"
          ],
          "name": "stdout"
        }
      ]
    },
    {
      "cell_type": "markdown",
      "metadata": {
        "id": "NPOVkdY6uiwT"
      },
      "source": [
        "#1주차 실습과제5\n",
        "다음과 같은 문자열이 있다.\n",
        "a:b:c:d\n",
        "####(1) 문자열의 replace 함수를 이용하여 위 문자열을 다음과 같이 고치시오. a#b#c#d\n",
        "####(2) 문자열의 split과 join 함수를 이용하여 위 문자열을 다음과 같이 고치시오. a#b#c#d"
      ]
    },
    {
      "cell_type": "code",
      "metadata": {
        "colab": {
          "base_uri": "https://localhost:8080/"
        },
        "id": "HGNBn_T6vKAO",
        "outputId": "2848be82-d94d-42ee-ddf0-b15345443d79"
      },
      "source": [
        "char = \"a:b:c:d\"\n",
        "char1 = char.replace(\":\", \"#\")\n",
        "print(char1)\n",
        "char2 = char.split(\":\")\n",
        "print(char2)\n",
        "char3 = \"#\".join(char2)\n",
        "print(char3)"
      ],
      "execution_count": null,
      "outputs": [
        {
          "output_type": "stream",
          "text": [
            "a#b#c#d\n",
            "['a', 'b', 'c', 'd']\n",
            "a#b#c#d\n"
          ],
          "name": "stdout"
        }
      ]
    }
  ]
}