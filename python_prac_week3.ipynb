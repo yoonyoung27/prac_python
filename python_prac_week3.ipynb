{
  "nbformat": 4,
  "nbformat_minor": 0,
  "metadata": {
    "colab": {
      "name": "python_prac_week3.ipynb",
      "provenance": [],
      "collapsed_sections": [],
      "authorship_tag": "ABX9TyMfZe5OLemotjgN7XcgPMeR",
      "include_colab_link": true
    },
    "kernelspec": {
      "name": "python3",
      "display_name": "Python 3"
    },
    "language_info": {
      "name": "python"
    }
  },
  "cells": [
    {
      "cell_type": "markdown",
      "metadata": {
        "id": "view-in-github",
        "colab_type": "text"
      },
      "source": [
        "<a href=\"https://colab.research.google.com/github/yoonyoung27/prac_python/blob/main/python_prac_week3.ipynb\" target=\"_parent\"><img src=\"https://colab.research.google.com/assets/colab-badge.svg\" alt=\"Open In Colab\"/></a>"
      ]
    },
    {
      "cell_type": "markdown",
      "metadata": {
        "id": "sCtQCVLABBrV"
      },
      "source": [
        "#3주차 실습과제1\n",
        "입력받은 자연수가 홀수인지 짝수인지 판별해 주는 함수(is_odd)를 작성하시오."
      ]
    },
    {
      "cell_type": "code",
      "metadata": {
        "colab": {
          "base_uri": "https://localhost:8080/"
        },
        "id": "gyzoAa_FAnOv",
        "outputId": "aedae887-89e0-4475-ddbc-abdeb4fac0df"
      },
      "source": [
        "def is_odd():\n",
        "    number=input(\"자연수를 입력하세요 : \")\n",
        "    if int(number)%2==0:\n",
        "        print(\"짝수\")\n",
        "    else:\n",
        "        print(\"홀수\")\n",
        "\n",
        "is_odd()"
      ],
      "execution_count": null,
      "outputs": [
        {
          "output_type": "stream",
          "text": [
            "자연수를 입력하세요 : 5\n",
            "홀수\n"
          ],
          "name": "stdout"
        }
      ]
    },
    {
      "cell_type": "markdown",
      "metadata": {
        "id": "Om-GLZkCBVFt"
      },
      "source": [
        "#3주차 실습과제2\n",
        "입력으로 들어오는 모든 수의 평균값을 계산해 주는 함수를 작성해보자.\n",
        "\n",
        "(단, 입력으로 들어오는 수의 갯수는 정해져 있지 않다.)"
      ]
    },
    {
      "cell_type": "code",
      "metadata": {
        "colab": {
          "base_uri": "https://localhost:8080/"
        },
        "id": "yyTjcKQUBgh3",
        "outputId": "f7305bfe-8d87-4ee6-888a-ad78a365ba7c"
      },
      "source": [
        "def ave(*args):\n",
        "    sum_args=0\n",
        "    for i in args:\n",
        "        sum_args+=i\n",
        "    return sum_args/len(args)\n",
        "\n",
        "ave(1,2,3,4,5)"
      ],
      "execution_count": null,
      "outputs": [
        {
          "output_type": "execute_result",
          "data": {
            "text/plain": [
              "3.0"
            ]
          },
          "metadata": {
            "tags": []
          },
          "execution_count": 1
        }
      ]
    },
    {
      "cell_type": "markdown",
      "metadata": {
        "id": "kJQjV8h7BgvQ"
      },
      "source": [
        "#3주차 실습과제3\n",
        "두 숫자 a,b에 대하여 a를 b로 나누었을 때 몫과 나머지를 출력하는 함수를 만들어라."
      ]
    },
    {
      "cell_type": "code",
      "metadata": {
        "colab": {
          "base_uri": "https://localhost:8080/"
        },
        "id": "svHqK55pBpJW",
        "outputId": "35246646-6e4e-44fb-869e-6b0340d50f2b"
      },
      "source": [
        "def div(a,b):\n",
        "    div_val=a//b\n",
        "    div_lea=a%b\n",
        "    print('a를 b로 나눈 몫은 {}입니다' .format(div_val))\n",
        "    print('a를 b로 나눈 나머지는 {} 입니다' .format(div_lea))\n",
        "\n",
        "div(83,4)"
      ],
      "execution_count": null,
      "outputs": [
        {
          "output_type": "stream",
          "text": [
            "a를 b로 나눈 몫은 20입니다\n",
            "a를 b로 나눈 나머지는 3 입니다\n"
          ],
          "name": "stdout"
        }
      ]
    },
    {
      "cell_type": "markdown",
      "metadata": {
        "id": "R3e2G32-BpeF"
      },
      "source": [
        "#3주차 실습과제4\n",
        "입력받은 숫자들의 총합을 구하는 프로그램을 작성하시오\n",
        "\n",
        "실행 예:\n",
        "\n",
        "합을 알고 싶은 숫자를 입력하세요 : 1,2,3,4,5,6\n",
        "\n",
        "합은 21입니다."
      ]
    },
    {
      "cell_type": "code",
      "metadata": {
        "id": "Io5YWSmKB32w",
        "colab": {
          "base_uri": "https://localhost:8080/"
        },
        "outputId": "fe241d69-5101-4bfe-88b8-d6fdf630504b"
      },
      "source": [
        "def total():\n",
        "    num=input('합을 알고 싶은 숫자를 입력하세요 : ')\n",
        "    num=num.split(',')\n",
        "    result=0\n",
        "    for i in range(len(num)):\n",
        "        result=result+int(num[i])\n",
        "    return print('합은 {}입니다.' .format(result))\n",
        "\n",
        "total()"
      ],
      "execution_count": null,
      "outputs": [
        {
          "output_type": "stream",
          "text": [
            "합을 알고 싶은 숫자를 입력하세요 : 1,2,3,4,5,6\n",
            "합은 21입니다.\n"
          ],
          "name": "stdout"
        }
      ]
    },
    {
      "cell_type": "markdown",
      "metadata": {
        "id": "6Hl3tTHUB4Fq"
      },
      "source": [
        "#3주차 실습과제5\n",
        "사용자로부터 2~9까지의 숫자 중 하나를 입력받아 해당 숫자의 구구단을 한줄로 출력하는 프로그램을 작성하시오.\n",
        "\n",
        "실행 예:\n",
        "\n",
        "구구단을 출력할 숫자를 입력하세요(2~9): 2\n",
        "\n",
        "2,4,6,8,10,12,14,16,18"
      ]
    },
    {
      "cell_type": "code",
      "metadata": {
        "colab": {
          "base_uri": "https://localhost:8080/"
        },
        "id": "pbX4kL19CLpI",
        "outputId": "f00a6295-3b44-4dbc-fec1-80d9b4614ac3"
      },
      "source": [
        "def mul_table():\n",
        "    len_table = list(range(1,10))\n",
        "    n = int(input(\"구구단을 출력할 숫자를 입력하세요(2~9) : \"))\n",
        "    for i in len_table :\n",
        "        m=n*i\n",
        "        print(m, end=' ')\n",
        "\n",
        "mul_table()"
      ],
      "execution_count": null,
      "outputs": [
        {
          "output_type": "stream",
          "text": [
            "구구단을 출력할 숫자를 입력하세요(2~9) : 5\n",
            "5 10 15 20 25 30 35 40 45 "
          ],
          "name": "stdout"
        }
      ]
    },
    {
      "cell_type": "markdown",
      "metadata": {
        "id": "3Cie8JKnCL5K"
      },
      "source": [
        "#3주차 실습과제6\n",
        "피보나치 수열은 1,1,2,3,5,8,... 순으로 앞의 두 수를 합한 수를 나열한 수열이다. 예를 들어 다섯 번째 피보나치 수는 세 번째 수 2와 네 번째 수 3의 합이다. 다음 세 가지 규칙만 알면 몇 번째 피보나치 수라도 계산할 수 있다.\n",
        "\n",
        "규칙1:첫 번째 피보나치 수는 1\n",
        "\n",
        "규칙2:두 번째 피보나치 수는 1\n",
        "\n",
        "규칙3:그 후, N번째 피보나치 수는 (N-1)번째 피보나치 수와 (N-2)번째 피보나치 수의 합\n",
        "\n",
        "N번째 피보나치 수를 구하는(리턴하는) 함수 fib(n)을 정의하고 fib(20)을 실행해보자."
      ]
    },
    {
      "cell_type": "code",
      "metadata": {
        "colab": {
          "base_uri": "https://localhost:8080/"
        },
        "id": "F9-seBd0Fqof",
        "outputId": "43c94f13-0ed6-4b3c-e802-5522de416cd1"
      },
      "source": [
        "def fib(n):\n",
        "    if n<=1:\n",
        "        return n\n",
        "    else:\n",
        "        return fib(n-1)+fib(n-2)\n",
        "\n",
        "fib(20)"
      ],
      "execution_count": null,
      "outputs": [
        {
          "output_type": "execute_result",
          "data": {
            "text/plain": [
              "6765"
            ]
          },
          "metadata": {
            "tags": []
          },
          "execution_count": 26
        }
      ]
    },
    {
      "cell_type": "code",
      "metadata": {
        "id": "W5H2kvXkHcRo",
        "colab": {
          "base_uri": "https://localhost:8080/"
        },
        "outputId": "a33b42c3-550a-45e9-8e6d-92e73c8d0e69"
      },
      "source": [
        "def fib(num):\n",
        "    Fibo = [0,1]\n",
        "    for i in range(2,num+1):\n",
        "        Fibo.append(Fibo[i-1]+Fibo[i-2])\n",
        "    print('피보나치 리스트',Fibo)\n",
        "    return Fibo[-1]\n",
        "\n",
        "print('fib(20)은',fib(20))"
      ],
      "execution_count": null,
      "outputs": [
        {
          "output_type": "stream",
          "text": [
            "피보나치 리스트 [0, 1, 1, 2, 3, 5, 8, 13, 21, 34, 55, 89, 144, 233, 377, 610, 987, 1597, 2584, 4181, 6765]\n",
            "fib(20)은 6765\n"
          ],
          "name": "stdout"
        }
      ]
    },
    {
      "cell_type": "markdown",
      "metadata": {
        "id": "AKCXoA80HciA"
      },
      "source": [
        "#3주차 실습과제7\n",
        "어떤 시험에서 90이상이면 A, 80이상 90미만이면 B, 70이상 80미만이면 C, 60이상 70미만이면 D, 60미만이면 F를 주려고 한다. 입력 점수에 대해서 위와 같은 학점을 리턴하는 Grading함수를 작성하고 이를 이용하여 다음과 같은 출력이 나오는 프로그램을 작성하여라.\n",
        "\n",
        "실행 예:\n",
        "\n",
        "\"당신의 점수는?\" 75\n",
        "\n",
        "\"75점은 C입니다.\""
      ]
    },
    {
      "cell_type": "code",
      "metadata": {
        "id": "sdahQ5FRH5Hp",
        "colab": {
          "base_uri": "https://localhost:8080/"
        },
        "outputId": "ce9265e2-8856-409a-b995-eebdb0ecf9b6"
      },
      "source": [
        "def grading(num):\n",
        "    if num>=90:\n",
        "        return 'A'\n",
        "    elif num>=80:\n",
        "        return 'B'\n",
        "    elif num>=70:\n",
        "        return 'C'\n",
        "    elif num>=60:\n",
        "        return 'D'\n",
        "    else:\n",
        "        return 'F'\n",
        "\n",
        "grade = int(input('당신의 점수는? '))\n",
        "print('%d점은 %c입니다.' %(grade, grading(grade)))"
      ],
      "execution_count": null,
      "outputs": [
        {
          "output_type": "stream",
          "text": [
            "당신의 점수는? 75\n",
            "75점은 C입니다.\n"
          ],
          "name": "stdout"
        }
      ]
    },
    {
      "cell_type": "markdown",
      "metadata": {
        "id": "V2VNvfKmH5Uq"
      },
      "source": [
        "#3주차 실습과제8\n",
        "맨처음 실습과제는 홀수인지 짝수인지를 판별하는 프로그램을 작성하는 것이었고 다음과 같이 작성하였다.\n",
        "\n",
        "    number = input(\"자연수를 입력하세요\")\n",
        "    if int(number)%2==0:\n",
        "        print(\"짝수\")\n",
        "    else:\n",
        "        print(\"홀수)\n",
        "만약, 어떤 사람이 자연수가 아닌 17.5를 입력하거나 한글로 삼백을 입력했을 때, 자연수를 입력하라는 메시지가 다시 나오도록 try except를 이용하여 프로그램을 작성하여라."
      ]
    },
    {
      "cell_type": "code",
      "metadata": {
        "id": "0Zsc2jOAIrno",
        "colab": {
          "base_uri": "https://localhost:8080/"
        },
        "outputId": "8aff6427-ed10-49a6-fa84-9117f212ec49"
      },
      "source": [
        "while 1:\n",
        "    try:\n",
        "        n=int(input(\"자연수를 입력하세요 : \"))\n",
        "        if n%2==0:\n",
        "            print(\"짝\")\n",
        "        else:\n",
        "            print(\"홀\")\n",
        "        break\n",
        "    except ValueError:\n",
        "        print(\"자연수만 입력해주세요\")"
      ],
      "execution_count": null,
      "outputs": [
        {
          "output_type": "stream",
          "text": [
            "자연수를 입력하세요 : 17.5\n",
            "자연수만 입력해주세요\n",
            "자연수를 입력하세요 : 삼백\n",
            "자연수만 입력해주세요\n",
            "자연수를 입력하세요 : 5\n",
            "홀\n"
          ],
          "name": "stdout"
        }
      ]
    }
  ]
}