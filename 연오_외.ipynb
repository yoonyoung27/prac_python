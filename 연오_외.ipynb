{
  "nbformat": 4,
  "nbformat_minor": 0,
  "metadata": {
    "colab": {
      "name": "연오_외.ipynb",
      "provenance": [],
      "authorship_tag": "ABX9TyNuicZVeyPG2nIv7vieZdG1",
      "include_colab_link": true
    },
    "kernelspec": {
      "name": "python3",
      "display_name": "Python 3"
    },
    "language_info": {
      "name": "python"
    }
  },
  "cells": [
    {
      "cell_type": "markdown",
      "metadata": {
        "id": "view-in-github",
        "colab_type": "text"
      },
      "source": [
        "<a href=\"https://colab.research.google.com/github/yoonyoung27/prac_python/blob/main/%EC%97%B0%EC%98%A4_%EC%99%B8.ipynb\" target=\"_parent\"><img src=\"https://colab.research.google.com/assets/colab-badge.svg\" alt=\"Open In Colab\"/></a>"
      ]
    },
    {
      "cell_type": "markdown",
      "metadata": {
        "id": "mR5-ILsu60cs"
      },
      "source": [
        "3주차 마지막"
      ]
    },
    {
      "cell_type": "code",
      "metadata": {
        "colab": {
          "base_uri": "https://localhost:8080/"
        },
        "id": "KDnrn9NLOq60",
        "outputId": "f4eaa15e-7890-449d-9ef9-7bcb75174cd3"
      },
      "source": [
        "while True:\n",
        "    try:\n",
        "        print('0이 아닌 정수를 입력해 주세요 :', end=' ')\n",
        "        user_number = int(input())\n",
        "        result = 1/user_number\n",
        "    except ZeroDivisionError:\n",
        "        print('0으로 나눌 수 없습니다.')\n",
        "    except ValueError:\n",
        "        print('입력한 값은 정수가 아닙니다.')\n",
        "    else:\n",
        "        print(result)\n",
        "        break"
      ],
      "execution_count": null,
      "outputs": [
        {
          "output_type": "stream",
          "text": [
            "0이 아닌 정수를 입력해 주세요 : 0\n",
            "0으로 나눌 수 없습니다.\n",
            "0이 아닌 정수를 입력해 주세요 : 정수\n",
            "입력한 값은 정수가 아닙니다.\n",
            "0이 아닌 정수를 입력해 주세요 : 5\n",
            "0.2\n"
          ],
          "name": "stdout"
        }
      ]
    }
  ]
}