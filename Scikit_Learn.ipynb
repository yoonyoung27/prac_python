{
  "nbformat": 4,
  "nbformat_minor": 0,
  "metadata": {
    "colab": {
      "name": "Scikit_Learn.ipynb",
      "provenance": [],
      "authorship_tag": "ABX9TyNoYka9IzcbcJ0Jho4S03O2",
      "include_colab_link": true
    },
    "kernelspec": {
      "name": "python3",
      "display_name": "Python 3"
    },
    "language_info": {
      "name": "python"
    }
  },
  "cells": [
    {
      "cell_type": "markdown",
      "metadata": {
        "id": "view-in-github",
        "colab_type": "text"
      },
      "source": [
        "<a href=\"https://colab.research.google.com/github/yoonyoung27/prac_python/blob/main/Scikit_Learn.ipynb\" target=\"_parent\"><img src=\"https://colab.research.google.com/assets/colab-badge.svg\" alt=\"Open In Colab\"/></a>"
      ]
    },
    {
      "cell_type": "markdown",
      "metadata": {
        "id": "axxF4yQRCfxi"
      },
      "source": [
        "#Scikit-Learn Library\n",
        "https://scikit-learn.org/  \n",
        "https://scikit-learn.org/stable/tutorial/machine_learning_map/index.html\n",
        "\n",
        "1. estimator 선언 (e.g. LinearRegression)\n",
        "2. .fit() 함수 호출을 통한 트레이닝\n",
        "3. .predict() 함수 호출을 통한 예측"
      ]
    },
    {
      "cell_type": "code",
      "metadata": {
        "id": "OaMmH-EZCa9G"
      },
      "source": [
        "from sklearn.model_selection import train_test_split\n",
        "\n",
        "X_train, X_test, y_train, y_test = train_test_split(X, y, test_size=0.2)"
      ],
      "execution_count": null,
      "outputs": []
    },
    {
      "cell_type": "code",
      "metadata": {
        "id": "YhSIU31bGfKi"
      },
      "source": [
        "from sklearn.linear_model import LinearRegression\n",
        "\n",
        "lr = LinearRegression()"
      ],
      "execution_count": null,
      "outputs": []
    },
    {
      "cell_type": "code",
      "metadata": {
        "id": "wpSHhiGuGq1T"
      },
      "source": [
        "from sklearn.metrics import mean_squared_error\n",
        "import numpy as np\n",
        "\n",
        "MSE = mean_squared_error(y_test, y_preds)\n",
        "RMSE = np.sqrt(MSE)"
      ],
      "execution_count": null,
      "outputs": []
    }
  ]
}