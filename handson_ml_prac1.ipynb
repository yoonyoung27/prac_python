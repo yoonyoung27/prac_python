{
  "nbformat": 4,
  "nbformat_minor": 0,
  "metadata": {
    "colab": {
      "name": "handson_ml_prac1.ipynb",
      "provenance": [],
      "authorship_tag": "ABX9TyOni5mKdGymCyIGvlpj6nd9",
      "include_colab_link": true
    },
    "kernelspec": {
      "name": "python3",
      "display_name": "Python 3"
    },
    "language_info": {
      "name": "python"
    }
  },
  "cells": [
    {
      "cell_type": "markdown",
      "metadata": {
        "id": "view-in-github",
        "colab_type": "text"
      },
      "source": [
        "<a href=\"https://colab.research.google.com/github/yoonyoung27/prac_python/blob/main/handson_ml_prac1.ipynb\" target=\"_parent\"><img src=\"https://colab.research.google.com/assets/colab-badge.svg\" alt=\"Open In Colab\"/></a>"
      ]
    },
    {
      "cell_type": "markdown",
      "metadata": {
        "id": "ED3hL920iCqF"
      },
      "source": [
        "#핸즈온 머신러닝\n",
        "\n",
        "https://tensorflow.blog/%ed%95%b8%ec%a6%88%ec%98%a8-%eb%a8%b8%ec%8b%a0%eb%9f%ac%eb%8b%9d-1%ec%9e%a5-2%ec%9e%a5/\n",
        "\n",
        "#코드\n",
        "\n",
        "https://github.com/rickiepark/handson-ml/"
      ]
    },
    {
      "cell_type": "code",
      "metadata": {
        "id": "6bQkYCZydFVo"
      },
      "source": [
        ""
      ],
      "execution_count": null,
      "outputs": []
    }
  ]
}