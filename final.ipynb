{
  "nbformat": 4,
  "nbformat_minor": 0,
  "metadata": {
    "colab": {
      "name": "final.ipynb",
      "provenance": [],
      "authorship_tag": "ABX9TyPJsuQWwh6nbnQqA4O721Op",
      "include_colab_link": true
    },
    "kernelspec": {
      "name": "python3",
      "display_name": "Python 3"
    },
    "language_info": {
      "name": "python"
    }
  },
  "cells": [
    {
      "cell_type": "markdown",
      "metadata": {
        "id": "view-in-github",
        "colab_type": "text"
      },
      "source": [
        "<a href=\"https://colab.research.google.com/github/yoonyoung27/prac_python/blob/main/final.ipynb\" target=\"_parent\"><img src=\"https://colab.research.google.com/assets/colab-badge.svg\" alt=\"Open In Colab\"/></a>"
      ]
    },
    {
      "cell_type": "markdown",
      "metadata": {
        "id": "rXb2Xu8Hxkvi"
      },
      "source": [
        "#4.\n",
        "(a) 분산과 편향의 tradeoff에 관해 설명하시오.\n",
        "\n",
        "편향은 훈련 데이터와 예측값의 차이값을 뜻하고 분산은 테스트 데이터와 예측값의 차이값을 뜻하는데  \n",
        "모델의 복잡도가 늘어나면 분산이 커지고 편향이 줄어들고, 그 반대의 경우 편향이 커기조 분산이 줄어드는 trade off의 관계를 가진다."
      ]
    },
    {
      "cell_type": "markdown",
      "metadata": {
        "id": "v2-HR6ngxtvf"
      },
      "source": [
        "(b) sklearn의 diabetes 데이터를 불러오고 선형회귀를 실행해보자. 또한 Ridge와 Lasso 회귀를 실행하고 하이퍼 파라미터를 조정해보자."
      ]
    },
    {
      "cell_type": "code",
      "metadata": {
        "id": "kSgrwcAaxecb"
      },
      "source": [
        "from sklearn import datasets\n",
        "diabetes = datasets.load_diabetes()"
      ],
      "execution_count": null,
      "outputs": []
    },
    {
      "cell_type": "code",
      "metadata": {
        "colab": {
          "base_uri": "https://localhost:8080/"
        },
        "id": "JlFeSdIX8Z8W",
        "outputId": "cc3e1ee3-ffae-40da-e0dc-3e7d0dda7208"
      },
      "source": [
        "diabetes"
      ],
      "execution_count": null,
      "outputs": [
        {
          "output_type": "execute_result",
          "data": {
            "text/plain": [
              "{'DESCR': '.. _diabetes_dataset:\\n\\nDiabetes dataset\\n----------------\\n\\nTen baseline variables, age, sex, body mass index, average blood\\npressure, and six blood serum measurements were obtained for each of n =\\n442 diabetes patients, as well as the response of interest, a\\nquantitative measure of disease progression one year after baseline.\\n\\n**Data Set Characteristics:**\\n\\n  :Number of Instances: 442\\n\\n  :Number of Attributes: First 10 columns are numeric predictive values\\n\\n  :Target: Column 11 is a quantitative measure of disease progression one year after baseline\\n\\n  :Attribute Information:\\n      - Age\\n      - Sex\\n      - Body mass index\\n      - Average blood pressure\\n      - S1\\n      - S2\\n      - S3\\n      - S4\\n      - S5\\n      - S6\\n\\nNote: Each of these 10 feature variables have been mean centered and scaled by the standard deviation times `n_samples` (i.e. the sum of squares of each column totals 1).\\n\\nSource URL:\\nhttps://www4.stat.ncsu.edu/~boos/var.select/diabetes.html\\n\\nFor more information see:\\nBradley Efron, Trevor Hastie, Iain Johnstone and Robert Tibshirani (2004) \"Least Angle Regression,\" Annals of Statistics (with discussion), 407-499.\\n(https://web.stanford.edu/~hastie/Papers/LARS/LeastAngle_2002.pdf)',\n",
              " 'data': array([[ 0.03807591,  0.05068012,  0.06169621, ..., -0.00259226,\n",
              "          0.01990842, -0.01764613],\n",
              "        [-0.00188202, -0.04464164, -0.05147406, ..., -0.03949338,\n",
              "         -0.06832974, -0.09220405],\n",
              "        [ 0.08529891,  0.05068012,  0.04445121, ..., -0.00259226,\n",
              "          0.00286377, -0.02593034],\n",
              "        ...,\n",
              "        [ 0.04170844,  0.05068012, -0.01590626, ..., -0.01107952,\n",
              "         -0.04687948,  0.01549073],\n",
              "        [-0.04547248, -0.04464164,  0.03906215, ...,  0.02655962,\n",
              "          0.04452837, -0.02593034],\n",
              "        [-0.04547248, -0.04464164, -0.0730303 , ..., -0.03949338,\n",
              "         -0.00421986,  0.00306441]]),\n",
              " 'data_filename': '/usr/local/lib/python3.7/dist-packages/sklearn/datasets/data/diabetes_data.csv.gz',\n",
              " 'feature_names': ['age',\n",
              "  'sex',\n",
              "  'bmi',\n",
              "  'bp',\n",
              "  's1',\n",
              "  's2',\n",
              "  's3',\n",
              "  's4',\n",
              "  's5',\n",
              "  's6'],\n",
              " 'target': array([151.,  75., 141., 206., 135.,  97., 138.,  63., 110., 310., 101.,\n",
              "         69., 179., 185., 118., 171., 166., 144.,  97., 168.,  68.,  49.,\n",
              "         68., 245., 184., 202., 137.,  85., 131., 283., 129.,  59., 341.,\n",
              "         87.,  65., 102., 265., 276., 252.,  90., 100.,  55.,  61.,  92.,\n",
              "        259.,  53., 190., 142.,  75., 142., 155., 225.,  59., 104., 182.,\n",
              "        128.,  52.,  37., 170., 170.,  61., 144.,  52., 128.,  71., 163.,\n",
              "        150.,  97., 160., 178.,  48., 270., 202., 111.,  85.,  42., 170.,\n",
              "        200., 252., 113., 143.,  51.,  52., 210.,  65., 141.,  55., 134.,\n",
              "         42., 111.,  98., 164.,  48.,  96.,  90., 162., 150., 279.,  92.,\n",
              "         83., 128., 102., 302., 198.,  95.,  53., 134., 144., 232.,  81.,\n",
              "        104.,  59., 246., 297., 258., 229., 275., 281., 179., 200., 200.,\n",
              "        173., 180.,  84., 121., 161.,  99., 109., 115., 268., 274., 158.,\n",
              "        107.,  83., 103., 272.,  85., 280., 336., 281., 118., 317., 235.,\n",
              "         60., 174., 259., 178., 128.,  96., 126., 288.,  88., 292.,  71.,\n",
              "        197., 186.,  25.,  84.,  96., 195.,  53., 217., 172., 131., 214.,\n",
              "         59.,  70., 220., 268., 152.,  47.,  74., 295., 101., 151., 127.,\n",
              "        237., 225.,  81., 151., 107.,  64., 138., 185., 265., 101., 137.,\n",
              "        143., 141.,  79., 292., 178.,  91., 116.,  86., 122.,  72., 129.,\n",
              "        142.,  90., 158.,  39., 196., 222., 277.,  99., 196., 202., 155.,\n",
              "         77., 191.,  70.,  73.,  49.,  65., 263., 248., 296., 214., 185.,\n",
              "         78.,  93., 252., 150.,  77., 208.,  77., 108., 160.,  53., 220.,\n",
              "        154., 259.,  90., 246., 124.,  67.,  72., 257., 262., 275., 177.,\n",
              "         71.,  47., 187., 125.,  78.,  51., 258., 215., 303., 243.,  91.,\n",
              "        150., 310., 153., 346.,  63.,  89.,  50.,  39., 103., 308., 116.,\n",
              "        145.,  74.,  45., 115., 264.,  87., 202., 127., 182., 241.,  66.,\n",
              "         94., 283.,  64., 102., 200., 265.,  94., 230., 181., 156., 233.,\n",
              "         60., 219.,  80.,  68., 332., 248.,  84., 200.,  55.,  85.,  89.,\n",
              "         31., 129.,  83., 275.,  65., 198., 236., 253., 124.,  44., 172.,\n",
              "        114., 142., 109., 180., 144., 163., 147.,  97., 220., 190., 109.,\n",
              "        191., 122., 230., 242., 248., 249., 192., 131., 237.,  78., 135.,\n",
              "        244., 199., 270., 164.,  72.,  96., 306.,  91., 214.,  95., 216.,\n",
              "        263., 178., 113., 200., 139., 139.,  88., 148.,  88., 243.,  71.,\n",
              "         77., 109., 272.,  60.,  54., 221.,  90., 311., 281., 182., 321.,\n",
              "         58., 262., 206., 233., 242., 123., 167.,  63., 197.,  71., 168.,\n",
              "        140., 217., 121., 235., 245.,  40.,  52., 104., 132.,  88.,  69.,\n",
              "        219.,  72., 201., 110.,  51., 277.,  63., 118.,  69., 273., 258.,\n",
              "         43., 198., 242., 232., 175.,  93., 168., 275., 293., 281.,  72.,\n",
              "        140., 189., 181., 209., 136., 261., 113., 131., 174., 257.,  55.,\n",
              "         84.,  42., 146., 212., 233.,  91., 111., 152., 120.,  67., 310.,\n",
              "         94., 183.,  66., 173.,  72.,  49.,  64.,  48., 178., 104., 132.,\n",
              "        220.,  57.]),\n",
              " 'target_filename': '/usr/local/lib/python3.7/dist-packages/sklearn/datasets/data/diabetes_target.csv.gz'}"
            ]
          },
          "metadata": {
            "tags": []
          },
          "execution_count": 33
        }
      ]
    },
    {
      "cell_type": "code",
      "metadata": {
        "colab": {
          "base_uri": "https://localhost:8080/"
        },
        "id": "u_b2ylnp6jQS",
        "outputId": "b917ada3-0ef4-4b60-feaa-0335af97c220"
      },
      "source": [
        "diabetes.keys()"
      ],
      "execution_count": null,
      "outputs": [
        {
          "output_type": "execute_result",
          "data": {
            "text/plain": [
              "dict_keys(['data', 'target', 'DESCR', 'feature_names', 'data_filename', 'target_filename'])"
            ]
          },
          "metadata": {
            "tags": []
          },
          "execution_count": 34
        }
      ]
    },
    {
      "cell_type": "code",
      "metadata": {
        "id": "1OONqmXF_rP9"
      },
      "source": [
        "X = diabetes.data\n",
        "y = diabetes.target"
      ],
      "execution_count": null,
      "outputs": []
    },
    {
      "cell_type": "code",
      "metadata": {
        "id": "kUpIDkZAMCoz"
      },
      "source": [
        "X_train = X[:-20]\n",
        "X_test = X[-20:]\n",
        "\n",
        "y_train = y[:-20]\n",
        "y_test = y[-20:]"
      ],
      "execution_count": null,
      "outputs": []
    },
    {
      "cell_type": "code",
      "metadata": {
        "colab": {
          "base_uri": "https://localhost:8080/"
        },
        "id": "8_HVKG2D9O5X",
        "outputId": "9819e7b0-574d-4c09-c98d-65270d7efc3e"
      },
      "source": [
        "from sklearn.linear_model import LinearRegression\n",
        "lin_reg = LinearRegression()\n",
        "lin_reg.fit(X_train,y_train)\n",
        "lin_reg.intercept_, lin_reg.coef_"
      ],
      "execution_count": null,
      "outputs": [
        {
          "output_type": "execute_result",
          "data": {
            "text/plain": [
              "(152.76430691633442,\n",
              " array([ 3.03499549e-01, -2.37639315e+02,  5.10530605e+02,  3.27736980e+02,\n",
              "        -8.14131709e+02,  4.92814588e+02,  1.02848452e+02,  1.84606489e+02,\n",
              "         7.43519617e+02,  7.60951722e+01]))"
            ]
          },
          "metadata": {
            "tags": []
          },
          "execution_count": 45
        }
      ]
    },
    {
      "cell_type": "code",
      "metadata": {
        "colab": {
          "base_uri": "https://localhost:8080/"
        },
        "id": "Eves0-USMd5G",
        "outputId": "9cb01a45-b11e-4184-e845-653c66467ffd"
      },
      "source": [
        "lin_reg.score(X_train, y_train)\n",
        "lin_reg.score(X_test, y_test)"
      ],
      "execution_count": null,
      "outputs": [
        {
          "output_type": "execute_result",
          "data": {
            "text/plain": [
              "0.5850753022690574"
            ]
          },
          "metadata": {
            "tags": []
          },
          "execution_count": 47
        }
      ]
    },
    {
      "cell_type": "code",
      "metadata": {
        "id": "y3yIO97TNe7d"
      },
      "source": [
        "from sklearn.model_selection import train_test_split\n",
        "X_train, X_test, y_train, y_test = train_test_split(X, y, test_size=0.2, random_state=42)"
      ],
      "execution_count": null,
      "outputs": []
    },
    {
      "cell_type": "code",
      "metadata": {
        "colab": {
          "base_uri": "https://localhost:8080/"
        },
        "id": "MreG7zBYEo6z",
        "outputId": "61699b3f-f089-4531-b05c-c9d336b7759e"
      },
      "source": [
        "from sklearn.linear_model import Ridge\n",
        "ridge_reg_0 = Ridge(alpha=0, solver='cholesky')\n",
        "ridge_reg_0.fit(X_train,y_train)\n",
        "\n",
        "ridge_reg_1 = Ridge(alpha=1, solver='cholesky')\n",
        "ridge_reg_1.fit(X_train,y_train)\n",
        "\n",
        "ridge_reg_100 = Ridge(alpha=100, solver='cholesky')\n",
        "ridge_reg_100.fit(X_train,y_train)"
      ],
      "execution_count": null,
      "outputs": [
        {
          "output_type": "execute_result",
          "data": {
            "text/plain": [
              "Ridge(alpha=100, copy_X=True, fit_intercept=True, max_iter=None,\n",
              "      normalize=False, random_state=None, solver='cholesky', tol=0.001)"
            ]
          },
          "metadata": {
            "tags": []
          },
          "execution_count": 56
        }
      ]
    },
    {
      "cell_type": "code",
      "metadata": {
        "colab": {
          "base_uri": "https://localhost:8080/"
        },
        "id": "v8v3DP_vN-ln",
        "outputId": "e13f988f-6dc1-4937-dbd9-3f31cecf6e78"
      },
      "source": [
        "print(ridge_reg_0.score(X_test, y_test),\n",
        "      ridge_reg_1.score(X_test, y_test),\n",
        "      ridge_reg_100.score(X_test, y_test))"
      ],
      "execution_count": null,
      "outputs": [
        {
          "output_type": "stream",
          "text": [
            "0.45260660216173826 0.4191532397912693 0.012171837445885458\n"
          ],
          "name": "stdout"
        }
      ]
    },
    {
      "cell_type": "code",
      "metadata": {
        "colab": {
          "base_uri": "https://localhost:8080/"
        },
        "id": "BAr6VhDOFhH_",
        "outputId": "e45e285d-0ecd-4fcb-ffb4-eda3b7889c04"
      },
      "source": [
        "from sklearn.linear_model import Lasso\n",
        "lasso_reg_0 = Lasso(alpha=0)\n",
        "lasso_reg_0.fit(X_train,y_train)\n",
        "\n",
        "lasso_reg_1 = Ridge(alpha=1)\n",
        "lasso_reg_1.fit(X_train,y_train)\n",
        "\n",
        "lasso_reg_100 = Ridge(alpha=100, solver='cholesky')\n",
        "lasso_reg_100.fit(X_train,y_train)"
      ],
      "execution_count": null,
      "outputs": [
        {
          "output_type": "stream",
          "text": [
            "/usr/local/lib/python3.7/dist-packages/ipykernel_launcher.py:3: UserWarning: With alpha=0, this algorithm does not converge well. You are advised to use the LinearRegression estimator\n",
            "  This is separate from the ipykernel package so we can avoid doing imports until\n",
            "/usr/local/lib/python3.7/dist-packages/sklearn/linear_model/_coordinate_descent.py:476: UserWarning: Coordinate descent with no regularization may lead to unexpected results and is discouraged.\n",
            "  positive)\n",
            "/usr/local/lib/python3.7/dist-packages/sklearn/linear_model/_coordinate_descent.py:476: ConvergenceWarning: Objective did not converge. You might want to increase the number of iterations. Duality gap: 506298.47211422364, tolerance: 214.49684985835697\n",
            "  positive)\n"
          ],
          "name": "stderr"
        },
        {
          "output_type": "execute_result",
          "data": {
            "text/plain": [
              "Ridge(alpha=100, copy_X=True, fit_intercept=True, max_iter=None,\n",
              "      normalize=False, random_state=None, solver='cholesky', tol=0.001)"
            ]
          },
          "metadata": {
            "tags": []
          },
          "execution_count": 62
        }
      ]
    },
    {
      "cell_type": "code",
      "metadata": {
        "colab": {
          "base_uri": "https://localhost:8080/"
        },
        "id": "YRad-Je8PK_4",
        "outputId": "92b051d7-660d-417b-87e9-e48a2b19a9cc"
      },
      "source": [
        "print(lasso_reg_0.score(X_test, y_test),\n",
        "      lasso_reg_1.score(X_test, y_test),\n",
        "      lasso_reg_100.score(X_test, y_test))"
      ],
      "execution_count": null,
      "outputs": [
        {
          "output_type": "stream",
          "text": [
            "0.4526066022334356 0.4191532397912693 0.012171837445885458\n"
          ],
          "name": "stdout"
        }
      ]
    },
    {
      "cell_type": "markdown",
      "metadata": {
        "id": "w7CGP6yfPWkH"
      },
      "source": [
        "#9.\n",
        "(a) valid kernel이란 무엇인지 설명하시오.\n",
        "\n",
        "어떤 kernel에 대하여 ![image.png](data:image/png;base64,iVBORw0KGgoAAAANSUhEUgAAALQAAAASCAYAAADyiPTBAAAEhElEQVRoBdVaiZHkIAx0Po6HfIhH8ZCPtlr8jzEY45q9qj17eCR1SyDBzMFf/yNiqnQSU91YjRpqaMrHzBd1DBny8aD/jvsl+49PaTedoLoENGFhTz7EvKFjwpzPhv533C/a/2lAG62T3ZlYnZpN8Dqx1vFTaJ54yeX7iYZ10LOuw0v9pWeNe4Fbo/k8Dj7Kv8Dh+8hr+6Hjmd/WA9po1kPlgmHdHXjXf0fkyPzWGMPUtetO76b+13h1wZFhvMZM2m8yWBTKbUAt3m5wb7XfYmr5bTGgZ3Y8YqX6kR/JvCGr2X0vH9OaOobJbyre0Pgur03cTczE5JMkKT6Dvwwb3z6E9gP7YUcDQxXQRp95uklA6dOnopNRHZDyK3gEZRpwSCcHB9FuejPYRkTLmFS+n2T1nEkpc6UD7f3l5mWuPSt+D8tlKvU5r5Ayzm0PM6mz8o9IL+Pjdfsjhid+qwJaiCXFR0g30iL/Ga1YxyV8u+PGmXhL0hYRGxwEslWf9OcTBz/V8w30cLpb1GOCcFJNB4b+V1+IVSMQrIrWwuwpLzDNcHuJuazBS/0b7UekLPitGdCkDk5XB+AYY5IDHHK3YpXsfCXk1ue0+BejM5lp4LVm37el8sPozGk9HbOBFDRMvBhxFmlsGJpJgq+YvsgrpI1ze4EZ5UbTt9/YL4w89FsjoMvVh/op20pFH1JnWTKgA4sBzsIMm17TlEruAImnYUq2aENjKX9MvpjoeFFSHuFDX4dhrfyBKM5/681mNysNvISAyWpVy9lzXiF/hts2ZpQbZTx/Z7/lCGWXt2HGb3VAo9w4FJMh1kqxunByC7Tc89pIlnlkUM8VgS+7Eq6Gkvq7Kj8uwgj3yCPyw/TEYbc6YGtiU5DhXq6us7LrrfZ8Wdjh2quocT3fTs0Sr5AhdiZ2dHHnmO0G5M9J8Yzzqf3Cw3O/VQFtd8CTlUb9aQPSrxTHuTxq4pMvTUBqa5tJBUy/z8i3qdQUu19fZe7c/ti5XuE08IEMGAMu70OGK3fHGdxzdtkDZLTlanZu40771/1WBDSMxcqMJYaszuCMCLkmPvZhTkipsfm1tz3y9wU0zhthgcuB25U2RlcZ8FteBzH/rP0IqRxDHtBF+pMILFOYC0sEVSPOpbfnFDd96bFHPojp1NALJYeANTgzkOzAh7o4ELpzx3e83mBOvfST9sPAHEMW0Hlq8Wjsrl3tuFi1aS2CxSCeyFcMvs2J+72Xef+sbHlZfm3BxYm/HrjQAm5ibdoUtJnXXOcs5l+zH2hyDDagZWeOhwF/S2EPGLE9C+BCkC8DULce7o61vmvO6ex9koBOas235Ve6s2uiqnexwQZC9vuIy2yQO2gr7mHMP2o/vFJgyHboWa/JVY7ffl1KPpFOtZIfuFylzlE92b3yBvmpHXPfzqUz33/fzau3eBfmr+wHjhLDUkDLnedq1Hp2q6etOavmHQ2N3wTsUDMuE1emm7+I34r5A/tBZgPDYkBDqL3IH3fW2Eh827XZpc6QPfaPoeyM2sSr1fgB5q32A0Ubwx8ksq79CqRePwAAAABJRU5ErkJggg==)인 feature map ![image.png](data:image/png;base64,iVBORw0KGgoAAAANSUhEUgAAAB0AAAAPCAYAAAAYjcSfAAABXklEQVQ4EZ1Uiw1DIQhkH+dhH+ZhHva5BvyhPtuXNmmCCBzc4SP88zOB6NtEg27B9DZ1xilEbB7fWFuTB6hJARGlf0HGUGa8HjI1pCIj7wCtcQqmFWz4+R9IAMroqRuowVShwqAiUFVYZtIT89hpkt+mghvqADXhsRxOcenFlVFasPt7txlEmaJJ76/K88SSQVjgMQEagaU6AIMUmsWVQVR1VH4o5sxUNDAL1Dz/qTn31zoBGp2OEVzPuSz57gRVaJfYZDCSWZj2Buoidwrddj1DSpPoPuzYhYdJW9VFkomUrB3Ur8xicXwacpr2JWp6DUJSOTdPFraAkC1pOq+9m6TnvKiWM9IXzD3OSnQxpwi3aGVqyT+2t4ItH4VO8SXR3Z1Si2Wr1Ju1xVryvr7TPfI8x9PqIvvyEKG4HMJh3+mfyzne6Vn+5lHIrfIt5de395a3+E0h8TgX7+Vwxn4AhT393e8j2PYAAAAASUVORK5CYII=)이 존재하여 ![image.png](data:image/png;base64,iVBORw0KGgoAAAANSUhEUgAAAIAAAAASCAYAAACTkNaDAAADoElEQVRoBe1Z23HtIAykHwq5FdAP9age9aM7C8ZYQn5ynHzkZCaJHyB2pWXBdpDvz5/OQPjT7L/k5SuA3xIBZ4khSLC/MQv/IKY5AXCWTG+hZaH3gs+BvsXb50G5FZokxSQ1jSz5LufLWHwcEwIgyfllrV4mN1fPe70f8B54kFBLHSWJqc0iFm7XL4G6iWXAIeMSwDlqW9qAy7FZVpT0r6n2EtLHjTBTWnoeB7nYceAeoliNU3rGe48HpShrijc438JicfgOQEnCaksdFeckuUiXJHmoe9PPHVFyE/S5AWwkkuQUvraa4O3ygP23pcDiwPkLWAwOVwCUgkQjfWbumxMEMfc9+J+5NpH0WwBYmEgoQ/xZiGi04yneDg/Yv5vHN7FoHI4ArOqwLumFCfbkGQCEg+ShdbWw0UJtTc7bseR0NEtsxPvn1dlqP+BZi6LW58rpOe+RB+zf1n8Gy3kuwVHjGAUA+w9JiElySpKc5HvABbOnVr70IWbJ0RdKLxEJERexrInF45GyRcQ5WHf3HqfU49V+/5K0dTyMFbq4Wy4WwHO8O49aqLaf6uPNYbmSy0UAm3wOAqizOErKJDB9FNGqdEwEBl+yhIKs1eyl9o5gudCMijfYYk+cF2P2WuG74oX7dbHoewZnGfgO73Meerx7WK7lEqA1DiMADApFdssvqlwTVNOtCmYqgParhZp7/qneCCEJejgN2I8xcXVr82Xzuyw3nAf3m+N9gcc0lrNcIk8ahxaAsbyS1mKxfVaUEDt7ANw7SlKJZ/+oGQ9w1nFw7WAPMLkEFDjMZdMH7CHtbACXfY0WZydzzvuERws1g+U0lxhE41AC0BbUEFVXULNaDVSqLqFkBsG7WPAmr1p8WO63mP2/dgyt4NpK71p7z08fAbt1HzPGTd669x0eD7AsAu118nIJRBpHFUCZ+X1T0nbyYmaXCr6ZCq2IXOLUGczc33YVYW3W1m1iWl8o0xWgeW7d9v3McU22eie/6zg6eQ37Hm+F7xKP51gwVsOzm0s0MjiUAyjAJyflcaVtFRahRNhnTuUjx0YfJRLvvtGDUiG+KDGO+4enb95O4D++fZd3G+gNHgpLGeg4l2hicTwWAKwk2yo3tsP/usaOl/FFbLNkpKSfOJx310OMH79wh/cC7jUeGyxmr4ZC26c3OLr91jQhAHgOLa+Gj6tQ3rB5TbDTLijxpcrO/muxvbCvX7vIu+J4mUfDcphLIPFx/Afsqb0aHp1CLgAAAABJRU5ErkJggg==)가 성립하는 kernel을 valid kernel이라고 한다."
      ]
    },
    {
      "cell_type": "markdown",
      "metadata": {
        "id": "YQoerLzbPj5P"
      },
      "source": [
        "(b) 적절히 MOONS 데이터 셋을 생성하고 SVC 와 gaussian kernel을 사용하여 분류기를 만들어보자. 정확도를 높이도록 매개변수를 조정해 보자."
      ]
    },
    {
      "cell_type": "code",
      "metadata": {
        "id": "Q7Pt7IeuuGAZ"
      },
      "source": [
        "from sklearn.model_selection import train_test_split\n",
        "from sklearn.datasets import make_moons"
      ],
      "execution_count": 14,
      "outputs": []
    },
    {
      "cell_type": "code",
      "metadata": {
        "id": "OLpYYA2QtV1W"
      },
      "source": [
        "X, y = make_moons(n_samples=500, noise=0.20, random_state=42)\n",
        "X_train, X_test, y_train, y_test = train_test_split(X, y,  random_state=42)"
      ],
      "execution_count": 15,
      "outputs": []
    },
    {
      "cell_type": "markdown",
      "metadata": {
        "id": "vx6tU4SopmFd"
      },
      "source": [
        "#12.\n",
        "(a) SVM 알고리즘은 어떤 양의 최적화 문제로 바꾸어 이야기할 수 있는지 설명하시오.\n",
        "\n",
        "SVM 알고리즘은 선형적인 제약 조건이 있는 볼록 함수의 이차 최적화 문제로 바꾸어 이야기 할 수 있다. 이를 콰드라틱 프로그래밍 문제라고 한다."
      ]
    },
    {
      "cell_type": "markdown",
      "metadata": {
        "id": "gab9xG2Vpt9d"
      },
      "source": [
        "(b) load wine 명령어로 데이터를 불러오고 여러 가지 커널을 사용하여 SVC 분류기를 만들어보시오. 정확도가 높아지도록 매개변수를 조정하여 보시오."
      ]
    },
    {
      "cell_type": "code",
      "metadata": {
        "id": "YjW37pk3uFtt",
        "colab": {
          "base_uri": "https://localhost:8080/"
        },
        "outputId": "f8777453-3b0d-4d54-f17e-2c68cd036def"
      },
      "source": [
        "from sklearn import datasets\n",
        "wine = datasets.load_wine()\n",
        "wine"
      ],
      "execution_count": 16,
      "outputs": [
        {
          "output_type": "execute_result",
          "data": {
            "text/plain": [
              "{'DESCR': '.. _wine_dataset:\\n\\nWine recognition dataset\\n------------------------\\n\\n**Data Set Characteristics:**\\n\\n    :Number of Instances: 178 (50 in each of three classes)\\n    :Number of Attributes: 13 numeric, predictive attributes and the class\\n    :Attribute Information:\\n \\t\\t- Alcohol\\n \\t\\t- Malic acid\\n \\t\\t- Ash\\n\\t\\t- Alcalinity of ash  \\n \\t\\t- Magnesium\\n\\t\\t- Total phenols\\n \\t\\t- Flavanoids\\n \\t\\t- Nonflavanoid phenols\\n \\t\\t- Proanthocyanins\\n\\t\\t- Color intensity\\n \\t\\t- Hue\\n \\t\\t- OD280/OD315 of diluted wines\\n \\t\\t- Proline\\n\\n    - class:\\n            - class_0\\n            - class_1\\n            - class_2\\n\\t\\t\\n    :Summary Statistics:\\n    \\n    ============================= ==== ===== ======= =====\\n                                   Min   Max   Mean     SD\\n    ============================= ==== ===== ======= =====\\n    Alcohol:                      11.0  14.8    13.0   0.8\\n    Malic Acid:                   0.74  5.80    2.34  1.12\\n    Ash:                          1.36  3.23    2.36  0.27\\n    Alcalinity of Ash:            10.6  30.0    19.5   3.3\\n    Magnesium:                    70.0 162.0    99.7  14.3\\n    Total Phenols:                0.98  3.88    2.29  0.63\\n    Flavanoids:                   0.34  5.08    2.03  1.00\\n    Nonflavanoid Phenols:         0.13  0.66    0.36  0.12\\n    Proanthocyanins:              0.41  3.58    1.59  0.57\\n    Colour Intensity:              1.3  13.0     5.1   2.3\\n    Hue:                          0.48  1.71    0.96  0.23\\n    OD280/OD315 of diluted wines: 1.27  4.00    2.61  0.71\\n    Proline:                       278  1680     746   315\\n    ============================= ==== ===== ======= =====\\n\\n    :Missing Attribute Values: None\\n    :Class Distribution: class_0 (59), class_1 (71), class_2 (48)\\n    :Creator: R.A. Fisher\\n    :Donor: Michael Marshall (MARSHALL%PLU@io.arc.nasa.gov)\\n    :Date: July, 1988\\n\\nThis is a copy of UCI ML Wine recognition datasets.\\nhttps://archive.ics.uci.edu/ml/machine-learning-databases/wine/wine.data\\n\\nThe data is the results of a chemical analysis of wines grown in the same\\nregion in Italy by three different cultivators. There are thirteen different\\nmeasurements taken for different constituents found in the three types of\\nwine.\\n\\nOriginal Owners: \\n\\nForina, M. et al, PARVUS - \\nAn Extendible Package for Data Exploration, Classification and Correlation. \\nInstitute of Pharmaceutical and Food Analysis and Technologies,\\nVia Brigata Salerno, 16147 Genoa, Italy.\\n\\nCitation:\\n\\nLichman, M. (2013). UCI Machine Learning Repository\\n[https://archive.ics.uci.edu/ml]. Irvine, CA: University of California,\\nSchool of Information and Computer Science. \\n\\n.. topic:: References\\n\\n  (1) S. Aeberhard, D. Coomans and O. de Vel, \\n  Comparison of Classifiers in High Dimensional Settings, \\n  Tech. Rep. no. 92-02, (1992), Dept. of Computer Science and Dept. of  \\n  Mathematics and Statistics, James Cook University of North Queensland. \\n  (Also submitted to Technometrics). \\n\\n  The data was used with many others for comparing various \\n  classifiers. The classes are separable, though only RDA \\n  has achieved 100% correct classification. \\n  (RDA : 100%, QDA 99.4%, LDA 98.9%, 1NN 96.1% (z-transformed data)) \\n  (All results using the leave-one-out technique) \\n\\n  (2) S. Aeberhard, D. Coomans and O. de Vel, \\n  \"THE CLASSIFICATION PERFORMANCE OF RDA\" \\n  Tech. Rep. no. 92-01, (1992), Dept. of Computer Science and Dept. of \\n  Mathematics and Statistics, James Cook University of North Queensland. \\n  (Also submitted to Journal of Chemometrics).\\n',\n",
              " 'data': array([[1.423e+01, 1.710e+00, 2.430e+00, ..., 1.040e+00, 3.920e+00,\n",
              "         1.065e+03],\n",
              "        [1.320e+01, 1.780e+00, 2.140e+00, ..., 1.050e+00, 3.400e+00,\n",
              "         1.050e+03],\n",
              "        [1.316e+01, 2.360e+00, 2.670e+00, ..., 1.030e+00, 3.170e+00,\n",
              "         1.185e+03],\n",
              "        ...,\n",
              "        [1.327e+01, 4.280e+00, 2.260e+00, ..., 5.900e-01, 1.560e+00,\n",
              "         8.350e+02],\n",
              "        [1.317e+01, 2.590e+00, 2.370e+00, ..., 6.000e-01, 1.620e+00,\n",
              "         8.400e+02],\n",
              "        [1.413e+01, 4.100e+00, 2.740e+00, ..., 6.100e-01, 1.600e+00,\n",
              "         5.600e+02]]),\n",
              " 'feature_names': ['alcohol',\n",
              "  'malic_acid',\n",
              "  'ash',\n",
              "  'alcalinity_of_ash',\n",
              "  'magnesium',\n",
              "  'total_phenols',\n",
              "  'flavanoids',\n",
              "  'nonflavanoid_phenols',\n",
              "  'proanthocyanins',\n",
              "  'color_intensity',\n",
              "  'hue',\n",
              "  'od280/od315_of_diluted_wines',\n",
              "  'proline'],\n",
              " 'target': array([0, 0, 0, 0, 0, 0, 0, 0, 0, 0, 0, 0, 0, 0, 0, 0, 0, 0, 0, 0, 0, 0,\n",
              "        0, 0, 0, 0, 0, 0, 0, 0, 0, 0, 0, 0, 0, 0, 0, 0, 0, 0, 0, 0, 0, 0,\n",
              "        0, 0, 0, 0, 0, 0, 0, 0, 0, 0, 0, 0, 0, 0, 0, 1, 1, 1, 1, 1, 1, 1,\n",
              "        1, 1, 1, 1, 1, 1, 1, 1, 1, 1, 1, 1, 1, 1, 1, 1, 1, 1, 1, 1, 1, 1,\n",
              "        1, 1, 1, 1, 1, 1, 1, 1, 1, 1, 1, 1, 1, 1, 1, 1, 1, 1, 1, 1, 1, 1,\n",
              "        1, 1, 1, 1, 1, 1, 1, 1, 1, 1, 1, 1, 1, 1, 1, 1, 1, 1, 1, 1, 2, 2,\n",
              "        2, 2, 2, 2, 2, 2, 2, 2, 2, 2, 2, 2, 2, 2, 2, 2, 2, 2, 2, 2, 2, 2,\n",
              "        2, 2, 2, 2, 2, 2, 2, 2, 2, 2, 2, 2, 2, 2, 2, 2, 2, 2, 2, 2, 2, 2,\n",
              "        2, 2]),\n",
              " 'target_names': array(['class_0', 'class_1', 'class_2'], dtype='<U7')}"
            ]
          },
          "metadata": {
            "tags": []
          },
          "execution_count": 16
        }
      ]
    },
    {
      "cell_type": "code",
      "metadata": {
        "colab": {
          "base_uri": "https://localhost:8080/"
        },
        "id": "hX-5ootIttRE",
        "outputId": "25c6c3ec-9aa3-4889-bda8-d921bb6c7391"
      },
      "source": [
        "print(wine.DESCR)"
      ],
      "execution_count": 20,
      "outputs": [
        {
          "output_type": "stream",
          "text": [
            ".. _wine_dataset:\n",
            "\n",
            "Wine recognition dataset\n",
            "------------------------\n",
            "\n",
            "**Data Set Characteristics:**\n",
            "\n",
            "    :Number of Instances: 178 (50 in each of three classes)\n",
            "    :Number of Attributes: 13 numeric, predictive attributes and the class\n",
            "    :Attribute Information:\n",
            " \t\t- Alcohol\n",
            " \t\t- Malic acid\n",
            " \t\t- Ash\n",
            "\t\t- Alcalinity of ash  \n",
            " \t\t- Magnesium\n",
            "\t\t- Total phenols\n",
            " \t\t- Flavanoids\n",
            " \t\t- Nonflavanoid phenols\n",
            " \t\t- Proanthocyanins\n",
            "\t\t- Color intensity\n",
            " \t\t- Hue\n",
            " \t\t- OD280/OD315 of diluted wines\n",
            " \t\t- Proline\n",
            "\n",
            "    - class:\n",
            "            - class_0\n",
            "            - class_1\n",
            "            - class_2\n",
            "\t\t\n",
            "    :Summary Statistics:\n",
            "    \n",
            "    ============================= ==== ===== ======= =====\n",
            "                                   Min   Max   Mean     SD\n",
            "    ============================= ==== ===== ======= =====\n",
            "    Alcohol:                      11.0  14.8    13.0   0.8\n",
            "    Malic Acid:                   0.74  5.80    2.34  1.12\n",
            "    Ash:                          1.36  3.23    2.36  0.27\n",
            "    Alcalinity of Ash:            10.6  30.0    19.5   3.3\n",
            "    Magnesium:                    70.0 162.0    99.7  14.3\n",
            "    Total Phenols:                0.98  3.88    2.29  0.63\n",
            "    Flavanoids:                   0.34  5.08    2.03  1.00\n",
            "    Nonflavanoid Phenols:         0.13  0.66    0.36  0.12\n",
            "    Proanthocyanins:              0.41  3.58    1.59  0.57\n",
            "    Colour Intensity:              1.3  13.0     5.1   2.3\n",
            "    Hue:                          0.48  1.71    0.96  0.23\n",
            "    OD280/OD315 of diluted wines: 1.27  4.00    2.61  0.71\n",
            "    Proline:                       278  1680     746   315\n",
            "    ============================= ==== ===== ======= =====\n",
            "\n",
            "    :Missing Attribute Values: None\n",
            "    :Class Distribution: class_0 (59), class_1 (71), class_2 (48)\n",
            "    :Creator: R.A. Fisher\n",
            "    :Donor: Michael Marshall (MARSHALL%PLU@io.arc.nasa.gov)\n",
            "    :Date: July, 1988\n",
            "\n",
            "This is a copy of UCI ML Wine recognition datasets.\n",
            "https://archive.ics.uci.edu/ml/machine-learning-databases/wine/wine.data\n",
            "\n",
            "The data is the results of a chemical analysis of wines grown in the same\n",
            "region in Italy by three different cultivators. There are thirteen different\n",
            "measurements taken for different constituents found in the three types of\n",
            "wine.\n",
            "\n",
            "Original Owners: \n",
            "\n",
            "Forina, M. et al, PARVUS - \n",
            "An Extendible Package for Data Exploration, Classification and Correlation. \n",
            "Institute of Pharmaceutical and Food Analysis and Technologies,\n",
            "Via Brigata Salerno, 16147 Genoa, Italy.\n",
            "\n",
            "Citation:\n",
            "\n",
            "Lichman, M. (2013). UCI Machine Learning Repository\n",
            "[https://archive.ics.uci.edu/ml]. Irvine, CA: University of California,\n",
            "School of Information and Computer Science. \n",
            "\n",
            ".. topic:: References\n",
            "\n",
            "  (1) S. Aeberhard, D. Coomans and O. de Vel, \n",
            "  Comparison of Classifiers in High Dimensional Settings, \n",
            "  Tech. Rep. no. 92-02, (1992), Dept. of Computer Science and Dept. of  \n",
            "  Mathematics and Statistics, James Cook University of North Queensland. \n",
            "  (Also submitted to Technometrics). \n",
            "\n",
            "  The data was used with many others for comparing various \n",
            "  classifiers. The classes are separable, though only RDA \n",
            "  has achieved 100% correct classification. \n",
            "  (RDA : 100%, QDA 99.4%, LDA 98.9%, 1NN 96.1% (z-transformed data)) \n",
            "  (All results using the leave-one-out technique) \n",
            "\n",
            "  (2) S. Aeberhard, D. Coomans and O. de Vel, \n",
            "  \"THE CLASSIFICATION PERFORMANCE OF RDA\" \n",
            "  Tech. Rep. no. 92-01, (1992), Dept. of Computer Science and Dept. of \n",
            "  Mathematics and Statistics, James Cook University of North Queensland. \n",
            "  (Also submitted to Journal of Chemometrics).\n",
            "\n"
          ],
          "name": "stdout"
        }
      ]
    },
    {
      "cell_type": "code",
      "metadata": {
        "id": "i1J6Ii7kttvW"
      },
      "source": [
        "from sklearn.model_selection import train_test_split\n",
        "X_train, X_test, y_train, y_test = train_test_split(wine.data, wine.target, test_size =0.3, random_state=42)"
      ],
      "execution_count": 19,
      "outputs": []
    },
    {
      "cell_type": "code",
      "metadata": {
        "colab": {
          "base_uri": "https://localhost:8080/"
        },
        "id": "wH_gSVoGuBzD",
        "outputId": "e7561ae6-c283-4344-fac8-65023e25f0d6"
      },
      "source": [
        "from sklearn.svm import SVC\n",
        "\n",
        "svm_clf = SVC(kernel='linear')\n",
        "svm_clf.fit(X_train, y_train)\n",
        "y_pred = svm_clf.predict(X_test)\n",
        "accuracy_score(y_test, y_pred)"
      ],
      "execution_count": 22,
      "outputs": [
        {
          "output_type": "execute_result",
          "data": {
            "text/plain": [
              "0.9814814814814815"
            ]
          },
          "metadata": {
            "tags": []
          },
          "execution_count": 22
        }
      ]
    },
    {
      "cell_type": "code",
      "metadata": {
        "colab": {
          "base_uri": "https://localhost:8080/"
        },
        "id": "kVu1SbxuuMCq",
        "outputId": "700e6573-6b79-4ed1-f4e3-d6b8a4874655"
      },
      "source": [
        "from sklearn.linear_model import SGDClassifier\n",
        "sgd_clf=SGDClassifier()\n",
        "sgd_clf.fit(X_train, y_train)\n",
        "y_pred1 = sgd_clf.predict(X_test)\n",
        "accuracy_score(y_test, y_pred1)"
      ],
      "execution_count": 28,
      "outputs": [
        {
          "output_type": "execute_result",
          "data": {
            "text/plain": [
              "0.7222222222222222"
            ]
          },
          "metadata": {
            "tags": []
          },
          "execution_count": 28
        }
      ]
    },
    {
      "cell_type": "markdown",
      "metadata": {
        "id": "X2bRaMx3tyvI"
      },
      "source": [
        "#14.\n",
        "(a) 랜덤포레스트 알고리즘에 대하여 설명하시오.\n",
        "\n",
        "분류나 회귀 분석 등에 사용되는 앙상블 학습 방법중 하나입니다. 앙상블의 배깅 방법중 하나입니다. 랜덤 포레스트는 다수의 결정트리를 이용해서 하나의 큰 모델을 만듭니다. 나무가 많으면 숲이 되듯 이름도 결정 트리에서 포레스트가 됩니다.\n"
      ]
    },
    {
      "cell_type": "markdown",
      "metadata": {
        "id": "DQuwprllt58T"
      },
      "source": [
        "(b) 타이타닉 데이터 셋을 불러오고 Decision Tree Classifier를 이용하여 분류기를 만드시오. 정확도를 높이도록 매개변수를 조정해 보시오."
      ]
    },
    {
      "cell_type": "code",
      "metadata": {
        "id": "7uTVk0K6Nalo"
      },
      "source": [
        "import pandas as pd\n",
        "import numpy as np\n",
        "import seaborn as sns\n",
        "import matplotlib.pyplot as plt\n",
        "import io"
      ],
      "execution_count": 88,
      "outputs": []
    },
    {
      "cell_type": "code",
      "metadata": {
        "colab": {
          "resources": {
            "http://localhost:8080/nbextensions/google.colab/files.js": {
              "data": "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",
              "ok": true,
              "headers": [
                [
                  "content-type",
                  "application/javascript"
                ]
              ],
              "status": 200,
              "status_text": ""
            }
          },
          "base_uri": "https://localhost:8080/",
          "height": 76
        },
        "id": "zH9CQB6B6xON",
        "outputId": "5be5cbf3-fcfe-4b81-9389-db2cc0baf3eb"
      },
      "source": [
        "from google.colab import files\n",
        "myfile = files.upload()"
      ],
      "execution_count": 82,
      "outputs": [
        {
          "output_type": "display_data",
          "data": {
            "text/html": [
              "\n",
              "     <input type=\"file\" id=\"files-2d0a0aed-0f2a-40a6-8845-33764c35960e\" name=\"files[]\" multiple disabled\n",
              "        style=\"border:none\" />\n",
              "     <output id=\"result-2d0a0aed-0f2a-40a6-8845-33764c35960e\">\n",
              "      Upload widget is only available when the cell has been executed in the\n",
              "      current browser session. Please rerun this cell to enable.\n",
              "      </output>\n",
              "      <script src=\"/nbextensions/google.colab/files.js\"></script> "
            ],
            "text/plain": [
              "<IPython.core.display.HTML object>"
            ]
          },
          "metadata": {
            "tags": []
          }
        },
        {
          "output_type": "stream",
          "text": [
            "Saving train.csv to train (1).csv\n"
          ],
          "name": "stdout"
        }
      ]
    },
    {
      "cell_type": "code",
      "metadata": {
        "colab": {
          "base_uri": "https://localhost:8080/",
          "height": 417
        },
        "id": "dSOswTec6_pz",
        "outputId": "f23823f8-508e-4bb8-fe99-ee9ffd562cce"
      },
      "source": [
        "data = pd.read_csv(io.BytesIO(myfile['train.csv']))\n",
        "data"
      ],
      "execution_count": 83,
      "outputs": [
        {
          "output_type": "execute_result",
          "data": {
            "text/html": [
              "<div>\n",
              "<style scoped>\n",
              "    .dataframe tbody tr th:only-of-type {\n",
              "        vertical-align: middle;\n",
              "    }\n",
              "\n",
              "    .dataframe tbody tr th {\n",
              "        vertical-align: top;\n",
              "    }\n",
              "\n",
              "    .dataframe thead th {\n",
              "        text-align: right;\n",
              "    }\n",
              "</style>\n",
              "<table border=\"1\" class=\"dataframe\">\n",
              "  <thead>\n",
              "    <tr style=\"text-align: right;\">\n",
              "      <th></th>\n",
              "      <th>PassengerId</th>\n",
              "      <th>Survived</th>\n",
              "      <th>Pclass</th>\n",
              "      <th>Name</th>\n",
              "      <th>Sex</th>\n",
              "      <th>Age</th>\n",
              "      <th>SibSp</th>\n",
              "      <th>Parch</th>\n",
              "      <th>Ticket</th>\n",
              "      <th>Fare</th>\n",
              "      <th>Cabin</th>\n",
              "      <th>Embarked</th>\n",
              "    </tr>\n",
              "  </thead>\n",
              "  <tbody>\n",
              "    <tr>\n",
              "      <th>0</th>\n",
              "      <td>1</td>\n",
              "      <td>0</td>\n",
              "      <td>3</td>\n",
              "      <td>Braund, Mr. Owen Harris</td>\n",
              "      <td>male</td>\n",
              "      <td>22.0</td>\n",
              "      <td>1</td>\n",
              "      <td>0</td>\n",
              "      <td>A/5 21171</td>\n",
              "      <td>7.2500</td>\n",
              "      <td>NaN</td>\n",
              "      <td>S</td>\n",
              "    </tr>\n",
              "    <tr>\n",
              "      <th>1</th>\n",
              "      <td>2</td>\n",
              "      <td>1</td>\n",
              "      <td>1</td>\n",
              "      <td>Cumings, Mrs. John Bradley (Florence Briggs Th...</td>\n",
              "      <td>female</td>\n",
              "      <td>38.0</td>\n",
              "      <td>1</td>\n",
              "      <td>0</td>\n",
              "      <td>PC 17599</td>\n",
              "      <td>71.2833</td>\n",
              "      <td>C85</td>\n",
              "      <td>C</td>\n",
              "    </tr>\n",
              "    <tr>\n",
              "      <th>2</th>\n",
              "      <td>3</td>\n",
              "      <td>1</td>\n",
              "      <td>3</td>\n",
              "      <td>Heikkinen, Miss. Laina</td>\n",
              "      <td>female</td>\n",
              "      <td>26.0</td>\n",
              "      <td>0</td>\n",
              "      <td>0</td>\n",
              "      <td>STON/O2. 3101282</td>\n",
              "      <td>7.9250</td>\n",
              "      <td>NaN</td>\n",
              "      <td>S</td>\n",
              "    </tr>\n",
              "    <tr>\n",
              "      <th>3</th>\n",
              "      <td>4</td>\n",
              "      <td>1</td>\n",
              "      <td>1</td>\n",
              "      <td>Futrelle, Mrs. Jacques Heath (Lily May Peel)</td>\n",
              "      <td>female</td>\n",
              "      <td>35.0</td>\n",
              "      <td>1</td>\n",
              "      <td>0</td>\n",
              "      <td>113803</td>\n",
              "      <td>53.1000</td>\n",
              "      <td>C123</td>\n",
              "      <td>S</td>\n",
              "    </tr>\n",
              "    <tr>\n",
              "      <th>4</th>\n",
              "      <td>5</td>\n",
              "      <td>0</td>\n",
              "      <td>3</td>\n",
              "      <td>Allen, Mr. William Henry</td>\n",
              "      <td>male</td>\n",
              "      <td>35.0</td>\n",
              "      <td>0</td>\n",
              "      <td>0</td>\n",
              "      <td>373450</td>\n",
              "      <td>8.0500</td>\n",
              "      <td>NaN</td>\n",
              "      <td>S</td>\n",
              "    </tr>\n",
              "    <tr>\n",
              "      <th>...</th>\n",
              "      <td>...</td>\n",
              "      <td>...</td>\n",
              "      <td>...</td>\n",
              "      <td>...</td>\n",
              "      <td>...</td>\n",
              "      <td>...</td>\n",
              "      <td>...</td>\n",
              "      <td>...</td>\n",
              "      <td>...</td>\n",
              "      <td>...</td>\n",
              "      <td>...</td>\n",
              "      <td>...</td>\n",
              "    </tr>\n",
              "    <tr>\n",
              "      <th>886</th>\n",
              "      <td>887</td>\n",
              "      <td>0</td>\n",
              "      <td>2</td>\n",
              "      <td>Montvila, Rev. Juozas</td>\n",
              "      <td>male</td>\n",
              "      <td>27.0</td>\n",
              "      <td>0</td>\n",
              "      <td>0</td>\n",
              "      <td>211536</td>\n",
              "      <td>13.0000</td>\n",
              "      <td>NaN</td>\n",
              "      <td>S</td>\n",
              "    </tr>\n",
              "    <tr>\n",
              "      <th>887</th>\n",
              "      <td>888</td>\n",
              "      <td>1</td>\n",
              "      <td>1</td>\n",
              "      <td>Graham, Miss. Margaret Edith</td>\n",
              "      <td>female</td>\n",
              "      <td>19.0</td>\n",
              "      <td>0</td>\n",
              "      <td>0</td>\n",
              "      <td>112053</td>\n",
              "      <td>30.0000</td>\n",
              "      <td>B42</td>\n",
              "      <td>S</td>\n",
              "    </tr>\n",
              "    <tr>\n",
              "      <th>888</th>\n",
              "      <td>889</td>\n",
              "      <td>0</td>\n",
              "      <td>3</td>\n",
              "      <td>Johnston, Miss. Catherine Helen \"Carrie\"</td>\n",
              "      <td>female</td>\n",
              "      <td>NaN</td>\n",
              "      <td>1</td>\n",
              "      <td>2</td>\n",
              "      <td>W./C. 6607</td>\n",
              "      <td>23.4500</td>\n",
              "      <td>NaN</td>\n",
              "      <td>S</td>\n",
              "    </tr>\n",
              "    <tr>\n",
              "      <th>889</th>\n",
              "      <td>890</td>\n",
              "      <td>1</td>\n",
              "      <td>1</td>\n",
              "      <td>Behr, Mr. Karl Howell</td>\n",
              "      <td>male</td>\n",
              "      <td>26.0</td>\n",
              "      <td>0</td>\n",
              "      <td>0</td>\n",
              "      <td>111369</td>\n",
              "      <td>30.0000</td>\n",
              "      <td>C148</td>\n",
              "      <td>C</td>\n",
              "    </tr>\n",
              "    <tr>\n",
              "      <th>890</th>\n",
              "      <td>891</td>\n",
              "      <td>0</td>\n",
              "      <td>3</td>\n",
              "      <td>Dooley, Mr. Patrick</td>\n",
              "      <td>male</td>\n",
              "      <td>32.0</td>\n",
              "      <td>0</td>\n",
              "      <td>0</td>\n",
              "      <td>370376</td>\n",
              "      <td>7.7500</td>\n",
              "      <td>NaN</td>\n",
              "      <td>Q</td>\n",
              "    </tr>\n",
              "  </tbody>\n",
              "</table>\n",
              "<p>891 rows × 12 columns</p>\n",
              "</div>"
            ],
            "text/plain": [
              "     PassengerId  Survived  Pclass  ...     Fare Cabin  Embarked\n",
              "0              1         0       3  ...   7.2500   NaN         S\n",
              "1              2         1       1  ...  71.2833   C85         C\n",
              "2              3         1       3  ...   7.9250   NaN         S\n",
              "3              4         1       1  ...  53.1000  C123         S\n",
              "4              5         0       3  ...   8.0500   NaN         S\n",
              "..           ...       ...     ...  ...      ...   ...       ...\n",
              "886          887         0       2  ...  13.0000   NaN         S\n",
              "887          888         1       1  ...  30.0000   B42         S\n",
              "888          889         0       3  ...  23.4500   NaN         S\n",
              "889          890         1       1  ...  30.0000  C148         C\n",
              "890          891         0       3  ...   7.7500   NaN         Q\n",
              "\n",
              "[891 rows x 12 columns]"
            ]
          },
          "metadata": {
            "tags": []
          },
          "execution_count": 83
        }
      ]
    },
    {
      "cell_type": "code",
      "metadata": {
        "id": "DaPqskdxNCW_"
      },
      "source": [
        "dtypes_col       = data.columns\n",
        "dtypes_type_old  = data.dtypes\n",
        "dtypes_type      = ['int16', 'bool','category','object','category','float32','int8','int8','object','float32','object','category']\n",
        "optimized_dtypes = dict(zip(dtypes_col, dtypes_type))\n",
        "\n",
        "data = pd.read_csv(io.BytesIO(myfile['train.csv']),dtype=optimized_dtypes)"
      ],
      "execution_count": 84,
      "outputs": []
    },
    {
      "cell_type": "code",
      "metadata": {
        "colab": {
          "resources": {
            "http://localhost:8080/nbextensions/google.colab/files.js": {
              "data": "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",
              "ok": true,
              "headers": [
                [
                  "content-type",
                  "application/javascript"
                ]
              ],
              "status": 200,
              "status_text": ""
            }
          },
          "base_uri": "https://localhost:8080/",
          "height": 305
        },
        "id": "PPxcCX31NGm-",
        "outputId": "37ab2ab5-92a1-4f4d-e87f-d84deab0df1b"
      },
      "source": [
        "from sklearn.model_selection import train_test_split\n",
        "\n",
        "myfile= files.upload()\n",
        "test = pd.read_csv(io.BytesIO(myfile['test.csv']), dtype=optimized_dtypes)\n",
        "\n",
        "#splitting data to train and validation\n",
        "train, valid = train_test_split(data, test_size=0.2)\n",
        "\n",
        "\n",
        "combined = {\"train\":train,\n",
        "            \"valid\":valid,\n",
        "            \"test\":test}\n",
        "\n",
        "data.isnull().sum()"
      ],
      "execution_count": 85,
      "outputs": [
        {
          "output_type": "display_data",
          "data": {
            "text/html": [
              "\n",
              "     <input type=\"file\" id=\"files-d705e801-26fc-4f9e-8461-a32bcb890d04\" name=\"files[]\" multiple disabled\n",
              "        style=\"border:none\" />\n",
              "     <output id=\"result-d705e801-26fc-4f9e-8461-a32bcb890d04\">\n",
              "      Upload widget is only available when the cell has been executed in the\n",
              "      current browser session. Please rerun this cell to enable.\n",
              "      </output>\n",
              "      <script src=\"/nbextensions/google.colab/files.js\"></script> "
            ],
            "text/plain": [
              "<IPython.core.display.HTML object>"
            ]
          },
          "metadata": {
            "tags": []
          }
        },
        {
          "output_type": "stream",
          "text": [
            "Saving test.csv to test (1).csv\n"
          ],
          "name": "stdout"
        },
        {
          "output_type": "execute_result",
          "data": {
            "text/plain": [
              "PassengerId      0\n",
              "Survived         0\n",
              "Pclass           0\n",
              "Name             0\n",
              "Sex              0\n",
              "Age            177\n",
              "SibSp            0\n",
              "Parch            0\n",
              "Ticket           0\n",
              "Fare             0\n",
              "Cabin          687\n",
              "Embarked         2\n",
              "dtype: int64"
            ]
          },
          "metadata": {
            "tags": []
          },
          "execution_count": 85
        }
      ]
    },
    {
      "cell_type": "code",
      "metadata": {
        "id": "yqi7mSxrNQhp"
      },
      "source": [
        "combined_cleaned = {}\n",
        "for i,data in combined.items():\n",
        "    combined_cleaned[i] = data.drop('Cabin', 1).copy()"
      ],
      "execution_count": 86,
      "outputs": []
    },
    {
      "cell_type": "code",
      "metadata": {
        "colab": {
          "base_uri": "https://localhost:8080/",
          "height": 751
        },
        "id": "vF6aK2INNU5R",
        "outputId": "bfa55bfa-3157-4272-fbb1-45a8e8db55cd"
      },
      "source": [
        "#numerical features\n",
        "\n",
        "train_numeric = combined_cleaned[\"train\"].select_dtypes(include=['float32','int16','int8','bool'])\n",
        "\n",
        "colormap = plt.cm.cubehelix_r\n",
        "plt.figure(figsize=(16,12))\n",
        "\n",
        "plt.title('Pearson correlation of numeric features', y=1.05, size=15)\n",
        "sns.heatmap(train_numeric.corr(),linewidths=0.1,vmax=1.0, square=True, cmap=colormap, linecolor='white', annot=True)\n",
        "\n",
        "plt.show()"
      ],
      "execution_count": 89,
      "outputs": [
        {
          "output_type": "display_data",
          "data": {
            "image/png": "[encoded data removed]",
            "text/plain": [
              "<Figure size 1152x864 with 2 Axes>"
            ]
          },
          "metadata": {
            "tags": [],
            "needs_background": "light"
          }
        }
      ]
    },
    {
      "cell_type": "code",
      "metadata": {
        "colab": {
          "base_uri": "https://localhost:8080/",
          "height": 286
        },
        "id": "Zcz8hXaiNfxE",
        "outputId": "1caa891d-c9d1-45ea-fdca-94c3ebe4de39"
      },
      "source": [
        "# category features# category features\n",
        "\n",
        "#we do not count NaN categories\n",
        "def survived_percent(categories,column):\n",
        "    survived_list = []\n",
        "    for c in categories.dropna():\n",
        "        count = combined_cleaned[\"train\"][combined_cleaned[\"train\"][column] == c][column].count()\n",
        "        survived = combined_cleaned[\"train\"][combined_cleaned[\"train\"][column] == c][\"Survived\"].sum()/count\n",
        "        survived_list.append(survived)\n",
        "    return survived_list    \n",
        "   \n",
        "category_features_list = [\"Sex\", \"Embarked\",\"Pclass\"]\n",
        "category_features = {}\n",
        "\n",
        "for x in category_features_list:\n",
        "    unique_values = combined_cleaned[\"train\"][x].unique().dropna()\n",
        "    survived = survived_percent(unique_values,x)\n",
        "    category_features[x] = [unique_values, survived]\n",
        "\n",
        "\n",
        "\n",
        "fig, axs = plt.subplots(1, 3, figsize=(18, 4), sharey=True)\n",
        "cb_dark_blue = (0/255,107/255,164/255)\n",
        "cb_orange = (255/255, 128/255, 14/255)\n",
        "cb_grey = (89/255, 89/255, 89/255)\n",
        "color=[cb_dark_blue,cb_orange,cb_grey]\n",
        "\n",
        "font_dict = {'fontsize':20, \n",
        "             'fontweight':'bold',\n",
        "             'color':\"white\"}\n",
        "\n",
        "for i,cat in enumerate(category_features.keys()):\n",
        "    number_categories = len(category_features[cat][0])\n",
        "    axs[i].bar(range(number_categories), category_features[cat][1], color=color[:number_categories])\n",
        "    axs[i].set_title(\"Survival rate \" + cat ,fontsize=20, fontweight='bold' )\n",
        "    for j,indx in enumerate(category_features[cat][1]):\n",
        "        label_text = category_features[cat][0][j]\n",
        "        x = j\n",
        "        y = indx\n",
        "        axs[i].annotate(label_text, xy = (x-0.15 ,y/2), **font_dict )\n",
        "\n",
        "for i in range(3):\n",
        "    axs[i].tick_params(\n",
        "        axis='x',          # changes apply to the x-axis\n",
        "        which='both',      # both major and minor ticks are affected\n",
        "        bottom='off',      # ticks along the bottom edge are off\n",
        "        top='off',         # ticks along the top edge are off\n",
        "        labelbottom='off') # labels along the bottom edge are off\n",
        "    axs[i].patch.set_visible(False)\n",
        "\n",
        "plt.show()"
      ],
      "execution_count": 90,
      "outputs": [
        {
          "output_type": "display_data",
          "data": {
            "image/png": "[encoded data removed]",
            "text/plain": [
              "<Figure size 1296x288 with 3 Axes>"
            ]
          },
          "metadata": {
            "tags": [],
            "needs_background": "light"
          }
        }
      ]
    },
    {
      "cell_type": "code",
      "metadata": {
        "id": "tCqkfEdDNigu"
      },
      "source": [
        "# filling NaN in \"Embarked\" and \"Fare\"\n",
        "for i,data in combined_cleaned.items():\n",
        "    data[\"Embarked\"].fillna(value=\"S\",inplace=True) # S is most popular value \n",
        "    mean_Fare = data[\"Fare\"].mean()\n",
        "    data[\"Fare\"].fillna(value=mean_Fare,inplace=True)"
      ],
      "execution_count": 91,
      "outputs": []
    },
    {
      "cell_type": "code",
      "metadata": {
        "colab": {
          "base_uri": "https://localhost:8080/",
          "height": 281
        },
        "id": "S3LsLaVONk7_",
        "outputId": "75c88eb6-8f49-40c8-ef93-6f545f036301"
      },
      "source": [
        "# filling NaN in \"Age\" \n",
        "fig, ax = plt.subplots( figsize=(6,4))\n",
        "x = combined_cleaned[\"train\"][\"Age\"].dropna()\n",
        "hist, bins = np.histogram( x,bins=15)\n",
        "\n",
        "#plot of histogram\n",
        "ax.hist(x,  color='grey')\n",
        "ax.set_title('Age histogram')\n",
        "plt.show()"
      ],
      "execution_count": 92,
      "outputs": [
        {
          "output_type": "display_data",
          "data": {
            "image/png": "[encoded data removed]",
            "text/plain": [
              "<Figure size 432x288 with 1 Axes>"
            ]
          },
          "metadata": {
            "tags": [],
            "needs_background": "light"
          }
        }
      ]
    },
    {
      "cell_type": "code",
      "metadata": {
        "id": "KuLdO-4QNoPa"
      },
      "source": [
        "from random import choices\n",
        "\n",
        "bin_centers = 0.5*(bins[:len(bins)-1]+bins[1:])\n",
        "probabilities = hist/hist.sum()\n",
        "\n",
        "#dictionary with random numbers from existing age distribution\n",
        "for i,data in combined_cleaned.items():\n",
        "    data[\"Age_rand\"] = data[\"Age\"].apply(lambda v: np.random.choice(bin_centers, p=probabilities))\n",
        "    Age_null_list   = data[data[\"Age\"].isnull()].index\n",
        "    \n",
        "    data.loc[Age_null_list,\"Age\"] = data.loc[Age_null_list,\"Age_rand\"]"
      ],
      "execution_count": 93,
      "outputs": []
    },
    {
      "cell_type": "code",
      "metadata": {
        "id": "tE3qJMdmNqjS"
      },
      "source": [
        "from sklearn import preprocessing,tree\n",
        "from sklearn.model_selection import GridSearchCV\n",
        "\n",
        "tree_data = {}\n",
        "tree_data_category = {}\n",
        "\n",
        "for i,data in combined_cleaned.items():\n",
        "    tree_data[i] = data.select_dtypes(include=['float32','int16','int8']).copy()\n",
        "    tree_data_category[i] = data.select_dtypes(include=['category'])\n",
        "\n",
        "    #categorical variables handling\n",
        "    for column in tree_data_category[i].columns:\n",
        "        le = preprocessing.LabelEncoder()\n",
        "        le.fit(data[column])\n",
        "        tree_data[i][column+\"_encoded\"] = le.transform(data[column])"
      ],
      "execution_count": 94,
      "outputs": []
    },
    {
      "cell_type": "code",
      "metadata": {
        "colab": {
          "base_uri": "https://localhost:8080/"
        },
        "id": "hb4UFmbDNsfU",
        "outputId": "45d1358d-2113-4332-a439-6ad2963d687c"
      },
      "source": [
        "#finding best fit with gridsearch\n",
        "param_grid = {'min_samples_leaf':np.arange(20,50,5),\n",
        "              'min_samples_split':np.arange(20,50,5),\n",
        "              'max_depth':np.arange(3,6),\n",
        "              'min_weight_fraction_leaf':np.arange(0,0.4,0.1),\n",
        "              'criterion':['gini','entropy']}\n",
        "clf = tree.DecisionTreeClassifier()\n",
        "tree_search = GridSearchCV(clf, param_grid, scoring='average_precision')\n",
        "\n",
        "X =  tree_data[\"train\"].drop(\"PassengerId\",axis=1)\n",
        "Y = combined_cleaned[\"train\"][\"Survived\"]\n",
        "tree_search.fit(X,Y)\n",
        "\n",
        "print(\"Tree best parameters :\",tree_search.best_params_)\n",
        "print(\"Tree best estimator :\",tree_search.best_estimator_ )\n",
        "print(\"Tree best score :\",tree_search.best_score_ )"
      ],
      "execution_count": 95,
      "outputs": [
        {
          "output_type": "stream",
          "text": [
            "Tree best parameters : {'criterion': 'gini', 'max_depth': 5, 'min_samples_leaf': 20, 'min_samples_split': 25, 'min_weight_fraction_leaf': 0.0}\n",
            "Tree best estimator : DecisionTreeClassifier(ccp_alpha=0.0, class_weight=None, criterion='gini',\n",
            "                       max_depth=5, max_features=None, max_leaf_nodes=None,\n",
            "                       min_impurity_decrease=0.0, min_impurity_split=None,\n",
            "                       min_samples_leaf=20, min_samples_split=25,\n",
            "                       min_weight_fraction_leaf=0.0, presort='deprecated',\n",
            "                       random_state=None, splitter='best')\n",
            "Tree best score : 0.7830922691217082\n"
          ],
          "name": "stdout"
        }
      ]
    },
    {
      "cell_type": "code",
      "metadata": {
        "colab": {
          "base_uri": "https://localhost:8080/",
          "height": 369
        },
        "id": "HvhPDAdWNySH",
        "outputId": "4612a7ea-a016-4fb6-8452-3c56ee484e87"
      },
      "source": [
        "tree_best_parameters = tree_search.best_params_\n",
        "tree_optimized = tree.DecisionTreeClassifier(**tree_best_parameters)\n",
        "tree_optimized.fit(X,Y)\n",
        "\n",
        "train_columns = list(tree_data[\"train\"].columns)\n",
        "train_columns.remove(\"PassengerId\")\n",
        "fig, ax = plt.subplots( figsize=(6,4))\n",
        "ax.bar(range(len(X.columns)),tree_optimized.feature_importances_ )\n",
        "plt.xticks(range(len(X.columns)),X.columns,rotation=90)\n",
        "ax.set_title(\"Feature importance\")\n",
        "plt.show()"
      ],
      "execution_count": 96,
      "outputs": [
        {
          "output_type": "display_data",
          "data": {
            "image/png": "[encoded data removed]",
            "text/plain": [
              "<Figure size 432x288 with 1 Axes>"
            ]
          },
          "metadata": {
            "tags": [],
            "needs_background": "light"
          }
        }
      ]
    },
    {
      "cell_type": "code",
      "metadata": {
        "colab": {
          "base_uri": "https://localhost:8080/",
          "height": 814
        },
        "id": "0TS8Qh4AN1DI",
        "outputId": "758a57dc-21d8-47c2-a34b-8b0bde15280b"
      },
      "source": [
        "import graphviz \n",
        "\n",
        "dot_data = tree.export_graphviz(tree_optimized, \n",
        "                                out_file=None,\n",
        "                                filled=True, \n",
        "                                rounded=True,  \n",
        "                                special_characters=True,\n",
        "                               feature_names = train_columns) \n",
        "graph = graphviz.Source(dot_data)\n",
        "graph"
      ],
      "execution_count": 97,
      "outputs": [
        {
          "output_type": "execute_result",
          "data": {
            "text/plain": [
              "<graphviz.files.Source at 0x7f9d64439ad0>"
            ],
            "image/svg+xml": "<?xml version=\"1.0\" encoding=\"UTF-8\" standalone=\"no\"?>\n<!DOCTYPE svg PUBLIC \"-//W3C//DTD SVG 1.1//EN\"\n \"http://www.w3.org/Graphics/SVG/1.1/DTD/svg11.dtd\">\n<!-- Generated by graphviz version 2.40.1 (20161225.0304)\n -->\n<!-- Title: Tree Pages: 1 -->\n<svg width=\"1290pt\" height=\"581pt\"\n viewBox=\"0.00 0.00 1289.50 581.00\" xmlns=\"http://www.w3.org/2000/svg\" xmlns:xlink=\"http://www.w3.org/1999/xlink\">\n<g id=\"graph0\" class=\"graph\" transform=\"scale(1 1) rotate(0) translate(4 577)\">\n<title>Tree</title>\n<polygon fill=\"#ffffff\" stroke=\"transparent\" points=\"-4,4 -4,-577 1285.5,-577 1285.5,4 -4,4\"/>\n<!-- 0 -->\n<g id=\"node1\" class=\"node\">\n<title>0</title>\n<path fill=\"#f4ccae\" stroke=\"#000000\" d=\"M767,-573C767,-573 648,-573 648,-573 642,-573 636,-567 636,-561 636,-561 636,-517 636,-517 636,-511 642,-505 648,-505 648,-505 767,-505 767,-505 773,-505 779,-511 779,-517 779,-517 779,-561 779,-561 779,-567 773,-573 767,-573\"/>\n<text text-anchor=\"start\" x=\"644\" y=\"-557.8\" font-family=\"Helvetica,sans-Serif\" font-size=\"14.00\" fill=\"#000000\">Sex_encoded ≤ 0.5</text>\n<text text-anchor=\"start\" x=\"669.5\" y=\"-542.8\" font-family=\"Helvetica,sans-Serif\" font-size=\"14.00\" fill=\"#000000\">gini = 0.467</text>\n<text text-anchor=\"start\" x=\"659.5\" y=\"-527.8\" font-family=\"Helvetica,sans-Serif\" font-size=\"14.00\" fill=\"#000000\">samples = 712</text>\n<text text-anchor=\"start\" x=\"649.5\" y=\"-512.8\" font-family=\"Helvetica,sans-Serif\" font-size=\"14.00\" fill=\"#000000\">value = [447, 265]</text>\n</g>\n<!-- 1 -->\n<g id=\"node2\" class=\"node\">\n<title>1</title>\n<path fill=\"#83c2ef\" stroke=\"#000000\" d=\"M648,-469C648,-469 511,-469 511,-469 505,-469 499,-463 499,-457 499,-457 499,-413 499,-413 499,-407 505,-401 511,-401 511,-401 648,-401 648,-401 654,-401 660,-407 660,-413 660,-413 660,-457 660,-457 660,-463 654,-469 648,-469\"/>\n<text text-anchor=\"start\" x=\"507\" y=\"-453.8\" font-family=\"Helvetica,sans-Serif\" font-size=\"14.00\" fill=\"#000000\">Pclass_encoded ≤ 1.5</text>\n<text text-anchor=\"start\" x=\"541.5\" y=\"-438.8\" font-family=\"Helvetica,sans-Serif\" font-size=\"14.00\" fill=\"#000000\">gini = 0.396</text>\n<text text-anchor=\"start\" x=\"531.5\" y=\"-423.8\" font-family=\"Helvetica,sans-Serif\" font-size=\"14.00\" fill=\"#000000\">samples = 239</text>\n<text text-anchor=\"start\" x=\"525.5\" y=\"-408.8\" font-family=\"Helvetica,sans-Serif\" font-size=\"14.00\" fill=\"#000000\">value = [65, 174]</text>\n</g>\n<!-- 0&#45;&gt;1 -->\n<g id=\"edge1\" class=\"edge\">\n<title>0&#45;&gt;1</title>\n<path fill=\"none\" stroke=\"#000000\" d=\"M665.588,-504.9465C653.985,-495.519 641.2779,-485.1946 629.2741,-475.4415\"/>\n<polygon fill=\"#000000\" stroke=\"#000000\" points=\"631.4744,-472.7196 621.5061,-469.13 627.0602,-478.1524 631.4744,-472.7196\"/>\n<text text-anchor=\"middle\" x=\"624.0786\" y=\"-490.2973\" font-family=\"Helvetica,sans-Serif\" font-size=\"14.00\" fill=\"#000000\">True</text>\n</g>\n<!-- 16 -->\n<g id=\"node17\" class=\"node\">\n<title>16</title>\n<path fill=\"#eb9f68\" stroke=\"#000000\" d=\"M932.5,-469C932.5,-469 832.5,-469 832.5,-469 826.5,-469 820.5,-463 820.5,-457 820.5,-457 820.5,-413 820.5,-413 820.5,-407 826.5,-401 832.5,-401 832.5,-401 932.5,-401 932.5,-401 938.5,-401 944.5,-407 944.5,-413 944.5,-413 944.5,-457 944.5,-457 944.5,-463 938.5,-469 932.5,-469\"/>\n<text text-anchor=\"start\" x=\"837\" y=\"-453.8\" font-family=\"Helvetica,sans-Serif\" font-size=\"14.00\" fill=\"#000000\">Fare ≤ 26.269</text>\n<text text-anchor=\"start\" x=\"844.5\" y=\"-438.8\" font-family=\"Helvetica,sans-Serif\" font-size=\"14.00\" fill=\"#000000\">gini = 0.311</text>\n<text text-anchor=\"start\" x=\"834.5\" y=\"-423.8\" font-family=\"Helvetica,sans-Serif\" font-size=\"14.00\" fill=\"#000000\">samples = 473</text>\n<text text-anchor=\"start\" x=\"828.5\" y=\"-408.8\" font-family=\"Helvetica,sans-Serif\" font-size=\"14.00\" fill=\"#000000\">value = [382, 91]</text>\n</g>\n<!-- 0&#45;&gt;16 -->\n<g id=\"edge16\" class=\"edge\">\n<title>0&#45;&gt;16</title>\n<path fill=\"none\" stroke=\"#000000\" d=\"M764.8015,-504.9465C781.2694,-495.1599 799.3638,-484.4066 816.3207,-474.3294\"/>\n<polygon fill=\"#000000\" stroke=\"#000000\" points=\"818.2613,-477.2476 825.0697,-469.13 814.6851,-471.23 818.2613,-477.2476\"/>\n<text text-anchor=\"middle\" x=\"818.9042\" y=\"-489.6578\" font-family=\"Helvetica,sans-Serif\" font-size=\"14.00\" fill=\"#000000\">False</text>\n</g>\n<!-- 2 -->\n<g id=\"node3\" class=\"node\">\n<title>2</title>\n<path fill=\"#45a3e7\" stroke=\"#000000\" d=\"M444.5,-365C444.5,-365 352.5,-365 352.5,-365 346.5,-365 340.5,-359 340.5,-353 340.5,-353 340.5,-309 340.5,-309 340.5,-303 346.5,-297 352.5,-297 352.5,-297 444.5,-297 444.5,-297 450.5,-297 456.5,-303 456.5,-309 456.5,-309 456.5,-353 456.5,-353 456.5,-359 450.5,-365 444.5,-365\"/>\n<text text-anchor=\"start\" x=\"363.5\" y=\"-349.8\" font-family=\"Helvetica,sans-Serif\" font-size=\"14.00\" fill=\"#000000\">Age ≤ 27.5</text>\n<text text-anchor=\"start\" x=\"360.5\" y=\"-334.8\" font-family=\"Helvetica,sans-Serif\" font-size=\"14.00\" fill=\"#000000\">gini = 0.107</text>\n<text text-anchor=\"start\" x=\"350.5\" y=\"-319.8\" font-family=\"Helvetica,sans-Serif\" font-size=\"14.00\" fill=\"#000000\">samples = 123</text>\n<text text-anchor=\"start\" x=\"348.5\" y=\"-304.8\" font-family=\"Helvetica,sans-Serif\" font-size=\"14.00\" fill=\"#000000\">value = [7, 116]</text>\n</g>\n<!-- 1&#45;&gt;2 -->\n<g id=\"edge2\" class=\"edge\">\n<title>1&#45;&gt;2</title>\n<path fill=\"none\" stroke=\"#000000\" d=\"M520.2338,-400.9465C502.6907,-390.8665 483.3628,-379.761 465.3741,-369.4249\"/>\n<polygon fill=\"#000000\" stroke=\"#000000\" points=\"467.0788,-366.3678 456.6645,-364.4205 463.5914,-372.4373 467.0788,-366.3678\"/>\n</g>\n<!-- 9 -->\n<g id=\"node10\" class=\"node\">\n<title>9</title>\n<path fill=\"#ffffff\" stroke=\"#000000\" d=\"M625.5,-365C625.5,-365 533.5,-365 533.5,-365 527.5,-365 521.5,-359 521.5,-353 521.5,-353 521.5,-309 521.5,-309 521.5,-303 527.5,-297 533.5,-297 533.5,-297 625.5,-297 625.5,-297 631.5,-297 637.5,-303 637.5,-309 637.5,-309 637.5,-353 637.5,-353 637.5,-359 631.5,-365 625.5,-365\"/>\n<text text-anchor=\"start\" x=\"538.5\" y=\"-349.8\" font-family=\"Helvetica,sans-Serif\" font-size=\"14.00\" fill=\"#000000\">Fare ≤ 23.35</text>\n<text text-anchor=\"start\" x=\"550\" y=\"-334.8\" font-family=\"Helvetica,sans-Serif\" font-size=\"14.00\" fill=\"#000000\">gini = 0.5</text>\n<text text-anchor=\"start\" x=\"531.5\" y=\"-319.8\" font-family=\"Helvetica,sans-Serif\" font-size=\"14.00\" fill=\"#000000\">samples = 116</text>\n<text text-anchor=\"start\" x=\"529.5\" y=\"-304.8\" font-family=\"Helvetica,sans-Serif\" font-size=\"14.00\" fill=\"#000000\">value = [58, 58]</text>\n</g>\n<!-- 1&#45;&gt;9 -->\n<g id=\"edge9\" class=\"edge\">\n<title>1&#45;&gt;9</title>\n<path fill=\"none\" stroke=\"#000000\" d=\"M579.5,-400.9465C579.5,-392.776 579.5,-383.9318 579.5,-375.3697\"/>\n<polygon fill=\"#000000\" stroke=\"#000000\" points=\"583.0001,-375.13 579.5,-365.13 576.0001,-375.13 583.0001,-375.13\"/>\n</g>\n<!-- 3 -->\n<g id=\"node4\" class=\"node\">\n<title>3</title>\n<path fill=\"#50a8e8\" stroke=\"#000000\" d=\"M220,-261C220,-261 137,-261 137,-261 131,-261 125,-255 125,-249 125,-249 125,-205 125,-205 125,-199 131,-193 137,-193 137,-193 220,-193 220,-193 226,-193 232,-199 232,-205 232,-205 232,-249 232,-249 232,-255 226,-261 220,-261\"/>\n<text text-anchor=\"start\" x=\"143.5\" y=\"-245.8\" font-family=\"Helvetica,sans-Serif\" font-size=\"14.00\" fill=\"#000000\">Age ≤ 21.5</text>\n<text text-anchor=\"start\" x=\"140.5\" y=\"-230.8\" font-family=\"Helvetica,sans-Serif\" font-size=\"14.00\" fill=\"#000000\">gini = 0.183</text>\n<text text-anchor=\"start\" x=\"134.5\" y=\"-215.8\" font-family=\"Helvetica,sans-Serif\" font-size=\"14.00\" fill=\"#000000\">samples = 49</text>\n<text text-anchor=\"start\" x=\"133\" y=\"-200.8\" font-family=\"Helvetica,sans-Serif\" font-size=\"14.00\" fill=\"#000000\">value = [5, 44]</text>\n</g>\n<!-- 2&#45;&gt;3 -->\n<g id=\"edge3\" class=\"edge\">\n<title>2&#45;&gt;3</title>\n<path fill=\"none\" stroke=\"#000000\" d=\"M340.4098,-303.5392C309.8211,-289.0791 272.2836,-271.3341 241.0563,-256.5721\"/>\n<polygon fill=\"#000000\" stroke=\"#000000\" points=\"242.5426,-253.4033 232.006,-252.2937 239.5509,-259.7319 242.5426,-253.4033\"/>\n</g>\n<!-- 6 -->\n<g id=\"node7\" class=\"node\">\n<title>6</title>\n<path fill=\"#3ea0e6\" stroke=\"#000000\" d=\"M440,-261C440,-261 357,-261 357,-261 351,-261 345,-255 345,-249 345,-249 345,-205 345,-205 345,-199 351,-193 357,-193 357,-193 440,-193 440,-193 446,-193 452,-199 452,-205 452,-205 452,-249 452,-249 452,-255 446,-261 440,-261\"/>\n<text text-anchor=\"start\" x=\"363.5\" y=\"-245.8\" font-family=\"Helvetica,sans-Serif\" font-size=\"14.00\" fill=\"#000000\">Age ≤ 43.5</text>\n<text text-anchor=\"start\" x=\"360.5\" y=\"-230.8\" font-family=\"Helvetica,sans-Serif\" font-size=\"14.00\" fill=\"#000000\">gini = 0.053</text>\n<text text-anchor=\"start\" x=\"354.5\" y=\"-215.8\" font-family=\"Helvetica,sans-Serif\" font-size=\"14.00\" fill=\"#000000\">samples = 74</text>\n<text text-anchor=\"start\" x=\"353\" y=\"-200.8\" font-family=\"Helvetica,sans-Serif\" font-size=\"14.00\" fill=\"#000000\">value = [2, 72]</text>\n</g>\n<!-- 2&#45;&gt;6 -->\n<g id=\"edge6\" class=\"edge\">\n<title>2&#45;&gt;6</title>\n<path fill=\"none\" stroke=\"#000000\" d=\"M398.5,-296.9465C398.5,-288.776 398.5,-279.9318 398.5,-271.3697\"/>\n<polygon fill=\"#000000\" stroke=\"#000000\" points=\"402.0001,-271.13 398.5,-261.13 395.0001,-271.13 402.0001,-271.13\"/>\n</g>\n<!-- 4 -->\n<g id=\"node5\" class=\"node\">\n<title>4</title>\n<path fill=\"#41a1e6\" stroke=\"#000000\" d=\"M95,-149.5C95,-149.5 12,-149.5 12,-149.5 6,-149.5 0,-143.5 0,-137.5 0,-137.5 0,-108.5 0,-108.5 0,-102.5 6,-96.5 12,-96.5 12,-96.5 95,-96.5 95,-96.5 101,-96.5 107,-102.5 107,-108.5 107,-108.5 107,-137.5 107,-137.5 107,-143.5 101,-149.5 95,-149.5\"/>\n<text text-anchor=\"start\" x=\"15.5\" y=\"-134.3\" font-family=\"Helvetica,sans-Serif\" font-size=\"14.00\" fill=\"#000000\">gini = 0.071</text>\n<text text-anchor=\"start\" x=\"9.5\" y=\"-119.3\" font-family=\"Helvetica,sans-Serif\" font-size=\"14.00\" fill=\"#000000\">samples = 27</text>\n<text text-anchor=\"start\" x=\"8\" y=\"-104.3\" font-family=\"Helvetica,sans-Serif\" font-size=\"14.00\" fill=\"#000000\">value = [1, 26]</text>\n</g>\n<!-- 3&#45;&gt;4 -->\n<g id=\"edge4\" class=\"edge\">\n<title>3&#45;&gt;4</title>\n<path fill=\"none\" stroke=\"#000000\" d=\"M137.5703,-192.9465C123.4045,-181.1606 107.5537,-167.9726 93.4662,-156.2519\"/>\n<polygon fill=\"#000000\" stroke=\"#000000\" points=\"95.3275,-153.2474 85.4016,-149.5422 90.8504,-158.6285 95.3275,-153.2474\"/>\n</g>\n<!-- 5 -->\n<g id=\"node6\" class=\"node\">\n<title>5</title>\n<path fill=\"#65b3eb\" stroke=\"#000000\" d=\"M220,-149.5C220,-149.5 137,-149.5 137,-149.5 131,-149.5 125,-143.5 125,-137.5 125,-137.5 125,-108.5 125,-108.5 125,-102.5 131,-96.5 137,-96.5 137,-96.5 220,-96.5 220,-96.5 226,-96.5 232,-102.5 232,-108.5 232,-108.5 232,-137.5 232,-137.5 232,-143.5 226,-149.5 220,-149.5\"/>\n<text text-anchor=\"start\" x=\"140.5\" y=\"-134.3\" font-family=\"Helvetica,sans-Serif\" font-size=\"14.00\" fill=\"#000000\">gini = 0.298</text>\n<text text-anchor=\"start\" x=\"134.5\" y=\"-119.3\" font-family=\"Helvetica,sans-Serif\" font-size=\"14.00\" fill=\"#000000\">samples = 22</text>\n<text text-anchor=\"start\" x=\"133\" y=\"-104.3\" font-family=\"Helvetica,sans-Serif\" font-size=\"14.00\" fill=\"#000000\">value = [4, 18]</text>\n</g>\n<!-- 3&#45;&gt;5 -->\n<g id=\"edge5\" class=\"edge\">\n<title>3&#45;&gt;5</title>\n<path fill=\"none\" stroke=\"#000000\" d=\"M178.5,-192.9465C178.5,-182.2621 178.5,-170.4254 178.5,-159.5742\"/>\n<polygon fill=\"#000000\" stroke=\"#000000\" points=\"182.0001,-159.5421 178.5,-149.5422 175.0001,-159.5422 182.0001,-159.5421\"/>\n</g>\n<!-- 7 -->\n<g id=\"node8\" class=\"node\">\n<title>7</title>\n<path fill=\"#399de5\" stroke=\"#000000\" d=\"M345,-149.5C345,-149.5 262,-149.5 262,-149.5 256,-149.5 250,-143.5 250,-137.5 250,-137.5 250,-108.5 250,-108.5 250,-102.5 256,-96.5 262,-96.5 262,-96.5 345,-96.5 345,-96.5 351,-96.5 357,-102.5 357,-108.5 357,-108.5 357,-137.5 357,-137.5 357,-143.5 351,-149.5 345,-149.5\"/>\n<text text-anchor=\"start\" x=\"274\" y=\"-134.3\" font-family=\"Helvetica,sans-Serif\" font-size=\"14.00\" fill=\"#000000\">gini = 0.0</text>\n<text text-anchor=\"start\" x=\"259.5\" y=\"-119.3\" font-family=\"Helvetica,sans-Serif\" font-size=\"14.00\" fill=\"#000000\">samples = 48</text>\n<text text-anchor=\"start\" x=\"258\" y=\"-104.3\" font-family=\"Helvetica,sans-Serif\" font-size=\"14.00\" fill=\"#000000\">value = [0, 48]</text>\n</g>\n<!-- 6&#45;&gt;7 -->\n<g id=\"edge7\" class=\"edge\">\n<title>6&#45;&gt;7</title>\n<path fill=\"none\" stroke=\"#000000\" d=\"M367.3934,-192.9465C356.9293,-181.491 345.2553,-168.711 334.778,-157.2412\"/>\n<polygon fill=\"#000000\" stroke=\"#000000\" points=\"337.0738,-154.565 327.7452,-149.5422 331.9055,-159.2861 337.0738,-154.565\"/>\n</g>\n<!-- 8 -->\n<g id=\"node9\" class=\"node\">\n<title>8</title>\n<path fill=\"#49a5e7\" stroke=\"#000000\" d=\"M470,-149.5C470,-149.5 387,-149.5 387,-149.5 381,-149.5 375,-143.5 375,-137.5 375,-137.5 375,-108.5 375,-108.5 375,-102.5 381,-96.5 387,-96.5 387,-96.5 470,-96.5 470,-96.5 476,-96.5 482,-102.5 482,-108.5 482,-108.5 482,-137.5 482,-137.5 482,-143.5 476,-149.5 470,-149.5\"/>\n<text text-anchor=\"start\" x=\"390.5\" y=\"-134.3\" font-family=\"Helvetica,sans-Serif\" font-size=\"14.00\" fill=\"#000000\">gini = 0.142</text>\n<text text-anchor=\"start\" x=\"384.5\" y=\"-119.3\" font-family=\"Helvetica,sans-Serif\" font-size=\"14.00\" fill=\"#000000\">samples = 26</text>\n<text text-anchor=\"start\" x=\"383\" y=\"-104.3\" font-family=\"Helvetica,sans-Serif\" font-size=\"14.00\" fill=\"#000000\">value = [2, 24]</text>\n</g>\n<!-- 6&#45;&gt;8 -->\n<g id=\"edge8\" class=\"edge\">\n<title>6&#45;&gt;8</title>\n<path fill=\"none\" stroke=\"#000000\" d=\"M408.3231,-192.9465C411.437,-182.1519 414.89,-170.1813 418.0465,-159.2389\"/>\n<polygon fill=\"#000000\" stroke=\"#000000\" points=\"421.4348,-160.1205 420.8436,-149.5422 414.709,-158.1803 421.4348,-160.1205\"/>\n</g>\n<!-- 10 -->\n<g id=\"node11\" class=\"node\">\n<title>10</title>\n<path fill=\"#bfe0f7\" stroke=\"#000000\" d=\"M599.5,-261C599.5,-261 507.5,-261 507.5,-261 501.5,-261 495.5,-255 495.5,-249 495.5,-249 495.5,-205 495.5,-205 495.5,-199 501.5,-193 507.5,-193 507.5,-193 599.5,-193 599.5,-193 605.5,-193 611.5,-199 611.5,-205 611.5,-205 611.5,-249 611.5,-249 611.5,-255 605.5,-261 599.5,-261\"/>\n<text text-anchor=\"start\" x=\"512.5\" y=\"-245.8\" font-family=\"Helvetica,sans-Serif\" font-size=\"14.00\" fill=\"#000000\">Fare ≤ 7.888</text>\n<text text-anchor=\"start\" x=\"515.5\" y=\"-230.8\" font-family=\"Helvetica,sans-Serif\" font-size=\"14.00\" fill=\"#000000\">gini = 0.482</text>\n<text text-anchor=\"start\" x=\"509.5\" y=\"-215.8\" font-family=\"Helvetica,sans-Serif\" font-size=\"14.00\" fill=\"#000000\">samples = 94</text>\n<text text-anchor=\"start\" x=\"503.5\" y=\"-200.8\" font-family=\"Helvetica,sans-Serif\" font-size=\"14.00\" fill=\"#000000\">value = [38, 56]</text>\n</g>\n<!-- 9&#45;&gt;10 -->\n<g id=\"edge10\" class=\"edge\">\n<title>9&#45;&gt;10</title>\n<path fill=\"none\" stroke=\"#000000\" d=\"M570.9866,-296.9465C568.9216,-288.6863 566.6843,-279.7374 564.5219,-271.0875\"/>\n<polygon fill=\"#000000\" stroke=\"#000000\" points=\"567.8534,-269.9825 562.0325,-261.13 561.0624,-271.6803 567.8534,-269.9825\"/>\n</g>\n<!-- 15 -->\n<g id=\"node16\" class=\"node\">\n<title>15</title>\n<path fill=\"#e88e4d\" stroke=\"#000000\" d=\"M725,-253.5C725,-253.5 642,-253.5 642,-253.5 636,-253.5 630,-247.5 630,-241.5 630,-241.5 630,-212.5 630,-212.5 630,-206.5 636,-200.5 642,-200.5 642,-200.5 725,-200.5 725,-200.5 731,-200.5 737,-206.5 737,-212.5 737,-212.5 737,-241.5 737,-241.5 737,-247.5 731,-253.5 725,-253.5\"/>\n<text text-anchor=\"start\" x=\"645.5\" y=\"-238.3\" font-family=\"Helvetica,sans-Serif\" font-size=\"14.00\" fill=\"#000000\">gini = 0.165</text>\n<text text-anchor=\"start\" x=\"639.5\" y=\"-223.3\" font-family=\"Helvetica,sans-Serif\" font-size=\"14.00\" fill=\"#000000\">samples = 22</text>\n<text text-anchor=\"start\" x=\"638\" y=\"-208.3\" font-family=\"Helvetica,sans-Serif\" font-size=\"14.00\" fill=\"#000000\">value = [20, 2]</text>\n</g>\n<!-- 9&#45;&gt;15 -->\n<g id=\"edge15\" class=\"edge\">\n<title>9&#45;&gt;15</title>\n<path fill=\"none\" stroke=\"#000000\" d=\"M613.5535,-296.9465C625.1191,-285.3809 638.0348,-272.4652 649.5893,-260.9107\"/>\n<polygon fill=\"#000000\" stroke=\"#000000\" points=\"652.3616,-263.0881 656.9578,-253.5422 647.4119,-258.1384 652.3616,-263.0881\"/>\n</g>\n<!-- 11 -->\n<g id=\"node12\" class=\"node\">\n<title>11</title>\n<path fill=\"#7bbeee\" stroke=\"#000000\" d=\"M595,-149.5C595,-149.5 512,-149.5 512,-149.5 506,-149.5 500,-143.5 500,-137.5 500,-137.5 500,-108.5 500,-108.5 500,-102.5 506,-96.5 512,-96.5 512,-96.5 595,-96.5 595,-96.5 601,-96.5 607,-102.5 607,-108.5 607,-108.5 607,-137.5 607,-137.5 607,-143.5 601,-149.5 595,-149.5\"/>\n<text text-anchor=\"start\" x=\"515.5\" y=\"-134.3\" font-family=\"Helvetica,sans-Serif\" font-size=\"14.00\" fill=\"#000000\">gini = 0.375</text>\n<text text-anchor=\"start\" x=\"509.5\" y=\"-119.3\" font-family=\"Helvetica,sans-Serif\" font-size=\"14.00\" fill=\"#000000\">samples = 32</text>\n<text text-anchor=\"start\" x=\"508\" y=\"-104.3\" font-family=\"Helvetica,sans-Serif\" font-size=\"14.00\" fill=\"#000000\">value = [8, 24]</text>\n</g>\n<!-- 10&#45;&gt;11 -->\n<g id=\"edge11\" class=\"edge\">\n<title>10&#45;&gt;11</title>\n<path fill=\"none\" stroke=\"#000000\" d=\"M553.5,-192.9465C553.5,-182.2621 553.5,-170.4254 553.5,-159.5742\"/>\n<polygon fill=\"#000000\" stroke=\"#000000\" points=\"557.0001,-159.5421 553.5,-149.5422 550.0001,-159.5422 557.0001,-159.5421\"/>\n</g>\n<!-- 12 -->\n<g id=\"node13\" class=\"node\">\n<title>12</title>\n<path fill=\"#f3f9fd\" stroke=\"#000000\" d=\"M729.5,-157C729.5,-157 637.5,-157 637.5,-157 631.5,-157 625.5,-151 625.5,-145 625.5,-145 625.5,-101 625.5,-101 625.5,-95 631.5,-89 637.5,-89 637.5,-89 729.5,-89 729.5,-89 735.5,-89 741.5,-95 741.5,-101 741.5,-101 741.5,-145 741.5,-145 741.5,-151 735.5,-157 729.5,-157\"/>\n<text text-anchor=\"start\" x=\"638\" y=\"-141.8\" font-family=\"Helvetica,sans-Serif\" font-size=\"14.00\" fill=\"#000000\">Fare ≤ 15.373</text>\n<text text-anchor=\"start\" x=\"645.5\" y=\"-126.8\" font-family=\"Helvetica,sans-Serif\" font-size=\"14.00\" fill=\"#000000\">gini = 0.499</text>\n<text text-anchor=\"start\" x=\"639.5\" y=\"-111.8\" font-family=\"Helvetica,sans-Serif\" font-size=\"14.00\" fill=\"#000000\">samples = 62</text>\n<text text-anchor=\"start\" x=\"633.5\" y=\"-96.8\" font-family=\"Helvetica,sans-Serif\" font-size=\"14.00\" fill=\"#000000\">value = [30, 32]</text>\n</g>\n<!-- 10&#45;&gt;12 -->\n<g id=\"edge12\" class=\"edge\">\n<title>10&#45;&gt;12</title>\n<path fill=\"none\" stroke=\"#000000\" d=\"M596.0669,-192.9465C607.8512,-183.519 620.7568,-173.1946 632.9481,-163.4415\"/>\n<polygon fill=\"#000000\" stroke=\"#000000\" points=\"635.2152,-166.11 640.8375,-157.13 630.8423,-160.6439 635.2152,-166.11\"/>\n</g>\n<!-- 13 -->\n<g id=\"node14\" class=\"node\">\n<title>13</title>\n<path fill=\"#f8dbc6\" stroke=\"#000000\" d=\"M599.5,-53C599.5,-53 507.5,-53 507.5,-53 501.5,-53 495.5,-47 495.5,-41 495.5,-41 495.5,-12 495.5,-12 495.5,-6 501.5,0 507.5,0 507.5,0 599.5,0 599.5,0 605.5,0 611.5,-6 611.5,-12 611.5,-12 611.5,-41 611.5,-41 611.5,-47 605.5,-53 599.5,-53\"/>\n<text text-anchor=\"start\" x=\"515.5\" y=\"-37.8\" font-family=\"Helvetica,sans-Serif\" font-size=\"14.00\" fill=\"#000000\">gini = 0.486</text>\n<text text-anchor=\"start\" x=\"509.5\" y=\"-22.8\" font-family=\"Helvetica,sans-Serif\" font-size=\"14.00\" fill=\"#000000\">samples = 36</text>\n<text text-anchor=\"start\" x=\"503.5\" y=\"-7.8\" font-family=\"Helvetica,sans-Serif\" font-size=\"14.00\" fill=\"#000000\">value = [21, 15]</text>\n</g>\n<!-- 12&#45;&gt;13 -->\n<g id=\"edge13\" class=\"edge\">\n<title>12&#45;&gt;13</title>\n<path fill=\"none\" stroke=\"#000000\" d=\"M637.6669,-88.9777C624.7143,-79.3629 610.6465,-68.9203 597.7867,-59.3743\"/>\n<polygon fill=\"#000000\" stroke=\"#000000\" points=\"599.6499,-56.3986 589.5342,-53.2485 595.4776,-62.0193 599.6499,-56.3986\"/>\n</g>\n<!-- 14 -->\n<g id=\"node15\" class=\"node\">\n<title>14</title>\n<path fill=\"#a2d1f3\" stroke=\"#000000\" d=\"M725,-53C725,-53 642,-53 642,-53 636,-53 630,-47 630,-41 630,-41 630,-12 630,-12 630,-6 636,0 642,0 642,0 725,0 725,0 731,0 737,-6 737,-12 737,-12 737,-41 737,-41 737,-47 731,-53 725,-53\"/>\n<text text-anchor=\"start\" x=\"645.5\" y=\"-37.8\" font-family=\"Helvetica,sans-Serif\" font-size=\"14.00\" fill=\"#000000\">gini = 0.453</text>\n<text text-anchor=\"start\" x=\"639.5\" y=\"-22.8\" font-family=\"Helvetica,sans-Serif\" font-size=\"14.00\" fill=\"#000000\">samples = 26</text>\n<text text-anchor=\"start\" x=\"638\" y=\"-7.8\" font-family=\"Helvetica,sans-Serif\" font-size=\"14.00\" fill=\"#000000\">value = [9, 17]</text>\n</g>\n<!-- 12&#45;&gt;14 -->\n<g id=\"edge14\" class=\"edge\">\n<title>12&#45;&gt;14</title>\n<path fill=\"none\" stroke=\"#000000\" d=\"M683.5,-88.9777C683.5,-80.7364 683.5,-71.887 683.5,-63.5153\"/>\n<polygon fill=\"#000000\" stroke=\"#000000\" points=\"687.0001,-63.2484 683.5,-53.2485 680.0001,-63.2485 687.0001,-63.2484\"/>\n</g>\n<!-- 17 -->\n<g id=\"node18\" class=\"node\">\n<title>17</title>\n<path fill=\"#e99356\" stroke=\"#000000\" d=\"M932.5,-365C932.5,-365 832.5,-365 832.5,-365 826.5,-365 820.5,-359 820.5,-353 820.5,-353 820.5,-309 820.5,-309 820.5,-303 826.5,-297 832.5,-297 832.5,-297 932.5,-297 932.5,-297 938.5,-297 944.5,-303 944.5,-309 944.5,-309 944.5,-353 944.5,-353 944.5,-359 938.5,-365 932.5,-365\"/>\n<text text-anchor=\"start\" x=\"839\" y=\"-349.8\" font-family=\"Helvetica,sans-Serif\" font-size=\"14.00\" fill=\"#000000\">Age ≤ 14.342</text>\n<text text-anchor=\"start\" x=\"844.5\" y=\"-334.8\" font-family=\"Helvetica,sans-Serif\" font-size=\"14.00\" fill=\"#000000\">gini = 0.222</text>\n<text text-anchor=\"start\" x=\"834.5\" y=\"-319.8\" font-family=\"Helvetica,sans-Serif\" font-size=\"14.00\" fill=\"#000000\">samples = 338</text>\n<text text-anchor=\"start\" x=\"828.5\" y=\"-304.8\" font-family=\"Helvetica,sans-Serif\" font-size=\"14.00\" fill=\"#000000\">value = [295, 43]</text>\n</g>\n<!-- 16&#45;&gt;17 -->\n<g id=\"edge17\" class=\"edge\">\n<title>16&#45;&gt;17</title>\n<path fill=\"none\" stroke=\"#000000\" d=\"M882.5,-400.9465C882.5,-392.776 882.5,-383.9318 882.5,-375.3697\"/>\n<polygon fill=\"#000000\" stroke=\"#000000\" points=\"886.0001,-375.13 882.5,-365.13 879.0001,-375.13 886.0001,-375.13\"/>\n</g>\n<!-- 24 -->\n<g id=\"node25\" class=\"node\">\n<title>24</title>\n<path fill=\"#f3c7a6\" stroke=\"#000000\" d=\"M1135.5,-365C1135.5,-365 1043.5,-365 1043.5,-365 1037.5,-365 1031.5,-359 1031.5,-353 1031.5,-353 1031.5,-309 1031.5,-309 1031.5,-303 1037.5,-297 1043.5,-297 1043.5,-297 1135.5,-297 1135.5,-297 1141.5,-297 1147.5,-303 1147.5,-309 1147.5,-309 1147.5,-353 1147.5,-353 1147.5,-359 1141.5,-365 1135.5,-365\"/>\n<text text-anchor=\"start\" x=\"1052\" y=\"-349.8\" font-family=\"Helvetica,sans-Serif\" font-size=\"14.00\" fill=\"#000000\">SibSp ≤ 2.5</text>\n<text text-anchor=\"start\" x=\"1051.5\" y=\"-334.8\" font-family=\"Helvetica,sans-Serif\" font-size=\"14.00\" fill=\"#000000\">gini = 0.458</text>\n<text text-anchor=\"start\" x=\"1041.5\" y=\"-319.8\" font-family=\"Helvetica,sans-Serif\" font-size=\"14.00\" fill=\"#000000\">samples = 135</text>\n<text text-anchor=\"start\" x=\"1039.5\" y=\"-304.8\" font-family=\"Helvetica,sans-Serif\" font-size=\"14.00\" fill=\"#000000\">value = [87, 48]</text>\n</g>\n<!-- 16&#45;&gt;24 -->\n<g id=\"edge24\" class=\"edge\">\n<title>16&#45;&gt;24</title>\n<path fill=\"none\" stroke=\"#000000\" d=\"M944.6068,-403.7966C969.1074,-391.4871 997.313,-377.3162 1022.2901,-364.7673\"/>\n<polygon fill=\"#000000\" stroke=\"#000000\" points=\"1023.969,-367.8408 1031.3333,-360.2238 1020.8264,-361.5858 1023.969,-367.8408\"/>\n</g>\n<!-- 18 -->\n<g id=\"node19\" class=\"node\">\n<title>18</title>\n<path fill=\"#edf6fd\" stroke=\"#000000\" d=\"M859.5,-253.5C859.5,-253.5 767.5,-253.5 767.5,-253.5 761.5,-253.5 755.5,-247.5 755.5,-241.5 755.5,-241.5 755.5,-212.5 755.5,-212.5 755.5,-206.5 761.5,-200.5 767.5,-200.5 767.5,-200.5 859.5,-200.5 859.5,-200.5 865.5,-200.5 871.5,-206.5 871.5,-212.5 871.5,-212.5 871.5,-241.5 871.5,-241.5 871.5,-247.5 865.5,-253.5 859.5,-253.5\"/>\n<text text-anchor=\"start\" x=\"775.5\" y=\"-238.3\" font-family=\"Helvetica,sans-Serif\" font-size=\"14.00\" fill=\"#000000\">gini = 0.499</text>\n<text text-anchor=\"start\" x=\"769.5\" y=\"-223.3\" font-family=\"Helvetica,sans-Serif\" font-size=\"14.00\" fill=\"#000000\">samples = 21</text>\n<text text-anchor=\"start\" x=\"763.5\" y=\"-208.3\" font-family=\"Helvetica,sans-Serif\" font-size=\"14.00\" fill=\"#000000\">value = [10, 11]</text>\n</g>\n<!-- 17&#45;&gt;18 -->\n<g id=\"edge18\" class=\"edge\">\n<title>17&#45;&gt;18</title>\n<path fill=\"none\" stroke=\"#000000\" d=\"M859.9068,-296.9465C852.4527,-285.7113 844.1533,-273.2021 836.6577,-261.9043\"/>\n<polygon fill=\"#000000\" stroke=\"#000000\" points=\"839.5547,-259.94 831.1097,-253.5422 833.7218,-263.81 839.5547,-259.94\"/>\n</g>\n<!-- 19 -->\n<g id=\"node20\" class=\"node\">\n<title>19</title>\n<path fill=\"#e88f4f\" stroke=\"#000000\" d=\"M1001.5,-261C1001.5,-261 901.5,-261 901.5,-261 895.5,-261 889.5,-255 889.5,-249 889.5,-249 889.5,-205 889.5,-205 889.5,-199 895.5,-193 901.5,-193 901.5,-193 1001.5,-193 1001.5,-193 1007.5,-193 1013.5,-199 1013.5,-205 1013.5,-205 1013.5,-249 1013.5,-249 1013.5,-255 1007.5,-261 1001.5,-261\"/>\n<text text-anchor=\"start\" x=\"912\" y=\"-245.8\" font-family=\"Helvetica,sans-Serif\" font-size=\"14.00\" fill=\"#000000\">Age ≤ 45.25</text>\n<text text-anchor=\"start\" x=\"913.5\" y=\"-230.8\" font-family=\"Helvetica,sans-Serif\" font-size=\"14.00\" fill=\"#000000\">gini = 0.182</text>\n<text text-anchor=\"start\" x=\"903.5\" y=\"-215.8\" font-family=\"Helvetica,sans-Serif\" font-size=\"14.00\" fill=\"#000000\">samples = 317</text>\n<text text-anchor=\"start\" x=\"897.5\" y=\"-200.8\" font-family=\"Helvetica,sans-Serif\" font-size=\"14.00\" fill=\"#000000\">value = [285, 32]</text>\n</g>\n<!-- 17&#45;&gt;19 -->\n<g id=\"edge19\" class=\"edge\">\n<title>17&#45;&gt;19</title>\n<path fill=\"none\" stroke=\"#000000\" d=\"M905.0932,-296.9465C910.8714,-288.2373 917.1575,-278.7626 923.1834,-269.6801\"/>\n<polygon fill=\"#000000\" stroke=\"#000000\" points=\"926.244,-271.3978 928.8561,-261.13 920.411,-267.5278 926.244,-271.3978\"/>\n</g>\n<!-- 20 -->\n<g id=\"node21\" class=\"node\">\n<title>20</title>\n<path fill=\"#e89153\" stroke=\"#000000\" d=\"M873.5,-157C873.5,-157 773.5,-157 773.5,-157 767.5,-157 761.5,-151 761.5,-145 761.5,-145 761.5,-101 761.5,-101 761.5,-95 767.5,-89 773.5,-89 773.5,-89 873.5,-89 873.5,-89 879.5,-89 885.5,-95 885.5,-101 885.5,-101 885.5,-145 885.5,-145 885.5,-151 879.5,-157 873.5,-157\"/>\n<text text-anchor=\"start\" x=\"786.5\" y=\"-141.8\" font-family=\"Helvetica,sans-Serif\" font-size=\"14.00\" fill=\"#000000\">Fare ≤ 7.91</text>\n<text text-anchor=\"start\" x=\"785.5\" y=\"-126.8\" font-family=\"Helvetica,sans-Serif\" font-size=\"14.00\" fill=\"#000000\">gini = 0.204</text>\n<text text-anchor=\"start\" x=\"775.5\" y=\"-111.8\" font-family=\"Helvetica,sans-Serif\" font-size=\"14.00\" fill=\"#000000\">samples = 278</text>\n<text text-anchor=\"start\" x=\"769.5\" y=\"-96.8\" font-family=\"Helvetica,sans-Serif\" font-size=\"14.00\" fill=\"#000000\">value = [246, 32]</text>\n</g>\n<!-- 19&#45;&gt;20 -->\n<g id=\"edge20\" class=\"edge\">\n<title>19&#45;&gt;20</title>\n<path fill=\"none\" stroke=\"#000000\" d=\"M909.588,-192.9465C897.985,-183.519 885.2779,-173.1946 873.2741,-163.4415\"/>\n<polygon fill=\"#000000\" stroke=\"#000000\" points=\"875.4744,-160.7196 865.5061,-157.13 871.0602,-166.1524 875.4744,-160.7196\"/>\n</g>\n<!-- 23 -->\n<g id=\"node24\" class=\"node\">\n<title>23</title>\n<path fill=\"#e58139\" stroke=\"#000000\" d=\"M999,-149.5C999,-149.5 916,-149.5 916,-149.5 910,-149.5 904,-143.5 904,-137.5 904,-137.5 904,-108.5 904,-108.5 904,-102.5 910,-96.5 916,-96.5 916,-96.5 999,-96.5 999,-96.5 1005,-96.5 1011,-102.5 1011,-108.5 1011,-108.5 1011,-137.5 1011,-137.5 1011,-143.5 1005,-149.5 999,-149.5\"/>\n<text text-anchor=\"start\" x=\"928\" y=\"-134.3\" font-family=\"Helvetica,sans-Serif\" font-size=\"14.00\" fill=\"#000000\">gini = 0.0</text>\n<text text-anchor=\"start\" x=\"913.5\" y=\"-119.3\" font-family=\"Helvetica,sans-Serif\" font-size=\"14.00\" fill=\"#000000\">samples = 39</text>\n<text text-anchor=\"start\" x=\"912\" y=\"-104.3\" font-family=\"Helvetica,sans-Serif\" font-size=\"14.00\" fill=\"#000000\">value = [39, 0]</text>\n</g>\n<!-- 19&#45;&gt;23 -->\n<g id=\"edge23\" class=\"edge\">\n<title>19&#45;&gt;23</title>\n<path fill=\"none\" stroke=\"#000000\" d=\"M953.4646,-192.9465C954.081,-182.2621 954.7639,-170.4254 955.3899,-159.5742\"/>\n<polygon fill=\"#000000\" stroke=\"#000000\" points=\"958.8869,-159.7272 955.9687,-149.5422 951.8985,-159.3239 958.8869,-159.7272\"/>\n</g>\n<!-- 21 -->\n<g id=\"node22\" class=\"node\">\n<title>21</title>\n<path fill=\"#e78b49\" stroke=\"#000000\" d=\"M859.5,-53C859.5,-53 767.5,-53 767.5,-53 761.5,-53 755.5,-47 755.5,-41 755.5,-41 755.5,-12 755.5,-12 755.5,-6 761.5,0 767.5,0 767.5,0 859.5,0 859.5,0 865.5,0 871.5,-6 871.5,-12 871.5,-12 871.5,-41 871.5,-41 871.5,-47 865.5,-53 859.5,-53\"/>\n<text text-anchor=\"start\" x=\"775.5\" y=\"-37.8\" font-family=\"Helvetica,sans-Serif\" font-size=\"14.00\" fill=\"#000000\">gini = 0.137</text>\n<text text-anchor=\"start\" x=\"765.5\" y=\"-22.8\" font-family=\"Helvetica,sans-Serif\" font-size=\"14.00\" fill=\"#000000\">samples = 122</text>\n<text text-anchor=\"start\" x=\"763.5\" y=\"-7.8\" font-family=\"Helvetica,sans-Serif\" font-size=\"14.00\" fill=\"#000000\">value = [113, 9]</text>\n</g>\n<!-- 20&#45;&gt;21 -->\n<g id=\"edge21\" class=\"edge\">\n<title>20&#45;&gt;21</title>\n<path fill=\"none\" stroke=\"#000000\" d=\"M819.9744,-88.9777C819.1109,-80.6449 818.1829,-71.6903 817.3069,-63.2364\"/>\n<polygon fill=\"#000000\" stroke=\"#000000\" points=\"820.7841,-62.8344 816.2719,-53.2485 813.8213,-63.556 820.7841,-62.8344\"/>\n</g>\n<!-- 22 -->\n<g id=\"node23\" class=\"node\">\n<title>22</title>\n<path fill=\"#e9975b\" stroke=\"#000000\" d=\"M1001.5,-53C1001.5,-53 901.5,-53 901.5,-53 895.5,-53 889.5,-47 889.5,-41 889.5,-41 889.5,-12 889.5,-12 889.5,-6 895.5,0 901.5,0 901.5,0 1001.5,0 1001.5,0 1007.5,0 1013.5,-6 1013.5,-12 1013.5,-12 1013.5,-41 1013.5,-41 1013.5,-47 1007.5,-53 1001.5,-53\"/>\n<text text-anchor=\"start\" x=\"913.5\" y=\"-37.8\" font-family=\"Helvetica,sans-Serif\" font-size=\"14.00\" fill=\"#000000\">gini = 0.251</text>\n<text text-anchor=\"start\" x=\"903.5\" y=\"-22.8\" font-family=\"Helvetica,sans-Serif\" font-size=\"14.00\" fill=\"#000000\">samples = 156</text>\n<text text-anchor=\"start\" x=\"897.5\" y=\"-7.8\" font-family=\"Helvetica,sans-Serif\" font-size=\"14.00\" fill=\"#000000\">value = [133, 23]</text>\n</g>\n<!-- 20&#45;&gt;22 -->\n<g id=\"edge22\" class=\"edge\">\n<title>20&#45;&gt;22</title>\n<path fill=\"none\" stroke=\"#000000\" d=\"M868.628,-88.9777C881.3813,-79.3629 895.2327,-68.9203 907.8947,-59.3743\"/>\n<polygon fill=\"#000000\" stroke=\"#000000\" points=\"910.1421,-62.0632 916.0202,-53.2485 905.9281,-56.4737 910.1421,-62.0632\"/>\n</g>\n<!-- 25 -->\n<g id=\"node26\" class=\"node\">\n<title>25</title>\n<path fill=\"#f7d8c2\" stroke=\"#000000\" d=\"M1135.5,-261C1135.5,-261 1043.5,-261 1043.5,-261 1037.5,-261 1031.5,-255 1031.5,-249 1031.5,-249 1031.5,-205 1031.5,-205 1031.5,-199 1037.5,-193 1043.5,-193 1043.5,-193 1135.5,-193 1135.5,-193 1141.5,-193 1147.5,-199 1147.5,-205 1147.5,-205 1147.5,-249 1147.5,-249 1147.5,-255 1141.5,-261 1135.5,-261\"/>\n<text text-anchor=\"start\" x=\"1054.5\" y=\"-245.8\" font-family=\"Helvetica,sans-Serif\" font-size=\"14.00\" fill=\"#000000\">Age ≤ 53.0</text>\n<text text-anchor=\"start\" x=\"1051.5\" y=\"-230.8\" font-family=\"Helvetica,sans-Serif\" font-size=\"14.00\" fill=\"#000000\">gini = 0.483</text>\n<text text-anchor=\"start\" x=\"1041.5\" y=\"-215.8\" font-family=\"Helvetica,sans-Serif\" font-size=\"14.00\" fill=\"#000000\">samples = 115</text>\n<text text-anchor=\"start\" x=\"1039.5\" y=\"-200.8\" font-family=\"Helvetica,sans-Serif\" font-size=\"14.00\" fill=\"#000000\">value = [68, 47]</text>\n</g>\n<!-- 24&#45;&gt;25 -->\n<g id=\"edge25\" class=\"edge\">\n<title>24&#45;&gt;25</title>\n<path fill=\"none\" stroke=\"#000000\" d=\"M1089.5,-296.9465C1089.5,-288.776 1089.5,-279.9318 1089.5,-271.3697\"/>\n<polygon fill=\"#000000\" stroke=\"#000000\" points=\"1093.0001,-271.13 1089.5,-261.13 1086.0001,-271.13 1093.0001,-271.13\"/>\n</g>\n<!-- 30 -->\n<g id=\"node31\" class=\"node\">\n<title>30</title>\n<path fill=\"#e68843\" stroke=\"#000000\" d=\"M1261,-253.5C1261,-253.5 1178,-253.5 1178,-253.5 1172,-253.5 1166,-247.5 1166,-241.5 1166,-241.5 1166,-212.5 1166,-212.5 1166,-206.5 1172,-200.5 1178,-200.5 1178,-200.5 1261,-200.5 1261,-200.5 1267,-200.5 1273,-206.5 1273,-212.5 1273,-212.5 1273,-241.5 1273,-241.5 1273,-247.5 1267,-253.5 1261,-253.5\"/>\n<text text-anchor=\"start\" x=\"1181.5\" y=\"-238.3\" font-family=\"Helvetica,sans-Serif\" font-size=\"14.00\" fill=\"#000000\">gini = 0.095</text>\n<text text-anchor=\"start\" x=\"1175.5\" y=\"-223.3\" font-family=\"Helvetica,sans-Serif\" font-size=\"14.00\" fill=\"#000000\">samples = 20</text>\n<text text-anchor=\"start\" x=\"1174\" y=\"-208.3\" font-family=\"Helvetica,sans-Serif\" font-size=\"14.00\" fill=\"#000000\">value = [19, 1]</text>\n</g>\n<!-- 24&#45;&gt;30 -->\n<g id=\"edge30\" class=\"edge\">\n<title>24&#45;&gt;30</title>\n<path fill=\"none\" stroke=\"#000000\" d=\"M1132.0669,-296.9465C1146.937,-285.0504 1163.5925,-271.726 1178.3454,-259.9237\"/>\n<polygon fill=\"#000000\" stroke=\"#000000\" points=\"1180.7,-262.5222 1186.3223,-253.5422 1176.3271,-257.0561 1180.7,-262.5222\"/>\n</g>\n<!-- 26 -->\n<g id=\"node27\" class=\"node\">\n<title>26</title>\n<path fill=\"#fcf0e7\" stroke=\"#000000\" d=\"M1135.5,-157C1135.5,-157 1043.5,-157 1043.5,-157 1037.5,-157 1031.5,-151 1031.5,-145 1031.5,-145 1031.5,-101 1031.5,-101 1031.5,-95 1037.5,-89 1043.5,-89 1043.5,-89 1135.5,-89 1135.5,-89 1141.5,-89 1147.5,-95 1147.5,-101 1147.5,-101 1147.5,-145 1147.5,-145 1147.5,-151 1141.5,-157 1135.5,-157\"/>\n<text text-anchor=\"start\" x=\"1054.5\" y=\"-141.8\" font-family=\"Helvetica,sans-Serif\" font-size=\"14.00\" fill=\"#000000\">Age ≤ 27.5</text>\n<text text-anchor=\"start\" x=\"1051.5\" y=\"-126.8\" font-family=\"Helvetica,sans-Serif\" font-size=\"14.00\" fill=\"#000000\">gini = 0.498</text>\n<text text-anchor=\"start\" x=\"1045.5\" y=\"-111.8\" font-family=\"Helvetica,sans-Serif\" font-size=\"14.00\" fill=\"#000000\">samples = 92</text>\n<text text-anchor=\"start\" x=\"1039.5\" y=\"-96.8\" font-family=\"Helvetica,sans-Serif\" font-size=\"14.00\" fill=\"#000000\">value = [49, 43]</text>\n</g>\n<!-- 25&#45;&gt;26 -->\n<g id=\"edge26\" class=\"edge\">\n<title>25&#45;&gt;26</title>\n<path fill=\"none\" stroke=\"#000000\" d=\"M1089.5,-192.9465C1089.5,-184.776 1089.5,-175.9318 1089.5,-167.3697\"/>\n<polygon fill=\"#000000\" stroke=\"#000000\" points=\"1093.0001,-167.13 1089.5,-157.13 1086.0001,-167.13 1093.0001,-167.13\"/>\n</g>\n<!-- 29 -->\n<g id=\"node30\" class=\"node\">\n<title>29</title>\n<path fill=\"#ea9c63\" stroke=\"#000000\" d=\"M1261,-149.5C1261,-149.5 1178,-149.5 1178,-149.5 1172,-149.5 1166,-143.5 1166,-137.5 1166,-137.5 1166,-108.5 1166,-108.5 1166,-102.5 1172,-96.5 1178,-96.5 1178,-96.5 1261,-96.5 1261,-96.5 1267,-96.5 1273,-102.5 1273,-108.5 1273,-108.5 1273,-137.5 1273,-137.5 1273,-143.5 1267,-149.5 1261,-149.5\"/>\n<text text-anchor=\"start\" x=\"1181.5\" y=\"-134.3\" font-family=\"Helvetica,sans-Serif\" font-size=\"14.00\" fill=\"#000000\">gini = 0.287</text>\n<text text-anchor=\"start\" x=\"1175.5\" y=\"-119.3\" font-family=\"Helvetica,sans-Serif\" font-size=\"14.00\" fill=\"#000000\">samples = 23</text>\n<text text-anchor=\"start\" x=\"1174\" y=\"-104.3\" font-family=\"Helvetica,sans-Serif\" font-size=\"14.00\" fill=\"#000000\">value = [19, 4]</text>\n</g>\n<!-- 25&#45;&gt;29 -->\n<g id=\"edge29\" class=\"edge\">\n<title>25&#45;&gt;29</title>\n<path fill=\"none\" stroke=\"#000000\" d=\"M1132.0669,-192.9465C1146.937,-181.0504 1163.5925,-167.726 1178.3454,-155.9237\"/>\n<polygon fill=\"#000000\" stroke=\"#000000\" points=\"1180.7,-158.5222 1186.3223,-149.5422 1176.3271,-153.0561 1180.7,-158.5222\"/>\n</g>\n<!-- 27 -->\n<g id=\"node28\" class=\"node\">\n<title>27</title>\n<path fill=\"#cee6f8\" stroke=\"#000000\" d=\"M1135.5,-53C1135.5,-53 1043.5,-53 1043.5,-53 1037.5,-53 1031.5,-47 1031.5,-41 1031.5,-41 1031.5,-12 1031.5,-12 1031.5,-6 1037.5,0 1043.5,0 1043.5,0 1135.5,0 1135.5,0 1141.5,0 1147.5,-6 1147.5,-12 1147.5,-12 1147.5,-41 1147.5,-41 1147.5,-47 1141.5,-53 1135.5,-53\"/>\n<text text-anchor=\"start\" x=\"1056\" y=\"-37.8\" font-family=\"Helvetica,sans-Serif\" font-size=\"14.00\" fill=\"#000000\">gini = 0.49</text>\n<text text-anchor=\"start\" x=\"1045.5\" y=\"-22.8\" font-family=\"Helvetica,sans-Serif\" font-size=\"14.00\" fill=\"#000000\">samples = 28</text>\n<text text-anchor=\"start\" x=\"1039.5\" y=\"-7.8\" font-family=\"Helvetica,sans-Serif\" font-size=\"14.00\" fill=\"#000000\">value = [12, 16]</text>\n</g>\n<!-- 26&#45;&gt;27 -->\n<g id=\"edge27\" class=\"edge\">\n<title>26&#45;&gt;27</title>\n<path fill=\"none\" stroke=\"#000000\" d=\"M1089.5,-88.9777C1089.5,-80.7364 1089.5,-71.887 1089.5,-63.5153\"/>\n<polygon fill=\"#000000\" stroke=\"#000000\" points=\"1093.0001,-63.2484 1089.5,-53.2485 1086.0001,-63.2485 1093.0001,-63.2484\"/>\n</g>\n<!-- 28 -->\n<g id=\"node29\" class=\"node\">\n<title>28</title>\n<path fill=\"#f8ddc9\" stroke=\"#000000\" d=\"M1269.5,-53C1269.5,-53 1177.5,-53 1177.5,-53 1171.5,-53 1165.5,-47 1165.5,-41 1165.5,-41 1165.5,-12 1165.5,-12 1165.5,-6 1171.5,0 1177.5,0 1177.5,0 1269.5,0 1269.5,0 1275.5,0 1281.5,-6 1281.5,-12 1281.5,-12 1281.5,-41 1281.5,-41 1281.5,-47 1275.5,-53 1269.5,-53\"/>\n<text text-anchor=\"start\" x=\"1185.5\" y=\"-37.8\" font-family=\"Helvetica,sans-Serif\" font-size=\"14.00\" fill=\"#000000\">gini = 0.488</text>\n<text text-anchor=\"start\" x=\"1179.5\" y=\"-22.8\" font-family=\"Helvetica,sans-Serif\" font-size=\"14.00\" fill=\"#000000\">samples = 64</text>\n<text text-anchor=\"start\" x=\"1173.5\" y=\"-7.8\" font-family=\"Helvetica,sans-Serif\" font-size=\"14.00\" fill=\"#000000\">value = [37, 27]</text>\n</g>\n<!-- 26&#45;&gt;28 -->\n<g id=\"edge28\" class=\"edge\">\n<title>26&#45;&gt;28</title>\n<path fill=\"none\" stroke=\"#000000\" d=\"M1136.7434,-88.9777C1150.2217,-79.2713 1164.8715,-68.7213 1178.2291,-59.1018\"/>\n<polygon fill=\"#000000\" stroke=\"#000000\" points=\"1180.2876,-61.9325 1186.357,-53.2485 1176.1969,-56.2522 1180.2876,-61.9325\"/>\n</g>\n</g>\n</svg>\n"
          },
          "metadata": {
            "tags": []
          },
          "execution_count": 97
        }
      ]
    },
    {
      "cell_type": "code",
      "metadata": {
        "id": "z6VHpR4mN2ns"
      },
      "source": [
        "test_without_PId = tree_data[\"test\"].drop(\"PassengerId\",axis=1)\n",
        "prediction_values = tree_optimized.predict(test_without_PId).astype(int)\n",
        "prediction = pd.DataFrame({\"PassengerId\":tree_data[\"test\"][\"PassengerId\"],\n",
        "                           \"Survived\":prediction_values})\n",
        "\n",
        "prediction.head()\n",
        "prediction.to_csv(\"Titanic_tree_prediction.csv\",index=False)"
      ],
      "execution_count": 98,
      "outputs": []
    },
    {
      "cell_type": "code",
      "metadata": {
        "colab": {
          "base_uri": "https://localhost:8080/"
        },
        "id": "lNn6p451N49n",
        "outputId": "d8eca7f4-0e13-46a5-ae5c-62613f85287d"
      },
      "source": [
        "from sklearn.metrics import confusion_matrix\n",
        "\n",
        "evaluation = {}\n",
        "cm = {}\n",
        "\n",
        "\n",
        "valid_without_PId = tree_data[\"valid\"].drop(\"PassengerId\",axis=1)\n",
        "evaluation[\"tree\"] = tree_optimized.predict(valid_without_PId).astype(int)\n",
        "survival_from_data = combined_cleaned[\"valid\"][\"Survived\"].astype(int)\n",
        "\n",
        "print(survival_from_data.value_counts())\n",
        "\n",
        "cm[\"tree\"] = confusion_matrix(survival_from_data, evaluation[\"tree\"])\n",
        "cm[\"tree\"] = cm[\"tree\"].astype('float') / cm[\"tree\"].sum(axis=1)[:, np.newaxis]\n",
        "\n",
        "cm[\"tree\"]"
      ],
      "execution_count": 99,
      "outputs": [
        {
          "output_type": "stream",
          "text": [
            "0    102\n",
            "1     77\n",
            "Name: Survived, dtype: int64\n"
          ],
          "name": "stdout"
        },
        {
          "output_type": "execute_result",
          "data": {
            "text/plain": [
              "array([[0.79411765, 0.20588235],\n",
              "       [0.20779221, 0.79220779]])"
            ]
          },
          "metadata": {
            "tags": []
          },
          "execution_count": 99
        }
      ]
    },
    {
      "cell_type": "code",
      "metadata": {
        "id": "kuLt0C6uN8nJ"
      },
      "source": [
        "import itertools\n",
        "\n",
        "def plot_confusion_matrix(cm, classes,\n",
        "                          title='Confusion matrix',\n",
        "                          cmap=plt.cm.Blues):\n",
        "    \"\"\"\n",
        "    This function prints and plots the confusion matrix.\n",
        "    Normalization can be applied by setting `normalize=True`.\n",
        "    \"\"\"\n",
        "    print(cm)\n",
        "\n",
        "    plt.imshow(cm, interpolation='nearest', cmap=cmap)\n",
        "    plt.title(title)\n",
        "    plt.colorbar()\n",
        "    tick_marks = np.arange(len(classes))\n",
        "    plt.xticks(tick_marks, classes, rotation=45)\n",
        "    plt.yticks(tick_marks, classes)\n",
        "\n",
        "    fmt = '.2f'\n",
        "    thresh = cm.max() / 2.\n",
        "    for i, j in itertools.product(range(cm.shape[0]), range(cm.shape[1])):\n",
        "        plt.text(j, i, format(cm[i, j], fmt),\n",
        "                 horizontalalignment=\"center\",\n",
        "                 color=\"white\" if cm[i, j] > thresh else \"black\")\n",
        "\n",
        "    plt.tight_layout()\n",
        "    plt.ylabel('True label')\n",
        "    plt.xlabel('Predicted label')"
      ],
      "execution_count": 100,
      "outputs": []
    },
    {
      "cell_type": "code",
      "metadata": {
        "colab": {
          "base_uri": "https://localhost:8080/"
        },
        "id": "iVYZcZt0N-ld",
        "outputId": "51462446-ff84-4612-d7d2-00f5625669a4"
      },
      "source": [
        "from sklearn.ensemble import RandomForestClassifier\n",
        "\n",
        "clf_forest = RandomForestClassifier(n_estimators=10,min_samples_leaf=20, max_depth=4,min_weight_fraction_leaf=0.1)\n",
        "clf_forest.fit(X,Y)"
      ],
      "execution_count": 101,
      "outputs": [
        {
          "output_type": "execute_result",
          "data": {
            "text/plain": [
              "RandomForestClassifier(bootstrap=True, ccp_alpha=0.0, class_weight=None,\n",
              "                       criterion='gini', max_depth=4, max_features='auto',\n",
              "                       max_leaf_nodes=None, max_samples=None,\n",
              "                       min_impurity_decrease=0.0, min_impurity_split=None,\n",
              "                       min_samples_leaf=20, min_samples_split=2,\n",
              "                       min_weight_fraction_leaf=0.1, n_estimators=10,\n",
              "                       n_jobs=None, oob_score=False, random_state=None,\n",
              "                       verbose=0, warm_start=False)"
            ]
          },
          "metadata": {
            "tags": []
          },
          "execution_count": 101
        }
      ]
    },
    {
      "cell_type": "code",
      "metadata": {
        "id": "t3h1vHZCOAz2"
      },
      "source": [
        "prediction_values_forest = clf_forest.predict(test_without_PId).astype(int)\n",
        "prediction_forest = pd.DataFrame({\"PassengerId\":tree_data[\"test\"][\"PassengerId\"],\n",
        "                           \"Survived\":prediction_values_forest})\n",
        "\n",
        "#prediction_forest.to_csv(\"Titanic_tree_prediction_forest.csv\",index=False)"
      ],
      "execution_count": 102,
      "outputs": []
    },
    {
      "cell_type": "code",
      "metadata": {
        "colab": {
          "base_uri": "https://localhost:8080/"
        },
        "id": "JN38X4FTOCn_",
        "outputId": "3a53e19f-8d80-4131-efca-ef050fdc1fe9"
      },
      "source": [
        "param_grid = {'n_estimators':np.arange(3,11,2),\n",
        "              'max_depth':np.arange(3,6),\n",
        "              'min_weight_fraction_leaf':np.arange(0,0.4,0.1),\n",
        "              'criterion':['gini','entropy']}\n",
        "clf = RandomForestClassifier()\n",
        "forest_search = GridSearchCV(clf, param_grid, scoring='precision')\n",
        "\n",
        "forest_search.fit(X,Y)\n",
        "\n",
        "print(\"Forest best parameters :\",forest_search.best_params_)\n",
        "print(\"Forest best estimator :\",forest_search.best_estimator_ )\n",
        "print(\"Forest best score :\",forest_search.best_score_ )"
      ],
      "execution_count": 103,
      "outputs": [
        {
          "output_type": "stream",
          "text": [
            "/usr/local/lib/python3.7/dist-packages/sklearn/metrics/_classification.py:1272: UndefinedMetricWarning: Precision is ill-defined and being set to 0.0 due to no predicted samples. Use `zero_division` parameter to control this behavior.\n",
            "  _warn_prf(average, modifier, msg_start, len(result))\n",
            "/usr/local/lib/python3.7/dist-packages/sklearn/metrics/_classification.py:1272: UndefinedMetricWarning: Precision is ill-defined and being set to 0.0 due to no predicted samples. Use `zero_division` parameter to control this behavior.\n",
            "  _warn_prf(average, modifier, msg_start, len(result))\n",
            "/usr/local/lib/python3.7/dist-packages/sklearn/metrics/_classification.py:1272: UndefinedMetricWarning: Precision is ill-defined and being set to 0.0 due to no predicted samples. Use `zero_division` parameter to control this behavior.\n",
            "  _warn_prf(average, modifier, msg_start, len(result))\n",
            "/usr/local/lib/python3.7/dist-packages/sklearn/metrics/_classification.py:1272: UndefinedMetricWarning: Precision is ill-defined and being set to 0.0 due to no predicted samples. Use `zero_division` parameter to control this behavior.\n",
            "  _warn_prf(average, modifier, msg_start, len(result))\n",
            "/usr/local/lib/python3.7/dist-packages/sklearn/metrics/_classification.py:1272: UndefinedMetricWarning: Precision is ill-defined and being set to 0.0 due to no predicted samples. Use `zero_division` parameter to control this behavior.\n",
            "  _warn_prf(average, modifier, msg_start, len(result))\n",
            "/usr/local/lib/python3.7/dist-packages/sklearn/metrics/_classification.py:1272: UndefinedMetricWarning: Precision is ill-defined and being set to 0.0 due to no predicted samples. Use `zero_division` parameter to control this behavior.\n",
            "  _warn_prf(average, modifier, msg_start, len(result))\n",
            "/usr/local/lib/python3.7/dist-packages/sklearn/metrics/_classification.py:1272: UndefinedMetricWarning: Precision is ill-defined and being set to 0.0 due to no predicted samples. Use `zero_division` parameter to control this behavior.\n",
            "  _warn_prf(average, modifier, msg_start, len(result))\n",
            "/usr/local/lib/python3.7/dist-packages/sklearn/metrics/_classification.py:1272: UndefinedMetricWarning: Precision is ill-defined and being set to 0.0 due to no predicted samples. Use `zero_division` parameter to control this behavior.\n",
            "  _warn_prf(average, modifier, msg_start, len(result))\n",
            "/usr/local/lib/python3.7/dist-packages/sklearn/metrics/_classification.py:1272: UndefinedMetricWarning: Precision is ill-defined and being set to 0.0 due to no predicted samples. Use `zero_division` parameter to control this behavior.\n",
            "  _warn_prf(average, modifier, msg_start, len(result))\n",
            "/usr/local/lib/python3.7/dist-packages/sklearn/metrics/_classification.py:1272: UndefinedMetricWarning: Precision is ill-defined and being set to 0.0 due to no predicted samples. Use `zero_division` parameter to control this behavior.\n",
            "  _warn_prf(average, modifier, msg_start, len(result))\n",
            "/usr/local/lib/python3.7/dist-packages/sklearn/metrics/_classification.py:1272: UndefinedMetricWarning: Precision is ill-defined and being set to 0.0 due to no predicted samples. Use `zero_division` parameter to control this behavior.\n",
            "  _warn_prf(average, modifier, msg_start, len(result))\n",
            "/usr/local/lib/python3.7/dist-packages/sklearn/metrics/_classification.py:1272: UndefinedMetricWarning: Precision is ill-defined and being set to 0.0 due to no predicted samples. Use `zero_division` parameter to control this behavior.\n",
            "  _warn_prf(average, modifier, msg_start, len(result))\n",
            "/usr/local/lib/python3.7/dist-packages/sklearn/metrics/_classification.py:1272: UndefinedMetricWarning: Precision is ill-defined and being set to 0.0 due to no predicted samples. Use `zero_division` parameter to control this behavior.\n",
            "  _warn_prf(average, modifier, msg_start, len(result))\n",
            "/usr/local/lib/python3.7/dist-packages/sklearn/metrics/_classification.py:1272: UndefinedMetricWarning: Precision is ill-defined and being set to 0.0 due to no predicted samples. Use `zero_division` parameter to control this behavior.\n",
            "  _warn_prf(average, modifier, msg_start, len(result))\n",
            "/usr/local/lib/python3.7/dist-packages/sklearn/metrics/_classification.py:1272: UndefinedMetricWarning: Precision is ill-defined and being set to 0.0 due to no predicted samples. Use `zero_division` parameter to control this behavior.\n",
            "  _warn_prf(average, modifier, msg_start, len(result))\n",
            "/usr/local/lib/python3.7/dist-packages/sklearn/metrics/_classification.py:1272: UndefinedMetricWarning: Precision is ill-defined and being set to 0.0 due to no predicted samples. Use `zero_division` parameter to control this behavior.\n",
            "  _warn_prf(average, modifier, msg_start, len(result))\n",
            "/usr/local/lib/python3.7/dist-packages/sklearn/metrics/_classification.py:1272: UndefinedMetricWarning: Precision is ill-defined and being set to 0.0 due to no predicted samples. Use `zero_division` parameter to control this behavior.\n",
            "  _warn_prf(average, modifier, msg_start, len(result))\n",
            "/usr/local/lib/python3.7/dist-packages/sklearn/metrics/_classification.py:1272: UndefinedMetricWarning: Precision is ill-defined and being set to 0.0 due to no predicted samples. Use `zero_division` parameter to control this behavior.\n",
            "  _warn_prf(average, modifier, msg_start, len(result))\n"
          ],
          "name": "stderr"
        },
        {
          "output_type": "stream",
          "text": [
            "Forest best parameters : {'criterion': 'entropy', 'max_depth': 5, 'min_weight_fraction_leaf': 0.30000000000000004, 'n_estimators': 9}\n",
            "Forest best estimator : RandomForestClassifier(bootstrap=True, ccp_alpha=0.0, class_weight=None,\n",
            "                       criterion='entropy', max_depth=5, max_features='auto',\n",
            "                       max_leaf_nodes=None, max_samples=None,\n",
            "                       min_impurity_decrease=0.0, min_impurity_split=None,\n",
            "                       min_samples_leaf=1, min_samples_split=2,\n",
            "                       min_weight_fraction_leaf=0.30000000000000004,\n",
            "                       n_estimators=9, n_jobs=None, oob_score=False,\n",
            "                       random_state=None, verbose=0, warm_start=False)\n",
            "Forest best score : 0.9218559837728195\n"
          ],
          "name": "stdout"
        }
      ]
    },
    {
      "cell_type": "code",
      "metadata": {
        "colab": {
          "base_uri": "https://localhost:8080/"
        },
        "id": "vokKQYLuOHMM",
        "outputId": "e943ce99-5ec6-4f19-b00a-aa45e3969c0c"
      },
      "source": [
        "clf_forest = RandomForestClassifier(**forest_search.best_params_)\n",
        "clf_forest.fit(X,Y)"
      ],
      "execution_count": 104,
      "outputs": [
        {
          "output_type": "execute_result",
          "data": {
            "text/plain": [
              "RandomForestClassifier(bootstrap=True, ccp_alpha=0.0, class_weight=None,\n",
              "                       criterion='entropy', max_depth=5, max_features='auto',\n",
              "                       max_leaf_nodes=None, max_samples=None,\n",
              "                       min_impurity_decrease=0.0, min_impurity_split=None,\n",
              "                       min_samples_leaf=1, min_samples_split=2,\n",
              "                       min_weight_fraction_leaf=0.30000000000000004,\n",
              "                       n_estimators=9, n_jobs=None, oob_score=False,\n",
              "                       random_state=None, verbose=0, warm_start=False)"
            ]
          },
          "metadata": {
            "tags": []
          },
          "execution_count": 104
        }
      ]
    },
    {
      "cell_type": "code",
      "metadata": {
        "id": "EqBEFCoBOJLx"
      },
      "source": [
        "prediction_values_forest = clf_forest.predict(test_without_PId).astype(int)\n",
        "prediction_forest = pd.DataFrame({\"PassengerId\":tree_data[\"test\"][\"PassengerId\"],\n",
        "                           \"Survived\":prediction_values_forest})\n",
        "\n",
        "prediction_forest.to_csv(\"Titanic_tree_prediction_forest.csv\",index=False)"
      ],
      "execution_count": 105,
      "outputs": []
    },
    {
      "cell_type": "code",
      "metadata": {
        "colab": {
          "base_uri": "https://localhost:8080/",
          "height": 346
        },
        "id": "WzzfqZeeOKC9",
        "outputId": "cf3974ec-5fe1-448f-93c0-32b263121370"
      },
      "source": [
        "evaluation[\"forest\"] = clf_forest.predict(valid_without_PId).astype(int)\n",
        "\n",
        "cm[\"forest\"] = confusion_matrix(survival_from_data, evaluation[\"forest\"])\n",
        "cm[\"forest\"] = cm[\"forest\"].astype('float') / cm[\"forest\"].sum(axis=1)[:, np.newaxis]\n",
        "\n",
        "cm[\"forest\"]\n",
        "\n",
        "plot_confusion_matrix(cm[\"forest\"], classes=[\"No\",\"Yes\"], \n",
        "                      title='Normalized confusion matrix')"
      ],
      "execution_count": 106,
      "outputs": [
        {
          "output_type": "stream",
          "text": [
            "[[1. 0.]\n",
            " [1. 0.]]\n"
          ],
          "name": "stdout"
        },
        {
          "output_type": "display_data",
          "data": {
            "image/png": "[encoded data removed]",
            "text/plain": [
              "<Figure size 432x288 with 2 Axes>"
            ]
          },
          "metadata": {
            "tags": [],
            "needs_background": "light"
          }
        }
      ]
    },
    {
      "cell_type": "code",
      "metadata": {
        "colab": {
          "base_uri": "https://localhost:8080/"
        },
        "id": "t8kVd0nIOMSY",
        "outputId": "371e4456-feb3-4c18-a56a-16d238c46f0c"
      },
      "source": [
        "from sklearn.naive_bayes import GaussianNB\n",
        "gnb = GaussianNB()\n",
        "gnb.fit(X, Y)"
      ],
      "execution_count": 107,
      "outputs": [
        {
          "output_type": "execute_result",
          "data": {
            "text/plain": [
              "GaussianNB(priors=None, var_smoothing=1e-09)"
            ]
          },
          "metadata": {
            "tags": []
          },
          "execution_count": 107
        }
      ]
    },
    {
      "cell_type": "code",
      "metadata": {
        "id": "ynRrvSo4OQlu"
      },
      "source": [
        "prediction_values_NaiveBayes = gnb.predict(test_without_PId).astype(int)\n",
        "prediction_NaiveBayes = pd.DataFrame({\"PassengerId\":tree_data[\"test\"][\"PassengerId\"],\n",
        "                           \"Survived\":prediction_values_NaiveBayes})"
      ],
      "execution_count": 108,
      "outputs": []
    },
    {
      "cell_type": "code",
      "metadata": {
        "colab": {
          "base_uri": "https://localhost:8080/",
          "height": 346
        },
        "id": "-z6tAcOmOS4u",
        "outputId": "d83d5451-7009-49cf-f03c-1938a9a9abcf"
      },
      "source": [
        "evaluation[\"NB\"] = gnb.predict(valid_without_PId).astype(int)\n",
        "\n",
        "cm[\"NB\"] = confusion_matrix(survival_from_data, evaluation[\"NB\"])\n",
        "cm[\"NB\"] = cm[\"NB\"].astype('float') / cm[\"NB\"].sum(axis=1)[:, np.newaxis]\n",
        "\n",
        "cm[\"NB\"]\n",
        "\n",
        "plot_confusion_matrix(cm[\"NB\"], classes=[\"No\",\"Yes\"], \n",
        "                      title='Normalized confusion matrix')"
      ],
      "execution_count": 109,
      "outputs": [
        {
          "output_type": "stream",
          "text": [
            "[[0.82352941 0.17647059]\n",
            " [0.20779221 0.79220779]]\n"
          ],
          "name": "stdout"
        },
        {
          "output_type": "display_data",
          "data": {
            "image/png": "[encoded data removed]",
            "text/plain": [
              "<Figure size 432x288 with 2 Axes>"
            ]
          },
          "metadata": {
            "tags": [],
            "needs_background": "light"
          }
        }
      ]
    },
    {
      "cell_type": "code",
      "metadata": {
        "colab": {
          "base_uri": "https://localhost:8080/"
        },
        "id": "oi1JFLwHOaeD",
        "outputId": "6ab74001-f406-4932-c08e-81b820d0a8f2"
      },
      "source": [
        "from sklearn import svm\n",
        "clf_svm = svm.SVC()\n",
        "clf_svm.fit(X,Y)"
      ],
      "execution_count": 110,
      "outputs": [
        {
          "output_type": "execute_result",
          "data": {
            "text/plain": [
              "SVC(C=1.0, break_ties=False, cache_size=200, class_weight=None, coef0=0.0,\n",
              "    decision_function_shape='ovr', degree=3, gamma='scale', kernel='rbf',\n",
              "    max_iter=-1, probability=False, random_state=None, shrinking=True,\n",
              "    tol=0.001, verbose=False)"
            ]
          },
          "metadata": {
            "tags": []
          },
          "execution_count": 110
        }
      ]
    },
    {
      "cell_type": "code",
      "metadata": {
        "id": "ilJHTG81ObSv"
      },
      "source": [
        "prediction_values_svm = clf_svm.predict(test_without_PId).astype(int)\n",
        "prediction_svm = pd.DataFrame({\"PassengerId\":tree_data[\"test\"][\"PassengerId\"],\n",
        "                           \"Survived\":prediction_values_svm})\n",
        "\n",
        "#prediction_svm.to_csv(\"Titanic_tree_prediction_svm.csv\",index=False)"
      ],
      "execution_count": 111,
      "outputs": []
    },
    {
      "cell_type": "markdown",
      "metadata": {
        "id": "imJG7CRzt6zJ"
      },
      "source": [
        "#16.\n",
        "(a) AdaBoost 알고리즘에 관하여 설명하시오.\n",
        "\n",
        "부스팅 알고리즘은 마지막으로 학습된 모델만 사용하는 것이 아니라 가중치를 갱신한 모든 모델을 같이 고려한다고 했습니다. 기존에서는 개별 모델에서 동일한 가중치를 주었다면 adaboost에서는 개별 모델에 가중치를 별도로 주는 개념이 추가된 방식입니다."
      ]
    },
    {
      "cell_type": "markdown",
      "metadata": {
        "id": "e9IdUScYuErl"
      },
      "source": [
        "(b) 패션 MNIST 데이터를 사용하여(keras.datasets.fashion mnist 명령어 등으로 불러 올 수 있음.) 패션 MNIST 데이터 셋에 대하여 적절한 앙상블 방법을 사용하여 테스트 셋의 정확도를 높여 보자."
      ]
    },
    {
      "cell_type": "code",
      "metadata": {
        "id": "qHEQ4v_XuHTl"
      },
      "source": [
        "import numpy as np\n",
        "import matplotlib\n",
        "import matplotlib.pyplot as plt\n",
        "\n",
        "%matplotlib inline\n",
        "\n",
        "from sklearn.datasets import load_digits\n",
        "from sklearn.model_selection import train_test_split\n",
        "from sklearn.metrics import accuracy_score\n",
        "from sklearn.tree import DecisionTreeClassifier\n",
        "from sklearn.ensemble import RandomForestClassifier\n",
        "from sklearn import svm\n",
        "from sklearn.ensemble import AdaBoostClassifier"
      ],
      "execution_count": 1,
      "outputs": []
    },
    {
      "cell_type": "code",
      "metadata": {
        "colab": {
          "base_uri": "https://localhost:8080/"
        },
        "id": "goOA2H2fpI2v",
        "outputId": "c3aebf8a-2809-40ac-ea60-1dcbc4081112"
      },
      "source": [
        "from tensorflow.keras.datasets import mnist\n",
        "\n",
        "(train_images, train_labels), (test_images, test_labels) = mnist.load_data()"
      ],
      "execution_count": 2,
      "outputs": [
        {
          "output_type": "stream",
          "text": [
            "Downloading data from https://storage.googleapis.com/tensorflow/tf-keras-datasets/mnist.npz\n",
            "11493376/11490434 [==============================] - 0s 0us/step\n"
          ],
          "name": "stdout"
        }
      ]
    },
    {
      "cell_type": "code",
      "metadata": {
        "colab": {
          "base_uri": "https://localhost:8080/",
          "height": 265
        },
        "id": "CIpAMV_gpO7e",
        "outputId": "d6f0ef29-d97d-4f87-f59d-9fcf0c45148b"
      },
      "source": [
        "digit = train_images[4]\n",
        "\n",
        "import matplotlib.pyplot as plt\n",
        "plt.imshow(digit, cmap=plt.cm.binary)\n",
        "plt.show()"
      ],
      "execution_count": 4,
      "outputs": [
        {
          "output_type": "display_data",
          "data": {
            "image/png": "[encoded data removed]",
            "text/plain": [
              "<Figure size 432x288 with 1 Axes>"
            ]
          },
          "metadata": {
            "tags": [],
            "needs_background": "light"
          }
        }
      ]
    },
    {
      "cell_type": "code",
      "metadata": {
        "id": "yyXergPKpjFK"
      },
      "source": [
        "# flatten the images\n",
        "n_samples = len(train_images)\n",
        "data = train_images.reshape((n_samples, -1))"
      ],
      "execution_count": 5,
      "outputs": []
    },
    {
      "cell_type": "code",
      "metadata": {
        "id": "Lrg4W43PqWAI"
      },
      "source": [
        "X_train, X_test, y_train, y_test = train_test_split(data, train_labels, test_size=0.3, shuffle=False)"
      ],
      "execution_count": 10,
      "outputs": []
    },
    {
      "cell_type": "code",
      "metadata": {
        "id": "M5mcqVy-py1M"
      },
      "source": [
        "decision_tree = DecisionTreeClassifier(random_state = 42)\n",
        "random_forest = RandomForestClassifier(random_state = 42)"
      ],
      "execution_count": 6,
      "outputs": []
    },
    {
      "cell_type": "code",
      "metadata": {
        "colab": {
          "base_uri": "https://localhost:8080/"
        },
        "id": "JMZ3LESipzhl",
        "outputId": "0ea0c564-a71c-4244-ea12-c1b227f52d16"
      },
      "source": [
        "decision_tree.fit(X_train, y_train)\n",
        "random_forest.fit(X_train, y_train)"
      ],
      "execution_count": 11,
      "outputs": [
        {
          "output_type": "execute_result",
          "data": {
            "text/plain": [
              "RandomForestClassifier(bootstrap=True, ccp_alpha=0.0, class_weight=None,\n",
              "                       criterion='gini', max_depth=None, max_features='auto',\n",
              "                       max_leaf_nodes=None, max_samples=None,\n",
              "                       min_impurity_decrease=0.0, min_impurity_split=None,\n",
              "                       min_samples_leaf=1, min_samples_split=2,\n",
              "                       min_weight_fraction_leaf=0.0, n_estimators=100,\n",
              "                       n_jobs=None, oob_score=False, random_state=42, verbose=0,\n",
              "                       warm_start=False)"
            ]
          },
          "metadata": {
            "tags": []
          },
          "execution_count": 11
        }
      ]
    },
    {
      "cell_type": "code",
      "metadata": {
        "colab": {
          "base_uri": "https://localhost:8080/"
        },
        "id": "h9B6U2WBqnjw",
        "outputId": "1337955b-0f1a-406f-99e1-a7a77d0699ae"
      },
      "source": [
        "y_pred_dt = decision_tree.predict(X_test)\n",
        "y_pred_rf = random_forest.predict(X_test)\n",
        "print('Decision Tree score:', accuracy_score(y_test, y_pred_dt))\n",
        "print('Random Forest score:', accuracy_score(y_test, y_pred_rf))"
      ],
      "execution_count": 12,
      "outputs": [
        {
          "output_type": "stream",
          "text": [
            "Decision Tree score: 0.8657777777777778\n",
            "Random Forest score: 0.9651111111111111\n"
          ],
          "name": "stdout"
        }
      ]
    },
    {
      "cell_type": "code",
      "metadata": {
        "colab": {
          "base_uri": "https://localhost:8080/"
        },
        "id": "nGAdZh5ErFPz",
        "outputId": "ed1ecd03-3567-4de5-ef16-8f0a9233598c"
      },
      "source": [
        "from xgboost import XGBClassifier\n",
        "xgbclf = XGBClassifier()\n",
        "xgbclf.fit(X_train, y_train)\n",
        "y_pred_xg = xgbclf.predict(X_test)\n",
        "print('XGboost:', accuracy_score(y_test, y_pred_xg))"
      ],
      "execution_count": 13,
      "outputs": [
        {
          "output_type": "stream",
          "text": [
            "XGboost: 0.9338333333333333\n"
          ],
          "name": "stdout"
        }
      ]
    }
  ]
}