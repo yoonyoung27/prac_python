{
  "nbformat": 4,
  "nbformat_minor": 0,
  "metadata": {
    "colab": {
      "name": "python_중간고사_20163565지윤영.ipynb",
      "provenance": [],
      "authorship_tag": "ABX9TyO6ZAEvKn6lIadk0TvVIijJ",
      "include_colab_link": true
    },
    "kernelspec": {
      "name": "python3",
      "display_name": "Python 3"
    },
    "language_info": {
      "name": "python"
    }
  },
  "cells": [
    {
      "cell_type": "markdown",
      "metadata": {
        "id": "view-in-github",
        "colab_type": "text"
      },
      "source": [
        "<a href=\"https://colab.research.google.com/github/yoonyoung27/prac_python/blob/main/python_%EC%A4%91%EA%B0%84%EA%B3%A0%EC%82%AC_20163565%EC%A7%80%EC%9C%A4%EC%98%81.ipynb\" target=\"_parent\"><img src=\"https://colab.research.google.com/assets/colab-badge.svg\" alt=\"Open In Colab\"/></a>"
      ]
    },
    {
      "cell_type": "markdown",
      "metadata": {
        "id": "mTn75k8fpTcx"
      },
      "source": [
        "#2.\n",
        "(a) 행렬 A = [[1,2],[3,4],[5,6]], B = [[1,2,3,0],[0,1,3,4]]에서 numpy를 사용하여 행렬의 곱 AB를 계산하시오."
      ]
    },
    {
      "cell_type": "code",
      "metadata": {
        "colab": {
          "base_uri": "https://localhost:8080/"
        },
        "id": "m7-TJ0fhoeFj",
        "outputId": "6f8e784a-b379-452f-970e-888c07367687"
      },
      "source": [
        "import numpy as np\n",
        "A = np.array([[1,2],[3,4],[5,6]])\n",
        "B = np.array([[1,2,3,0],[0,1,3,4]])\n",
        "A.dot(B)"
      ],
      "execution_count": null,
      "outputs": [
        {
          "output_type": "execute_result",
          "data": {
            "text/plain": [
              "array([[ 1,  4,  9,  8],\n",
              "       [ 3, 10, 21, 16],\n",
              "       [ 5, 16, 33, 24]])"
            ]
          },
          "metadata": {
            "tags": []
          },
          "execution_count": 5
        }
      ]
    },
    {
      "cell_type": "markdown",
      "metadata": {
        "id": "cUaeWYjyq32a"
      },
      "source": [
        "(b) (골드바흐 추측) 골드바흐의 추측이란 2보다 큰 모든 짝수는 두 개의 소수의 합으로 표현될 수 있다는 것이다. 이 추측은 아직 증명되지 않았지만 컴퓨터로 체크할 수 있는 범위에서는 참인 것이 증명되었다. 예를 들어, 4=2+2, 16=3+13 이다. 2보다 큰 짝수를 입력받아 두 소수의 합으로 표현하는 프로그램을 코딩하시오"
      ]
    },
    {
      "cell_type": "code",
      "metadata": {
        "colab": {
          "base_uri": "https://localhost:8080/"
        },
        "id": "TBX6gI4LrOmM",
        "outputId": "9cc754c0-91f8-4204-ac28-b980c888e137"
      },
      "source": [
        "def is_prime(p):\n",
        "    n=2\n",
        "    k=0\n",
        "    while n<p:\n",
        "        if p%n==0:\n",
        "            n+=1\n",
        "            k+=1\n",
        "        else:\n",
        "            n+=1\n",
        "    if k==0:\n",
        "        return True\n",
        "    else:\n",
        "        return False\n",
        "\n",
        "def goldbach(n):\n",
        "    k=2\n",
        "    while k<(n/2):\n",
        "        if (is_prime(k) == True) & (is_prime(n-k) == True):\n",
        "            print(\"{} + {}\".format(k, n-k))\n",
        "            k+=1\n",
        "        else:\n",
        "            k+=1\n",
        "\n",
        "n = int(input(\"2보다 큰 짝수를 입력하세요 : \"))\n",
        "goldbach(n)"
      ],
      "execution_count": null,
      "outputs": [
        {
          "output_type": "stream",
          "text": [
            "2보다 큰 짝수를 입력하세요 : 36\n",
            "5 + 31\n",
            "7 + 29\n",
            "13 + 23\n",
            "17 + 19\n"
          ],
          "name": "stdout"
        }
      ]
    },
    {
      "cell_type": "markdown",
      "metadata": {
        "id": "CsA7WPRwx7k3"
      },
      "source": [
        "#5.\n",
        "(a) 파이썬에서 클래스란 무엇인지 설명하시오  \n",
        "데이터 유형을 나타내는 데이터이다. 예시로는 int, float, str 등이 있다."
      ]
    },
    {
      "cell_type": "markdown",
      "metadata": {
        "id": "LRxFVNxYycpo"
      },
      "source": [
        "(b) 임의의 자연수 n을 입력받아 n보다 크고 2n 이하인 소수의 개수를 구하는 프로그램을 코딩하시오"
      ]
    },
    {
      "cell_type": "code",
      "metadata": {
        "id": "Tx2Bfn9Ayl0V"
      },
      "source": [
        "def prime_between_n_2n(m):\n",
        "    prime_between_n_2n = []\n",
        "    n=m+1\n",
        "    k=0\n",
        "    while n<=2m:\n",
        "        if p%n==0:\n",
        "            n+=1\n",
        "            k+=1\n",
        "        else:\n",
        "            n+=1\n",
        "    if k==0:\n",
        "       prime_between_n_2n.append(m)\n",
        "    else:\n",
        "        return False"
      ],
      "execution_count": null,
      "outputs": []
    }
  ]
}