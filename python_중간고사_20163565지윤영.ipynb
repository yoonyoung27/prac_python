{
  "nbformat": 4,
  "nbformat_minor": 0,
  "metadata": {
    "colab": {
      "name": "python_중간고사_20163565지윤영.ipynb",
      "provenance": [],
      "authorship_tag": "ABX9TyNotw4dl55qfS/LOO5RnUcr",
      "include_colab_link": true
    },
    "kernelspec": {
      "name": "python3",
      "display_name": "Python 3"
    },
    "language_info": {
      "name": "python"
    }
  },
  "cells": [
    {
      "cell_type": "markdown",
      "metadata": {
        "id": "view-in-github",
        "colab_type": "text"
      },
      "source": [
        "<a href=\"https://colab.research.google.com/github/yoonyoung27/prac_python/blob/main/python_%EC%A4%91%EA%B0%84%EA%B3%A0%EC%82%AC_20163565%EC%A7%80%EC%9C%A4%EC%98%81.ipynb\" target=\"_parent\"><img src=\"https://colab.research.google.com/assets/colab-badge.svg\" alt=\"Open In Colab\"/></a>"
      ]
    },
    {
      "cell_type": "markdown",
      "metadata": {
        "id": "mTn75k8fpTcx"
      },
      "source": [
        "#2.\n",
        "(a) 행렬 A = [[1,2],[3,4],[5,6]], B = [[1,2,3,0],[0,1,3,4]]에서 numpy를 사용하여 행렬의 곱 AB를 계산하시오."
      ]
    },
    {
      "cell_type": "code",
      "metadata": {
        "colab": {
          "base_uri": "https://localhost:8080/"
        },
        "id": "m7-TJ0fhoeFj",
        "outputId": "6f8e784a-b379-452f-970e-888c07367687"
      },
      "source": [
        "import numpy as np\n",
        "A = np.array([[1,2],[3,4],[5,6]])\n",
        "B = np.array([[1,2,3,0],[0,1,3,4]])\n",
        "A.dot(B)"
      ],
      "execution_count": null,
      "outputs": [
        {
          "output_type": "execute_result",
          "data": {
            "text/plain": [
              "array([[ 1,  4,  9,  8],\n",
              "       [ 3, 10, 21, 16],\n",
              "       [ 5, 16, 33, 24]])"
            ]
          },
          "metadata": {
            "tags": []
          },
          "execution_count": 5
        }
      ]
    },
    {
      "cell_type": "markdown",
      "metadata": {
        "id": "cUaeWYjyq32a"
      },
      "source": [
        "(b) (골드바흐 추측) 골드바흐의 추측이란 2보다 큰 모든 짝수는 두 개의 소수의 합으로 표현될 수 있다는 것이다. 이 추측은 아직 증명되지 않았지만 컴퓨터로 체크할 수 있는 범위에서는 참인 것이 증명되었다. 예를 들어, 4=2+2, 16=3+13 이다. 2보다 큰 짝수를 입력받아 두 소수의 합으로 표현하는 프로그램을 코딩하시오"
      ]
    },
    {
      "cell_type": "code",
      "metadata": {
        "colab": {
          "base_uri": "https://localhost:8080/"
        },
        "id": "TBX6gI4LrOmM",
        "outputId": "9cc754c0-91f8-4204-ac28-b980c888e137"
      },
      "source": [
        "def is_prime(p):\n",
        "    n=2\n",
        "    k=0\n",
        "    while n<p:\n",
        "        if p%n==0:\n",
        "            n+=1\n",
        "            k+=1\n",
        "        else:\n",
        "            n+=1\n",
        "    if k==0:\n",
        "        return True\n",
        "    else:\n",
        "        return False\n",
        "\n",
        "def goldbach(n):\n",
        "    k=2\n",
        "    while k<(n/2):\n",
        "        if (is_prime(k) == True) & (is_prime(n-k) == True):\n",
        "            print(\"{} + {}\".format(k, n-k))\n",
        "            k+=1\n",
        "        else:\n",
        "            k+=1\n",
        "\n",
        "n = int(input(\"2보다 큰 짝수를 입력하세요 : \"))\n",
        "goldbach(n)"
      ],
      "execution_count": null,
      "outputs": [
        {
          "output_type": "stream",
          "text": [
            "2보다 큰 짝수를 입력하세요 : 36\n",
            "5 + 31\n",
            "7 + 29\n",
            "13 + 23\n",
            "17 + 19\n"
          ],
          "name": "stdout"
        }
      ]
    },
    {
      "cell_type": "markdown",
      "metadata": {
        "id": "CsA7WPRwx7k3"
      },
      "source": [
        "#5.\n",
        "(a) 파이썬에서 클래스란 무엇인지 설명하시오  \n",
        "데이터 유형을 나타내는 데이터이다. 예시로는 int, float, str 등이 있다."
      ]
    },
    {
      "cell_type": "markdown",
      "metadata": {
        "id": "LRxFVNxYycpo"
      },
      "source": [
        "(b) 임의의 자연수 n을 입력받아 n보다 크고 2n 이하인 소수의 개수를 구하는 프로그램을 코딩하시오"
      ]
    },
    {
      "cell_type": "code",
      "metadata": {
        "colab": {
          "base_uri": "https://localhost:8080/"
        },
        "id": "qmk4NIWg0T5S",
        "outputId": "1daa95d7-5248-4cac-eb2d-548f6f10ff3e"
      },
      "source": [
        "def prime_between_n_2n(m):\n",
        "    new_list = []\n",
        "    for i in range(m+1, 2*m+1):\n",
        "        n=2\n",
        "        k=0\n",
        "        while n<i:\n",
        "            if i%n==0:\n",
        "                n+=1\n",
        "                k+=1\n",
        "            else:\n",
        "                n+=1\n",
        "        if k==0:\n",
        "            new_list.append(i)\n",
        "    return len(new_list)\n",
        "\n",
        "m = int(input(\"수는? \"))\n",
        "print(prime_between_n_2n(m),\"개\")"
      ],
      "execution_count": 42,
      "outputs": [
        {
          "output_type": "stream",
          "text": [
            "수는? 7\n",
            "2 개\n"
          ],
          "name": "stdout"
        }
      ]
    },
    {
      "cell_type": "markdown",
      "metadata": {
        "id": "pgphrWEG27j2"
      },
      "source": [
        "#6.\n",
        "(a) 파이썬의 리스트와 튜플의 차이점은 무엇인지 설명하시오  \n",
        "튜플은 리스트와 함께 시퀀스에 속하지만 한 번 담은 내용은 변경할 수 없다는 점에서 리스트와 다르다."
      ]
    },
    {
      "cell_type": "markdown",
      "metadata": {
        "id": "CBnToOGV3xVD"
      },
      "source": [
        "(b) 좌표평면에서 삼각형의 세 좌표를 입력받는 Triangle이라는 클래스를 정의하고 세 점 사이의 길이를 구하여 둘레의 길이를 구하는 메서드를 정의하여라. 세 변의 길이를 각각 a,b,c라 하고 긴 변을 a라 할 때, a^2 > b^2 +c^2이면 둔각삼각형, a^2 = b^2 + c^2이면 직각삼각형, a^2 < b^2 + c^2이면 예각삼각형이 된다. 이렇게 둔각, 예각, 직각 삼각형을 구별하는 메서드를 정의하여라. 삼각형의 좌표를 실제로 대입하려 테스트해보자."
      ]
    },
    {
      "cell_type": "code",
      "metadata": {
        "colab": {
          "base_uri": "https://localhost:8080/"
        },
        "id": "el7GTnj64pI1",
        "outputId": "69b3ed79-46ba-4dd4-f6b8-231c09d16ef9"
      },
      "source": [
        "import math\n",
        "\n",
        "def square(x):\n",
        "    return x*x\n",
        "\n",
        "class Coordinate:\n",
        "\n",
        "    def __init__(self, x=0, y=0):\n",
        "        self.x=x\n",
        "        self.y=y\n",
        "\n",
        "    def distance(self, other):\n",
        "        return math.sqrt(square(self.x-other.x)+square(self.y-other.y))\n",
        "\n",
        "class Triangle:\n",
        "\n",
        "    def __init__(self, x_1, y_1, x_2, y_2, x_3, y_3):\n",
        "        self.cor_1 = Coordinate(x_1, y_1)\n",
        "        self.cor_2 = Coordinate(x_2, y_2)\n",
        "        self.cor_3 = Coordinate(x_3, y_3)\n",
        "\n",
        "    def perimeter(self):\n",
        "        return self.cor_1.distance(self.cor_2)+self.cor_2.distance(self.cor_3)+self.cor_3.distance(self.cor_1)\n",
        "\n",
        "    def distinguish(self):\n",
        "        len_list = [self.cor_1.distance(self.cor_2), self.cor_2.distance(self.cor_3), self.cor_3.distance(self.cor_1)]\n",
        "        a = max(len_list)\n",
        "        len_list.remove(a)\n",
        "        if square(a) > square(len_list[0]) + square(len_list[1]):\n",
        "            print('둔각삼각형')\n",
        "        elif square(a) == square(len_list[0]) + square(len_list[1]):\n",
        "            print('직각삼각형')\n",
        "        else:\n",
        "            print('예각삼각형')\n",
        "\n",
        "\n",
        "tri = Triangle(1,1,5,1,5,4)  #(1,1),(5,1),(5,4)\n",
        "tri.perimeter()\n",
        "tri.distinguish()"
      ],
      "execution_count": 57,
      "outputs": [
        {
          "output_type": "stream",
          "text": [
            "직각삼각형\n"
          ],
          "name": "stdout"
        }
      ]
    },
    {
      "cell_type": "markdown",
      "metadata": {
        "id": "hW7Ep0GMAB9x"
      },
      "source": [
        "#7.\n",
        "(a) 클래스의 상속에 관해 설명하시오  \n",
        "어떤 클래스의 하위 클래스를 정의하는 것을 상속이라고 한다. 하위 클래스는 상위 클래스의 모든 속성을 고스란히 가지면서도 상위 클래스의 속성을 바꾸거나 다른 속성을 추가로 더 가질 수 있다."
      ]
    },
    {
      "cell_type": "markdown",
      "metadata": {
        "id": "m_et4lreBq9S"
      },
      "source": [
        "(b) 1에서 6까지의 눈이 있는 주사위 3개를 굴려서 눈의 합을 A라고 하자. 다음과 같은 규칙의 도박게임을 코딩해보자.\n",
        "* random 모듈을 이용하여 1부터 6까지 숫자를 중복을 허용하여 3개를 발생하고 합을 구하자.\n",
        "* 위 세 숫자의 합을 A라 할 때, (A-11)x100원의 상금(음수인 경우 벌금)을 지급한다.\n",
        "* 단, 세 눈이 모두 같을 경우 위 상금이나 벌금 대신 세 눈의 합 x100원의 상금을 지급한다.\n",
        "\n",
        "위와 같은 도박게임을 코딩하고 실행해 보아라."
      ]
    },
    {
      "cell_type": "code",
      "metadata": {
        "colab": {
          "base_uri": "https://localhost:8080/"
        },
        "id": "ejiF13TpCNsJ",
        "outputId": "57bd0474-8631-4eea-ed2e-eedbe28fd3c3"
      },
      "source": [
        "import random\n",
        "\n",
        "def gambling():\n",
        "    a = random.randint(1,6)\n",
        "    b = random.randint(1,6)\n",
        "    c = random.randint(1,6)\n",
        "    A = a + b + c\n",
        "    if (a == b) and (b == c):\n",
        "        print(\"Jackpot! 상금 {}원에 당첨되셨습니다\".format(A*100))\n",
        "    else:\n",
        "        if A > 11:\n",
        "            print(\"상금 {}원에 당첨되셨습니다\".format((A-11)*100))\n",
        "        elif A == 11:\n",
        "            print(\"아무일도 일어나지 않습니다\")\n",
        "        else:\n",
        "            print(\"벌금 {}원에 당첨되셨습니다\".format((11-A)*100))\n",
        "\n",
        "gambling()"
      ],
      "execution_count": 91,
      "outputs": [
        {
          "output_type": "stream",
          "text": [
            "Jackpot! 상금 1500원에 당첨되셨습니다\n"
          ],
          "name": "stdout"
        }
      ]
    },
    {
      "cell_type": "markdown",
      "metadata": {
        "id": "tpUARWIIHEE4"
      },
      "source": [
        ""
      ]
    }
  ]
}