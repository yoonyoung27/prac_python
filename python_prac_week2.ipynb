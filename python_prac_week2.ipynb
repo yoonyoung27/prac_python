{
  "nbformat": 4,
  "nbformat_minor": 0,
  "metadata": {
    "colab": {
      "name": "python_prac_week2.ipynb",
      "provenance": [],
      "authorship_tag": "ABX9TyPGhr0MwyDpRDd+tfer30MV",
      "include_colab_link": true
    },
    "kernelspec": {
      "name": "python3",
      "display_name": "Python 3"
    }
  },
  "cells": [
    {
      "cell_type": "markdown",
      "metadata": {
        "id": "view-in-github",
        "colab_type": "text"
      },
      "source": [
        "<a href=\"https://colab.research.google.com/github/yoonyoung27/prac_python/blob/main/python_prac_week2.ipynb\" target=\"_parent\"><img src=\"https://colab.research.google.com/assets/colab-badge.svg\" alt=\"Open In Colab\"/></a>"
      ]
    },
    {
      "cell_type": "markdown",
      "metadata": {
        "id": "86GrqK33TDzG"
      },
      "source": [
        "#2주차 실습과제1\n",
        "['Life', 'is', 'too', 'short] 라는 리스트를 Life is too short라는 문자열로 만들어 출력해보자."
      ]
    },
    {
      "cell_type": "code",
      "metadata": {
        "colab": {
          "base_uri": "https://localhost:8080/",
          "height": 35
        },
        "id": "J0RlmI3mSvIJ",
        "outputId": "d7594cba-4bd6-4ea0-a6ec-3e9da4aab6b8"
      },
      "source": [
        "a=['Life', 'is', 'too', 'short']\n",
        "' '.join(a)"
      ],
      "execution_count": null,
      "outputs": [
        {
          "output_type": "execute_result",
          "data": {
            "application/vnd.google.colaboratory.intrinsic+json": {
              "type": "string"
            },
            "text/plain": [
              "'Life is too short'"
            ]
          },
          "metadata": {
            "tags": []
          },
          "execution_count": 2
        }
      ]
    },
    {
      "cell_type": "markdown",
      "metadata": {
        "id": "LUFTXMAeUmb2"
      },
      "source": [
        "#2주차 실습과제2\n",
        "[1,3,5,4,2]라는 리스트를 [5,4,3,2,1]로 만들어보자."
      ]
    },
    {
      "cell_type": "code",
      "metadata": {
        "colab": {
          "base_uri": "https://localhost:8080/"
        },
        "id": "DNDMTq3_Uyhh",
        "outputId": "75140fad-9931-49e4-eea3-8f84029a32bd"
      },
      "source": [
        "a=[1,3,5,4,2]\n",
        "a.sort(reverse=True)\n",
        "a"
      ],
      "execution_count": null,
      "outputs": [
        {
          "output_type": "execute_result",
          "data": {
            "text/plain": [
              "[5, 4, 3, 2, 1]"
            ]
          },
          "metadata": {
            "tags": []
          },
          "execution_count": 4
        }
      ]
    },
    {
      "cell_type": "markdown",
      "metadata": {
        "id": "1lobTcF-VM66"
      },
      "source": [
        "#2주차 실습과제3\n",
        "(1,2,3)이라는 튜플에 4라는 값을 추가하여 (1,2,3,4)처럼 만들어 출력해 보자."
      ]
    },
    {
      "cell_type": "code",
      "metadata": {
        "colab": {
          "base_uri": "https://localhost:8080/"
        },
        "id": "Pd4r3CxGVYqz",
        "outputId": "994c6bdb-8f8b-4a93-ba21-8925bc6b2803"
      },
      "source": [
        "a=(1,2,3)\n",
        "b=(4,)\n",
        "a+b"
      ],
      "execution_count": null,
      "outputs": [
        {
          "output_type": "execute_result",
          "data": {
            "text/plain": [
              "(1, 2, 3, 4)"
            ]
          },
          "metadata": {
            "tags": []
          },
          "execution_count": 7
        }
      ]
    },
    {
      "cell_type": "markdown",
      "metadata": {
        "id": "EohxK5UDVpV0"
      },
      "source": [
        "#2주차 실습과제4\n",
        "다음 표를 딕셔너리로 만드시오.  \n",
        "항목 값  \n",
        "name 홍길동  \n",
        "birth 1128  \n",
        "age 30"
      ]
    },
    {
      "cell_type": "code",
      "metadata": {
        "colab": {
          "base_uri": "https://localhost:8080/"
        },
        "id": "Cm43yl49V7Hh",
        "outputId": "bd1f841a-27f3-4468-9897-549971ebc0ed"
      },
      "source": [
        "a={\n",
        "    'name' : '홍길동',\n",
        "    'birth' : 1128,\n",
        "   'age' : 30\n",
        "}\n",
        "a"
      ],
      "execution_count": null,
      "outputs": [
        {
          "output_type": "execute_result",
          "data": {
            "text/plain": [
              "dict"
            ]
          },
          "metadata": {
            "tags": []
          },
          "execution_count": 9
        }
      ]
    },
    {
      "cell_type": "code",
      "metadata": {
        "id": "9JVEv3XaWuNw"
      },
      "source": [
        ""
      ],
      "execution_count": null,
      "outputs": []
    },
    {
      "cell_type": "markdown",
      "metadata": {
        "id": "zzKpPN08Wyh1"
      },
      "source": [
        "#2주차 실습과제5\n",
        "다음은 딕셔너리의 a에서 'C'라는 key에 해당되는 value를 출력하는 프로그램이다.  \n",
        "\\>\\>\\> a = {'A':90, 'B':80}  \n",
        "\\>\\>\\> a['C']  \n",
        "Traceback (most recent call last):  \n",
        "  File \"<stdin>\", line 1, in <module>  \n",
        "  KeyError: 'C'  \n",
        "  a 딕셔너리에는 'C라는 key가 없으므로 위와같은 오류가 발생하게 된다. 'C'에 해당되는 키값이 없을 경우 오류 대신 70을 얻을 수 있도록 정해보자."
      ]
    },
    {
      "cell_type": "code",
      "metadata": {
        "colab": {
          "base_uri": "https://localhost:8080/",
          "height": 35
        },
        "id": "aZJLVpeeXlWV",
        "outputId": "8f9a8433-f3a9-4a71-b542-4809cfa14519"
      },
      "source": [
        "a = {'A':90, 'B':80}\n",
        "a.get('C', '70')"
      ],
      "execution_count": null,
      "outputs": [
        {
          "output_type": "execute_result",
          "data": {
            "application/vnd.google.colaboratory.intrinsic+json": {
              "type": "string"
            },
            "text/plain": [
              "'70'"
            ]
          },
          "metadata": {
            "tags": []
          },
          "execution_count": 11
        }
      ]
    },
    {
      "cell_type": "markdown",
      "metadata": {
        "id": "dW_T1BYmYFa3"
      },
      "source": [
        "#2주차 실습과제6\n",
        "중복을 허용하지 않는 집합 자료형의 특징을 이용하여 다음 a리스트에서 중복된 숫자들을 제거해보자.\n",
        "a = [1,1,1,2,2,3,3,3,4,4,5]"
      ]
    },
    {
      "cell_type": "code",
      "metadata": {
        "colab": {
          "base_uri": "https://localhost:8080/"
        },
        "id": "oRQTmhUXYTpZ",
        "outputId": "de298056-9a62-46ac-d86f-cdbcb8452a66"
      },
      "source": [
        "a = [1,1,1,2,2,3,3,3,4,4,5]\n",
        "s = set(a)\n",
        "s"
      ],
      "execution_count": null,
      "outputs": [
        {
          "output_type": "execute_result",
          "data": {
            "text/plain": [
              "{1, 2, 3, 4, 5}"
            ]
          },
          "metadata": {
            "tags": []
          },
          "execution_count": 12
        }
      ]
    },
    {
      "cell_type": "markdown",
      "metadata": {
        "id": "U_HJnmk5Yf3q"
      },
      "source": [
        "#2주차 실습과제7\n",
        "아래의 표에서, 아이스크림 이름을 키값으로, (가격, 재고) 리스트를 딕셔너리의 값으로 저장하라. 딕셔너리의 이름은 inventory로 한다.  \n",
        "이름 가격 재고  \n",
        "메로나 300 20  \n",
        "비비빅 400 3  \n",
        "죠스바 250 100"
      ]
    },
    {
      "cell_type": "code",
      "metadata": {
        "colab": {
          "base_uri": "https://localhost:8080/"
        },
        "id": "p60VdM7kZMvU",
        "outputId": "05c890e8-c065-488b-e068-e4ecaf8ad0c4"
      },
      "source": [
        "inventory = {'메로나':[300,20], '비비빅':[400,3], '죠스바':[250,100]}\n",
        "inventory"
      ],
      "execution_count": null,
      "outputs": [
        {
          "output_type": "execute_result",
          "data": {
            "text/plain": [
              "{'메로나': [300, 20], '비비빅': [400, 3], '죠스바': [250, 100]}"
            ]
          },
          "metadata": {
            "tags": []
          },
          "execution_count": 14
        }
      ]
    },
    {
      "cell_type": "markdown",
      "metadata": {
        "id": "0XBWesCzZoMq"
      },
      "source": [
        "#2주차 실습과제8\n",
        "(1) 2-7의 inventory 딕셔너리에서 메로나의 가격을 화면에 출력하라.  \n",
        "실행 예시 : 300원  \n",
        "(2) 2-7의 inventory 딕셔너리에서 메로나의 재고를 화면에 출력하라.  \n",
        "실행 예시 : 20개  \n",
        "(3) 2-7의 inventory 딕셔너리에 아래 데이터를 추가하라.  \n",
        "이름 가격 재고  \n",
        "월드콘 500 7"
      ]
    },
    {
      "cell_type": "code",
      "metadata": {
        "colab": {
          "base_uri": "https://localhost:8080/"
        },
        "id": "BtbgzFH_fjeB",
        "outputId": "6ac67333-4f51-488c-9a45-56f494389e22"
      },
      "source": [
        "print(\"%d원\" %inventory['메로나'][0])\n",
        "print(\"%d개\" %inventory['메로나'][1])\n",
        "inventory['월드콘'] = [500, 7]\n",
        "inventory"
      ],
      "execution_count": null,
      "outputs": [
        {
          "output_type": "stream",
          "text": [
            "300원\n",
            "20개\n"
          ],
          "name": "stdout"
        },
        {
          "output_type": "execute_result",
          "data": {
            "text/plain": [
              "{'메로나': [300, 20], '비비빅': [400, 3], '월드콘': [500, 7], '죠스바': [250, 100]}"
            ]
          },
          "metadata": {
            "tags": []
          },
          "execution_count": 37
        }
      ]
    },
    {
      "cell_type": "markdown",
      "metadata": {
        "id": "4y9l5AP6jSvC"
      },
      "source": [
        "#2주차 실습과제9\n",
        "다음 my_list에서 대문자만 화면에 출력하라.  \n",
        "my_list = [\"A\", \"b\", \"c\", \"D\"]  \n",
        "실행 예 :  \n",
        "A  \n",
        "D  "
      ]
    },
    {
      "cell_type": "code",
      "metadata": {
        "colab": {
          "base_uri": "https://localhost:8080/"
        },
        "id": "5riRPv1Gjni3",
        "outputId": "43f8dba3-c166-4f1a-82a8-264f4a66a7ff"
      },
      "source": [
        "my_list=['A',\"b\",\"c\",\"D\"]\n",
        "for val in my_list:\n",
        "    if val.isupper():\n",
        "        print(val)"
      ],
      "execution_count": null,
      "outputs": [
        {
          "output_type": "stream",
          "text": [
            "A\n",
            "D\n"
          ],
          "name": "stdout"
        }
      ]
    },
    {
      "cell_type": "markdown",
      "metadata": {
        "id": "72T-zaQoj8pV"
      },
      "source": [
        "#2주차 실습과제10\n",
        "문자열의 upper() 메서드는 문자열을 대문자로 변경하고, lower() 메서드는 소문자로 변환한다.  \n",
        "\\>\\> 'korea'.upper()  \n",
        "KOREA  \n",
        "\\>\\> 'KOREA'.lower()  \n",
        "korea  \n",
        "아래의 리스트의 문자를 대문자는 소문자로, 소문자는 대문자로 변환하라.  \n",
        "my_list = [\"A\",\"b\",\"c\",\"D\"]  \n",
        "실행예: aBCd"
      ]
    },
    {
      "cell_type": "code",
      "metadata": {
        "colab": {
          "base_uri": "https://localhost:8080/"
        },
        "id": "B3NVk7DqkhmF",
        "outputId": "dafe0665-7ea3-4870-cc36-95b6b7f10215"
      },
      "source": [
        "for val in my_list:\n",
        "    if val.isupper():\n",
        "        print(val.lower(), end='')\n",
        "    else:\n",
        "        print(val.upper(), end='')"
      ],
      "execution_count": null,
      "outputs": [
        {
          "output_type": "stream",
          "text": [
            "aBCd"
          ],
          "name": "stdout"
        }
      ]
    }
  ]
}