{
  "nbformat": 4,
  "nbformat_minor": 0,
  "metadata": {
    "colab": {
      "name": "numpy_prac.ipynb",
      "provenance": [],
      "authorship_tag": "ABX9TyOGPjEiBQVe7vyPcozhDdXD",
      "include_colab_link": true
    },
    "kernelspec": {
      "name": "python3",
      "display_name": "Python 3"
    },
    "language_info": {
      "name": "python"
    }
  },
  "cells": [
    {
      "cell_type": "markdown",
      "metadata": {
        "id": "view-in-github",
        "colab_type": "text"
      },
      "source": [
        "<a href=\"https://colab.research.google.com/github/yoonyoung27/prac_python/blob/main/numpy_prac.ipynb\" target=\"_parent\"><img src=\"https://colab.research.google.com/assets/colab-badge.svg\" alt=\"Open In Colab\"/></a>"
      ]
    },
    {
      "cell_type": "markdown",
      "metadata": {
        "id": "O0cC8cSqEay5"
      },
      "source": [
        "#Numpy Library\n",
        "https://numpy.org/doc/stable/user/index.html"
      ]
    },
    {
      "cell_type": "code",
      "metadata": {
        "id": "l40J-jxtD_AX"
      },
      "source": [
        "import numpy as np"
      ],
      "execution_count": 8,
      "outputs": []
    },
    {
      "cell_type": "markdown",
      "metadata": {
        "id": "o0T9p71kE7kD"
      },
      "source": [
        "###①벡터"
      ]
    },
    {
      "cell_type": "code",
      "metadata": {
        "colab": {
          "base_uri": "https://localhost:8080/"
        },
        "id": "VRli6SDCE1us",
        "outputId": "42e2e91a-d666-480a-e7c2-dce64e44effd"
      },
      "source": [
        "print(np.array([1,2,3]),\n",
        "      np.arange(10),\n",
        "      np.arange(5,10))"
      ],
      "execution_count": null,
      "outputs": [
        {
          "output_type": "stream",
          "text": [
            "[1 2 3] [0 1 2 3 4 5 6 7 8 9] [5 6 7 8 9]\n"
          ],
          "name": "stdout"
        }
      ]
    },
    {
      "cell_type": "markdown",
      "metadata": {
        "id": "lmINiy0FFNEP"
      },
      "source": [
        "###* 벡터 연산"
      ]
    },
    {
      "cell_type": "code",
      "metadata": {
        "colab": {
          "base_uri": "https://localhost:8080/"
        },
        "id": "HsgVtRenFRe9",
        "outputId": "54ddf46b-128f-460b-fe8f-110910e86279"
      },
      "source": [
        "x = np.array([1,2,3,4,5,6,7,8])\n",
        "y = np.array([3,4,5,6,7,8,9,10])\n",
        "print(x+y,\n",
        "      x*2,\n",
        "      x[3])"
      ],
      "execution_count": null,
      "outputs": [
        {
          "output_type": "stream",
          "text": [
            "[ 4  6  8 10 12 14 16 18] [ 2  4  6  8 10 12 14 16] 4\n"
          ],
          "name": "stdout"
        }
      ]
    },
    {
      "cell_type": "markdown",
      "metadata": {
        "id": "LHlHs6ysGMFu"
      },
      "source": [
        "###②행렬"
      ]
    },
    {
      "cell_type": "code",
      "metadata": {
        "colab": {
          "base_uri": "https://localhost:8080/"
        },
        "id": "4diyRCs7GPqi",
        "outputId": "1f360e2a-1a7b-49ac-9a13-f40ab5e91b48"
      },
      "source": [
        "print(np.array([[1,2,3],[4,5,6]]))\n",
        "print(np.zeros((2,10)))\n",
        "print(np.ones((2,10)))\n",
        "print(np.identity(3))\n",
        "print(np.random.rand(2,3))\n",
        "print(np.random.randn(2,3))"
      ],
      "execution_count": 3,
      "outputs": [
        {
          "output_type": "stream",
          "text": [
            "[[1 2 3]\n",
            " [4 5 6]]\n",
            "[[0. 0. 0. 0. 0. 0. 0. 0. 0. 0.]\n",
            " [0. 0. 0. 0. 0. 0. 0. 0. 0. 0.]]\n",
            "[[1. 1. 1. 1. 1. 1. 1. 1. 1. 1.]\n",
            " [1. 1. 1. 1. 1. 1. 1. 1. 1. 1.]]\n",
            "[[1. 0. 0.]\n",
            " [0. 1. 0.]\n",
            " [0. 0. 1.]]\n",
            "[[0.78214437 0.53348795 0.85623978]\n",
            " [0.22989416 0.38310318 0.9364472 ]]\n",
            "[[-0.7897147   0.31823656 -0.37827552]\n",
            " [-0.07006282  0.28121405  2.15905688]]\n"
          ],
          "name": "stdout"
        }
      ]
    },
    {
      "cell_type": "markdown",
      "metadata": {
        "id": "qo_0HKe5I4Fp"
      },
      "source": [
        "* rand는 0이상 1이하의 균등분포를 나타낸다\n",
        "* randn은 정규분포를 나타낸다"
      ]
    },
    {
      "cell_type": "markdown",
      "metadata": {
        "id": "cnmjlvzqHrM5"
      },
      "source": [
        "###* 행렬 연산"
      ]
    },
    {
      "cell_type": "code",
      "metadata": {
        "colab": {
          "base_uri": "https://localhost:8080/"
        },
        "id": "OwHQM6zrHwpE",
        "outputId": "3542fed4-1b84-46b2-f5bc-070b44cdd9bb"
      },
      "source": [
        "x = np.array([[1,2,3],[4,5,6],[7,8,9]])\n",
        "y = np.array([[3,2,1],[6,5,4],[9,8,7]])\n",
        "print(x+y)\n",
        "print(x*2)\n",
        "print(x[1,2],\n",
        "      x[1,0:2])"
      ],
      "execution_count": 9,
      "outputs": [
        {
          "output_type": "stream",
          "text": [
            "[[ 4  4  4]\n",
            " [10 10 10]\n",
            " [16 16 16]]\n",
            "[[ 2  4  6]\n",
            " [ 8 10 12]\n",
            " [14 16 18]]\n",
            "6 [4 5]\n"
          ],
          "name": "stdout"
        }
      ]
    },
    {
      "cell_type": "markdown",
      "metadata": {
        "id": "V2JPM15qG-3G"
      },
      "source": [
        "###* 행렬 함수, 메서드(전용 함수)\n",
        "\n",
        "* __<shape()>__ (행 개수, 열 개수)를 알려준다\n",
        "* __<np.linalg.norm()>__ norm\n",
        "* __<np.linalg.svd()>__ singular value decomposition\n",
        "* __<np.linalg.cholesky()>__ cholesky decomposition\n",
        "\n",
        "\\* 행렬 연산 함수\n",
        "\n",
        "* __<exp()>__ exponential 함수\n",
        "* __<dot()>__ 행렬의 곱\n",
        "\n",
        "\\* 벡터와 행렬 변환\n",
        "\n",
        "* __<reshape(x,y)>__ x행 y열의 행렬로 변환"
      ]
    },
    {
      "cell_type": "code",
      "metadata": {
        "colab": {
          "base_uri": "https://localhost:8080/"
        },
        "id": "zGJfY8O4HBXN",
        "outputId": "f23db1dd-d370-4aa7-b772-945885109263"
      },
      "source": [
        "print('1.', x.shape)\n",
        "print('2.', np.exp(x))\n",
        "print('3.', x.dot(y))\n",
        "z = np.array([1,2,3,4,5,6])\n",
        "print('4.', z.reshape(2,3))"
      ],
      "execution_count": null,
      "outputs": [
        {
          "output_type": "stream",
          "text": [
            "1. (3, 3)\n",
            "2. [[2.71828183e+00 7.38905610e+00 2.00855369e+01]\n",
            " [5.45981500e+01 1.48413159e+02 4.03428793e+02]\n",
            " [1.09663316e+03 2.98095799e+03 8.10308393e+03]]\n",
            "3. [[ 42  36  30]\n",
            " [ 96  81  66]\n",
            " [150 126 102]]\n",
            "4. [[1 2 3]\n",
            " [4 5 6]]\n"
          ],
          "name": "stdout"
        }
      ]
    }
  ]
}