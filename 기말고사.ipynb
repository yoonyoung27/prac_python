{
  "nbformat": 4,
  "nbformat_minor": 0,
  "metadata": {
    "colab": {
      "name": "기말고사.ipynb",
      "provenance": [],
      "authorship_tag": "ABX9TyNYyw6bRkOCHp0bSpzSZLv+",
      "include_colab_link": true
    },
    "kernelspec": {
      "name": "python3",
      "display_name": "Python 3"
    },
    "language_info": {
      "name": "python"
    }
  },
  "cells": [
    {
      "cell_type": "markdown",
      "metadata": {
        "id": "view-in-github",
        "colab_type": "text"
      },
      "source": [
        "<a href=\"https://colab.research.google.com/github/yoonyoung27/prac_python/blob/main/%EA%B8%B0%EB%A7%90%EA%B3%A0%EC%82%AC.ipynb\" target=\"_parent\"><img src=\"https://colab.research.google.com/assets/colab-badge.svg\" alt=\"Open In Colab\"/></a>"
      ]
    },
    {
      "cell_type": "markdown",
      "metadata": {
        "id": "rXb2Xu8Hxkvi"
      },
      "source": [
        "#4.\n",
        "(a) 분산과 편향의 tradeoff에 관해 설명하시오.\n",
        "\n",
        "편향은 훈련 데이터와 예측값의 차이값을 뜻하고 분산은 테스트 데이터와 예측값의 차이값을 뜻하는데  \n",
        "모델의 복잡도가 늘어나면 분산이 커지고 편향이 줄어들고, 그 반대의 경우 편향이 커기조 분산이 줄어드는 trade off의 관계를 가진다."
      ]
    },
    {
      "cell_type": "markdown",
      "metadata": {
        "id": "v2-HR6ngxtvf"
      },
      "source": [
        "(b) sklearn의 diabetes 데이터를 불러오고 선형회귀를 실행해보자. 또한 Ridge와 Lasso 회귀를 실행하고 하이퍼 파라미터를 조정해보자."
      ]
    },
    {
      "cell_type": "code",
      "metadata": {
        "id": "kSgrwcAaxecb"
      },
      "source": [
        "from sklearn import datasets\n",
        "diabetes = datasets.load_diabetes()"
      ],
      "execution_count": null,
      "outputs": []
    },
    {
      "cell_type": "code",
      "metadata": {
        "colab": {
          "base_uri": "https://localhost:8080/"
        },
        "id": "JlFeSdIX8Z8W",
        "outputId": "cc3e1ee3-ffae-40da-e0dc-3e7d0dda7208"
      },
      "source": [
        "diabetes"
      ],
      "execution_count": null,
      "outputs": [
        {
          "output_type": "execute_result",
          "data": {
            "text/plain": [
              "{'DESCR': '.. _diabetes_dataset:\\n\\nDiabetes dataset\\n----------------\\n\\nTen baseline variables, age, sex, body mass index, average blood\\npressure, and six blood serum measurements were obtained for each of n =\\n442 diabetes patients, as well as the response of interest, a\\nquantitative measure of disease progression one year after baseline.\\n\\n**Data Set Characteristics:**\\n\\n  :Number of Instances: 442\\n\\n  :Number of Attributes: First 10 columns are numeric predictive values\\n\\n  :Target: Column 11 is a quantitative measure of disease progression one year after baseline\\n\\n  :Attribute Information:\\n      - Age\\n      - Sex\\n      - Body mass index\\n      - Average blood pressure\\n      - S1\\n      - S2\\n      - S3\\n      - S4\\n      - S5\\n      - S6\\n\\nNote: Each of these 10 feature variables have been mean centered and scaled by the standard deviation times `n_samples` (i.e. the sum of squares of each column totals 1).\\n\\nSource URL:\\nhttps://www4.stat.ncsu.edu/~boos/var.select/diabetes.html\\n\\nFor more information see:\\nBradley Efron, Trevor Hastie, Iain Johnstone and Robert Tibshirani (2004) \"Least Angle Regression,\" Annals of Statistics (with discussion), 407-499.\\n(https://web.stanford.edu/~hastie/Papers/LARS/LeastAngle_2002.pdf)',\n",
              " 'data': array([[ 0.03807591,  0.05068012,  0.06169621, ..., -0.00259226,\n",
              "          0.01990842, -0.01764613],\n",
              "        [-0.00188202, -0.04464164, -0.05147406, ..., -0.03949338,\n",
              "         -0.06832974, -0.09220405],\n",
              "        [ 0.08529891,  0.05068012,  0.04445121, ..., -0.00259226,\n",
              "          0.00286377, -0.02593034],\n",
              "        ...,\n",
              "        [ 0.04170844,  0.05068012, -0.01590626, ..., -0.01107952,\n",
              "         -0.04687948,  0.01549073],\n",
              "        [-0.04547248, -0.04464164,  0.03906215, ...,  0.02655962,\n",
              "          0.04452837, -0.02593034],\n",
              "        [-0.04547248, -0.04464164, -0.0730303 , ..., -0.03949338,\n",
              "         -0.00421986,  0.00306441]]),\n",
              " 'data_filename': '/usr/local/lib/python3.7/dist-packages/sklearn/datasets/data/diabetes_data.csv.gz',\n",
              " 'feature_names': ['age',\n",
              "  'sex',\n",
              "  'bmi',\n",
              "  'bp',\n",
              "  's1',\n",
              "  's2',\n",
              "  's3',\n",
              "  's4',\n",
              "  's5',\n",
              "  's6'],\n",
              " 'target': array([151.,  75., 141., 206., 135.,  97., 138.,  63., 110., 310., 101.,\n",
              "         69., 179., 185., 118., 171., 166., 144.,  97., 168.,  68.,  49.,\n",
              "         68., 245., 184., 202., 137.,  85., 131., 283., 129.,  59., 341.,\n",
              "         87.,  65., 102., 265., 276., 252.,  90., 100.,  55.,  61.,  92.,\n",
              "        259.,  53., 190., 142.,  75., 142., 155., 225.,  59., 104., 182.,\n",
              "        128.,  52.,  37., 170., 170.,  61., 144.,  52., 128.,  71., 163.,\n",
              "        150.,  97., 160., 178.,  48., 270., 202., 111.,  85.,  42., 170.,\n",
              "        200., 252., 113., 143.,  51.,  52., 210.,  65., 141.,  55., 134.,\n",
              "         42., 111.,  98., 164.,  48.,  96.,  90., 162., 150., 279.,  92.,\n",
              "         83., 128., 102., 302., 198.,  95.,  53., 134., 144., 232.,  81.,\n",
              "        104.,  59., 246., 297., 258., 229., 275., 281., 179., 200., 200.,\n",
              "        173., 180.,  84., 121., 161.,  99., 109., 115., 268., 274., 158.,\n",
              "        107.,  83., 103., 272.,  85., 280., 336., 281., 118., 317., 235.,\n",
              "         60., 174., 259., 178., 128.,  96., 126., 288.,  88., 292.,  71.,\n",
              "        197., 186.,  25.,  84.,  96., 195.,  53., 217., 172., 131., 214.,\n",
              "         59.,  70., 220., 268., 152.,  47.,  74., 295., 101., 151., 127.,\n",
              "        237., 225.,  81., 151., 107.,  64., 138., 185., 265., 101., 137.,\n",
              "        143., 141.,  79., 292., 178.,  91., 116.,  86., 122.,  72., 129.,\n",
              "        142.,  90., 158.,  39., 196., 222., 277.,  99., 196., 202., 155.,\n",
              "         77., 191.,  70.,  73.,  49.,  65., 263., 248., 296., 214., 185.,\n",
              "         78.,  93., 252., 150.,  77., 208.,  77., 108., 160.,  53., 220.,\n",
              "        154., 259.,  90., 246., 124.,  67.,  72., 257., 262., 275., 177.,\n",
              "         71.,  47., 187., 125.,  78.,  51., 258., 215., 303., 243.,  91.,\n",
              "        150., 310., 153., 346.,  63.,  89.,  50.,  39., 103., 308., 116.,\n",
              "        145.,  74.,  45., 115., 264.,  87., 202., 127., 182., 241.,  66.,\n",
              "         94., 283.,  64., 102., 200., 265.,  94., 230., 181., 156., 233.,\n",
              "         60., 219.,  80.,  68., 332., 248.,  84., 200.,  55.,  85.,  89.,\n",
              "         31., 129.,  83., 275.,  65., 198., 236., 253., 124.,  44., 172.,\n",
              "        114., 142., 109., 180., 144., 163., 147.,  97., 220., 190., 109.,\n",
              "        191., 122., 230., 242., 248., 249., 192., 131., 237.,  78., 135.,\n",
              "        244., 199., 270., 164.,  72.,  96., 306.,  91., 214.,  95., 216.,\n",
              "        263., 178., 113., 200., 139., 139.,  88., 148.,  88., 243.,  71.,\n",
              "         77., 109., 272.,  60.,  54., 221.,  90., 311., 281., 182., 321.,\n",
              "         58., 262., 206., 233., 242., 123., 167.,  63., 197.,  71., 168.,\n",
              "        140., 217., 121., 235., 245.,  40.,  52., 104., 132.,  88.,  69.,\n",
              "        219.,  72., 201., 110.,  51., 277.,  63., 118.,  69., 273., 258.,\n",
              "         43., 198., 242., 232., 175.,  93., 168., 275., 293., 281.,  72.,\n",
              "        140., 189., 181., 209., 136., 261., 113., 131., 174., 257.,  55.,\n",
              "         84.,  42., 146., 212., 233.,  91., 111., 152., 120.,  67., 310.,\n",
              "         94., 183.,  66., 173.,  72.,  49.,  64.,  48., 178., 104., 132.,\n",
              "        220.,  57.]),\n",
              " 'target_filename': '/usr/local/lib/python3.7/dist-packages/sklearn/datasets/data/diabetes_target.csv.gz'}"
            ]
          },
          "metadata": {
            "tags": []
          },
          "execution_count": 33
        }
      ]
    },
    {
      "cell_type": "code",
      "metadata": {
        "colab": {
          "base_uri": "https://localhost:8080/"
        },
        "id": "u_b2ylnp6jQS",
        "outputId": "b917ada3-0ef4-4b60-feaa-0335af97c220"
      },
      "source": [
        "diabetes.keys()"
      ],
      "execution_count": null,
      "outputs": [
        {
          "output_type": "execute_result",
          "data": {
            "text/plain": [
              "dict_keys(['data', 'target', 'DESCR', 'feature_names', 'data_filename', 'target_filename'])"
            ]
          },
          "metadata": {
            "tags": []
          },
          "execution_count": 34
        }
      ]
    },
    {
      "cell_type": "code",
      "metadata": {
        "id": "1OONqmXF_rP9"
      },
      "source": [
        "X = diabetes.data\n",
        "y = diabetes.target"
      ],
      "execution_count": null,
      "outputs": []
    },
    {
      "cell_type": "code",
      "metadata": {
        "id": "kUpIDkZAMCoz"
      },
      "source": [
        "X_train = X[:-20]\n",
        "X_test = X[-20:]\n",
        "\n",
        "y_train = y[:-20]\n",
        "y_test = y[-20:]"
      ],
      "execution_count": null,
      "outputs": []
    },
    {
      "cell_type": "code",
      "metadata": {
        "colab": {
          "base_uri": "https://localhost:8080/"
        },
        "id": "8_HVKG2D9O5X",
        "outputId": "9819e7b0-574d-4c09-c98d-65270d7efc3e"
      },
      "source": [
        "from sklearn.linear_model import LinearRegression\n",
        "lin_reg = LinearRegression()\n",
        "lin_reg.fit(X_train,y_train)\n",
        "lin_reg.intercept_, lin_reg.coef_"
      ],
      "execution_count": null,
      "outputs": [
        {
          "output_type": "execute_result",
          "data": {
            "text/plain": [
              "(152.76430691633442,\n",
              " array([ 3.03499549e-01, -2.37639315e+02,  5.10530605e+02,  3.27736980e+02,\n",
              "        -8.14131709e+02,  4.92814588e+02,  1.02848452e+02,  1.84606489e+02,\n",
              "         7.43519617e+02,  7.60951722e+01]))"
            ]
          },
          "metadata": {
            "tags": []
          },
          "execution_count": 45
        }
      ]
    },
    {
      "cell_type": "code",
      "metadata": {
        "colab": {
          "base_uri": "https://localhost:8080/"
        },
        "id": "Eves0-USMd5G",
        "outputId": "9cb01a45-b11e-4184-e845-653c66467ffd"
      },
      "source": [
        "lin_reg.score(X_train, y_train)\n",
        "lin_reg.score(X_test, y_test)"
      ],
      "execution_count": null,
      "outputs": [
        {
          "output_type": "execute_result",
          "data": {
            "text/plain": [
              "0.5850753022690574"
            ]
          },
          "metadata": {
            "tags": []
          },
          "execution_count": 47
        }
      ]
    },
    {
      "cell_type": "code",
      "metadata": {
        "id": "y3yIO97TNe7d"
      },
      "source": [
        "from sklearn.model_selection import train_test_split\n",
        "X_train, X_test, y_train, y_test = train_test_split(X, y, test_size=0.2, random_state=42)"
      ],
      "execution_count": null,
      "outputs": []
    },
    {
      "cell_type": "code",
      "metadata": {
        "colab": {
          "base_uri": "https://localhost:8080/"
        },
        "id": "MreG7zBYEo6z",
        "outputId": "61699b3f-f089-4531-b05c-c9d336b7759e"
      },
      "source": [
        "from sklearn.linear_model import Ridge\n",
        "ridge_reg_0 = Ridge(alpha=0, solver='cholesky')\n",
        "ridge_reg_0.fit(X_train,y_train)\n",
        "\n",
        "ridge_reg_1 = Ridge(alpha=1, solver='cholesky')\n",
        "ridge_reg_1.fit(X_train,y_train)\n",
        "\n",
        "ridge_reg_100 = Ridge(alpha=100, solver='cholesky')\n",
        "ridge_reg_100.fit(X_train,y_train)"
      ],
      "execution_count": null,
      "outputs": [
        {
          "output_type": "execute_result",
          "data": {
            "text/plain": [
              "Ridge(alpha=100, copy_X=True, fit_intercept=True, max_iter=None,\n",
              "      normalize=False, random_state=None, solver='cholesky', tol=0.001)"
            ]
          },
          "metadata": {
            "tags": []
          },
          "execution_count": 56
        }
      ]
    },
    {
      "cell_type": "code",
      "metadata": {
        "colab": {
          "base_uri": "https://localhost:8080/"
        },
        "id": "v8v3DP_vN-ln",
        "outputId": "e13f988f-6dc1-4937-dbd9-3f31cecf6e78"
      },
      "source": [
        "print(ridge_reg_0.score(X_test, y_test),\n",
        "      ridge_reg_1.score(X_test, y_test),\n",
        "      ridge_reg_100.score(X_test, y_test))"
      ],
      "execution_count": null,
      "outputs": [
        {
          "output_type": "stream",
          "text": [
            "0.45260660216173826 0.4191532397912693 0.012171837445885458\n"
          ],
          "name": "stdout"
        }
      ]
    },
    {
      "cell_type": "code",
      "metadata": {
        "colab": {
          "base_uri": "https://localhost:8080/"
        },
        "id": "BAr6VhDOFhH_",
        "outputId": "e45e285d-0ecd-4fcb-ffb4-eda3b7889c04"
      },
      "source": [
        "from sklearn.linear_model import Lasso\n",
        "lasso_reg_0 = Lasso(alpha=0)\n",
        "lasso_reg_0.fit(X_train,y_train)\n",
        "\n",
        "lasso_reg_1 = Ridge(alpha=1)\n",
        "lasso_reg_1.fit(X_train,y_train)\n",
        "\n",
        "lasso_reg_100 = Ridge(alpha=100, solver='cholesky')\n",
        "lasso_reg_100.fit(X_train,y_train)"
      ],
      "execution_count": null,
      "outputs": [
        {
          "output_type": "stream",
          "text": [
            "/usr/local/lib/python3.7/dist-packages/ipykernel_launcher.py:3: UserWarning: With alpha=0, this algorithm does not converge well. You are advised to use the LinearRegression estimator\n",
            "  This is separate from the ipykernel package so we can avoid doing imports until\n",
            "/usr/local/lib/python3.7/dist-packages/sklearn/linear_model/_coordinate_descent.py:476: UserWarning: Coordinate descent with no regularization may lead to unexpected results and is discouraged.\n",
            "  positive)\n",
            "/usr/local/lib/python3.7/dist-packages/sklearn/linear_model/_coordinate_descent.py:476: ConvergenceWarning: Objective did not converge. You might want to increase the number of iterations. Duality gap: 506298.47211422364, tolerance: 214.49684985835697\n",
            "  positive)\n"
          ],
          "name": "stderr"
        },
        {
          "output_type": "execute_result",
          "data": {
            "text/plain": [
              "Ridge(alpha=100, copy_X=True, fit_intercept=True, max_iter=None,\n",
              "      normalize=False, random_state=None, solver='cholesky', tol=0.001)"
            ]
          },
          "metadata": {
            "tags": []
          },
          "execution_count": 62
        }
      ]
    },
    {
      "cell_type": "code",
      "metadata": {
        "colab": {
          "base_uri": "https://localhost:8080/"
        },
        "id": "YRad-Je8PK_4",
        "outputId": "92b051d7-660d-417b-87e9-e48a2b19a9cc"
      },
      "source": [
        "print(lasso_reg_0.score(X_test, y_test),\n",
        "      lasso_reg_1.score(X_test, y_test),\n",
        "      lasso_reg_100.score(X_test, y_test))"
      ],
      "execution_count": null,
      "outputs": [
        {
          "output_type": "stream",
          "text": [
            "0.4526066022334356 0.4191532397912693 0.012171837445885458\n"
          ],
          "name": "stdout"
        }
      ]
    },
    {
      "cell_type": "markdown",
      "metadata": {
        "id": "w7CGP6yfPWkH"
      },
      "source": [
        "#9.\n",
        "(a) valid kernel이란 무엇인지 설명하시오.\n",
        "\n",
        "어떤 kernel에 대하여 ![image.png](data:image/png;base64,iVBORw0KGgoAAAANSUhEUgAAALQAAAASCAYAAADyiPTBAAAEhElEQVRoBdVaiZHkIAx0Po6HfIhH8ZCPtlr8jzEY45q9qj17eCR1SyDBzMFf/yNiqnQSU91YjRpqaMrHzBd1DBny8aD/jvsl+49PaTedoLoENGFhTz7EvKFjwpzPhv533C/a/2lAG62T3ZlYnZpN8Dqx1vFTaJ54yeX7iYZ10LOuw0v9pWeNe4Fbo/k8Dj7Kv8Dh+8hr+6Hjmd/WA9po1kPlgmHdHXjXf0fkyPzWGMPUtetO76b+13h1wZFhvMZM2m8yWBTKbUAt3m5wb7XfYmr5bTGgZ3Y8YqX6kR/JvCGr2X0vH9OaOobJbyre0Pgur03cTczE5JMkKT6Dvwwb3z6E9gP7YUcDQxXQRp95uklA6dOnopNRHZDyK3gEZRpwSCcHB9FuejPYRkTLmFS+n2T1nEkpc6UD7f3l5mWuPSt+D8tlKvU5r5Ayzm0PM6mz8o9IL+Pjdfsjhid+qwJaiCXFR0g30iL/Ga1YxyV8u+PGmXhL0hYRGxwEslWf9OcTBz/V8w30cLpb1GOCcFJNB4b+V1+IVSMQrIrWwuwpLzDNcHuJuazBS/0b7UekLPitGdCkDk5XB+AYY5IDHHK3YpXsfCXk1ue0+BejM5lp4LVm37el8sPozGk9HbOBFDRMvBhxFmlsGJpJgq+YvsgrpI1ze4EZ5UbTt9/YL4w89FsjoMvVh/op20pFH1JnWTKgA4sBzsIMm17TlEruAImnYUq2aENjKX9MvpjoeFFSHuFDX4dhrfyBKM5/681mNysNvISAyWpVy9lzXiF/hts2ZpQbZTx/Z7/lCGWXt2HGb3VAo9w4FJMh1kqxunByC7Tc89pIlnlkUM8VgS+7Eq6Gkvq7Kj8uwgj3yCPyw/TEYbc6YGtiU5DhXq6us7LrrfZ8Wdjh2quocT3fTs0Sr5AhdiZ2dHHnmO0G5M9J8Yzzqf3Cw3O/VQFtd8CTlUb9aQPSrxTHuTxq4pMvTUBqa5tJBUy/z8i3qdQUu19fZe7c/ti5XuE08IEMGAMu70OGK3fHGdxzdtkDZLTlanZu40771/1WBDSMxcqMJYaszuCMCLkmPvZhTkipsfm1tz3y9wU0zhthgcuB25U2RlcZ8FteBzH/rP0IqRxDHtBF+pMILFOYC0sEVSPOpbfnFDd96bFHPojp1NALJYeANTgzkOzAh7o4ELpzx3e83mBOvfST9sPAHEMW0Hlq8Wjsrl3tuFi1aS2CxSCeyFcMvs2J+72Xef+sbHlZfm3BxYm/HrjQAm5ibdoUtJnXXOcs5l+zH2hyDDagZWeOhwF/S2EPGLE9C+BCkC8DULce7o61vmvO6ex9koBOas235Ve6s2uiqnexwQZC9vuIy2yQO2gr7mHMP2o/vFJgyHboWa/JVY7ffl1KPpFOtZIfuFylzlE92b3yBvmpHXPfzqUz33/fzau3eBfmr+wHjhLDUkDLnedq1Hp2q6etOavmHQ2N3wTsUDMuE1emm7+I34r5A/tBZgPDYkBDqL3IH3fW2Eh827XZpc6QPfaPoeyM2sSr1fgB5q32A0Ubwx8ksq79CqRePwAAAABJRU5ErkJggg==)인 feature map ![image.png](data:image/png;base64,iVBORw0KGgoAAAANSUhEUgAAAB0AAAAPCAYAAAAYjcSfAAABXklEQVQ4EZ1Uiw1DIQhkH+dhH+ZhHva5BvyhPtuXNmmCCBzc4SP88zOB6NtEg27B9DZ1xilEbB7fWFuTB6hJARGlf0HGUGa8HjI1pCIj7wCtcQqmFWz4+R9IAMroqRuowVShwqAiUFVYZtIT89hpkt+mghvqADXhsRxOcenFlVFasPt7txlEmaJJ76/K88SSQVjgMQEagaU6AIMUmsWVQVR1VH4o5sxUNDAL1Dz/qTn31zoBGp2OEVzPuSz57gRVaJfYZDCSWZj2Buoidwrddj1DSpPoPuzYhYdJW9VFkomUrB3Ur8xicXwacpr2JWp6DUJSOTdPFraAkC1pOq+9m6TnvKiWM9IXzD3OSnQxpwi3aGVqyT+2t4ItH4VO8SXR3Z1Si2Wr1Ju1xVryvr7TPfI8x9PqIvvyEKG4HMJh3+mfyzne6Vn+5lHIrfIt5de395a3+E0h8TgX7+Vwxn4AhT393e8j2PYAAAAASUVORK5CYII=)이 존재하여 ![image.png](data:image/png;base64,iVBORw0KGgoAAAANSUhEUgAAAIAAAAASCAYAAACTkNaDAAADoElEQVRoBe1Z23HtIAykHwq5FdAP9age9aM7C8ZYQn5ynHzkZCaJHyB2pWXBdpDvz5/OQPjT7L/k5SuA3xIBZ4khSLC/MQv/IKY5AXCWTG+hZaH3gs+BvsXb50G5FZokxSQ1jSz5LufLWHwcEwIgyfllrV4mN1fPe70f8B54kFBLHSWJqc0iFm7XL4G6iWXAIeMSwDlqW9qAy7FZVpT0r6n2EtLHjTBTWnoeB7nYceAeoliNU3rGe48HpShrijc438JicfgOQEnCaksdFeckuUiXJHmoe9PPHVFyE/S5AWwkkuQUvraa4O3ygP23pcDiwPkLWAwOVwCUgkQjfWbumxMEMfc9+J+5NpH0WwBYmEgoQ/xZiGi04yneDg/Yv5vHN7FoHI4ArOqwLumFCfbkGQCEg+ShdbWw0UJtTc7bseR0NEtsxPvn1dlqP+BZi6LW58rpOe+RB+zf1n8Gy3kuwVHjGAUA+w9JiElySpKc5HvABbOnVr70IWbJ0RdKLxEJERexrInF45GyRcQ5WHf3HqfU49V+/5K0dTyMFbq4Wy4WwHO8O49aqLaf6uPNYbmSy0UAm3wOAqizOErKJDB9FNGqdEwEBl+yhIKs1eyl9o5gudCMijfYYk+cF2P2WuG74oX7dbHoewZnGfgO73Meerx7WK7lEqA1DiMADApFdssvqlwTVNOtCmYqgParhZp7/qneCCEJejgN2I8xcXVr82Xzuyw3nAf3m+N9gcc0lrNcIk8ahxaAsbyS1mKxfVaUEDt7ANw7SlKJZ/+oGQ9w1nFw7WAPMLkEFDjMZdMH7CHtbACXfY0WZydzzvuERws1g+U0lxhE41AC0BbUEFVXULNaDVSqLqFkBsG7WPAmr1p8WO63mP2/dgyt4NpK71p7z08fAbt1HzPGTd669x0eD7AsAu118nIJRBpHFUCZ+X1T0nbyYmaXCr6ZCq2IXOLUGczc33YVYW3W1m1iWl8o0xWgeW7d9v3McU22eie/6zg6eQ37Hm+F7xKP51gwVsOzm0s0MjiUAyjAJyflcaVtFRahRNhnTuUjx0YfJRLvvtGDUiG+KDGO+4enb95O4D++fZd3G+gNHgpLGeg4l2hicTwWAKwk2yo3tsP/usaOl/FFbLNkpKSfOJx310OMH79wh/cC7jUeGyxmr4ZC26c3OLr91jQhAHgOLa+Gj6tQ3rB5TbDTLijxpcrO/muxvbCvX7vIu+J4mUfDcphLIPFx/Afsqb0aHp1CLgAAAABJRU5ErkJggg==)가 성립하는 kernel을 valid kernel이라고 한다."
      ]
    },
    {
      "cell_type": "markdown",
      "metadata": {
        "id": "YQoerLzbPj5P"
      },
      "source": [
        "(b) 적절히 MOONS 데이터 셋을 생성하고 SVC 와 gaussian kernel을 사용하여 분류기를 만들어보자. 정확도를 높이도록 매개변수를 조정해 보자."
      ]
    },
    {
      "cell_type": "code",
      "metadata": {
        "id": "Q7Pt7IeuuGAZ"
      },
      "source": [
        ""
      ],
      "execution_count": null,
      "outputs": []
    },
    {
      "cell_type": "markdown",
      "metadata": {
        "id": "vx6tU4SopmFd"
      },
      "source": [
        "#12.\n",
        "(a) SVM 알고리즘은 어떤 양의 최적화 문제로 바꾸어 이야기할 수 있는지 설명하시오.\n",
        "\n"
      ]
    },
    {
      "cell_type": "markdown",
      "metadata": {
        "id": "gab9xG2Vpt9d"
      },
      "source": [
        "(b) load wine 명령어로 데이터를 불러오고 여러 가지 커널을 사용하여 SVC 분류기를 만들어보시오. 정확도가 높아지도록 매개변수를 조정하여 보시오."
      ]
    },
    {
      "cell_type": "code",
      "metadata": {
        "id": "YjW37pk3uFtt"
      },
      "source": [
        ""
      ],
      "execution_count": null,
      "outputs": []
    },
    {
      "cell_type": "markdown",
      "metadata": {
        "id": "X2bRaMx3tyvI"
      },
      "source": [
        "#14.\n",
        "(a) 랜덤포레스트 알고리즘에 대하여 설명하시오.\n",
        "\n",
        "\n"
      ]
    },
    {
      "cell_type": "markdown",
      "metadata": {
        "id": "DQuwprllt58T"
      },
      "source": [
        "(b) 타이타닉 데이터 셋을 불러오고 Decision Tree Classifier를 이용하여 분류기를 만드시오. 정확도를 높이도록 매개변수를 조정해 보시오."
      ]
    },
    {
      "cell_type": "code",
      "metadata": {
        "id": "TehYn0yTuGt0"
      },
      "source": [
        ""
      ],
      "execution_count": null,
      "outputs": []
    },
    {
      "cell_type": "markdown",
      "metadata": {
        "id": "imJG7CRzt6zJ"
      },
      "source": [
        "#16.\n",
        "(a) AdaBoost 알고리즘에 관하여 설명하시오.\n",
        "\n"
      ]
    },
    {
      "cell_type": "markdown",
      "metadata": {
        "id": "e9IdUScYuErl"
      },
      "source": [
        "(b) 패션 MNIST 데이터를 사용하여(keras.datasets.fashion mnist 명령어 등으로 불러 올 수 있음.) 패션 MNIST 데이터 셋에 대하여 적절한 앙상블 방법을 사용하여 테스트 셋의 정확도를 높여 보자."
      ]
    },
    {
      "cell_type": "code",
      "metadata": {
        "id": "qHEQ4v_XuHTl"
      },
      "source": [
        ""
      ],
      "execution_count": null,
      "outputs": []
    }
  ]
}