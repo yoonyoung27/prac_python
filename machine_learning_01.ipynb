{
  "nbformat": 4,
  "nbformat_minor": 0,
  "metadata": {
    "colab": {
      "name": "machine_learning_01.ipynb",
      "provenance": [],
      "authorship_tag": "ABX9TyOVnBJ0umWZNq05DFUmwaEy",
      "include_colab_link": true
    },
    "kernelspec": {
      "name": "python3",
      "display_name": "Python 3"
    },
    "language_info": {
      "name": "python"
    }
  },
  "cells": [
    {
      "cell_type": "markdown",
      "metadata": {
        "id": "view-in-github",
        "colab_type": "text"
      },
      "source": [
        "<a href=\"https://colab.research.google.com/github/yoonyoung27/prac_python/blob/main/machine_learning_01.ipynb\" target=\"_parent\"><img src=\"https://colab.research.google.com/assets/colab-badge.svg\" alt=\"Open In Colab\"/></a>"
      ]
    },
    {
      "cell_type": "markdown",
      "metadata": {
        "id": "GxIL0v8URrB0"
      },
      "source": [
        "#Introduction\n",
        "https://tensorflow.blog/%ed%8c%8c%ec%9d%b4%ec%8d%ac-%eb%a8%b8%ec%8b%a0%eb%9f%ac%eb%8b%9d/\n",
        "\n",
        "Code  \n",
        "https://github.com/rickiepark/handson-ml/"
      ]
    },
    {
      "cell_type": "markdown",
      "metadata": {
        "id": "S0Td3JwxRbwf"
      },
      "source": [
        "# Syllabus\n",
        "http://cs229.stanford.edu/syllabus.html"
      ]
    },
    {
      "cell_type": "markdown",
      "metadata": {
        "id": "B7vZexYDbsq5"
      },
      "source": [
        "\\* Normal equation VS Slope descent"
      ]
    },
    {
      "cell_type": "code",
      "metadata": {
        "id": "DsuR7x3ARYhC"
      },
      "source": [
        "import numpy as np\n",
        "import matplotlib.pyplot as plt\n",
        "%matplotlib inline"
      ],
      "execution_count": 3,
      "outputs": []
    },
    {
      "cell_type": "code",
      "metadata": {
        "id": "KFyJb7IecMvw"
      },
      "source": [
        "import numpy as np\n",
        "\n",
        "np.random.seed(1234)\n",
        "X = 2*np.random.rand(100, 1)\n",
        "y = 4+ 3*X + np.random.randn(100, 1)"
      ],
      "execution_count": 2,
      "outputs": []
    },
    {
      "cell_type": "code",
      "metadata": {
        "id": "xEIw0qvgchhx",
        "outputId": "678f181d-e9c9-4184-d6b3-8a5e52af2e8b",
        "colab": {
          "base_uri": "https://localhost:8080/"
        }
      },
      "source": [
        "from sklearn.linear_model import LinearRegression\n",
        "help(LinearRegression)"
      ],
      "execution_count": 4,
      "outputs": [
        {
          "output_type": "stream",
          "text": [
            "Help on class LinearRegression in module sklearn.linear_model._base:\n",
            "\n",
            "class LinearRegression(sklearn.base.MultiOutputMixin, sklearn.base.RegressorMixin, LinearModel)\n",
            " |  LinearRegression(fit_intercept=True, normalize=False, copy_X=True, n_jobs=None)\n",
            " |  \n",
            " |  Ordinary least squares Linear Regression.\n",
            " |  \n",
            " |  LinearRegression fits a linear model with coefficients w = (w1, ..., wp)\n",
            " |  to minimize the residual sum of squares between the observed targets in\n",
            " |  the dataset, and the targets predicted by the linear approximation.\n",
            " |  \n",
            " |  Parameters\n",
            " |  ----------\n",
            " |  fit_intercept : bool, optional, default True\n",
            " |      Whether to calculate the intercept for this model. If set\n",
            " |      to False, no intercept will be used in calculations\n",
            " |      (i.e. data is expected to be centered).\n",
            " |  \n",
            " |  normalize : bool, optional, default False\n",
            " |      This parameter is ignored when ``fit_intercept`` is set to False.\n",
            " |      If True, the regressors X will be normalized before regression by\n",
            " |      subtracting the mean and dividing by the l2-norm.\n",
            " |      If you wish to standardize, please use\n",
            " |      :class:`sklearn.preprocessing.StandardScaler` before calling ``fit`` on\n",
            " |      an estimator with ``normalize=False``.\n",
            " |  \n",
            " |  copy_X : bool, optional, default True\n",
            " |      If True, X will be copied; else, it may be overwritten.\n",
            " |  \n",
            " |  n_jobs : int or None, optional (default=None)\n",
            " |      The number of jobs to use for the computation. This will only provide\n",
            " |      speedup for n_targets > 1 and sufficient large problems.\n",
            " |      ``None`` means 1 unless in a :obj:`joblib.parallel_backend` context.\n",
            " |      ``-1`` means using all processors. See :term:`Glossary <n_jobs>`\n",
            " |      for more details.\n",
            " |  \n",
            " |  Attributes\n",
            " |  ----------\n",
            " |  coef_ : array of shape (n_features, ) or (n_targets, n_features)\n",
            " |      Estimated coefficients for the linear regression problem.\n",
            " |      If multiple targets are passed during the fit (y 2D), this\n",
            " |      is a 2D array of shape (n_targets, n_features), while if only\n",
            " |      one target is passed, this is a 1D array of length n_features.\n",
            " |  \n",
            " |  rank_ : int\n",
            " |      Rank of matrix `X`. Only available when `X` is dense.\n",
            " |  \n",
            " |  singular_ : array of shape (min(X, y),)\n",
            " |      Singular values of `X`. Only available when `X` is dense.\n",
            " |  \n",
            " |  intercept_ : float or array of shape of (n_targets,)\n",
            " |      Independent term in the linear model. Set to 0.0 if\n",
            " |      `fit_intercept = False`.\n",
            " |  \n",
            " |  See Also\n",
            " |  --------\n",
            " |  sklearn.linear_model.Ridge : Ridge regression addresses some of the\n",
            " |      problems of Ordinary Least Squares by imposing a penalty on the\n",
            " |      size of the coefficients with l2 regularization.\n",
            " |  sklearn.linear_model.Lasso : The Lasso is a linear model that estimates\n",
            " |      sparse coefficients with l1 regularization.\n",
            " |  sklearn.linear_model.ElasticNet : Elastic-Net is a linear regression\n",
            " |      model trained with both l1 and l2 -norm regularization of the\n",
            " |      coefficients.\n",
            " |  \n",
            " |  Notes\n",
            " |  -----\n",
            " |  From the implementation point of view, this is just plain Ordinary\n",
            " |  Least Squares (scipy.linalg.lstsq) wrapped as a predictor object.\n",
            " |  \n",
            " |  Examples\n",
            " |  --------\n",
            " |  >>> import numpy as np\n",
            " |  >>> from sklearn.linear_model import LinearRegression\n",
            " |  >>> X = np.array([[1, 1], [1, 2], [2, 2], [2, 3]])\n",
            " |  >>> # y = 1 * x_0 + 2 * x_1 + 3\n",
            " |  >>> y = np.dot(X, np.array([1, 2])) + 3\n",
            " |  >>> reg = LinearRegression().fit(X, y)\n",
            " |  >>> reg.score(X, y)\n",
            " |  1.0\n",
            " |  >>> reg.coef_\n",
            " |  array([1., 2.])\n",
            " |  >>> reg.intercept_\n",
            " |  3.0000...\n",
            " |  >>> reg.predict(np.array([[3, 5]]))\n",
            " |  array([16.])\n",
            " |  \n",
            " |  Method resolution order:\n",
            " |      LinearRegression\n",
            " |      sklearn.base.MultiOutputMixin\n",
            " |      sklearn.base.RegressorMixin\n",
            " |      LinearModel\n",
            " |      sklearn.base.BaseEstimator\n",
            " |      builtins.object\n",
            " |  \n",
            " |  Methods defined here:\n",
            " |  \n",
            " |  __init__(self, fit_intercept=True, normalize=False, copy_X=True, n_jobs=None)\n",
            " |      Initialize self.  See help(type(self)) for accurate signature.\n",
            " |  \n",
            " |  fit(self, X, y, sample_weight=None)\n",
            " |      Fit linear model.\n",
            " |      \n",
            " |      Parameters\n",
            " |      ----------\n",
            " |      X : {array-like, sparse matrix} of shape (n_samples, n_features)\n",
            " |          Training data\n",
            " |      \n",
            " |      y : array-like of shape (n_samples,) or (n_samples, n_targets)\n",
            " |          Target values. Will be cast to X's dtype if necessary\n",
            " |      \n",
            " |      sample_weight : array-like of shape (n_samples,), default=None\n",
            " |          Individual weights for each sample\n",
            " |      \n",
            " |          .. versionadded:: 0.17\n",
            " |             parameter *sample_weight* support to LinearRegression.\n",
            " |      \n",
            " |      Returns\n",
            " |      -------\n",
            " |      self : returns an instance of self.\n",
            " |  \n",
            " |  ----------------------------------------------------------------------\n",
            " |  Data and other attributes defined here:\n",
            " |  \n",
            " |  __abstractmethods__ = frozenset()\n",
            " |  \n",
            " |  ----------------------------------------------------------------------\n",
            " |  Data descriptors inherited from sklearn.base.MultiOutputMixin:\n",
            " |  \n",
            " |  __dict__\n",
            " |      dictionary for instance variables (if defined)\n",
            " |  \n",
            " |  __weakref__\n",
            " |      list of weak references to the object (if defined)\n",
            " |  \n",
            " |  ----------------------------------------------------------------------\n",
            " |  Methods inherited from sklearn.base.RegressorMixin:\n",
            " |  \n",
            " |  score(self, X, y, sample_weight=None)\n",
            " |      Return the coefficient of determination R^2 of the prediction.\n",
            " |      \n",
            " |      The coefficient R^2 is defined as (1 - u/v), where u is the residual\n",
            " |      sum of squares ((y_true - y_pred) ** 2).sum() and v is the total\n",
            " |      sum of squares ((y_true - y_true.mean()) ** 2).sum().\n",
            " |      The best possible score is 1.0 and it can be negative (because the\n",
            " |      model can be arbitrarily worse). A constant model that always\n",
            " |      predicts the expected value of y, disregarding the input features,\n",
            " |      would get a R^2 score of 0.0.\n",
            " |      \n",
            " |      Parameters\n",
            " |      ----------\n",
            " |      X : array-like of shape (n_samples, n_features)\n",
            " |          Test samples. For some estimators this may be a\n",
            " |          precomputed kernel matrix or a list of generic objects instead,\n",
            " |          shape = (n_samples, n_samples_fitted),\n",
            " |          where n_samples_fitted is the number of\n",
            " |          samples used in the fitting for the estimator.\n",
            " |      \n",
            " |      y : array-like of shape (n_samples,) or (n_samples, n_outputs)\n",
            " |          True values for X.\n",
            " |      \n",
            " |      sample_weight : array-like of shape (n_samples,), default=None\n",
            " |          Sample weights.\n",
            " |      \n",
            " |      Returns\n",
            " |      -------\n",
            " |      score : float\n",
            " |          R^2 of self.predict(X) wrt. y.\n",
            " |      \n",
            " |      Notes\n",
            " |      -----\n",
            " |      The R2 score used when calling ``score`` on a regressor will use\n",
            " |      ``multioutput='uniform_average'`` from version 0.23 to keep consistent\n",
            " |      with :func:`~sklearn.metrics.r2_score`. This will influence the\n",
            " |      ``score`` method of all the multioutput regressors (except for\n",
            " |      :class:`~sklearn.multioutput.MultiOutputRegressor`). To specify the\n",
            " |      default value manually and avoid the warning, please either call\n",
            " |      :func:`~sklearn.metrics.r2_score` directly or make a custom scorer with\n",
            " |      :func:`~sklearn.metrics.make_scorer` (the built-in scorer ``'r2'`` uses\n",
            " |      ``multioutput='uniform_average'``).\n",
            " |  \n",
            " |  ----------------------------------------------------------------------\n",
            " |  Methods inherited from LinearModel:\n",
            " |  \n",
            " |  predict(self, X)\n",
            " |      Predict using the linear model.\n",
            " |      \n",
            " |      Parameters\n",
            " |      ----------\n",
            " |      X : array_like or sparse matrix, shape (n_samples, n_features)\n",
            " |          Samples.\n",
            " |      \n",
            " |      Returns\n",
            " |      -------\n",
            " |      C : array, shape (n_samples,)\n",
            " |          Returns predicted values.\n",
            " |  \n",
            " |  ----------------------------------------------------------------------\n",
            " |  Methods inherited from sklearn.base.BaseEstimator:\n",
            " |  \n",
            " |  __getstate__(self)\n",
            " |  \n",
            " |  __repr__(self, N_CHAR_MAX=700)\n",
            " |      Return repr(self).\n",
            " |  \n",
            " |  __setstate__(self, state)\n",
            " |  \n",
            " |  get_params(self, deep=True)\n",
            " |      Get parameters for this estimator.\n",
            " |      \n",
            " |      Parameters\n",
            " |      ----------\n",
            " |      deep : bool, default=True\n",
            " |          If True, will return the parameters for this estimator and\n",
            " |          contained subobjects that are estimators.\n",
            " |      \n",
            " |      Returns\n",
            " |      -------\n",
            " |      params : mapping of string to any\n",
            " |          Parameter names mapped to their values.\n",
            " |  \n",
            " |  set_params(self, **params)\n",
            " |      Set the parameters of this estimator.\n",
            " |      \n",
            " |      The method works on simple estimators as well as on nested objects\n",
            " |      (such as pipelines). The latter have parameters of the form\n",
            " |      ``<component>__<parameter>`` so that it's possible to update each\n",
            " |      component of a nested object.\n",
            " |      \n",
            " |      Parameters\n",
            " |      ----------\n",
            " |      **params : dict\n",
            " |          Estimator parameters.\n",
            " |      \n",
            " |      Returns\n",
            " |      -------\n",
            " |      self : object\n",
            " |          Estimator instance.\n",
            "\n"
          ],
          "name": "stdout"
        }
      ]
    },
    {
      "cell_type": "code",
      "metadata": {
        "id": "K1iuETcKcpwk",
        "outputId": "1a3173e9-7262-4979-91b2-1e60b78252f0",
        "colab": {
          "base_uri": "https://localhost:8080/"
        }
      },
      "source": [
        "X_b = np.c_[np.ones((100,1)), X]\n",
        "theta_best = np.linalg.inv(X_b.T.dot(X_b)).dot(X_b.T).dot(y)  # linalg : Linear algebra\n",
        "theta_best"
      ],
      "execution_count": 5,
      "outputs": [
        {
          "output_type": "execute_result",
          "data": {
            "text/plain": [
              "array([[4.07630632],\n",
              "       [2.94132381]])"
            ]
          },
          "metadata": {
            "tags": []
          },
          "execution_count": 5
        }
      ]
    },
    {
      "cell_type": "code",
      "metadata": {
        "id": "sXjmkvx9dZRn",
        "outputId": "5e416400-eaf3-438f-887f-2407b84c2289",
        "colab": {
          "base_uri": "https://localhost:8080/"
        }
      },
      "source": [
        "X_new = np.array([[0],[2]])\n",
        "X_new_b = np.c_[np.ones((2,1)), X_new]\n",
        "y_predict = X_new_b.dot(theta_best)  # x가 0일 때와 2일 때의 예측값\n",
        "y_predict"
      ],
      "execution_count": 6,
      "outputs": [
        {
          "output_type": "execute_result",
          "data": {
            "text/plain": [
              "array([[4.07630632],\n",
              "       [9.95895394]])"
            ]
          },
          "metadata": {
            "tags": []
          },
          "execution_count": 6
        }
      ]
    },
    {
      "cell_type": "code",
      "metadata": {
        "id": "dAA69eepeQAM",
        "outputId": "4dbaa260-85d2-449e-fe28-8e6851e7988c",
        "colab": {
          "base_uri": "https://localhost:8080/",
          "height": 265
        }
      },
      "source": [
        "plt.plot(X_new, y_predict, 'r-')\n",
        "plt.plot(X, y, 'b.')\n",
        "plt.axis([0,2,0,15])\n",
        "plt.show()"
      ],
      "execution_count": 7,
      "outputs": [
        {
          "output_type": "display_data",
          "data": {
            "image/png": "[encoded data removed]",
            "text/plain": [
              "<Figure size 432x288 with 1 Axes>"
            ]
          },
          "metadata": {
            "tags": [],
            "needs_background": "light"
          }
        }
      ]
    },
    {
      "cell_type": "code",
      "metadata": {
        "id": "VI_8tZZpeemM",
        "outputId": "68be3760-0cfa-4c59-adac-238fde612baa",
        "colab": {
          "base_uri": "https://localhost:8080/"
        }
      },
      "source": [
        "from sklearn.linear_model import LinearRegression\n",
        "lin_reg  = LinearRegression()\n",
        "lin_reg.fit(X,y)\n",
        "lin_reg.intercept_, lin_reg.coef_"
      ],
      "execution_count": 8,
      "outputs": [
        {
          "output_type": "execute_result",
          "data": {
            "text/plain": [
              "(array([4.07630632]), array([[2.94132381]]))"
            ]
          },
          "metadata": {
            "tags": []
          },
          "execution_count": 8
        }
      ]
    },
    {
      "cell_type": "markdown",
      "metadata": {
        "id": "_wblpIWLe1rT"
      },
      "source": [
        "* lin_reg.fit(X,y)의 형식은 고정되어있다"
      ]
    },
    {
      "cell_type": "code",
      "metadata": {
        "id": "DbWIEntwes4P",
        "outputId": "8017c568-8517-4ddf-a4fb-8b08e4ba9375",
        "colab": {
          "base_uri": "https://localhost:8080/"
        }
      },
      "source": [
        "lin_reg.predict(X_new)"
      ],
      "execution_count": 9,
      "outputs": [
        {
          "output_type": "execute_result",
          "data": {
            "text/plain": [
              "array([[4.07630632],\n",
              "       [9.95895394]])"
            ]
          },
          "metadata": {
            "tags": []
          },
          "execution_count": 9
        }
      ]
    }
  ]
}