{
  "nbformat": 4,
  "nbformat_minor": 0,
  "metadata": {
    "colab": {
      "name": "machine_learning_01.ipynb",
      "provenance": [],
      "authorship_tag": "ABX9TyPLUxtFiNShI7L4mVxoTbPD",
      "include_colab_link": true
    },
    "kernelspec": {
      "name": "python3",
      "display_name": "Python 3"
    },
    "language_info": {
      "name": "python"
    }
  },
  "cells": [
    {
      "cell_type": "markdown",
      "metadata": {
        "id": "view-in-github",
        "colab_type": "text"
      },
      "source": [
        "<a href=\"https://colab.research.google.com/github/yoonyoung27/prac_python/blob/main/machine_learning_01.ipynb\" target=\"_parent\"><img src=\"https://colab.research.google.com/assets/colab-badge.svg\" alt=\"Open In Colab\"/></a>"
      ]
    },
    {
      "cell_type": "markdown",
      "metadata": {
        "id": "GxIL0v8URrB0"
      },
      "source": [
        "#Introduction\n",
        "https://tensorflow.blog/%ed%8c%8c%ec%9d%b4%ec%8d%ac-%eb%a8%b8%ec%8b%a0%eb%9f%ac%eb%8b%9d/\n",
        "\n",
        "Code  \n",
        "https://github.com/rickiepark/handson-ml/"
      ]
    },
    {
      "cell_type": "markdown",
      "metadata": {
        "id": "S0Td3JwxRbwf"
      },
      "source": [
        "# Syllabus\n",
        "http://cs229.stanford.edu/syllabus.html"
      ]
    },
    {
      "cell_type": "code",
      "metadata": {
        "id": "DsuR7x3ARYhC"
      },
      "source": [
        ""
      ],
      "execution_count": null,
      "outputs": []
    }
  ]
}